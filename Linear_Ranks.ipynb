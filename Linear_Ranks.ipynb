{
 "cells": [
  {
   "cell_type": "markdown",
   "id": "b15cab40",
   "metadata": {},
   "source": [
    "## Linear Ranks"
   ]
  },
  {
   "cell_type": "markdown",
   "id": "e6c72d70",
   "metadata": {},
   "source": [
    "### From Zico Kolter, Linear Algebra Review and Reference.\n",
    "\n",
    "> The **column rank** of a matrix $A \\in \\mathbb{R}^{m×n}$ is the size of the largest subset of columns of A that constitute a linearly independent set. With some abuse of terminology, this is often referred to simply as the number of linearly independent columns of A.[1] \n",
    "\n",
    "> In the same way, the **row rank** is the largest number of rows of A that constitute a linearly independent set.[1]\n",
    "\n",
    "For any matrix $A \\in \\mathbb{R}^{m×n}$ , it turns out that the column rank of A is equal to the row rank of A (though we will not prove this), and so both quantities are referred to collectively as the rank of A, denoted as $rank(A)$. The following are some basic properties of the rank[1]:\n",
    "\n",
    "1. For $A \\in \\mathbb{R}^{m×n}$ , $rank(A) \\le min(m, n)$. If $rank(A) = min(m, n)$, then $A$ is said to be full rank .\n",
    "2. For $A \\in \\mathbb{R}^{m×n}$ , $rank(A) = rank(A^T )$.\n",
    "3. For $A \\in \\mathbb{R}^{m×n}$ , $B \\in \\mathbb{R}^{m×n}$ , $rank(AB) \\le min(rank(A), rank(B))$.\n",
    "4. For $A,B \\in \\mathbb{R}^{m×n}$ , $rank(A + B) \\le rank(A) + rank(B)$.[1]\n",
    "\n",
    "### From Linear algebra and its applications / David C. Lay\n",
    "\n",
    "> <span style=\"color: red;\">Def. </span>\n",
    "The dimension of a nonzero subspace $H$ , denoted by $dim H$ , is the number of\n",
    "vectors in any basis for $H$ . The dimension of the zero subspace $\\{\\textbf{0}\\}$ is deﬁned to be zero.$^1$ \n",
    "\n",
    "> <span style=\"color: red;\">Def. </span> The **rank** of a matrix $A$ , denoted by $rank A$ , is the dimension of the column space of $A$ . Since the pivot columns of $A$ form a basis for $Col A$ , the rank of $A$ is just the number of pivot columns in $A$ .\n",
    "\n",
    "> <span style=\"color: red;\">Def. </span> **full rank** (matrix): An $m\\times n$ matrix whose rank is $min(m,n)$.\n",
    " \n",
    "$^1$ The zero subspace has no basis (because the zero vector by itself forms a linearly dependent set)"
   ]
  },
  {
   "cell_type": "markdown",
   "id": "97e28f40",
   "metadata": {},
   "source": [
    "For finding matrix Rank we will use [function linalg.matrix_rank](https://numpy.org/doc/stable/reference/generated/numpy.linalg.matrix_rank.html), that's using [SVD method](https://en.wikipedia.org/wiki/Singular_value_decomposition) to decompose a matrix into several component matrices."
   ]
  },
  {
   "cell_type": "markdown",
   "id": "9b0d5ba1",
   "metadata": {},
   "source": [
    "### Example 1:  Matrix in $\\mathbb{R}^{4×5}$\n",
    "\n",
    "$$ A = \\left[ \\begin{array}{r} 2 & 5 & -3 & -4 & 8 \\\\ 4 & 7 & -4 & -3 & 9 \\\\\n",
    "                               6 & 9 & -5 & 2 & 4 \\\\ 0 & -9 & 6 & 5 & -6 \\end{array}\\right] \\hspace{1cm} $$\n",
    "Reduce A to RREF form:"
   ]
  },
  {
   "cell_type": "code",
   "execution_count": 4,
   "id": "8022f0c8",
   "metadata": {},
   "outputs": [
    {
     "name": "stdout",
     "output_type": "stream",
     "text": [
      "[[ 1.          0.          0.16666667  0.          1.41666667]\n",
      " [ 0.          1.         -0.66666667  0.         -0.16666667]\n",
      " [ 0.          0.          0.          1.         -1.5       ]\n",
      " [ 0.          0.          0.          0.          0.        ]]\n",
      "matrix_rank(A)= 3\n"
     ]
    }
   ],
   "source": [
    "import numpy as np\n",
    "from numpy.linalg import matrix_rank\n",
    "import laguide as lag\n",
    "from IPython.display import clear_output\n",
    "\n",
    "A = np.array([[2,5,-3,-4,8],[4,7,-4,-3,9],[6,9,-5,2,4],[0,-9,6,5,-6]])\n",
    "A_reduced = lag.FullRowReduction(A)\n",
    "print(A_reduced)\n",
    "print(\"matrix_rank(A)=\",matrix_rank(A))"
   ]
  },
  {
   "cell_type": "markdown",
   "id": "fbc3fdbb",
   "metadata": {},
   "source": [
    "The matrix $A$ has 3 pivot columns, so $rankA = 3$ . And as we see rank defined by function matrix_rank match with our definition."
   ]
  },
  {
   "cell_type": "markdown",
   "id": "1a147131",
   "metadata": {},
   "source": [
    "The row reduction in Example 1 reveals that there are two free variables in $A \\times \\mathbf{x}= 0$, because two of the ﬁve columns of $A$ are not pivot columns. (The nonpivot columns correspond to the free variables in $A \\times \\mathbf{x}= 0$.) Since the number of pivot columns plus the number of nonpivot columns is exactly the number of columns, the dimensions of $Col A$ and $\\mathcal{N} A$ have the following useful connection.[2]"
   ]
  },
  {
   "cell_type": "markdown",
   "id": "b8e2f5bb",
   "metadata": {},
   "source": [
    "> <span style=\"color: red;\">Def. **The Rank Theorem**</span> \n",
    " If a matrix A has n columns, then $rank A + dim( \\mathcal{N} (A)) = dim(ColA)$ ."
   ]
  },
  {
   "cell_type": "markdown",
   "id": "cb7aa167",
   "metadata": {},
   "source": [
    "### Example 2:  Matrix in $\\mathbb{R}^{4×4}$\n",
    "\n",
    "$$ A = \\left[ \\begin{array}{r} 6& -3&5&-4 \\\\ 1&-4&-4&-9 \\\\\n",
    "                               -1&-8&-1&-8 \\\\ 2&6&-6&-2 \\end{array}\\right] \\hspace{1cm} $$\n",
    "Reduce A to RREF form:"
   ]
  },
  {
   "cell_type": "code",
   "execution_count": 8,
   "id": "05f3da4f",
   "metadata": {},
   "outputs": [
    {
     "name": "stdout",
     "output_type": "stream",
     "text": [
      "[[ 1.  0.  0. -1.]\n",
      " [ 0.  1.  0.  1.]\n",
      " [ 0.  0.  1.  1.]\n",
      " [ 0.  0.  0.  0.]]\n",
      "matrix_rank(A)= 3\n"
     ]
    }
   ],
   "source": [
    "A = np.array([[ 6, -3,  5, -4],\n",
    " [ 1, -4, -4, -9],\n",
    " [-1, -8, -1 ,-8],\n",
    " [ 2,  6, -6, -2]])\n",
    "A_reduced = lag.FullRowReduction(A)\n",
    "print(A_reduced)\n",
    "print(\"matrix_rank(A)=\",matrix_rank(A))"
   ]
  },
  {
   "cell_type": "markdown",
   "id": "e7a15592",
   "metadata": {},
   "source": [
    "The matrix $A$ has 3 pivot columns, so $rankA = 3$ . And as we see rank defined by function matrix_rank match with our definition."
   ]
  },
  {
   "cell_type": "markdown",
   "id": "b83e39e8",
   "metadata": {},
   "source": [
    "### Example 3:  Matrix in $\\mathbb{R}^{3×3}$\n",
    "\n",
    "$$ A = \\left[ \\begin{array}{r} 3&-2&1 \\\\ -7 &-2&2 \\\\ 4&-6 & -7\n",
    "                                 \\end{array}\\right] \\hspace{1cm} $$\n",
    "Reduce A to RREF form:"
   ]
  },
  {
   "cell_type": "code",
   "execution_count": null,
   "id": "249a4b19",
   "metadata": {},
   "outputs": [],
   "source": [
    "A= np.array(\n",
    " [[ 3, -2,  1],\n",
    " [-7, -2,  2],\n",
    " [ 4, -6, -7]])\n",
    "A_reduced = lag.FullRowReduction(A)\n",
    "print(A_reduced)\n",
    "print(\"matrix_rank(A)=\",matrix_rank(A))"
   ]
  },
  {
   "cell_type": "markdown",
   "id": "81c731d1",
   "metadata": {},
   "source": [
    "The matrix $A$ has 3 pivot columns and it's match with matrix $dimA=3$, so $rankA = 3$ and matrix $A$ is a full rank matrix. And as we see rank defined by function matrix_rank match with our definition."
   ]
  },
  {
   "cell_type": "markdown",
   "id": "e9e62c3a",
   "metadata": {},
   "source": [
    "### Reference\n",
    "\n",
    "1. Zico Kolter, Linear Algebra Review and Reference, October 7, 2008\n",
    "2. Linear algebra and its applications / David C. Lay, University of Maryland, College Park, Steven R. Lay, Lee University, Judi J. McDonald, Washington State University. – Fifth edition."
   ]
  }
 ],
 "metadata": {
  "kernelspec": {
   "display_name": "Python 3 (ipykernel)",
   "language": "python",
   "name": "python3"
  },
  "language_info": {
   "codemirror_mode": {
    "name": "ipython",
    "version": 3
   },
   "file_extension": ".py",
   "mimetype": "text/x-python",
   "name": "python",
   "nbconvert_exporter": "python",
   "pygments_lexer": "ipython3",
   "version": "3.8.10"
  }
 },
 "nbformat": 4,
 "nbformat_minor": 5
}
