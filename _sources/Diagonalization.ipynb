{
 "cells": [
  {
   "cell_type": "markdown",
   "metadata": {},
   "source": [
    "## Diagonalization"
   ]
  },
  {
   "cell_type": "markdown",
   "metadata": {},
   "source": [
    "In this section, we explain the effect of matrix multiplication in terms of eigenvalues and eigenvectors.  This will allow us to write a new matrix factorization, known as diagonalization, which will help us to further understand matrix multiplication.  We also introduce a SciPy method to find the eigenvalues and eigenvectors of arbitrary square matrices.\n",
    "\n",
    "Since the action of an $n\\times n$ matrix $A$ on its eigenvectors is easy to understand, we might try to understand the action of a matrix on an arbitrary vector $X$ by writing $X$ as a linear combination of eigenvectors.  This will always be possible *if the eigenvectors form a basis for* $\\mathbb{R}^n$.  Suppose $\\{V_1, V_2, ..., V_n\\}$ are the eigenvectors of $A$ and they do form a basis for $\\mathbb{R}^n$.  Then for any vector $X$, we can write \n",
    "$X = c_1V_1 + c_2V_2 + ... c_nV_n$.  The product $AX$ can easily be computed then by multiplying each eigenvector component by the corresponding eigenvalue.\n",
    "\n",
    "$$\n",
    "\\begin{eqnarray*}\n",
    "AX & = & A(c_1V_1 + c_2V_2 + ... c_nV_n) \\\\\n",
    "   & = & c_1AV_1 + c_2AV_2 + ... c_nAV_n \\\\\n",
    "   & = & c_1\\lambda_1V_1 + c_2\\lambda_2V_2 + ... c_n\\lambda_nV_n\n",
    "\\end{eqnarray*}\n",
    "$$\n",
    "\n"
   ]
  },
  {
   "cell_type": "markdown",
   "metadata": {},
   "source": [
    "### Example 1:  Shear\n",
    "\n",
    "We first consider a matrix that represents a shear along the line $x_1=-x_2$.\n",
    "\n",
    "$$\n",
    "\\begin{equation}\n",
    "A = \\left[ \\begin{array}{rr} 2 & -1  \\\\ -1 & 2 \\end{array}\\right]\n",
    "\\end{equation}\n",
    "$$"
   ]
  },
  {
   "cell_type": "code",
   "execution_count": 1,
   "metadata": {},
   "outputs": [
    {
     "name": "stdout",
     "output_type": "stream",
     "text": [
      "[[ 2. -1.]\n",
      " [-1.  2.]]\n",
      "[[ 5.]\n",
      " [-1.]]\n"
     ]
    }
   ],
   "source": [
    "import numpy as np\n",
    "import laguide as lag\n",
    "\n",
    "S = np.array([[1, 1],[1, -1]])\n",
    "D = np.array([[1, 0],[0, 3]])\n",
    "S_inverse = lag.Inverse(S)\n",
    "\n",
    "A = S@D@S_inverse\n",
    "\n",
    "print(A)\n",
    "\n",
    "X = np.array([[3],[1]])\n",
    "print(A@X)"
   ]
  },
  {
   "cell_type": "code",
   "execution_count": 2,
   "metadata": {
    "tags": [
     "hide-input"
    ]
   },
   "outputs": [
    {
     "data": {
      "image/png": "[encoded data removed]",
      "text/plain": [
       "<Figure size 432x288 with 1 Axes>"
      ]
     },
     "metadata": {
      "needs_background": "light"
     },
     "output_type": "display_data"
    }
   ],
   "source": [
    "%matplotlib inline\n",
    "import matplotlib.pyplot as plt\n",
    "\n",
    "fig, ax = plt.subplots()\n",
    "x=np.linspace(-6,6,100)\n",
    "\n",
    "options = {\"head_width\":0.1, \"head_length\":0.2, \"length_includes_head\":True}\n",
    "\n",
    "ax.arrow(0,0,3,1,fc='b',ec='b',**options)\n",
    "ax.arrow(0,0,5,-1,fc='r',ec='r',**options)\n",
    "ax.plot(x,-x,ls=':')\n",
    "\n",
    "ax.set_xlim(-1,6)\n",
    "ax.set_ylim(-3,4)\n",
    "ax.set_aspect('equal')\n",
    "ax.set_xticks(np.arange(-1,7,step = 1))\n",
    "ax.set_yticks(np.arange(-3,5,step = 1))\n",
    "\n",
    "ax.text(2,1,'$X$')\n",
    "ax.text(3,-1.2,'$AX$')\n",
    "ax.text(0.8,-2.5,'$x_1=-x_2$')\n",
    "\n",
    "ax.axvline(color='k',linewidth = 1)\n",
    "ax.axhline(color='k',linewidth = 1)\n",
    "\n",
    "ax.grid(True,ls=':')"
   ]
  },
  {
   "cell_type": "markdown",
   "metadata": {},
   "source": [
    "The effect of multiplication by $A$ can be understood through its eigenvalues and eigenvectors.  The first eigenvector of $A$ lies in the direction of the line $x_1=-x_2$.  We label it $V_1$ and observe that it gets scaled by a factor of 3 when multiplied by $A$.  The corresponding eigenvalue is $\\lambda_1 = 3$.\n",
    "\n",
    "$$\n",
    "\\begin{equation}\n",
    "AV_1 = \\left[ \\begin{array}{rr} 2 & -1  \\\\ -1 & 2 \\end{array}\\right]\n",
    "\\left[ \\begin{array}{r} 1 \\\\ -1 \\end{array}\\right] =\n",
    "\\left[ \\begin{array}{r} 3 \\\\ -3 \\end{array}\\right] = 3V_1\n",
    "\\end{equation}\n",
    "$$\n",
    "\n",
    "The other eigenvector, which we label $V_2$, is orthogonal to the line $x_1=-x_2$.  This vector is left unchanged when multiplied by $A$, which implies that $\\lambda_2 = 1$.\n",
    "\n",
    "\n",
    "$$\n",
    "\\begin{equation}\n",
    "AV_2 = \\left[ \\begin{array}{rr} 2 & -1  \\\\ -1 & 2 \\end{array}\\right]\n",
    "\\left[ \\begin{array}{r} 1 \\\\ 1 \\end{array}\\right] = V_2\n",
    "\\end{equation}\n",
    "$$\n",
    "\n",
    "Since $\\{V_1, V_2\\}$ form a basis for $\\mathbb{R}^2$, any other vector in $\\mathbb{R}^2$ can be written as a linear combination of these vectors.  Let's take the following vector $X$ as an example.\n",
    "\n",
    "\n",
    "$$\n",
    "\\begin{equation}\n",
    "X = \\left[ \\begin{array}{r} 3 \\\\ 1 \\end{array}\\right]\n",
    "\\end{equation}\n",
    "$$\n",
    "\n",
    "To express $X$ in terms of the eigenvectors, we have to solve the vector equation $c_1V_1 + c_2V_2 = X$."
   ]
  },
  {
   "cell_type": "code",
   "execution_count": 3,
   "metadata": {},
   "outputs": [
    {
     "name": "stdout",
     "output_type": "stream",
     "text": [
      "[[1.]\n",
      " [2.]]\n"
     ]
    }
   ],
   "source": [
    "# Solve the matrix equation BC = X.  C is the vector of coefficients.\n",
    "B = np.array([[1, 1],[-1,1]])\n",
    "C = lag.SolveSystem(B,X)\n",
    "print(C)"
   ]
  },
  {
   "cell_type": "markdown",
   "metadata": {},
   "source": [
    "Let's look at a visual representation of the linear combination $X = V_1 + 2V_2$."
   ]
  },
  {
   "cell_type": "code",
   "execution_count": 4,
   "metadata": {
    "tags": [
     "hide-input"
    ]
   },
   "outputs": [
    {
     "data": {
      "image/png": "[encoded data removed]",
      "text/plain": [
       "<Figure size 432x288 with 1 Axes>"
      ]
     },
     "metadata": {
      "needs_background": "light"
     },
     "output_type": "display_data"
    }
   ],
   "source": [
    "fig, ax = plt.subplots()\n",
    "\n",
    "ax.arrow(0,0,3,1,fc='k',ec='k',**options)\n",
    "ax.arrow(0,0,1,-1,fc='b',ec='b',**options)\n",
    "ax.arrow(0,0,2,2,fc='b',ec='b',**options)\n",
    "ax.plot(x,-x,ls=':')\n",
    "\n",
    "ax.set_xlim(-1,6)\n",
    "ax.set_ylim(-3,4)\n",
    "ax.set_aspect('equal')\n",
    "ax.set_xticks(np.arange(-1,7,step = 1))\n",
    "ax.set_yticks(np.arange(-3,5,step = 1))\n",
    "\n",
    "ax.text(1,2,'$2V_2$')\n",
    "ax.text(2,1,'$X$')\n",
    "ax.text(0.1,-1,'$V_2$')\n",
    "\n",
    "ax.axvline(color='k',linewidth = 1)\n",
    "ax.axhline(color='k',linewidth = 1)\n",
    "\n",
    "ax.grid(True,ls=':')"
   ]
  },
  {
   "cell_type": "markdown",
   "metadata": {},
   "source": [
    "We can now understand, and compute, the product $AX$ by evaluating the products of $A$ with its eigenvectors. \n",
    "\n",
    "$$\n",
    "\\begin{equation}\n",
    "AX = A(V_1 + 2V_2) = AV_1 + 2AV_2 = \\lambda_1V_1 + 2\\lambda_2V_2 = 3V_1 + 2V_2\n",
    "\\end{equation}\n",
    "$$"
   ]
  },
  {
   "cell_type": "code",
   "execution_count": 5,
   "metadata": {
    "tags": [
     "hide-input"
    ]
   },
   "outputs": [
    {
     "data": {
      "image/png": "[encoded data removed]",
      "text/plain": [
       "<Figure size 432x288 with 1 Axes>"
      ]
     },
     "metadata": {
      "needs_background": "light"
     },
     "output_type": "display_data"
    }
   ],
   "source": [
    "fig, ax = plt.subplots()\n",
    "\n",
    "ax.arrow(0,0,3,1,fc='k',ec='k',**options)\n",
    "ax.arrow(0,0,3,-3,fc='r',ec='r',**options)\n",
    "ax.arrow(0,0,2,2,fc='r',ec='r',**options)\n",
    "ax.arrow(0,0,5,-1,fc='r',ec='r',**options)\n",
    "ax.plot(x,-x,ls=':')\n",
    "\n",
    "ax.set_xlim(-1,6)\n",
    "ax.set_ylim(-3,4)\n",
    "ax.set_aspect('equal')\n",
    "ax.set_xticks(np.arange(-1,7,step = 1))\n",
    "ax.set_yticks(np.arange(-3,5,step = 1))\n",
    "\n",
    "ax.text(1,2,'$2V_2$')\n",
    "ax.text(2,1,'$X$')\n",
    "ax.text(3,-1.2,'$AX$')\n",
    "ax.text(1,-2,'$3V_2$')\n",
    "\n",
    "ax.axvline(color='k',linewidth = 1)\n",
    "ax.axhline(color='k',linewidth = 1)\n",
    "\n",
    "ax.grid(True,ls=':')"
   ]
  },
  {
   "cell_type": "markdown",
   "metadata": {},
   "source": [
    "### Computation with SciPy\n",
    "\n",
    "We now demonstrate how to compute eigenvalues and eigenvectors for any square matrix using the function $\\texttt{eig}$ from the SciPy $\\texttt{linalg}$ module.  This function accepts an $n\\times n$ array representing a matrix and returns two arrays, one containing the eigenvalues, the other the eigenvectors.  We examine the usage by supplying our projection matrix as the argument. "
   ]
  },
  {
   "cell_type": "code",
   "execution_count": 6,
   "metadata": {},
   "outputs": [
    {
     "name": "stdout",
     "output_type": "stream",
     "text": [
      "[[ 0.2 -0.4]\n",
      " [-0.4  0.8]]\n",
      "\n",
      "\n",
      "[0.+0.j 1.+0.j]\n"
     ]
    }
   ],
   "source": [
    "import scipy.linalg as sla\n",
    "\n",
    "A = np.array([[0.2, -0.4],[-0.4, 0.8]])\n",
    "print(A)\n",
    "print('\\n')\n",
    "\n",
    "evalues,evectors = sla.eig(A)\n",
    "\n",
    "print(evalues)"
   ]
  },
  {
   "cell_type": "markdown",
   "metadata": {},
   "source": [
    "The array of eigenvalues contains two entries that are in the format of $\\alpha + \\beta j$, which represents a complex number.  The symbol $j$ is used for the imaginary unit.  The value of $\\beta$ is zero for both of the eigenvalues, which means that they are both real numbers.  The results confirm our conclusions that the eigenvalues are 0 and 1.\n",
    "\n",
    "Next let's look at the array of eigenvectors.  We can slice the array into columns to give us convenient access to the vectors."
   ]
  },
  {
   "cell_type": "code",
   "execution_count": 7,
   "metadata": {},
   "outputs": [
    {
     "name": "stdout",
     "output_type": "stream",
     "text": [
      "[[-0.89442719  0.4472136 ]\n",
      " [-0.4472136  -0.89442719]]\n"
     ]
    }
   ],
   "source": [
    "print(evectors)\n",
    "\n",
    "V_1 = evectors[:,0:1]\n",
    "V_2 = evectors[:,1:2]\n"
   ]
  },
  {
   "cell_type": "markdown",
   "metadata": {},
   "source": [
    "We may not recognize the eigenvectors as those we found previously, but recall that eigenvectors are not unique.  The $\\texttt{eig}$ function scales all the eigenvectors to unit length, and we arrive at the same result if we scale our choice of eigenvector."
   ]
  },
  {
   "cell_type": "code",
   "execution_count": 8,
   "metadata": {},
   "outputs": [
    {
     "name": "stdout",
     "output_type": "stream",
     "text": [
      "[[-2]\n",
      " [-1]]\n",
      "\n",
      "\n",
      "[[-0.89442719]\n",
      " [-0.4472136 ]]\n"
     ]
    }
   ],
   "source": [
    "V = np.array([[-2],[-1]])\n",
    "print(V)\n",
    "print('\\n')\n",
    "print(V/lag.Magnitude(V))"
   ]
  },
  {
   "cell_type": "markdown",
   "metadata": {},
   "source": [
    "### Example\n",
    "\n",
    "Let's try another example with a $3\\times 3$ matrix.\n",
    "\n",
    "$$\n",
    "\\begin{equation}\n",
    "B = \\left[ \\begin{array}{rrr} 1 & 2 & 0  \\\\ 2 & -1 & 4 \\\\  0 & 3 & 1\\end{array}\\right]\n",
    "\\end{equation}\n",
    "$$"
   ]
  },
  {
   "cell_type": "code",
   "execution_count": 9,
   "metadata": {},
   "outputs": [
    {
     "name": "stdout",
     "output_type": "stream",
     "text": [
      "[-4.12310563+0.j  1.        +0.j  4.12310563+0.j]\n",
      "\n",
      "\n",
      "[[ 3.19250163e-01  8.94427191e-01  4.19279023e-01]\n",
      " [-8.17776152e-01 -1.03817864e-16  6.54726338e-01]\n",
      " [ 4.78875244e-01 -4.47213595e-01  6.28918535e-01]]\n"
     ]
    }
   ],
   "source": [
    "B = np.array([[1,2, 0],[2,-1,4],[0,3,1]])\n",
    "evalues, evectors = sla.eig(B)\n",
    "\n",
    "print(evalues)\n",
    "print('\\n')\n",
    "print(evectors)\n",
    "\n",
    "V_1 = evectors[:,0:1]\n",
    "V_2 = evectors[:,1:2]\n",
    "V_3 = evectors[:,2:3]\n",
    "\n",
    "E_1 = evalues[0]\n",
    "E_2 = evalues[1]\n",
    "E_3 = evalues[2]"
   ]
  },
  {
   "cell_type": "markdown",
   "metadata": {},
   "source": [
    "We don't have the exact eigenvalues, but we can check that $BV_i - \\lambda_iV_i = 0$ for $i=1, 2, 3$, allowing of for small precision error.  "
   ]
  },
  {
   "cell_type": "code",
   "execution_count": 10,
   "metadata": {},
   "outputs": [
    {
     "name": "stdout",
     "output_type": "stream",
     "text": [
      "[[-4.44089210e-16+0.j]\n",
      " [ 2.22044605e-15+0.j]\n",
      " [-1.11022302e-15+0.j]]\n"
     ]
    }
   ],
   "source": [
    "print(B@V_1-E_1*V_1)"
   ]
  },
  {
   "cell_type": "markdown",
   "metadata": {},
   "source": [
    "Instead of $BV_i - \\lambda_iV_i = 0$ for each $i$, we can package the calculations into a single matrix multiplication.  If $S$ is the matrix with columns $V_i$, then $BS$ is the matrix with columns $BV_i$.  This matrix should be compared to the matrix that has $\\lambda_iV_i$ as its columns.  To construct this matrix we use a diagonal matrix $D$, that has the $\\lambda_i$ as its diagonal entries.  The matrix product $SD$ will then have columns $\\lambda_iV_i$.\n",
    "\n",
    "$$\n",
    "\\begin{equation}\n",
    "SD = \\left[ \\begin{array}{c|c|c} & & \\\\ V_1 & V_2 & V_3 \\\\ & & \\end{array} \\right]\n",
    "\\left[ \\begin{array}{rrr} \\lambda_1 & 0 & 0  \\\\ 0 & \\lambda_2 & 0 \\\\  0 & 0 & \\lambda_3 \\end{array}\\right]= \n",
    "\\left[ \\begin{array}{c|c|c} & & \\\\ \\lambda_1V_1 & \\lambda_2V_2 & \\lambda_3V_3 \\\\ & & \\end{array}\\right]\n",
    "\\end{equation}\n",
    "$$\n",
    "\n",
    "We can now simply check that $BS-SD = 0$."
   ]
  },
  {
   "cell_type": "code",
   "execution_count": 11,
   "metadata": {},
   "outputs": [
    {
     "name": "stdout",
     "output_type": "stream",
     "text": [
      "[[-4.12310563+0.j  0.        +0.j  0.        +0.j]\n",
      " [ 0.        +0.j  1.        +0.j  0.        +0.j]\n",
      " [ 0.        +0.j  0.        +0.j  4.12310563+0.j]]\n",
      "\n",
      "\n",
      "[[-4.44089210e-16+0.j -6.66133815e-16+0.j  4.44089210e-16+0.j]\n",
      " [ 2.22044605e-15+0.j  5.47907073e-16+0.j  0.00000000e+00+0.j]\n",
      " [-1.11022302e-15+0.j -1.11022302e-16+0.j  0.00000000e+00+0.j]]\n"
     ]
    }
   ],
   "source": [
    "S = evectors\n",
    "\n",
    "#  Since the eigenvalues are complex, it is best to use an array of complex numbers for D\n",
    "D = np.zeros((3,3),dtype='complex128')\n",
    "for i in range(3):\n",
    "    D[i,i] = evalues[i]\n",
    "\n",
    "print(D)\n",
    "print('\\n')\n",
    "print(B@S-S@D)"
   ]
  },
  {
   "cell_type": "markdown",
   "metadata": {},
   "source": [
    "### Diagonal Factorization\n",
    "\n",
    "The calculation that we used to verify the eigenvalues an eigenvectors is also very useful to construct another important matrix factorization.  Suppose that $A$ is an $n\\times n$ matrix, $D$ is a diagonal matrix with the eigenvalues of $A$ along its diagonal, and $S$ is the $n\\times n$ matrix with the eigenvectors of $A$ as its columns.  We have just seen that $AS=SD$.  If $S$ is invertible, we may also write $A=SDS^{-1}$, which is known as the **diagonalization** of $A$.\n",
    "\n",
    "The diagonalization of $A$ is important because it provides us with a complete description of the action of $A$ in terms of its eigenvectors.  Consider an arbitrary vector $X$, and the product $AX$, computed by using the three factors in the diagonization.\n",
    "\n",
    "- $S^{-1}X$ computes the coordinates of $X$ in terms of the eigenvectors of $A$.\n",
    "- Multiplication by $D$ then simply scales each coordinate by the corresponding eigenvalue.\n",
    "- Multiplication by $S$ gives the results with respect to the standard basis.\n",
    "\n",
    "This understanding does not provide a more efficient way of computing the product $AX$, but it does provide a much more general way of understanding the result of a matrix-vector multiplication.  As we will see in the next section, the diagonalization also provides a significant shortcut in computing powers of $A$.  \n",
    "\n",
    "It should be noted that diagonalization of an $n\\times n$ matrix $A$ is not possible when the eigenvectors of $A$ form a linearly dependent set.  In that case the eigenvectors do not span $\\mathbb{R}^n$, which means that not every $X$ in $\\mathbb{R}^n$ can be written as a linear combination of the eigenvectors.  In terms of the computation above, $S$ will not be invertible exactly in this case."
   ]
  },
  {
   "cell_type": "markdown",
   "metadata": {},
   "source": [
    "### Exercises\n",
    "\n",
    "- Find the diagonalization of the matrix from **Example 1**.\n",
    "\n",
    "$$\n",
    "\\begin{equation}\n",
    "A = \\left[ \\begin{array}{rr} 2 & -1  \\\\ -1 & 2 \\end{array}\\right]\n",
    "\\end{equation}\n",
    "$$"
   ]
  },
  {
   "cell_type": "code",
   "execution_count": 13,
   "metadata": {},
   "outputs": [],
   "source": [
    "A = np.array([[2, -1],[-1, 2]])\n",
    "\n",
    "## Code solution here"
   ]
  },
  {
   "cell_type": "markdown",
   "metadata": {},
   "source": [
    "- Find the diagonalization of the following matrix.\n",
    "\n",
    "$$\n",
    "\\begin{equation}\n",
    "B = \\left[ \\begin{array}{rrr} 2 & 0 & 0  \\\\ 3 & -2 & 1 \\\\  1 & 0 & 1\\end{array}\\right]\n",
    "\\end{equation}\n",
    "$$"
   ]
  },
  {
   "cell_type": "code",
   "execution_count": null,
   "metadata": {},
   "outputs": [],
   "source": [
    "## Code solution here."
   ]
  },
  {
   "cell_type": "markdown",
   "metadata": {},
   "source": [
    "- Write a function that accepts an $n\\times n$ matrix $A$ as an argument, and returns the three matrices $S$, $D$, and $S^{-1}$ such that $A=SDS^{-1}$.  Make use of the $\\texttt{eig}$ function in SciPy."
   ]
  },
  {
   "cell_type": "code",
   "execution_count": null,
   "metadata": {},
   "outputs": [],
   "source": [
    "## Code solution here."
   ]
  },
  {
   "cell_type": "markdown",
   "metadata": {},
   "source": [
    "- Construct a $3\\times 3$ matrix that is not diagonal and has eigenvalues 2, 4, and 10. "
   ]
  },
  {
   "cell_type": "code",
   "execution_count": null,
   "metadata": {},
   "outputs": [],
   "source": [
    "## Code solution here."
   ]
  }
 ],
 "metadata": {
  "kernelspec": {
   "display_name": "Python 3",
   "language": "python",
   "name": "python3"
  },
  "language_info": {
   "codemirror_mode": {
    "name": "ipython",
    "version": 3
   },
   "file_extension": ".py",
   "mimetype": "text/x-python",
   "name": "python",
   "nbconvert_exporter": "python",
   "pygments_lexer": "ipython3",
   "version": "3.7.3"
  }
 },
 "nbformat": 4,
 "nbformat_minor": 4
}
