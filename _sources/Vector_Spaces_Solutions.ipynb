{
 "cells": [
  {
   "cell_type": "markdown",
   "id": "6c15032d",
   "metadata": {},
   "source": [
    "## Vector Spaces"
   ]
  },
  {
   "cell_type": "code",
   "execution_count": 3,
   "id": "23575dd5",
   "metadata": {},
   "outputs": [],
   "source": [
    "import laguide as lag\n",
    "import numpy as np\n",
    "import scipy.linalg as sla"
   ]
  },
  {
   "cell_type": "markdown",
   "id": "692b0f52",
   "metadata": {},
   "source": [
    "### General Linear Systems"
   ]
  },
  {
   "cell_type": "markdown",
   "id": "aa5e2415",
   "metadata": {},
   "source": [
    "**Exercise 1:** Determine the number of solutions to the following system, then find all possible solutions.\n",
    "\n",
    "\n",
    "$$\n",
    "\\begin{eqnarray*}\n",
    "5x_1 + 4x_2 - x_3 & = & \\hspace{0.3cm} 3\\\\\n",
    "x_1 \\hspace{1.2cm} + x_3  & = & \\hspace{0.3cm} 2\\\\\n",
    "-2x_1 + 2x_2 + 4x_3 & = & -3 \\\\\n",
    "x_1 + 8x_2 + 7x_3 & = & -3 \\\\\n",
    "3x_1 \\hspace{1.2cm} - 3x_3 & = & \\hspace{0.3cm} 3 \\\\\n",
    "\\end{eqnarray*}\n",
    "$$"
   ]
  },
  {
   "cell_type": "code",
   "execution_count": 4,
   "id": "0e7e0703",
   "metadata": {},
   "outputs": [
    {
     "name": "stdout",
     "output_type": "stream",
     "text": [
      "[[ 1.   0.   0.   1.5]\n",
      " [ 0.   1.   0.  -1. ]\n",
      " [ 0.   0.   1.   0.5]\n",
      " [ 0.   0.   0.   0. ]\n",
      " [ 0.   0.   0.   0. ]]\n"
     ]
    }
   ],
   "source": [
    "A_augmented = np.array([[5,4,-1,3],[1,0,1,2],[-2,2,4,-3],[1,8,7,-3],[3,0,-3,3]])\n",
    "A_augmented_reduced = lag.FullRowReduction(A_augmented)\n",
    "print(A_augmented_reduced)"
   ]
  },
  {
   "cell_type": "markdown",
   "id": "cda7d053",
   "metadata": {},
   "source": [
    "Every column except the last one has exactly one pivot, so there exists a unique solution to this system. That solution is\n",
    "\n",
    "$$\n",
    "\\begin{eqnarray*}\n",
    "x_1 & = & 1.5\\\\\n",
    "x_2  & = & -1\\\\\n",
    "x_3 & = & 0.5\n",
    "\\end{eqnarray*}\n",
    "$$"
   ]
  },
  {
   "cell_type": "markdown",
   "id": "2a6b4680",
   "metadata": {},
   "source": [
    "**Exercise 2:** Determine the number of solutions to the following system, then find all possible solutions.\n",
    "\n",
    "\n",
    "$$\n",
    "\\begin{eqnarray*}\n",
    "5x_1 + 4x_2 - x_3 & = & \\hspace{0.3cm} 0\\\\\n",
    "x_1 \\hspace{1.2cm} + x_3  & = & \\hspace{0.3cm} 2\\\\\n",
    "-2x_1 + 2x_2 + 4x_3 & = & -3 \\\\\n",
    "x_1 + 8x_2 + 7x_3 & = & -3 \\\\\n",
    "3x_1 \\hspace{1.2cm} - 3x_3 & = & \\hspace{0.3cm} 3 \\\\\n",
    "\\end{eqnarray*}\n",
    "$$"
   ]
  },
  {
   "cell_type": "code",
   "execution_count": 5,
   "id": "5dd649d4",
   "metadata": {},
   "outputs": [],
   "source": [
    "## Code solution here."
   ]
  },
  {
   "cell_type": "markdown",
   "id": "b62f9a20",
   "metadata": {},
   "source": [
    "**Exercise 3:** Determine the number of solutions to the following system, then find all possible solutions.\n",
    "\n",
    "$$\n",
    "\\begin{eqnarray*}\n",
    "5x_1 + 4x_2 - x_3 & = & \\hspace{0.3cm} 3\\\\\n",
    "x_1  +2x_2 + x_3  & = & \\hspace{0.3cm} 0\\\\\n",
    "-2x_1 + 2x_2 + 4x_3 & = & -3 \\\\\n",
    "x_1 + 8x_2 + 7x_3 & = & -3 \\\\\n",
    "3x_1 \\hspace{1.2cm} - 3x_3 & = & \\hspace{0.3cm} 3 \\\\\n",
    "\\end{eqnarray*}\n",
    "$$"
   ]
  },
  {
   "cell_type": "code",
   "execution_count": 6,
   "id": "1fdd87c2",
   "metadata": {},
   "outputs": [
    {
     "name": "stdout",
     "output_type": "stream",
     "text": [
      "[[ 1.   0.  -1.   1. ]\n",
      " [ 0.   1.   1.  -0.5]\n",
      " [ 0.   0.   0.   0. ]\n",
      " [ 0.   0.   0.   0. ]\n",
      " [ 0.   0.   0.   0. ]]\n"
     ]
    }
   ],
   "source": [
    "B_augmented = np.array([[5,4,-1,3],[1,2,1,0],[-2,2,4,-3],[1,8,7,-3],[3,0,-3,3]])\n",
    "B_augmented_reduced = lag.FullRowReduction(B_augmented)\n",
    "print(B_augmented_reduced)"
   ]
  },
  {
   "cell_type": "markdown",
   "id": "01793f4d",
   "metadata": {},
   "source": [
    "Niether the third nor the last column have pivots, so there exist an infinite number of solutions to this system. If we parametrize $x_3 = s$ then the following is a solution to the system for any $s \\in \\mathbb{R}$\n",
    "\n",
    "$$\n",
    "\\begin{eqnarray*}\n",
    "x_1 & = & 1 + s\\\\\n",
    "x_2  & = & -0.5 - s\\\\\n",
    "x_3 & = & s\n",
    "\\end{eqnarray*}\n",
    "$$"
   ]
  },
  {
   "cell_type": "markdown",
   "id": "eaad248c",
   "metadata": {},
   "source": [
    "**Exercise 4:** Construct an example of an inconsistent system with 2 equations and 4 unknowns.  Check your example by using $\\texttt{FullRowReduction}$"
   ]
  },
  {
   "cell_type": "markdown",
   "id": "4ed412ec",
   "metadata": {},
   "source": [
    "$$\n",
    "\\begin{eqnarray*}\n",
    "2x_1 + 4x_2 - 3x_3 & = & \\hspace{0.3cm} 3\\\\\n",
    "4x_1 + 8x_2 - 6x_3 & = & \\hspace{0.3cm} 5\\\\\n",
    "\\end{eqnarray*}\n",
    "$$"
   ]
  },
  {
   "cell_type": "code",
   "execution_count": 7,
   "id": "cf0297c7",
   "metadata": {},
   "outputs": [
    {
     "name": "stdout",
     "output_type": "stream",
     "text": [
      "[[ 2  4 -3  3]\n",
      " [ 4  8 -6  5]] \n",
      "\n",
      "[[ 1.   2.  -1.5  0. ]\n",
      " [ 0.   0.   0.   1. ]]\n"
     ]
    }
   ],
   "source": [
    "C_augmented = np.array([[2,4,-3,3],[4,8,-6,5]])\n",
    "C_augmented_reduced = lag.FullRowReduction(C_augmented)\n",
    "print(C_augmented,'\\n')\n",
    "print(C_augmented_reduced)"
   ]
  },
  {
   "cell_type": "markdown",
   "id": "c0fbf4c8",
   "metadata": {},
   "source": [
    "The scond row in the augmented matrix represents the equation $0x_3 = 1$."
   ]
  },
  {
   "cell_type": "markdown",
   "id": "2dc800f3",
   "metadata": {},
   "source": [
    "**Exercise 5:** Explain why it is not possible for a system with 2 equations and 4 unknowns to have a unique solution.  Base your argument on pivot positions."
   ]
  },
  {
   "cell_type": "markdown",
   "id": "de996113",
   "metadata": {},
   "source": [
    "The augmented matrix that represents a system with 2 equations and 4 unknowns must can have at most 2 pivots since it has only 2 rows.  This means that one of the first four columns does not have a pivot and corresponds to a free variable in the system.  The guaranteed existence of a free variable means the system does not have a unique solution."
   ]
  },
  {
   "cell_type": "markdown",
   "id": "f5ec4b18",
   "metadata": {},
   "source": [
    "**Exercise 6:** Write a function that accepts the augmented matrix for a system and returns the number of free variables in that system.  Make use of $\\texttt{FullRowReduction}$ in the $\\texttt{laguide}$ module. "
   ]
  },
  {
   "cell_type": "code",
   "execution_count": 8,
   "id": "5b025ec4",
   "metadata": {},
   "outputs": [],
   "source": [
    "## Code solution here."
   ]
  },
  {
   "cell_type": "markdown",
   "id": "47cf1b3b",
   "metadata": {},
   "source": [
    "### Linear Combinations"
   ]
  },
  {
   "cell_type": "markdown",
   "id": "c79f7887",
   "metadata": {},
   "source": [
    "**Exercise 1:**  Find a linear combination of the vectors $V_1, V_2$ and $V_3$ which equals to the vector $X$.\n",
    "\n",
    "$$\n",
    "\\begin{equation}\n",
    "V_1 = \\left[ \\begin{array}{r} 2 \\\\ 0 \\\\ 7 \\end{array}\\right] \\hspace{1cm}\n",
    "V_2 = \\left[ \\begin{array}{r} 2 \\\\ 4 \\\\ 5   \\end{array}\\right] \\hspace{1cm} \n",
    "V_3 = \\left[ \\begin{array}{r} 2 \\\\ -12 \\\\ 13 \\end{array}\\right] \\hspace{1cm}\n",
    "X = \\left[ \\begin{array}{r}  -1 \\\\ 5 \\\\ -6  \\end{array}\\right] \\hspace{1cm}\n",
    "\\end{equation}\n",
    "$$\n",
    "\n"
   ]
  },
  {
   "cell_type": "code",
   "execution_count": 6,
   "id": "8f42b430",
   "metadata": {},
   "outputs": [],
   "source": [
    "## Code solution here."
   ]
  },
  {
   "cell_type": "markdown",
   "id": "33d97314",
   "metadata": {},
   "source": [
    "**Exercise 2:**  Determine whether or not $X$ lies in the span of $\\{ V_1, V_2 ,V_3\\}$.\n",
    "\n",
    "$$\n",
    "\\begin{equation}\n",
    "V_1 = \\left[ \\begin{array}{r} 1 \\\\ 0 \\\\ 0 \\end{array}\\right] \\hspace{1cm}\n",
    "V_2 = \\left[ \\begin{array}{r} 2 \\\\ -2 \\\\ 1  \\end{array}\\right] \\hspace{1cm} \n",
    "V_3 = \\left[ \\begin{array}{r} 2 \\\\ 0 \\\\ 4 \\end{array}\\right] \\hspace{1cm}\n",
    "X = \\left[ \\begin{array}{r}  1 \\\\ 3 \\\\ -1  \\end{array}\\right] \\hspace{1cm}\n",
    "\\end{equation}\n",
    "$$\n",
    "\n"
   ]
  },
  {
   "cell_type": "code",
   "execution_count": 6,
   "id": "72483ae2",
   "metadata": {},
   "outputs": [],
   "source": [
    "## Code solution here."
   ]
  },
  {
   "cell_type": "markdown",
   "id": "e760ec0b",
   "metadata": {},
   "source": [
    "**Exercise 3:**  Does the set $\\{ X_1, X_2 ,X_3, X_4\\}$ span $\\mathbb{R}^4$? Explain why or why not.\n",
    "\n",
    "$$\n",
    "\\begin{equation}\n",
    "X_1 = \\left[ \\begin{array}{r} 1 \\\\ 1\\\\ 1\\\\1 \\end{array}\\right] \\hspace{1cm}\n",
    "X_2 = \\left[ \\begin{array}{r} 1 \\\\ 0 \\\\ 0\\\\2  \\end{array}\\right] \\hspace{1cm} \n",
    "X_3 = \\left[ \\begin{array}{r} 2 \\\\ 0 \\\\ 1\\\\1 \\end{array}\\right] \\hspace{1cm}\n",
    "X_4 = \\left[ \\begin{array}{r} 3 \\\\ 0 \\\\ 1\\\\2 \\end{array}\\right] \\hspace{1cm}\n",
    "\\end{equation}\n",
    "$$\n",
    "\n"
   ]
  },
  {
   "cell_type": "code",
   "execution_count": 6,
   "id": "ee7cd786",
   "metadata": {},
   "outputs": [],
   "source": [
    "## Code solution here."
   ]
  },
  {
   "cell_type": "markdown",
   "id": "20005462",
   "metadata": {},
   "source": [
    "**Exercise 4:** Answer questions regarding the following vectors.\n",
    "\n",
    "$$\n",
    "\\begin{equation}\n",
    "W_1 = \\left[ \\begin{array}{r} 2 \\\\ 3 \\\\ -1 \\end{array}\\right] \\hspace{1cm}\n",
    "W_2 = \\left[ \\begin{array}{r} 3 \\\\ 0 \\\\ 1   \\end{array}\\right] \\hspace{1cm} \n",
    "W_3 = \\left[ \\begin{array}{r} 4 \\\\ -3 \\\\ 3 \\end{array}\\right] \\hspace{1cm}\n",
    "B = \\left[ \\begin{array}{r}  1 \\\\ 1 \\\\ 1  \\end{array}\\right] \\hspace{1cm}\n",
    "C = \\left[ \\begin{array}{r}  3 \\\\ 0 \\\\ 1  \\end{array}\\right] \\hspace{1cm}\n",
    "V_1 = \\left[ \\begin{array}{r} 8 \\\\ -3 \\\\ 5 \\end{array}\\right] \\hspace{1cm}\n",
    "V_2 = \\left[ \\begin{array}{r} 4 \\\\ 6 \\\\ -2   \\end{array}\\right]  \n",
    "\\end{equation}\n",
    "$$\n",
    "\n",
    "$(a)$ Determine if $B$ is in the span of $\\{W_1, W_2, W_3\\}$.\n",
    "\n",
    "We need to determine if there are scalars $a_1$, $a_2$, $a_3$ such that $a_1W_1 + a_2W_2 + a_3W_3 = B$.  We build an augmented matrix that represents the corresponding linear system and then use $\\texttt{FullRowReduction}$."
   ]
  },
  {
   "cell_type": "code",
   "execution_count": 9,
   "id": "88e5be3c",
   "metadata": {},
   "outputs": [
    {
     "name": "stdout",
     "output_type": "stream",
     "text": [
      "[[ 2  3  4  1]\n",
      " [ 3  0 -3  1]\n",
      " [-1  1  3  1]] \n",
      "\n",
      "[[ 1.  0. -1.  0.]\n",
      " [ 0.  1.  2.  0.]\n",
      " [ 0.  0.  0.  1.]]\n"
     ]
    }
   ],
   "source": [
    "B_augmented = np.array([[2,3,4,1],[3,0,-3,1],[-1,1,3,1]])\n",
    "B_augmented_reduced = lag.FullRowReduction(B_augmented)\n",
    "print(B_augmented,'\\n')\n",
    "print(B_augmented_reduced)"
   ]
  },
  {
   "cell_type": "markdown",
   "id": "dd2ec479",
   "metadata": {},
   "source": [
    "This augmented matrix has a pivot in the last column.  Therefore the system is inconsistent and $B$ is not  in the span of $\\{W_1, W_2, W_3\\}$."
   ]
  },
  {
   "cell_type": "markdown",
   "id": "acefe114",
   "metadata": {},
   "source": [
    "$(b)$ Determine if $C$ is in the span of $\\{W_1, W_2, W_3\\}$.\n",
    "\n",
    "We need to determine if there are scalars $a_1$, $a_2$, $a_3$ such that $a_1W_1 + a_2W_2 + a_3W_3 = C$.  We build an augmented matrix that represents the corresponding linear system and then use $\\texttt{FullRowReduction}$."
   ]
  },
  {
   "cell_type": "code",
   "execution_count": 10,
   "id": "3a7f7e75",
   "metadata": {
    "scrolled": true
   },
   "outputs": [
    {
     "name": "stdout",
     "output_type": "stream",
     "text": [
      "[[ 2  3  4  3]\n",
      " [ 3  0 -3  0]\n",
      " [-1  1  3  1]] \n",
      "\n",
      "[[ 1.  0. -1.  0.]\n",
      " [ 0.  1.  2.  1.]\n",
      " [ 0.  0.  0.  0.]]\n"
     ]
    }
   ],
   "source": [
    "C_augmented = np.array([[2,3,4,3],[3,0,-3,0],[-1,1,3,1]])\n",
    "C_augmented_reduced = lag.FullRowReduction(C_augmented)\n",
    "print(C_augmented,'\\n')\n",
    "print(C_augmented_reduced)"
   ]
  },
  {
   "cell_type": "markdown",
   "id": "d424affe",
   "metadata": {},
   "source": [
    "Since there is no pivot in the last column, the system is consistent and $C$ is in the span of $\\{W_1, W_2, W_3\\}$."
   ]
  },
  {
   "cell_type": "markdown",
   "id": "d7ae7f80",
   "metadata": {},
   "source": [
    "$(c)$ Find a nonzero vector in the span of $\\{W_1, W_2, W_3\\}$ that has zero as its first entry.\n",
    "\n",
    "Any linear combination of $W_1$, $W_2$, and $W_3$ is in the span of $\\{W_1, W_2, W_3\\}$.  There are many that have zero as the first entry, including the following example."
   ]
  },
  {
   "cell_type": "markdown",
   "id": "9418d578",
   "metadata": {},
   "source": [
    "$$\n",
    "\\begin{equation}\n",
    "-2W_1 + W_3 = \\left[ \\begin{array}{r} -4 \\\\ -6 \\\\ 2 \\end{array}\\right] + \\left[ \\begin{array}{r} 4 \\\\ -3 \\\\ 1 \\end{array}\\right] = \\left[ \\begin{array}{r} 0 \\\\ -9 \\\\ 3 \\end{array}\\right] \\hspace{1cm}\n",
    "\\end{equation}\n",
    "$$"
   ]
  },
  {
   "cell_type": "markdown",
   "id": "7ea719f2",
   "metadata": {},
   "source": [
    "$(d)$ How can we determine if the span of $\\{W_1, W_2, W_3\\}$ equal the span of $\\{V_1, V_2\\}$?"
   ]
  },
  {
   "cell_type": "markdown",
   "id": "9396ee48",
   "metadata": {},
   "source": [
    "If each of the vectors in $\\{V_1, V_2\\}$ is in the span of $\\{W_1, W_2, W_3\\}$ and vice versa, then the two sets should have the same span. However, we can quickly show that $V_1$ is not in the span of $\\{W_1, W_2, W_3\\}$."
   ]
  },
  {
   "cell_type": "code",
   "execution_count": 11,
   "id": "e01a72ef",
   "metadata": {},
   "outputs": [
    {
     "name": "stdout",
     "output_type": "stream",
     "text": [
      "[[ 2  3  4  8]\n",
      " [ 3  0 -3 -3]\n",
      " [-1  1  3  5]] \n",
      "\n",
      "[[ 1.  0. -1.  0.]\n",
      " [ 0.  1.  2.  0.]\n",
      " [ 0.  0.  0.  1.]]\n"
     ]
    }
   ],
   "source": [
    "V_1_augmented = np.array([[2,3,4,8],[3,0,-3,-3],[-1,1,3,5]])\n",
    "V_1_augmented_reduced = lag.FullRowReduction(V_1_augmented)\n",
    "print(V_1_augmented,'\\n')\n",
    "print(V_1_augmented_reduced)"
   ]
  },
  {
   "cell_type": "markdown",
   "id": "35832340",
   "metadata": {},
   "source": [
    "Since the last column has a pivot this system is inconsistent. Therefore $V_1$ is not in the span of $\\{W_1, W_2, W_3\\}$ and thus the two sets have different spans."
   ]
  },
  {
   "cell_type": "markdown",
   "id": "1cff77e9",
   "metadata": {},
   "source": [
    "**Exercise 5:** Show that the vector $X$ lies in the span of the columns of $A$. Also find another vector that is in the span of the columns of $A$ and verify your answer.\n",
    "\n",
    "$$\n",
    "\\begin{equation}\n",
    "A = \\left[ \\begin{array}{rrrr} \n",
    "1 & 1 & 3  \\\\ 2 & 0 & 1   \\\\ 3 & 1 & 1     \n",
    "\\end{array}\\right] \\hspace{2 cm}\n",
    "x = \\left[ \\begin{array}{r} 1 \\\\ 1\\\\ 1 \\end{array}\\right] \\hspace{1cm}\n",
    "\\end{equation}\n",
    "$$\n",
    "\n"
   ]
  },
  {
   "cell_type": "markdown",
   "id": "7324b392",
   "metadata": {},
   "source": [
    "**Exercise 6:** Consider the matrix $R$ from **Example 3**.  Find one vector in $\\mathbb{R}^4$ that is in the span of the columns of $R$, and one vector in $\\mathbb{R}^4$ that is not.  Demontrate with an appropriate computation.\n",
    "\n",
    "\n",
    "$$\n",
    "\\begin{equation}\n",
    "R = \\left[ \\begin{array}{rrrr} \n",
    "1 & 1 & 0 & -1 \\\\ 1 & 1 & 0 & 1  \\\\ -1 & -1 & 1 & -1 \\\\ 1 & 1 & -2 & 0   \n",
    "\\end{array}\\right]\n",
    "\\end{equation}\n",
    "$$"
   ]
  },
  {
   "cell_type": "markdown",
   "id": "7cfd34ae",
   "metadata": {},
   "source": [
    "Consider the following vectors $V$ and $W$. $V$ is not in the span of the columns of $R$, but $W$ is.\n",
    "\n",
    "$$\n",
    "\\begin{equation}\n",
    "V = \\left[ \\begin{array}{r} 0 \\\\ 0 \\\\ 0 \\\\ 1 \\end{array}\\right] \\hspace{1cm}\n",
    "W = \\left[ \\begin{array}{r} 0 \\\\ 2 \\\\ -2 \\\\ 1   \\end{array}\\right]\n",
    "\\end{equation}\n",
    "$$"
   ]
  },
  {
   "cell_type": "code",
   "execution_count": 12,
   "id": "b498715e",
   "metadata": {},
   "outputs": [
    {
     "name": "stdout",
     "output_type": "stream",
     "text": [
      "[[ 1  1  0 -1  0]\n",
      " [ 1  1  0  1  0]\n",
      " [-1 -1  1 -1  0]\n",
      " [ 1  1 -2  0  1]] \n",
      "\n",
      "[[1. 1. 0. 0. 0.]\n",
      " [0. 0. 1. 0. 0.]\n",
      " [0. 0. 0. 1. 0.]\n",
      " [0. 0. 0. 0. 1.]] \n",
      "\n",
      "[[ 1  1  0 -1  0]\n",
      " [ 1  1  0  1  2]\n",
      " [-1 -1  1 -1 -2]\n",
      " [ 1  1 -2  0  1]] \n",
      "\n",
      "[[1. 1. 0. 0. 1.]\n",
      " [0. 0. 1. 0. 0.]\n",
      " [0. 0. 0. 1. 1.]\n",
      " [0. 0. 0. 0. 0.]]\n"
     ]
    }
   ],
   "source": [
    "V_augmented = np.array([[1,1,0,-1,0],[1,1,0,1,0],[-1,-1,1,-1,0],[1,1,-2,0,1]])\n",
    "V_augmented_reduced = lag.FullRowReduction(V_augmented)\n",
    "print(V_augmented,'\\n')\n",
    "print(V_augmented_reduced,'\\n')\n",
    "\n",
    "W_augmented = np.array([[1,1,0,-1,0],[1,1,0,1,2],[-1,-1,1,-1,-2],[1,1,-2,0,1]])\n",
    "W_augmented_reduced = lag.FullRowReduction(W_augmented)\n",
    "print(W_augmented,'\\n')\n",
    "print(W_augmented_reduced)"
   ]
  },
  {
   "cell_type": "markdown",
   "id": "bd5fd567",
   "metadata": {},
   "source": [
    "Note that for any vector $X$ in $\\mathbb{R}^4$, the vector $RX$ is a linear combination of the columns of $R$ and therefore in the span of the columns of $R$."
   ]
  },
  {
   "cell_type": "markdown",
   "id": "abeb4574",
   "metadata": {},
   "source": [
    "**Exercise 7:** Find a vector $V_3$ that is not in the span of $\\{ V_1, V_2\\}$. Explain why the set $\\{ V_1, V_2, V_3 \\}$ spans $\\mathbb{R}^3$.\n",
    "\n",
    "$$\n",
    "\\begin{equation}\n",
    "V_1 = \\left[ \\begin{array}{r} 1 \\\\ 1\\\\ 1 \\end{array}\\right] \\hspace{1cm}\n",
    "V_2 = \\left[ \\begin{array}{r} 2 \\\\ 0 \\\\ 4  \\end{array}\\right] \\hspace{1cm} \n",
    "\\end{equation}\n",
    "$$\n",
    "\n"
   ]
  },
  {
   "cell_type": "code",
   "execution_count": 10,
   "id": "641b4819",
   "metadata": {},
   "outputs": [],
   "source": [
    "## Code solution here."
   ]
  },
  {
   "cell_type": "markdown",
   "id": "3f590dbd",
   "metadata": {},
   "source": [
    "**Exercise 8:** Explain why the system $AX=B$ cannot be consistent for every vector $B$ if $A$ is a $5\\times 3$ matrix."
   ]
  },
  {
   "cell_type": "markdown",
   "id": "21542f61",
   "metadata": {},
   "source": [
    "**Exercise 9:** Find the value of $a$ for which $\\{ V_1, V_2 ,V_3\\} $ does not span $\\mathbb{R}^3$.\n",
    "\n",
    "$$\n",
    "\\begin{equation}\n",
    "V_1 = \\left[ \\begin{array}{r} 1 \\\\ 2\\\\ 3 \\end{array}\\right] \\hspace{1cm}\n",
    "V_2 = \\left[ \\begin{array}{r} 4 \\\\ 5 \\\\ 6  \\end{array}\\right] \\hspace{1cm} \n",
    "V_3 = \\left[ \\begin{array}{r} 1 \\\\ 0 \\\\ a \\end{array}\\right] \\hspace{1cm}\n",
    "\\end{equation}\n",
    "$$\n"
   ]
  },
  {
   "cell_type": "markdown",
   "id": "4c889df5",
   "metadata": {},
   "source": [
    "\n",
    "\n",
    "### Linear Independence"
   ]
  },
  {
   "cell_type": "markdown",
   "id": "a130d623",
   "metadata": {},
   "source": [
    "**Exercise 1:** Determine if the following set of vectors is linearly independent.\n",
    "\n",
    "$$\n",
    "\\begin{equation}\n",
    "U_1 = \\left[ \\begin{array}{r} 0 \\\\ 5  \\\\ 2  \\\\ 2 \\end{array}\\right] \\hspace{1cm} \n",
    "U_2 = \\left[ \\begin{array}{r} 1 \\\\ -1 \\\\ 0  \\\\ -1 \\end{array}\\right] \\hspace{1cm}\n",
    "U_3 = \\left[ \\begin{array}{r} 3 \\\\ 2 \\\\ 2  \\\\ -1 \\end{array}\\right]\n",
    "\\end{equation}\n",
    "$$"
   ]
  },
  {
   "cell_type": "code",
   "execution_count": 13,
   "id": "e7783cc5",
   "metadata": {},
   "outputs": [
    {
     "name": "stdout",
     "output_type": "stream",
     "text": [
      "[[1. 0. 1.]\n",
      " [0. 1. 3.]\n",
      " [0. 0. 0.]\n",
      " [0. 0. 0.]]\n"
     ]
    }
   ],
   "source": [
    "U = np.array([[0,1,3],[5,-1,2],[2,0,2],[2,-1,-1]])\n",
    "U_reduced = lag.FullRowReduction(U)\n",
    "print(U_reduced)"
   ]
  },
  {
   "cell_type": "markdown",
   "id": "aead589d",
   "metadata": {},
   "source": [
    "The absence of a pivot in the third column indicates that these vectors are linearly dependent."
   ]
  },
  {
   "cell_type": "markdown",
   "id": "901663e2",
   "metadata": {},
   "source": [
    "**Exercise 2:** Find two distinct nonzero vectors in the null space of the matrix $D$.\n",
    "\n",
    "$$\n",
    "\\begin{equation}\n",
    "D = \\left[ \\begin{array}{rrr} 4 & 4 & 3 \\\\ 8 & 8 & 6 \\\\ 1 & 0 & 1 \\end{array}\\right]\n",
    "\\end{equation}\n",
    "$$"
   ]
  },
  {
   "cell_type": "code",
   "execution_count": 14,
   "id": "1a0d859c",
   "metadata": {},
   "outputs": [],
   "source": [
    "## Code solution here."
   ]
  },
  {
   "cell_type": "markdown",
   "id": "7e0ca314",
   "metadata": {},
   "source": [
    "### Bases"
   ]
  },
  {
   "cell_type": "markdown",
   "id": "4100e046",
   "metadata": {},
   "source": [
    "**Exercise 1:** Find a basis for the set of solutions to the system $PX=0$ where $P$ is defined as follows.\n",
    "\n",
    "$$\n",
    "\\begin{equation}\n",
    "P = \\left[ \\begin{array}{rrrr} 1 & 0 & 3 & -2 & 4 \\\\ -1 & 1 & 6 & -2 & 1 \\\\ -2 & 1 & 3 & 0 & -3 \\end{array}\\right] \n",
    "\\end{equation}\n",
    "$$"
   ]
  },
  {
   "cell_type": "code",
   "execution_count": 15,
   "id": "64ea2710",
   "metadata": {},
   "outputs": [
    {
     "name": "stdout",
     "output_type": "stream",
     "text": [
      "[[ 1.  0.  3. -2.  4.]\n",
      " [ 0.  1.  9. -4.  5.]\n",
      " [ 0.  0.  0.  0.  0.]]\n"
     ]
    }
   ],
   "source": [
    "P = np.array([[1,0,3,-2,4],[-1,1,6,-2,1],[-2,1,3,0,-3]])\n",
    "P_reduced = lag.FullRowReduction(P)\n",
    "print(P_reduced)"
   ]
  },
  {
   "cell_type": "markdown",
   "id": "1a60520e",
   "metadata": {},
   "source": [
    "In this system, $x_3$, $x_4$, and $x_5$ are free variables. If we parametrize them as $x_3 = r$, $x_4 = s$, and $x_5 = t$ then $x_1 = -3r + 2s - 4t$ and $x_2 = -9r + 4s - 5t.$ Then we can write the components of a general solution vector $X$ in terms of these parameters.\n",
    "\n",
    "$$\n",
    "\\begin{equation}\n",
    "X = \\left[ \\begin{array}{r} x_1 \\\\ x_ 2 \\\\ x_ 3 \\\\ x_4 \\\\ x_5 \\end{array}\\right] =  \n",
    "r\\left[ \\begin{array}{r} -3 \\\\ -9 \\\\  1 \\\\ 0 \\\\ 0 \\end{array}\\right] +\n",
    "s\\left[ \\begin{array}{r} 2 \\\\ 4 \\\\ 0 \\\\ 1 \\\\ 0 \\end{array}\\right] +\n",
    "t\\left[ \\begin{array}{r} -4 \\\\ -5 \\\\ 0 \\\\ 0 \\\\ 1 \\end{array}\\right]\n",
    "\\end{equation}\n",
    "$$\n",
    "\n",
    "Therefore any solution to the system must be a linear combination of $V_1, V_2,$ and $V_3$ as defined below, and therefore $\\{V_1,V_2,V_3\\}$ forms a basis for the set of solutons to $PX = 0$.\n",
    "\n",
    "$$\n",
    "\\begin{equation}\n",
    "V_1 = \\left[ \\begin{array}{r} -3 \\\\ -9 \\\\  1 \\\\ 0 \\\\ 0 \\end{array}\\right] \\hspace{1cm}\n",
    "V_2 = \\left[ \\begin{array}{r} 2 \\\\ 4 \\\\ 0 \\\\ 1 \\\\ 0  \\end{array}\\right] \\hspace{1cm}\n",
    "V_3 = \\left[ \\begin{array}{r} -4 \\\\ -5 \\\\ 0 \\\\ 0 \\\\ 1  \\end{array}\\right]\n",
    "\\end{equation}\n",
    "$$"
   ]
  },
  {
   "cell_type": "markdown",
   "id": "7d41ea94",
   "metadata": {},
   "source": [
    "**Exercise 2:** Determine if the following set of vectors is a basis for $\\mathbb{R}^4$.  Give justification with an appropriate calculation.\n",
    "\n",
    "$$\n",
    "\\begin{equation}\n",
    "W_1 = \\left[ \\begin{array}{r} -1 \\\\ 0 \\\\ 1 \\\\ 2 \\end{array}\\right] \\hspace{0.7cm} \n",
    "W_2 = \\left[ \\begin{array}{r} 2 \\\\ 1 \\\\ 2 \\\\ 4 \\end{array}\\right] \\hspace{0.7cm}\n",
    "W_3 = \\left[ \\begin{array}{r} 0 \\\\ 0 \\\\ 1 \\\\ 0 \\end{array}\\right] \\hspace{0.7cm}\n",
    "W_4 = \\left[ \\begin{array}{r} -1 \\\\ 0 \\\\ -1 \\\\ 1 \\end{array}\\right]\n",
    "\\end{equation}\n",
    "$$"
   ]
  },
  {
   "cell_type": "code",
   "execution_count": 16,
   "id": "314fcec1",
   "metadata": {},
   "outputs": [
    {
     "name": "stdout",
     "output_type": "stream",
     "text": [
      "[[1. 0. 0. 0.]\n",
      " [0. 1. 0. 0.]\n",
      " [0. 0. 1. 0.]\n",
      " [0. 0. 0. 1.]]\n"
     ]
    }
   ],
   "source": [
    "W = np.array([[-1,2,0,-1],[0,1,0,0],[1,2,1,-1],[2,4,0,1]])\n",
    "W_reduced = lag.FullRowReduction(W)\n",
    "print(W_reduced)"
   ]
  },
  {
   "cell_type": "markdown",
   "id": "9a8645ca",
   "metadata": {},
   "source": [
    "We can see that the RREF of $W$ has a pivot in every row and column, and thus this set of vectors forms a basis for $\\mathbb{R}^4$."
   ]
  },
  {
   "cell_type": "markdown",
   "id": "fa6fa177",
   "metadata": {},
   "source": [
    "**Exercise 3:** Give an example of a set of three vectors that does **not** form a basis for $\\mathbb{R}^3$.  Provide a calculation that shows why the example is not a basis."
   ]
  },
  {
   "cell_type": "markdown",
   "id": "0ac366a5",
   "metadata": {},
   "source": [
    "Consider the set of vectors $\\{V_1,V_2,V_3\\}$ defined below.\n",
    "\n",
    "$$\n",
    "\\begin{equation}\n",
    "V_1 = \\left[ \\begin{array}{r} 1 \\\\ 0 \\\\ 0 \\end{array}\\right] \\hspace{0.7cm} \n",
    "V_2 = \\left[ \\begin{array}{r} 0 \\\\ 1 \\\\ 0 \\end{array}\\right] \\hspace{0.7cm}\n",
    "V_3 = \\left[ \\begin{array}{r} 1 \\\\ 1 \\\\ 0 \\end{array}\\right] \\hspace{0.7cm}\n",
    "\\end{equation}\n",
    "$$"
   ]
  },
  {
   "cell_type": "code",
   "execution_count": 17,
   "id": "c1cf9071",
   "metadata": {},
   "outputs": [
    {
     "name": "stdout",
     "output_type": "stream",
     "text": [
      "[[0]\n",
      " [0]\n",
      " [0]]\n"
     ]
    }
   ],
   "source": [
    "V_1 = np.array([[1],[0],[0]])\n",
    "V_2 = np.array([[0],[1],[0]])\n",
    "V_3 = np.array([[1],[1],[0]])\n",
    "print(V_1 + V_2 - V_3)"
   ]
  },
  {
   "cell_type": "markdown",
   "id": "009199ca",
   "metadata": {},
   "source": [
    "Since we have found a non-trivial linear combination of the vectors that equals zero, the set is linearly dependent and therefore not a basis."
   ]
  },
  {
   "cell_type": "markdown",
   "id": "52ea6aec",
   "metadata": {},
   "source": [
    "**Exercise 4:** Calculate the dimension of the span of the following vectors.\n",
    "\n",
    "$$\n",
    "\\begin{equation}\n",
    "U_1 = \\left[ \\begin{array}{r} 1 \\\\ 2 \\\\ -1 \\\\ 3 \\end{array}\\right] \\hspace{0.7cm} \n",
    "U_2 = \\left[ \\begin{array}{r} 2 \\\\ -3 \\\\ 3 \\\\ -2 \\end{array}\\right] \\hspace{0.7cm}\n",
    "U_3 = \\left[ \\begin{array}{r} 3 \\\\ -1 \\\\ 2 \\\\ 1 \\end{array}\\right] \\hspace{0.7cm}\n",
    "U_4 = \\left[ \\begin{array}{r} 5 \\\\ -4 \\\\ 4 \\\\ -1 \\end{array}\\right]\n",
    "\\end{equation}\n",
    "$$"
   ]
  },
  {
   "cell_type": "code",
   "execution_count": 18,
   "id": "f1b2fc75",
   "metadata": {},
   "outputs": [
    {
     "name": "stdout",
     "output_type": "stream",
     "text": [
      "[[1. 0.]\n",
      " [0. 1.]\n",
      " [0. 0.]\n",
      " [0. 0.]]\n"
     ]
    }
   ],
   "source": [
    "## First we check to see if U_1 and U_2 are linearly independent\n",
    "\n",
    "U_12 = np.array([[1,2],[2,-3],[-1,3],[3,-2]])\n",
    "U_12_reduced = lag.FullRowReduction(U_12)\n",
    "print(U_12_reduced)"
   ]
  },
  {
   "cell_type": "code",
   "execution_count": 19,
   "id": "824ca59f",
   "metadata": {},
   "outputs": [
    {
     "name": "stdout",
     "output_type": "stream",
     "text": [
      "[[1. 0. 1.]\n",
      " [0. 1. 1.]\n",
      " [0. 0. 0.]\n",
      " [0. 0. 0.]]\n"
     ]
    }
   ],
   "source": [
    "## They are linearly independent, so now we check if adding U_3 changes that\n",
    "\n",
    "U_123 = np.array([[1,2,3],[2,-3,-1],[-1,3,2],[3,-2,1]])\n",
    "U_123_reduced = lag.FullRowReduction(U_123)\n",
    "print(U_123_reduced)"
   ]
  },
  {
   "cell_type": "code",
   "execution_count": 20,
   "id": "dd9b6ef1",
   "metadata": {},
   "outputs": [
    {
     "name": "stdout",
     "output_type": "stream",
     "text": [
      "[[1. 0. 0.]\n",
      " [0. 1. 0.]\n",
      " [0. 0. 1.]\n",
      " [0. 0. 0.]]\n"
     ]
    }
   ],
   "source": [
    "## The last column does not have a pivot, so U_3 is included in the span of U_1 and U_2. Now we check U_4\n",
    "\n",
    "U_124 = np.array([[1,2,5],[2,-3,-4],[-1,3,4],[3,-2,-1]])\n",
    "U_124_reduced = lag.FullRowReduction(U_124)\n",
    "print(U_124_reduced)"
   ]
  },
  {
   "cell_type": "markdown",
   "id": "11d28672",
   "metadata": {},
   "source": [
    "$U_1$, $U_2$, and $U_4$ are linearly independent and $U_3$ can be expressed as a linear combination of the other three. Therefore the subspace of $\\mathbb{R}^4$ spanned by $\\{U_1,U_2,U_4\\}$ is three-dimensional."
   ]
  }
 ],
 "metadata": {
  "kernelspec": {
   "display_name": "Python 3",
   "language": "python",
   "name": "python3"
  },
  "language_info": {
   "codemirror_mode": {
    "name": "ipython",
    "version": 3
   },
   "file_extension": ".py",
   "mimetype": "text/x-python",
   "name": "python",
   "nbconvert_exporter": "python",
   "pygments_lexer": "ipython3",
   "version": "3.7.3"
  }
 },
 "nbformat": 4,
 "nbformat_minor": 5
}
