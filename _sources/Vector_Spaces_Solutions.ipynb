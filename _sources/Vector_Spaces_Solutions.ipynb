{
 "cells": [
  {
   "cell_type": "markdown",
   "id": "6c15032d",
   "metadata": {},
   "source": [
    "## Vector Spaces"
   ]
  },
  {
   "cell_type": "code",
   "execution_count": 1,
   "id": "23575dd5",
   "metadata": {},
   "outputs": [],
   "source": [
    "import laguide as lag\n",
    "import numpy as np\n",
    "import scipy.linalg as sla"
   ]
  },
  {
   "cell_type": "markdown",
   "id": "692b0f52",
   "metadata": {},
   "source": [
    "### General Linear Systems"
   ]
  },
  {
   "cell_type": "markdown",
   "id": "aa5e2415",
   "metadata": {},
   "source": [
    "**Exercise 1:** Determine the number of solutions to the following system, then find all possible solutions.\n",
    "\n",
    "\n",
    "$$\n",
    "\\begin{eqnarray*}\n",
    "5x_1 + 4x_2 - x_3 & = & \\hspace{0.3cm} 3\\\\\n",
    "x_1 \\hspace{1.2cm} + x_3  & = & \\hspace{0.3cm} 2\\\\\n",
    "-2x_1 + 2x_2 + 4x_3 & = & -3 \\\\\n",
    "x_1 + 8x_2 + 7x_3 & = & -3 \\\\\n",
    "3x_1 \\hspace{1.2cm} - 3x_3 & = & \\hspace{0.3cm} 3 \\\\\n",
    "\\end{eqnarray*}\n",
    "$$"
   ]
  },
  {
   "cell_type": "code",
   "execution_count": 2,
   "id": "0e7e0703",
   "metadata": {},
   "outputs": [
    {
     "name": "stdout",
     "output_type": "stream",
     "text": [
      "[[ 1.   0.   0.   1.5]\n",
      " [ 0.   1.   0.  -1. ]\n",
      " [ 0.   0.   1.   0.5]\n",
      " [ 0.   0.   0.   0. ]\n",
      " [ 0.   0.   0.   0. ]]\n"
     ]
    }
   ],
   "source": [
    "A_augmented = np.array([[5,4,-1,3],[1,0,1,2],[-2,2,4,-3],[1,8,7,-3],[3,0,-3,3]])\n",
    "A_augmented_reduced = lag.FullRowReduction(A_augmented)\n",
    "print(A_augmented_reduced)"
   ]
  },
  {
   "cell_type": "markdown",
   "id": "cda7d053",
   "metadata": {},
   "source": [
    "Every column except the last one has exactly one pivot, so there exists a unique solution to this system. That solution is\n",
    "\n",
    "$$\n",
    "\\begin{eqnarray*}\n",
    "x_1 & = & 1.5\\\\\n",
    "x_2  & = & -1\\\\\n",
    "x_3 & = & 0.5\n",
    "\\end{eqnarray*}\n",
    "$$"
   ]
  },
  {
   "cell_type": "markdown",
   "id": "b62f9a20",
   "metadata": {},
   "source": [
    "**Exercise 2:** Determine the number of solutions to the following system, then find all possible solutions.\n",
    "\n",
    "$$\n",
    "\\begin{eqnarray*}\n",
    "5x_1 + 4x_2 - x_3 & = & \\hspace{0.3cm} 3\\\\\n",
    "x_1  +2x_2 + x_3  & = & \\hspace{0.3cm} 0\\\\\n",
    "-2x_1 + 2x_2 + 4x_3 & = & -3 \\\\\n",
    "x_1 + 8x_2 + 7x_3 & = & -3 \\\\\n",
    "3x_1 \\hspace{1.2cm} - 3x_3 & = & \\hspace{0.3cm} 3 \\\\\n",
    "\\end{eqnarray*}\n",
    "$$"
   ]
  },
  {
   "cell_type": "code",
   "execution_count": 3,
   "id": "1fdd87c2",
   "metadata": {},
   "outputs": [
    {
     "name": "stdout",
     "output_type": "stream",
     "text": [
      "[[ 1.   0.  -1.   1. ]\n",
      " [ 0.   1.   1.  -0.5]\n",
      " [ 0.   0.   0.   0. ]\n",
      " [ 0.   0.   0.   0. ]\n",
      " [ 0.   0.   0.   0. ]]\n"
     ]
    }
   ],
   "source": [
    "B_augmented = np.array([[5,4,-1,3],[1,2,1,0],[-2,2,4,-3],[1,8,7,-3],[3,0,-3,3]])\n",
    "B_augmented_reduced = lag.FullRowReduction(B_augmented)\n",
    "print(B_augmented_reduced)"
   ]
  },
  {
   "cell_type": "markdown",
   "id": "01793f4d",
   "metadata": {},
   "source": [
    "Niether the third nor the last column have pivots, so there exist an infinite number of solutions to this system. If we parametrize $x_3 = s$ then the following is a solution to the system for any $s \\in \\mathbb{R}$\n",
    "\n",
    "$$\n",
    "\\begin{eqnarray*}\n",
    "x_1 & = & 1 + s\\\\\n",
    "x_2  & = & -0.5 - s\\\\\n",
    "x_3 & = & s\n",
    "\\end{eqnarray*}\n",
    "$$"
   ]
  },
  {
   "cell_type": "markdown",
   "id": "fe160792",
   "metadata": {},
   "source": [
    "**Exercise 3:** Determine the number of solutions to the following system, then find all possible solutions.\n",
    "\n",
    "$$\n",
    "\\begin{eqnarray*}\n",
    "5x_1 + 4x_2 - x_3 & = & \\hspace{0.3cm} 3\\\\\n",
    "x_1  +2x_2 + x_3  & = & \\hspace{0.3cm} 0\\\\\n",
    "-2x_1 + 2x_2 + 4x_3 & = & -3 \\\\\n",
    "x_1 + 8x_2 + 7x_3 & = & -3 \\\\\n",
    "3x_1 \\hspace{1.2cm} - 3x_3 & = & \\hspace{0.3cm} 3 \\\\\n",
    "\\end{eqnarray*}\n",
    "$$"
   ]
  },
  {
   "cell_type": "code",
   "execution_count": null,
   "id": "28fd8fa5",
   "metadata": {},
   "outputs": [],
   "source": [
    "## Code solution here."
   ]
  },
  {
   "cell_type": "markdown",
   "id": "eaad248c",
   "metadata": {},
   "source": [
    "**Exercise 4:** Construct an example of an inconsistent system with 2 equations and 4 unknowns.  Check your example by using $\\texttt{FullRowReduction}$"
   ]
  },
  {
   "cell_type": "code",
   "execution_count": 7,
   "id": "cf0297c7",
   "metadata": {},
   "outputs": [
    {
     "name": "stdout",
     "output_type": "stream",
     "text": [
      "[[ 2  4 -3  3]\n",
      " [ 4  8 -6  5]] \n",
      "\n",
      "[[ 1.   2.  -1.5  0. ]\n",
      " [ 0.   0.   0.   1. ]]\n"
     ]
    }
   ],
   "source": [
    "C_augmented = np.array([[2,4,-3,3],[4,8,-6,5]])\n",
    "C_augmented_reduced = lag.FullRowReduction(C_augmented)\n",
    "print(C_augmented,'\\n')\n",
    "print(C_augmented_reduced)"
   ]
  },
  {
   "cell_type": "markdown",
   "id": "2dc800f3",
   "metadata": {},
   "source": [
    "**Exercise 5:** Explain why it is not possible for a system with 2 equations and 4 unknowns to have a unique solution.  Base your argument on pivot positions."
   ]
  },
  {
   "cell_type": "markdown",
   "id": "de996113",
   "metadata": {},
   "source": [
    "The augmented matrix that represents a system with 2 equations and 4 unknowns must can have at most 2 pivots since it has only 2 rows.  This means that one of the first four columns does not have a pivot and corresponds to a free variable in the system.  The guaranteed existence of a free variable means the system not have a unique solution."
   ]
  },
  {
   "cell_type": "markdown",
   "id": "f5ec4b18",
   "metadata": {},
   "source": [
    "**Exercise 6:** Write a function that accepts the augmented matrix for a system and returns the number of free variables in that system.  Make use of $\\texttt{FullRowReduction}$ in the $\\texttt{laguide}$ module. "
   ]
  },
  {
   "cell_type": "code",
   "execution_count": null,
   "id": "5b025ec4",
   "metadata": {},
   "outputs": [],
   "source": [
    "## Code solution here."
   ]
  }
 ],
 "metadata": {
  "kernelspec": {
   "display_name": "Python 3",
   "language": "python",
   "name": "python3"
  },
  "language_info": {
   "codemirror_mode": {
    "name": "ipython",
    "version": 3
   },
   "file_extension": ".py",
   "mimetype": "text/x-python",
   "name": "python",
   "nbconvert_exporter": "python",
   "pygments_lexer": "ipython3",
   "version": "3.7.3"
  }
 },
 "nbformat": 4,
 "nbformat_minor": 5
}
