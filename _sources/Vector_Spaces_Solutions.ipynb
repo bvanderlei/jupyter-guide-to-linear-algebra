{
 "cells": [
  {
   "cell_type": "markdown",
   "id": "6c15032d",
   "metadata": {},
   "source": [
    "## Vector Spaces"
   ]
  },
  {
   "cell_type": "code",
   "execution_count": 1,
   "id": "23575dd5",
   "metadata": {},
   "outputs": [],
   "source": [
    "import laguide as lag\n",
    "import numpy as np\n",
    "import scipy.linalg as sla"
   ]
  },
  {
   "cell_type": "markdown",
   "id": "692b0f52",
   "metadata": {},
   "source": [
    "### General Linear Systems"
   ]
  },
  {
   "cell_type": "markdown",
   "id": "aa5e2415",
   "metadata": {},
   "source": [
    "**Exercise 1:** Determine the number of solutions to the following system, then find all possible solutions.\n",
    "\n",
    "\n",
    "$$\n",
    "\\begin{eqnarray*}\n",
    "5x_1 + 4x_2 - x_3 & = & \\hspace{0.3cm} 3\\\\\n",
    "x_1 \\hspace{1.2cm} + x_3  & = & \\hspace{0.3cm} 2\\\\\n",
    "-2x_1 + 2x_2 + 4x_3 & = & -3 \\\\\n",
    "x_1 + 8x_2 + 7x_3 & = & -3 \\\\\n",
    "3x_1 \\hspace{1.2cm} - 3x_3 & = & \\hspace{0.3cm} 3 \\\\\n",
    "\\end{eqnarray*}\n",
    "$$"
   ]
  },
  {
   "cell_type": "code",
   "execution_count": null,
   "id": "0e7e0703",
   "metadata": {},
   "outputs": [],
   "source": [
    "A_augmented = np.array([[5,4,-1,3],[1,0,1,2],[-2,2,4,-3],[1,8,7,-3],[3,0,-3,3]])\n",
    "A_augmented_reduced = lag.FullRowReduction(A_augmented)\n",
    "print(A_augmented_reduced)"
   ]
  },
  {
   "cell_type": "markdown",
   "id": "cda7d053",
   "metadata": {},
   "source": [
    "Every column except the last one has exactly one pivot, so there exists a unique solution to this system. That solution is\n",
    "\n",
    "$$\n",
    "\\begin{eqnarray*}\n",
    "x_1 & = & 1.5\\\\\n",
    "x_2  & = & -1\\\\\n",
    "x_3 & = & 0.5\n",
    "\\end{eqnarray*}\n",
    "$$"
   ]
  },
  {
   "cell_type": "markdown",
   "id": "2a6b4680",
   "metadata": {},
   "source": [
    "**Exercise 2:** Determine the number of solutions to the following system, then find all possible solutions.\n",
    "\n",
    "\n",
    "$$\n",
    "\\begin{eqnarray*}\n",
    "5x_1 + 4x_2 - x_3 & = & \\hspace{0.3cm} 0\\\\\n",
    "x_1 \\hspace{1.2cm} + x_3  & = & \\hspace{0.3cm} 2\\\\\n",
    "-2x_1 + 2x_2 + 4x_3 & = & -3 \\\\\n",
    "x_1 + 8x_2 + 7x_3 & = & -3 \\\\\n",
    "3x_1 \\hspace{1.2cm} - 3x_3 & = & \\hspace{0.3cm} 3 \\\\\n",
    "\\end{eqnarray*}\n",
    "$$"
   ]
  },
  {
   "cell_type": "code",
   "execution_count": null,
   "id": "5dd649d4",
   "metadata": {},
   "outputs": [],
   "source": [
    "B_augmented = np.array([[5,4,-1,0],[1,0,1,2],[-2,2,4,-3],[1,8,7,-3],[3,0,-3,3]])\n",
    "B_augmented_reduced = lag.FullRowReduction(B_augmented)\n",
    "print(B_augmented_reduced)"
   ]
  },
  {
   "cell_type": "markdown",
   "id": "30000c72",
   "metadata": {},
   "source": [
    "The last column has a pivot in it so this system is inconsistent and therefore has no solution.  The reduced augmented matrix represents the following equations.\n",
    "\n",
    "$$\n",
    "\\begin{eqnarray*}\n",
    "x_1 & = & 0\\\\\n",
    "x_2  & = & 0\\\\\n",
    "x_3 & = & 0 \\\\\n",
    "0 & = & 1\n",
    "\\end{eqnarray*}\n",
    "$$"
   ]
  },
  {
   "cell_type": "markdown",
   "id": "b62f9a20",
   "metadata": {},
   "source": [
    "**Exercise 3:** Determine the number of solutions to the following system, then find all possible solutions.\n",
    "\n",
    "$$\n",
    "\\begin{eqnarray*}\n",
    "5x_1 + 4x_2 - x_3 & = & \\hspace{0.3cm} 3\\\\\n",
    "x_1  +2x_2 + x_3  & = & \\hspace{0.3cm} 0\\\\\n",
    "-2x_1 + 2x_2 + 4x_3 & = & -3 \\\\\n",
    "x_1 + 8x_2 + 7x_3 & = & -3 \\\\\n",
    "3x_1 \\hspace{1.2cm} - 3x_3 & = & \\hspace{0.3cm} 3 \\\\\n",
    "\\end{eqnarray*}\n",
    "$$"
   ]
  },
  {
   "cell_type": "code",
   "execution_count": null,
   "id": "1fdd87c2",
   "metadata": {},
   "outputs": [],
   "source": [
    "C_augmented = np.array([[5,4,-1,3],[1,2,1,0],[-2,2,4,-3],[1,8,7,-3],[3,0,-3,3]])\n",
    "C_augmented_reduced = lag.FullRowReduction(C_augmented)\n",
    "print(C_augmented_reduced)"
   ]
  },
  {
   "cell_type": "markdown",
   "id": "01793f4d",
   "metadata": {},
   "source": [
    "Neither the third nor the last column have pivots, so there exist an infinite number of solutions to this system. This RREF matrix corresponds to the following system\n",
    "\n",
    "$$\n",
    "\\begin{eqnarray*}\n",
    "x_1 - x_3 & = & 1 \\\\\n",
    "x_2 + x_3 & = & -0.5\n",
    "\\end{eqnarray*}\n",
    "$$\n",
    "\n",
    "If we parametrize $x_3 = s$ and solve the previous equations for $x_1$ and $x_2$ respectively then the following is a solution to the system for any $s \\in \\mathbb{R}$\n",
    "\n",
    "$$\n",
    "\\begin{eqnarray*}\n",
    "x_1 & = & 1 + s\\\\\n",
    "x_2  & = & -0.5 - s\\\\\n",
    "x_3 & = & s\n",
    "\\end{eqnarray*}\n",
    "$$"
   ]
  },
  {
   "cell_type": "markdown",
   "id": "eaad248c",
   "metadata": {},
   "source": [
    "**Exercise 4:** Construct an example of an inconsistent system with 2 equations and 4 unknowns.  Check your example by using $\\texttt{FullRowReduction}$"
   ]
  },
  {
   "cell_type": "markdown",
   "id": "4ed412ec",
   "metadata": {},
   "source": [
    "$$\n",
    "\\begin{eqnarray*}\n",
    "2x_1 + 4x_2 - 3x_3 & = & \\hspace{0.3cm} 3\\\\\n",
    "4x_1 + 8x_2 - 6x_3 & = & \\hspace{0.3cm} 5\\\\\n",
    "\\end{eqnarray*}\n",
    "$$"
   ]
  },
  {
   "cell_type": "code",
   "execution_count": null,
   "id": "cf0297c7",
   "metadata": {},
   "outputs": [],
   "source": [
    "D_augmented = np.array([[2,4,-3,3],[4,8,-6,5]])\n",
    "D_augmented_reduced = lag.FullRowReduction(D_augmented)\n",
    "print(D_augmented,'\\n')\n",
    "print(D_augmented_reduced)"
   ]
  },
  {
   "cell_type": "markdown",
   "id": "c0fbf4c8",
   "metadata": {},
   "source": [
    "The scond row in the augmented matrix represents the equation $0x_3 = 1$."
   ]
  },
  {
   "cell_type": "markdown",
   "id": "2dc800f3",
   "metadata": {},
   "source": [
    "**Exercise 5:** Explain why it is not possible for a system with 2 equations and 4 unknowns to have a unique solution.  Base your argument on pivot positions."
   ]
  },
  {
   "cell_type": "markdown",
   "id": "de996113",
   "metadata": {},
   "source": [
    "The augmented matrix that represents a system with 2 equations and 4 unknowns must can have at most 2 pivots since it has only 2 rows.  This means that one of the first four columns does not have a pivot and corresponds to a free variable in the system.  The guaranteed existence of a free variable means the system does not have a unique solution."
   ]
  },
  {
   "cell_type": "markdown",
   "id": "f5ec4b18",
   "metadata": {},
   "source": [
    "**Exercise 6:** Write a function that accepts the augmented matrix for a system and returns the number of free variables in that system.  Make use of $\\texttt{FullRowReduction}$ in the $\\texttt{laguide}$ module. "
   ]
  },
  {
   "cell_type": "markdown",
   "id": "b847a3be",
   "metadata": {},
   "source": [
    "Since every pivot in the RREF of the augmented matrix corresponds to exactly one non-free variable, we can find the number of free variables by subtracting the number of pivots from the total number of variables. We will find the number of pivots by subtracting the number zero rows from the total number of rows."
   ]
  },
  {
   "cell_type": "code",
   "execution_count": 2,
   "id": "5b025ec4",
   "metadata": {},
   "outputs": [],
   "source": [
    "def FreeVariables(A):\n",
    "    \n",
    "    '''\n",
    "    FreeVariables finds the number of free variables given an augmented matrix A. There is no\n",
    "    error checking to ensure the system is consistent.\n",
    "    '''\n",
    "    \n",
    "    m = A.shape[0]   # m is the number of rows\n",
    "    n = A.shape[1]   # n is the number of columns\n",
    "    numOfZeroRows = 0\n",
    "    \n",
    "    A_reduced = lag.FullRowReduction(A)\n",
    "    \n",
    "    for i in range(m-1,-1,-1):   # Loops over each row backward from m-1 to 0\n",
    "        for j in range(0,n-1):   # Loops over each column from 0 to n-1\n",
    "            if A_reduced[i][j] != 0:   # If we find a nonzero element, there are no more zero rows\n",
    "                return (n - 1) - (m - numOfZeroRows)   # (n-1) is the number of total variables\n",
    "        numOfZeroRows = numOfZeroRows + 1\n",
    "    return (n - 1) - (m - numOfZeroRows)"
   ]
  },
  {
   "cell_type": "markdown",
   "id": "76fa4742",
   "metadata": {},
   "source": [
    "Lets use $\\texttt{FullRowReduction}$ to find the number of free variables in a few example augmented matrices, and then check to make sure our function $\\texttt{FreeVariables}$ correctly counts them."
   ]
  },
  {
   "cell_type": "code",
   "execution_count": 18,
   "id": "9c53a77e",
   "metadata": {},
   "outputs": [
    {
     "name": "stdout",
     "output_type": "stream",
     "text": [
      "[[ 5  4 -1  3]\n",
      " [ 1  0  1  2]\n",
      " [-2  2  4 -3]\n",
      " [ 1  8  7 -3]\n",
      " [ 3  0 -3  3]] \n",
      "\n",
      "[[ 1.   0.   0.   1.5]\n",
      " [ 0.   1.   0.  -1. ]\n",
      " [ 0.   0.   1.   0.5]\n",
      " [ 0.   0.   0.   0. ]\n",
      " [ 0.   0.   0.   0. ]] \n",
      "\n",
      "There are 0 free variables in the augmented matrix A \n",
      "\n",
      "[[ 5  4 -1  3]\n",
      " [ 1  2  1  0]\n",
      " [-2  2  4 -3]\n",
      " [ 1  8  7 -3]\n",
      " [ 3  0 -3  3]] \n",
      "\n",
      "[[ 1.   0.  -1.   1. ]\n",
      " [ 0.   1.   1.  -0.5]\n",
      " [ 0.   0.   0.   0. ]\n",
      " [ 0.   0.   0.   0. ]\n",
      " [ 0.   0.   0.   0. ]] \n",
      "\n",
      "There is 1 free variable in the augmented matrix B \n",
      "\n",
      "[[ 0  3 -6  6  4 -5]\n",
      " [ 3 -7  8 -5  8  9]\n",
      " [ 3 -9 12 -9  6 15]] \n",
      "\n",
      "[[  1.   0.  -2.   3.   0. -24.]\n",
      " [  0.   1.  -2.   2.   0.  -7.]\n",
      " [  0.   0.   0.   0.   1.   4.]] \n",
      "\n",
      "There are 2 free variables in the augmented matrix C\n"
     ]
    }
   ],
   "source": [
    "A = np.array([[5,4,-1,3],[1,0,1,2],[-2,2,4,-3],[1,8,7,-3],[3,0,-3,3]])\n",
    "A_reduced = lag.FullRowReduction(A)\n",
    "\n",
    "print(A,'\\n')\n",
    "print(A_reduced,'\\n')\n",
    "print('There are', FreeVariables(A), 'free variables in the augmented matrix A \\n')\n",
    "\n",
    "B = np.array([[5,4,-1,3],[1,2,1,0],[-2,2,4,-3],[1,8,7,-3],[3,0,-3,3]])\n",
    "B_reduced = lag.FullRowReduction(B)\n",
    "\n",
    "print(B,'\\n')\n",
    "print(B_reduced,'\\n')\n",
    "print('There is', FreeVariables(B), 'free variable in the augmented matrix B \\n')\n",
    "\n",
    "C = np.array([[0,3,-6,6,4,-5],[3,-7,8,-5,8,9],[3,-9,12,-9,6,15]])\n",
    "C_reduced = lag.FullRowReduction(C)\n",
    "\n",
    "print(C,'\\n')\n",
    "print(C_reduced,'\\n')\n",
    "print('There are', FreeVariables(C), 'free variables in the augmented matrix C')"
   ]
  },
  {
   "cell_type": "markdown",
   "id": "a7813e4e",
   "metadata": {},
   "source": [
    "Other than the last column in each reduced matrix, every column of $A$ has a pivot, 1 column of $B$ does not have a pivot, and 2 columns of $C$ do not have a pivot, so they have 0,1, and 2 free variables respectively. As we can see above, our $\\texttt{FreeVariable}$ function reported correctly the number of free variables in each matrix."
   ]
  },
  {
   "cell_type": "markdown",
   "id": "bbcb0174",
   "metadata": {},
   "source": [
    "**Exercise 7:** Write a function that accepts the augmented matrix for a system and returns whether or not that system is consistent.  The function should return the value 1 if the system is consistent or the value 0 if the system is inconsistent.  Make use of $\\texttt{FullRowReduction}$ in the $\\texttt{laguide}$ module. "
   ]
  },
  {
   "cell_type": "markdown",
   "id": "8f14495e",
   "metadata": {},
   "source": [
    "If a system is inconsistent, the RREF of the augmented matrix will have a pivot in the final column. "
   ]
  },
  {
   "cell_type": "code",
   "execution_count": 2,
   "id": "39d2d4c5",
   "metadata": {},
   "outputs": [],
   "source": [
    "def CheckConsistent(A):\n",
    "    \n",
    "    '''\n",
    "    CheckConsistent checks to see if the augmented matrix of a system has a pivot in its final column. If\n",
    "    a pivot is found (inconsistent) it returns a 0, otherwise (consistent) it returns a 1.\n",
    "    '''\n",
    "    \n",
    "    m = A.shape[0]   # m is the number of rows\n",
    "    n = A.shape[1]   # n is the number of columns\n",
    "    \n",
    "    A_reduced = lag.FullRowReduction(A)\n",
    "    \n",
    "    for i in range(m-1,-1,-1):   # Loops over each row backward from m-1 to 0\n",
    "        currentRowZero = 1   # Keeps track of whether the first n-1 entries of each row is zero\n",
    "        if A_reduced[i][n-1] != 0:   # If the element in the final column isn't 0, the row may imply inconsistancy\n",
    "            for j in range(0,n-2):   # Loops over each column, except the last one, from 0 to n-2\n",
    "                if A_reduced[i][j] != 0:   # If a nonzero entry, this row does not imply inconsistency \n",
    "                    currentRowZero = 0\n",
    "            if currentRowZero == 1:\n",
    "                return 0\n",
    "    return 1"
   ]
  },
  {
   "cell_type": "markdown",
   "id": "f5f288dd",
   "metadata": {},
   "source": [
    "Lets use $\\texttt{FullRowReduction}$ to determine whether or not a couple example augmented matrices are consistent, and then check to make sure our function $\\texttt{CheckConsistent}$ correctly decides this."
   ]
  },
  {
   "cell_type": "code",
   "execution_count": 4,
   "id": "163c2ccd",
   "metadata": {},
   "outputs": [
    {
     "name": "stdout",
     "output_type": "stream",
     "text": [
      "[[ 1 -2  2  0]\n",
      " [ 2  2  2  1]\n",
      " [ 0 -1 -1 -2]\n",
      " [-2 -1 -1  0]] \n",
      "\n",
      "[[1. 0. 0. 0.]\n",
      " [0. 1. 0. 0.]\n",
      " [0. 0. 1. 0.]\n",
      " [0. 0. 0. 1.]] \n",
      "\n",
      "D is inconsistent \n",
      "\n",
      "[[-2  2 -2  2  0]\n",
      " [ 1 -2 -2  0 -1]\n",
      " [ 1  0  2 -2  1]] \n",
      "\n",
      "[[ 1.  0.  0. -2.  1.]\n",
      " [ 0.  1.  0. -1.  1.]\n",
      " [ 0.  0.  1.  0.  0.]] \n",
      "\n",
      "E is consistent \n",
      "\n"
     ]
    }
   ],
   "source": [
    "D = np.array([[1,-2,2,0],[2,2,2,1],[0,-1,-1,-2],[-2,-1,-1,0]])\n",
    "D_reduced = lag.FullRowReduction(D)\n",
    "\n",
    "print(D,'\\n')\n",
    "print(D_reduced,'\\n')\n",
    "if CheckConsistent(D) == 1:\n",
    "    print('D is consistent \\n')\n",
    "else:\n",
    "    print('D is inconsistent \\n')\n",
    "\n",
    "E = np.array([[-2,2,-2,2,0],[1,-2,-2,0,-1],[1,0,2,-2,1]])\n",
    "E_reduced = lag.FullRowReduction(E)\n",
    "\n",
    "print(E,'\\n')\n",
    "print(E_reduced,'\\n')\n",
    "if CheckConsistent(E) == 1:\n",
    "    print('E is consistent \\n')\n",
    "else:\n",
    "    print('E is inconsistent \\n')"
   ]
  },
  {
   "cell_type": "markdown",
   "id": "1e14e350",
   "metadata": {},
   "source": [
    "Augmented matrix D has a pivot in the last column and is thus represents an inconsistent system, while E does not have a pivot in the last column and is thus represents a consistent system.  For these two examples, we see that our $\\texttt{CheckConsistent}$ function correctly determined which was consistent."
   ]
  },
  {
   "cell_type": "markdown",
   "id": "47cf1b3b",
   "metadata": {},
   "source": [
    "### Linear Combinations"
   ]
  },
  {
   "cell_type": "markdown",
   "id": "c79f7887",
   "metadata": {},
   "source": [
    "**Exercise 1:**  Find a linear combination of the vectors $V_1, V_2$ and $V_3$ which equals to the vector $X$.\n",
    "\n",
    "$$\n",
    "\\begin{equation}\n",
    "V_1 = \\left[ \\begin{array}{r} 2 \\\\ 0 \\\\ 7 \\end{array}\\right] \\hspace{1cm}\n",
    "V_2 = \\left[ \\begin{array}{r} 2 \\\\ 4 \\\\ 5   \\end{array}\\right] \\hspace{1cm} \n",
    "V_3 = \\left[ \\begin{array}{r} 2 \\\\ -12 \\\\ 13 \\end{array}\\right] \\hspace{1cm}\n",
    "X = \\left[ \\begin{array}{r}  -1 \\\\ 5 \\\\ -6  \\end{array}\\right] \\hspace{1cm}\n",
    "\\end{equation}\n",
    "$$\n",
    "\n"
   ]
  },
  {
   "cell_type": "markdown",
   "id": "be3f880a",
   "metadata": {},
   "source": [
    "**Solution:**\n",
    "\n",
    "We want to find $c_1$, $c_2$,and $c_3$ such that $c_1V_1 + c_2V_2 + c_3V_3 = X$.\n",
    "\n",
    "$$\n",
    "\\begin{equation}\n",
    "c_1\\left[ \\begin{array}{r} 2 \\\\ 0 \\\\ 7  \\end{array}\\right]+\n",
    "c_2\\left[ \\begin{array}{r} 2 \\\\ 4 \\\\ 5   \\end{array}\\right] +\n",
    "c_3\\left[ \\begin{array}{r} 2 \\\\ -12 \\\\ 13 \\end{array}\\right] =\n",
    "\\left[ \\begin{array}{r}  -1 \\\\ 5 \\\\ -6 \\end{array}\\right]\n",
    "\\end{equation}\n",
    "$$\n",
    "\n",
    "The corresponding matrix equation is the following.\n",
    "\n",
    "$$\n",
    "\\begin{equation}\n",
    "\\left[ \\begin{array}{r} 2 & 2 & 2 \\\\  0 & 4 & -12 \\\\ 7 & 5 & 13 \\end{array}\\right]\n",
    "\\left[ \\begin{array}{r} c_1 \\\\ c_2 \\\\ c_3 \\end{array}\\right]=\n",
    "\\left[ \\begin{array}{r} -1 \\\\ 5 \\\\ -6 \\end{array}\\right]\n",
    "\\end{equation}\n",
    "$$"
   ]
  },
  {
   "cell_type": "code",
   "execution_count": null,
   "id": "263ed534",
   "metadata": {},
   "outputs": [],
   "source": [
    "A_aug = np.array([[2,2,2,-1],[0,4,-12,5],[7,5,13,-6]])\n",
    "A_aug_reduced = lag.FullRowReduction(A_aug)\n",
    "\n",
    "print(\"A_augmented: \\n\", A_aug, '\\n')\n",
    "print(\"A_augmented_reduced: \\n\", A_aug_reduced, '\\n')\n"
   ]
  },
  {
   "cell_type": "markdown",
   "id": "fad7c4ff",
   "metadata": {},
   "source": [
    "Since $c_3$ is a free variable, there are infinite linear combinations of $V_1$, $V_2$, and $V_3$ which give the vector $X$.\n",
    "\n",
    "We can produce one specific example by setting $c_3 = 0.25$.  Then, $c_2 = 2$ and $c_1 = -2.75$ and one possible linear combination is\n",
    "\n",
    "$$\n",
    "\\begin{equation}\n",
    "(-2.75)\\left[ \\begin{array}{r} 2 \\\\ 0 \\\\ 7  \\end{array}\\right]+\n",
    "(2)\\left[ \\begin{array}{r} 2 \\\\ 4 \\\\ 5   \\end{array}\\right] +\n",
    "(0.25)\\left[ \\begin{array}{r} 2 \\\\ -12 \\\\ 13 \\end{array}\\right] =\n",
    "\\left[ \\begin{array}{r}  -1 \\\\ 5 \\\\ -6 \\end{array}\\right]\n",
    "\\end{equation}\n",
    "$$"
   ]
  },
  {
   "cell_type": "markdown",
   "id": "33d97314",
   "metadata": {},
   "source": [
    "**Exercise 2:**  Determine whether or not $X$ lies in the span of $\\{ V_1, V_2 ,V_3\\}$.\n",
    "\n",
    "$$\n",
    "\\begin{equation}\n",
    "V_1 = \\left[ \\begin{array}{r} 1 \\\\ 0 \\\\ 0 \\end{array}\\right] \\hspace{1cm}\n",
    "V_2 = \\left[ \\begin{array}{r} 2 \\\\ -2 \\\\ 1  \\end{array}\\right] \\hspace{1cm} \n",
    "V_3 = \\left[ \\begin{array}{r} 2 \\\\ 0 \\\\ 4 \\end{array}\\right] \\hspace{1cm}\n",
    "X = \\left[ \\begin{array}{r}  1 \\\\ 3 \\\\ -1  \\end{array}\\right] \\hspace{1cm}\n",
    "\\end{equation}\n",
    "$$\n",
    "\n"
   ]
  },
  {
   "cell_type": "markdown",
   "id": "55833e4a",
   "metadata": {},
   "source": [
    "**Solution:**\n",
    "\n",
    "$X$ lies in the span of $\\{ V_1, V_2 ,V_3\\}$ if we can express $X$ as the linear combination of $V_1$, $V_2$ and $V_3$.  We want to determine if there are scalars $c_1$, $c_2$,and $c_3$ such that $c_1V_1 + c_2V_2 + c_3V_3 = X$. \n",
    "\n",
    "$$\n",
    "\\begin{equation}\n",
    "c_1\\left[ \\begin{array}{r} 1 \\\\ 0 \\\\ 0  \\end{array}\\right]+\n",
    "c_2\\left[ \\begin{array}{r} 2 \\\\ -2 \\\\ 1   \\end{array}\\right] +\n",
    "c_3\\left[ \\begin{array}{r} 2 \\\\ 0 \\\\ 4 \\end{array}\\right] =\n",
    "\\left[ \\begin{array}{r}  1 \\\\ 3 \\\\ -1 \\end{array}\\right]\n",
    "\\end{equation}\n",
    "$$\n",
    "\n",
    "The corresponding matrix equation is the following.\n",
    "\n",
    "$$\n",
    "\\begin{equation}\n",
    "\\left[ \\begin{array}{r} 1 & 2 & 2 \\\\  0 & -2 & 0 \\\\ 0 & 1 & 4 \\end{array}\\right]\n",
    "\\left[ \\begin{array}{r} c_1 \\\\ c_2 \\\\ c_3 \\end{array}\\right]=\n",
    "\\left[ \\begin{array}{r} 1 \\\\ 3 \\\\ -1 \\end{array}\\right]\n",
    "\\end{equation}\n",
    "$$"
   ]
  },
  {
   "cell_type": "code",
   "execution_count": null,
   "id": "5b004937",
   "metadata": {},
   "outputs": [],
   "source": [
    "A_augmented = np.array([[1,2,2,1],[0,-2,0,3],[0,1,4,-1]])\n",
    "A_aug_reduced = lag.FullRowReduction(A_augmented)\n",
    "\n",
    "print(\"A_augmented: \\n\", A_augmented, '\\n')\n",
    "print(\"A_augmented_reduced: \\n\", A_aug_reduced, '\\n')"
   ]
  },
  {
   "cell_type": "markdown",
   "id": "972559e0",
   "metadata": {},
   "source": [
    "The above system has a unique solution since there is a pivot in each row and column.\n",
    "\n",
    "$$\n",
    "\\begin{equation}\n",
    "\\left[ \\begin{array}{r} c_1 \\\\ c_2\\\\ c_3 \\end{array}\\right] \\ = \n",
    "\\left[ \\begin{array}{r} 3.75 \\\\ -1.5 \\\\ 0.125 \\end{array}\\right] \\\n",
    "\\end{equation}\n",
    "$$\n",
    "\n",
    "$X$ as a linear combination of $V_1$,$V_2$ and $V_3$ and thereforre lies in the span of $\\{V_1, V_2, V_3\\}$.\n",
    "\n",
    "\n",
    "$$\n",
    "\\begin{equation}\n",
    "(3.75)\\left[ \\begin{array}{r} 1 \\\\ 0 \\\\ 0  \\end{array}\\right]+\n",
    "(-1.5)\\left[ \\begin{array}{r} 2 \\\\ -2 \\\\ 1   \\end{array}\\right] +\n",
    "(0.125\\left[ \\begin{array}{r} 2 \\\\ 0 \\\\ 4 \\end{array}\\right] =\n",
    "\\left[ \\begin{array}{r}  1 \\\\ 3 \\\\ -1 \\end{array}\\right]\n",
    "\\end{equation}\n",
    "$$\n",
    "\n",
    "\n"
   ]
  },
  {
   "cell_type": "markdown",
   "id": "e760ec0b",
   "metadata": {},
   "source": [
    "**Exercise 3:**  Does the set $\\{ X_1, X_2 ,X_3, X_4\\}$ span $\\mathbb{R}^4$? Explain why or why not.\n",
    "\n",
    "$$\n",
    "\\begin{equation}\n",
    "X_1 = \\left[ \\begin{array}{r} 1 \\\\ 1\\\\ 1\\\\1 \\end{array}\\right] \\hspace{1cm}\n",
    "X_2 = \\left[ \\begin{array}{r} 1 \\\\ 0 \\\\ 0\\\\2  \\end{array}\\right] \\hspace{1cm} \n",
    "X_3 = \\left[ \\begin{array}{r} 2 \\\\ 0 \\\\ 1\\\\1 \\end{array}\\right] \\hspace{1cm}\n",
    "X_4 = \\left[ \\begin{array}{r} 3 \\\\ 0 \\\\ 1\\\\2 \\end{array}\\right] \\hspace{1cm}\n",
    "\\end{equation}\n",
    "$$\n",
    "\n"
   ]
  },
  {
   "cell_type": "markdown",
   "id": "6ccaf6ca",
   "metadata": {},
   "source": [
    "We build a matrx $A$ which contains the given vectors as its columns.\n",
    "\n",
    "$$\n",
    "\\begin{equation}\n",
    "A = \\left[ \\begin{array}{rrrr} \n",
    "1 & 1 & 2 & 3 \\\\ 1 & 0 & 0 & 0  \\\\ 1 & 0 & 1 & 1 \\\\ 1 & 2 & 1 & 2   \n",
    "\\end{array}\\right]\n",
    "\\end{equation}\n",
    "$$\n",
    "\n",
    "The set of vectors $\\{ X_1, X_2 ,X_3, X_4\\}$ spans $\\mathbb{R}^4$ if there is a pivot in every row of the matrix $A$."
   ]
  },
  {
   "cell_type": "code",
   "execution_count": null,
   "id": "56b45bce",
   "metadata": {},
   "outputs": [],
   "source": [
    "## Building the matrix $A$\n",
    "\n",
    "A = np.array([[1,1,2,3],[1,0,0,0],[1,0,1,1],[1,2,1,2]])\n",
    "A_reduced = lag.FullRowReduction(A)\n",
    "\n",
    "print(\"A: \\n\", A, '\\n')\n",
    "print(\"A_reduced: \\n\", A_reduced, '\\n')"
   ]
  },
  {
   "cell_type": "markdown",
   "id": "320c693d",
   "metadata": {},
   "source": [
    "The row reduced form of A reveals that there is a pivot in every row of $A$, which means that the set of vectors $\\{X_1,X_2,X_3,X_4\\}$ spans $\\mathbb{R}^4\\$."
   ]
  },
  {
   "cell_type": "markdown",
   "id": "20005462",
   "metadata": {},
   "source": [
    "**Exercise 4:** Answer questions regarding the following vectors.\n",
    "\n",
    "$$\n",
    "\\begin{equation}\n",
    "W_1 = \\left[ \\begin{array}{r} 2 \\\\ 3 \\\\ -1 \\end{array}\\right] \\hspace{1cm}\n",
    "W_2 = \\left[ \\begin{array}{r} 3 \\\\ 0 \\\\ 1   \\end{array}\\right] \\hspace{1cm} \n",
    "W_3 = \\left[ \\begin{array}{r} 4 \\\\ -3 \\\\ 3 \\end{array}\\right] \\hspace{1cm}\n",
    "B = \\left[ \\begin{array}{r}  1 \\\\ 1 \\\\ 1  \\end{array}\\right] \\hspace{1cm}\n",
    "C = \\left[ \\begin{array}{r}  3 \\\\ 0 \\\\ 1  \\end{array}\\right] \\hspace{1cm}\n",
    "V_1 = \\left[ \\begin{array}{r} 8 \\\\ -3 \\\\ 5 \\end{array}\\right] \\hspace{1cm}\n",
    "V_2 = \\left[ \\begin{array}{r} 4 \\\\ 6 \\\\ -2   \\end{array}\\right]  \n",
    "\\end{equation}\n",
    "$$\n",
    "\n",
    "$(a)$ Determine if $B$ is in the span of $\\{W_1, W_2, W_3\\}$.\n",
    "\n",
    "We need to determine if there are scalars $a_1$, $a_2$, $a_3$ such that $a_1W_1 + a_2W_2 + a_3W_3 = B$.  We build an augmented matrix that represents the corresponding linear system and then use $\\texttt{FullRowReduction}$."
   ]
  },
  {
   "cell_type": "code",
   "execution_count": null,
   "id": "88e5be3c",
   "metadata": {},
   "outputs": [],
   "source": [
    "B_augmented = np.array([[2,3,4,1],[3,0,-3,1],[-1,1,3,1]])\n",
    "B_augmented_reduced = lag.FullRowReduction(B_augmented)\n",
    "print(B_augmented,'\\n')\n",
    "print(B_augmented_reduced)"
   ]
  },
  {
   "cell_type": "markdown",
   "id": "dd2ec479",
   "metadata": {},
   "source": [
    "This augmented matrix has a pivot in the last column.  Therefore the system is inconsistent and $B$ is not  in the span of $\\{W_1, W_2, W_3\\}$."
   ]
  },
  {
   "cell_type": "markdown",
   "id": "acefe114",
   "metadata": {},
   "source": [
    "$(b)$ Determine if $C$ is in the span of $\\{W_1, W_2, W_3\\}$.\n",
    "\n",
    "We need to determine if there are scalars $a_1$, $a_2$, $a_3$ such that $a_1W_1 + a_2W_2 + a_3W_3 = C$.  We build an augmented matrix that represents the corresponding linear system and then use $\\texttt{FullRowReduction}$."
   ]
  },
  {
   "cell_type": "code",
   "execution_count": null,
   "id": "3a7f7e75",
   "metadata": {
    "scrolled": true
   },
   "outputs": [],
   "source": [
    "C_augmented = np.array([[2,3,4,3],[3,0,-3,0],[-1,1,3,1]])\n",
    "C_augmented_reduced = lag.FullRowReduction(C_augmented)\n",
    "print(C_augmented,'\\n')\n",
    "print(C_augmented_reduced)"
   ]
  },
  {
   "cell_type": "markdown",
   "id": "d424affe",
   "metadata": {},
   "source": [
    "Since there is no pivot in the last column, the system is consistent and $C$ is in the span of $\\{W_1, W_2, W_3\\}$."
   ]
  },
  {
   "cell_type": "markdown",
   "id": "d7ae7f80",
   "metadata": {},
   "source": [
    "$(c)$ Find a nonzero vector in the span of $\\{W_1, W_2, W_3\\}$ that has zero as its first entry.\n",
    "\n",
    "Any linear combination of $W_1$, $W_2$, and $W_3$ is in the span of $\\{W_1, W_2, W_3\\}$.  There are many that have zero as the first entry, including the following example."
   ]
  },
  {
   "cell_type": "markdown",
   "id": "9418d578",
   "metadata": {},
   "source": [
    "$$\n",
    "\\begin{equation}\n",
    "-2W_1 + W_3 = \\left[ \\begin{array}{r} -4 \\\\ -6 \\\\ 2 \\end{array}\\right] + \\left[ \\begin{array}{r} 4 \\\\ -3 \\\\ 1 \\end{array}\\right] = \\left[ \\begin{array}{r} 0 \\\\ -9 \\\\ 3 \\end{array}\\right] \\hspace{1cm}\n",
    "\\end{equation}\n",
    "$$"
   ]
  },
  {
   "cell_type": "markdown",
   "id": "7ea719f2",
   "metadata": {},
   "source": [
    "$(d)$ How can we determine if the span of $\\{W_1, W_2, W_3\\}$ equal the span of $\\{V_1, V_2\\}$?"
   ]
  },
  {
   "cell_type": "markdown",
   "id": "9396ee48",
   "metadata": {},
   "source": [
    "If each of the vectors in $\\{V_1, V_2\\}$ is in the span of $\\{W_1, W_2, W_3\\}$ and vice versa, then the two sets should have the same span. However, we can quickly show that $V_1$ is not in the span of $\\{W_1, W_2, W_3\\}$."
   ]
  },
  {
   "cell_type": "code",
   "execution_count": null,
   "id": "e01a72ef",
   "metadata": {},
   "outputs": [],
   "source": [
    "V_1_augmented = np.array([[2,3,4,8],[3,0,-3,-3],[-1,1,3,5]])\n",
    "V_1_augmented_reduced = lag.FullRowReduction(V_1_augmented)\n",
    "print(V_1_augmented,'\\n')\n",
    "print(V_1_augmented_reduced)"
   ]
  },
  {
   "cell_type": "markdown",
   "id": "35832340",
   "metadata": {},
   "source": [
    "Since the last column has a pivot this system is inconsistent. Therefore $V_1$ is not in the span of $\\{W_1, W_2, W_3\\}$ and thus the two sets have different spans."
   ]
  },
  {
   "cell_type": "markdown",
   "id": "1cff77e9",
   "metadata": {},
   "source": [
    "**Exercise 5:** Show that the vector $X$ lies in the span of the columns of $A$. Also find another vector that is in the span of the columns of $A$ and verify your answer.\n",
    "\n",
    "$$\n",
    "\\begin{equation}\n",
    "A = \\left[ \\begin{array}{rrrr} \n",
    "1 & 1 & 3  \\\\ 2 & 0 & 1   \\\\ 3 & 1 & 1     \n",
    "\\end{array}\\right] \\hspace{2 cm}\n",
    "x = \\left[ \\begin{array}{r} 1 \\\\ 1\\\\ 1 \\end{array}\\right] \\hspace{1cm}\n",
    "\\end{equation}\n",
    "$$\n",
    "\n"
   ]
  },
  {
   "cell_type": "code",
   "execution_count": null,
   "id": "4220ac15",
   "metadata": {},
   "outputs": [],
   "source": [
    "A = np.array([[1,1,3],[2,0,1],[3,1,1]])\n",
    "A_reduced = lag.FullRowReduction(A)\n",
    "\n",
    "print(\"A: \\n\", A, '\\n')\n",
    "print(\"A_reduced: \\n\", A_reduced, '\\n')"
   ]
  },
  {
   "cell_type": "markdown",
   "id": "de8ab0be",
   "metadata": {},
   "source": [
    "The row reduced form of A shows that there is a pivot in every row of $A$, which implies that the columns of $A$ span $\\mathbb{R}^3$. This means that every vector in $\\mathbb{R}^3$, including $X$ is in the span of the columns of $A$.\n",
    "\n",
    "Let us choose another vector $Y$.\n",
    "\n",
    "$$\n",
    "\\begin{equation}\n",
    " Y = \\left[ \\begin{array}{r} 1 \\\\ 2 \\\\ 5 \\end{array}\\right] \\\n",
    "\\end{equation}\n",
    "$$\n",
    "\n",
    "If $Y$ lies in the span of columns of $A$, then there is a solution to the following system.\n",
    "\n",
    "$$\n",
    "\\begin{equation}\n",
    "\\left[ \\begin{array}{r} 1 & 1 & 3 \\\\  2 & 0 & 1 \\\\ 3 & 1 & 1 \\end{array}\\right]\n",
    "\\left[ \\begin{array}{r} c_1 \\\\ c_2 \\\\ c_3 \\end{array}\\right]=\n",
    "\\left[ \\begin{array}{r} 1 \\\\ 2 \\\\ 5 \\end{array}\\right]\n",
    "\\end{equation}\n",
    "$$"
   ]
  },
  {
   "cell_type": "code",
   "execution_count": null,
   "id": "62a8d976",
   "metadata": {},
   "outputs": [],
   "source": [
    "# Building the matrix A\n",
    "Aug = np.array([[1,1,3,1],[2,0,1,2],[3,1,1,5]])\n",
    "Aug_reduced = lag.FullRowReduction(Aug)\n",
    "\n",
    "print(\"Augmented: \\n\", Aug, '\\n')\n",
    "print(\"Augmented_reduced: \\n\", Aug_reduced, '\\n')"
   ]
  },
  {
   "cell_type": "markdown",
   "id": "bebfee32",
   "metadata": {},
   "source": [
    "\n",
    "$$\n",
    "\\begin{equation}\n",
    "\\left[ \\begin{array}{r} c_1 \\\\ c_2\\\\ c_3 \\end{array}\\right] \\ = \n",
    "\\left[ \\begin{array}{r} 1.33 \\\\ 1.67 \\\\ -0.67 \\end{array}\\right] \\\n",
    "\\end{equation}\n",
    "$$\n",
    "\n",
    "Since we can find a solution for the system, $Y$ is in the span of the columns of $A$."
   ]
  },
  {
   "cell_type": "markdown",
   "id": "7324b392",
   "metadata": {},
   "source": [
    "**Exercise 6:** Consider the matrix $R$ from **Example 3**.  Find one vector in $\\mathbb{R}^4$ that is in the span of the columns of $R$, and one vector in $\\mathbb{R}^4$ that is not.  Demontrate with an appropriate computation.\n",
    "\n",
    "\n",
    "$$\n",
    "\\begin{equation}\n",
    "R = \\left[ \\begin{array}{rrrr} \n",
    "1 & 1 & 0 & -1 \\\\ 1 & 1 & 0 & 1  \\\\ -1 & -1 & 1 & -1 \\\\ 1 & 1 & -2 & 0   \n",
    "\\end{array}\\right]\n",
    "\\end{equation}\n",
    "$$"
   ]
  },
  {
   "cell_type": "markdown",
   "id": "7cfd34ae",
   "metadata": {},
   "source": [
    "Consider the following vectors $V$ and $W$. $V$ is not in the span of the columns of $R$, but $W$ is.\n",
    "\n",
    "$$\n",
    "\\begin{equation}\n",
    "V = \\left[ \\begin{array}{r} 0 \\\\ 0 \\\\ 0 \\\\ 1 \\end{array}\\right] \\hspace{1cm}\n",
    "W = \\left[ \\begin{array}{r} 0 \\\\ 2 \\\\ -2 \\\\ 1   \\end{array}\\right]\n",
    "\\end{equation}\n",
    "$$"
   ]
  },
  {
   "cell_type": "code",
   "execution_count": null,
   "id": "b498715e",
   "metadata": {},
   "outputs": [],
   "source": [
    "V_augmented = np.array([[1,1,0,-1,0],[1,1,0,1,0],[-1,-1,1,-1,0],[1,1,-2,0,1]])\n",
    "V_augmented_reduced = lag.FullRowReduction(V_augmented)\n",
    "print(V_augmented,'\\n')\n",
    "print(V_augmented_reduced,'\\n')\n",
    "\n",
    "W_augmented = np.array([[1,1,0,-1,0],[1,1,0,1,2],[-1,-1,1,-1,-2],[1,1,-2,0,1]])\n",
    "W_augmented_reduced = lag.FullRowReduction(W_augmented)\n",
    "print(W_augmented,'\\n')\n",
    "print(W_augmented_reduced)"
   ]
  },
  {
   "cell_type": "markdown",
   "id": "bd5fd567",
   "metadata": {},
   "source": [
    "Note that for any vector $X$ in $\\mathbb{R}^4$, the vector $RX$ is a linear combination of the columns of $R$ and therefore in the span of the columns of $R$."
   ]
  },
  {
   "cell_type": "markdown",
   "id": "abeb4574",
   "metadata": {},
   "source": [
    "**Exercise 7:** Find a vector $V_3$ that is not in the span of $\\{ V_1, V_2\\}$. Explain why the set $\\{ V_1, V_2, V_3 \\}$ spans $\\mathbb{R}^3$.\n",
    "\n",
    "$$\n",
    "\\begin{equation}\n",
    "V_1 = \\left[ \\begin{array}{r} 1 \\\\ 1\\\\ 1 \\end{array}\\right] \\hspace{1cm}\n",
    "V_2 = \\left[ \\begin{array}{r} 2 \\\\ 0 \\\\ 4  \\end{array}\\right] \\hspace{1cm} \n",
    "\\end{equation}\n",
    "$$\n",
    "\n"
   ]
  },
  {
   "cell_type": "markdown",
   "id": "3f590dbd",
   "metadata": {},
   "source": [
    "**Exercise 8:** Explain why the system $AX=B$ cannot be consistent for every vector $B$ if $A$ is a $5\\times 3$ matrix."
   ]
  },
  {
   "cell_type": "markdown",
   "id": "21542f61",
   "metadata": {},
   "source": [
    "**Exercise 9:** Find the value of $a$ for which $\\{ V_1, V_2 ,V_3\\} $ does not span $\\mathbb{R}^3$.\n",
    "\n",
    "$$\n",
    "\\begin{equation}\n",
    "V_1 = \\left[ \\begin{array}{r} 1 \\\\ 2\\\\ 3 \\end{array}\\right] \\hspace{1cm}\n",
    "V_2 = \\left[ \\begin{array}{r} 4 \\\\ 5 \\\\ 6  \\end{array}\\right] \\hspace{1cm} \n",
    "V_3 = \\left[ \\begin{array}{r} 1 \\\\ 0 \\\\ a \\end{array}\\right] \\hspace{1cm}\n",
    "\\end{equation}\n",
    "$$\n"
   ]
  },
  {
   "cell_type": "markdown",
   "id": "93776360",
   "metadata": {},
   "source": [
    "**Solution:**\n",
    "\n",
    "The matrix $A$ which contains the given vectors as its columns is as follows:\n",
    "\n",
    "$$\n",
    "\\begin{equation}\n",
    "A = \\left[ \\begin{array}{rrrr} \n",
    "1 & 4 & 1 \\\\ 2& 5&0   \\\\ 3& 6 & a  \\\\   \n",
    "\\end{array}\\right]\n",
    "\\end{equation}\n",
    "$$\n",
    "\n",
    "The given set of vectors $\\{V_1,V_2,V_3\\}$ does not span $\\mathbb{R}^3$ if there is a pivot missing in at least one of the rows of the matrix $A$.  Applying fow operations gives the following matrix.\n",
    "\n",
    "$$\n",
    "\\begin{equation}\n",
    "\\left[ \\begin{array}{rrrr} \n",
    "1 & 4& 1 \\\\ 0 &-3& -2  \\\\ 0 & 0 & a + 1\n",
    "\\end{array}\\right]\n",
    "\\end{equation}\n",
    "$$\n",
    "\n",
    "If $a=-1 $, then there is a pivot missing from the third row of the matrix $A$ and $\\{V_1,V_2,V_3\\}$ does not span $\\mathbb{R}^3$. \n"
   ]
  },
  {
   "cell_type": "markdown",
   "id": "4c889df5",
   "metadata": {},
   "source": [
    "\n",
    "\n",
    "### Linear Independence"
   ]
  },
  {
   "cell_type": "markdown",
   "id": "a130d623",
   "metadata": {},
   "source": [
    "**Exercise 1:** Determine if the set of vectors $\\{U_1, U_2, U_3\\}$ is linearly independent.\n",
    "\n",
    "$$\n",
    "\\begin{equation}\n",
    "U_1 = \\left[ \\begin{array}{r} 0 \\\\ 5  \\\\ 2  \\\\ 2 \\end{array}\\right] \\hspace{1cm} \n",
    "U_2 = \\left[ \\begin{array}{r} 1 \\\\ -1 \\\\ 0  \\\\ -1 \\end{array}\\right] \\hspace{1cm}\n",
    "U_3 = \\left[ \\begin{array}{r} 3 \\\\ 2 \\\\ 2  \\\\ -1 \\end{array}\\right]\n",
    "\\end{equation}\n",
    "$$"
   ]
  },
  {
   "cell_type": "markdown",
   "id": "16059aca",
   "metadata": {},
   "source": [
    "We need to determine if there are nonzero scalars $a_1,a_2,a_3$ such that $a_1U_1 + a_2U_2 + a_3U_3 = 0$. We build the augmented matrix that represents the corresponding linear system and then use $\\texttt{FullRowReduction}$."
   ]
  },
  {
   "cell_type": "code",
   "execution_count": null,
   "id": "e7783cc5",
   "metadata": {},
   "outputs": [],
   "source": [
    "U = np.array([[0,1,3,0],[5,-1,2,0],[2,0,2,0],[2,-1,-1,0]])\n",
    "U_reduced = lag.FullRowReduction(U)\n",
    "print(U_reduced)"
   ]
  },
  {
   "cell_type": "markdown",
   "id": "aead589d",
   "metadata": {},
   "source": [
    "The absence of a pivot in the third column means that $a_3$ is a free variable. Since we can choose any nonzero value for $a_3$ and get a solution to our equation, by definition $\\{U_1,U_2,U_3\\}$ is linearly dependent."
   ]
  },
  {
   "cell_type": "markdown",
   "id": "97fb6be6",
   "metadata": {},
   "source": [
    "**Exercise 2:** Determine whether or not the set of vectors $ \\{W_1, W_2, W_3, W_4 \\} $ is linearly independent. If the set is linearly dependent, then represent one of the vectors of the set as the linear combination of others.\n",
    "\n",
    "$$\n",
    "\\begin{equation}\n",
    "W_1 = \\left[ \\begin{array}{r} 1 \\\\ 0  \\\\ 0 \\\\1  \\end{array}\\right] \\hspace{1cm} \n",
    "W_2 = \\left[ \\begin{array}{r} 0 \\\\ 1 \\\\ -1 \\\\0  \\end{array}\\right] \\hspace{1cm}\n",
    "W_3 = \\left[ \\begin{array}{r} -1 \\\\ 0 \\\\ -1 \\\\ 0  \\end{array}\\right] \\hspace{1cm}\n",
    "W_4 = \\left[ \\begin{array}{r} 1 \\\\1 \\\\1\\\\-1 \\end{array}\\right] \n",
    "\\end{equation}\n",
    "$$\n",
    "\n"
   ]
  },
  {
   "cell_type": "markdown",
   "id": "032c3422",
   "metadata": {},
   "source": [
    "**Solution:**\n",
    "\n",
    "We need to determine if there are nonzero scalars $a_1,a_2,a_3,a_4$ such that $a_1W_1 + a_2W_2 + a_3W_3 + a_4W_4 = 0$. We build the augmented matrix that represents the corresponding linear system and then use $\\texttt{FullRowReduction}$."
   ]
  },
  {
   "cell_type": "code",
   "execution_count": null,
   "id": "17a6e3ef",
   "metadata": {},
   "outputs": [],
   "source": [
    "A = np.array([[1,0,-1,1,0],[0,1,0,1,0],[0,-1,-1,1,0],[1,0,0,-1,0]])\n",
    "print(\"A: \\n\", A, '\\n')\n",
    "A_reduced = lag.FullRowReduction(A)\n",
    "print(\"A_reduced: \\n\", A_reduced, '\\n')"
   ]
  },
  {
   "cell_type": "markdown",
   "id": "fc4ae31b",
   "metadata": {},
   "source": [
    "The absence of a pivot in the fourth column of means there is a free variable in the system and the set of vectors $\\{W_1, W_2, W_3, W_4 \\} $ is linearly dependent.\n",
    "\n",
    "In order to represent $W_4$ are a linear combination of $W_1$, $W_2$ and $W_3$, we solve a vector equation. \n",
    "\n",
    "$$\n",
    "\\begin{equation}\n",
    "c_1\\left[ \\begin{array}{r} 1 \\\\ 0 \\\\ 0 \\\\ 1 \\end{array}\\right] +\n",
    "c_2\\left[ \\begin{array}{r} 0 \\\\ 1\\\\ -1\\\\0  \\end{array}\\right] +\n",
    "c_3\\left[ \\begin{array}{r} -1 \\\\ 0 \\\\ -1 \\\\0  \\end{array}\\right] =\n",
    "\\left[ \\begin{array}{r} 1 \\\\ 1 \\\\ 1 \\\\ -1 \\end{array}\\right]\\end{equation}\n",
    "$$\n",
    "\n",
    "The corresponding matrix equation is the following.\n",
    "\n",
    "$$\n",
    "\\begin{equation}\n",
    "AX = \\left[ \\begin{array}{rrr} 1 & 0 & -1\\\\ 0 & 1 & 0  \\\\ 0 & -1 & -1  \\\\ 1 & 0 & 0 \\end{array}\\right]\n",
    "\\left[ \\begin{array}{r} c_1 \\\\ c_2 \\\\ c_3 \\end{array}\\right]=\n",
    "\\left[ \\begin{array}{r} 1 \\\\ 1 \\\\ 1 \\\\ -1  \\end{array}\\right]= B\n",
    "\\end{equation}\n",
    "$$"
   ]
  },
  {
   "cell_type": "code",
   "execution_count": null,
   "id": "9b983c9c",
   "metadata": {},
   "outputs": [],
   "source": [
    "A_aug = np.array([[1,0,-1,1],[0,1,0,1],[0,-1,-1,1],[1,0,0,-1]])\n",
    "print(\"A_augmented: \\n\", A_aug, '\\n')\n",
    "\n",
    "A_aug_reduced = lag.FullRowReduction(A_aug)\n",
    "print(\"A_augmented_reduced: \\n\", A_aug_reduced, '\\n')"
   ]
  },
  {
   "cell_type": "markdown",
   "id": "af9731d8",
   "metadata": {},
   "source": [
    "We find that $c_1 = -1$, $c_2 = 1$, $c_3 = -2$.\n",
    "\n",
    "$$\n",
    "\\begin{equation}\n",
    "(-1)\\left[ \\begin{array}{r} 1 \\\\ 0 \\\\ 0 \\\\ 1 \\end{array}\\right] +\n",
    "1\\left[ \\begin{array}{r} 0 \\\\ 1\\\\ -1\\\\0  \\end{array}\\right] +\n",
    "(-2)\\left[ \\begin{array}{r} -1 \\\\ 0 \\\\ -1 \\\\0  \\end{array}\\right] =\n",
    "\\left[ \\begin{array}{r} 1 \\\\ 1 \\\\ 1 \\\\ -1 \\end{array}\\right]\\end{equation}\n",
    "$$"
   ]
  },
  {
   "cell_type": "markdown",
   "id": "03a4790a",
   "metadata": {},
   "source": [
    "**Exercise 3:** Consider the following vectors in $ \\mathbb{R}^3$:\n",
    "$$\n",
    "\\begin{equation}\n",
    "X_1 = \\left[ \\begin{array}{r} 1 \\\\ 0  \\\\ 1  \\end{array}\\right] \\hspace{1cm} \n",
    "X_2 = \\left[ \\begin{array}{r} 1 \\\\ 2\\\\ 3  \\end{array}\\right] \\hspace{1cm}\n",
    "X_3 = \\left[ \\begin{array}{r} 2 \\\\ 4 \\\\ b   \\end{array}\\right] \\\n",
    "\\end{equation}\n",
    "$$\n",
    "\n",
    "Find the value of $b$ for which the given vectors are linearly dependent. Then, represent one vector as the linear combination of the other two."
   ]
  },
  {
   "cell_type": "markdown",
   "id": "3182142b",
   "metadata": {},
   "source": [
    "**Solution:**\n",
    "The matrix $A$ contains the given vectors as its columns and is as follows:\n",
    "\n",
    "$$\n",
    "\\begin{equation}\n",
    "A = \\left[ \\begin{array}{rrr} 1 & 1 & 2 \\\\ 0 & 2 & 4 \\\\ 1 & 3 & b \\end{array}\\right]\n",
    "\\end{equation}\n",
    "$$\n",
    "\n",
    "On carrying out the row reduction of $A$, we get:\n",
    "$$\n",
    "\\begin{equation}\n",
    " \\left[ \\begin{array}{rrr} 1 & 0 & 0 \\\\ 0 & 2 & 0 \\\\ 1 & 0 & b-6 \\end{array}\\right]\n",
    "\\end{equation}\n",
    "$$\n",
    "\n",
    "The columns of $A$ will be linearly dependent when there is no pivot in the third column. This means that $b-6$ needs to be zero. Therfore, the set of vectors $\\{ X_1, X_2, X_3\\}$ is linearly dependent when $ b = 6$.\n",
    "\n",
    "In order to represent $X_3$ are a linear combination of $X_1$ and $X_2$, we solve a vector equation. \n",
    "\n",
    "$$\n",
    "\\begin{equation}\n",
    "X_1 = \\left[ \\begin{array}{r} 1 \\\\ 0  \\\\ 1  \\end{array}\\right] \\hspace{1cm} \n",
    "X_2 = \\left[ \\begin{array}{r} 1 \\\\ 2\\\\ 3  \\end{array}\\right] \\hspace{1cm}\n",
    "X_3 = \\left[ \\begin{array}{r} 2 \\\\ 4 \\\\ 6   \\end{array}\\right] \\\n",
    "\\end{equation}\n",
    "$$\n",
    "\n",
    "Let us represent $X_3$ as the linear combination of $X_1$ and $X_2$.\n",
    "\n",
    "$$\n",
    "\\begin{equation}\n",
    "c_1\\left[ \\begin{array}{r} 1 \\\\ 0 \\\\ 1 \\end{array}\\right] +\n",
    "c_2\\left[ \\begin{array}{r} 1 \\\\ 2\\\\ 3  \\end{array}\\right] =\n",
    "\\left[ \\begin{array}{r} 2 \\\\ 4 \\\\ 6  \\end{array}\\right]\\end{equation}\n",
    "$$"
   ]
  },
  {
   "cell_type": "code",
   "execution_count": null,
   "id": "a9574c7a",
   "metadata": {},
   "outputs": [],
   "source": [
    "A_aug = np.array([[1,1,2],[0,2,4],[1,3,6]])\n",
    "print(\"A_augmented: \\n\", A_aug, '\\n')\n",
    "\n",
    "A_aug_reduced = lag.FullRowReduction(A_aug)\n",
    "print(\"A_augmented_reduced: \\n\", A_aug_reduced, '\\n')"
   ]
  },
  {
   "cell_type": "markdown",
   "id": "3db29ad7",
   "metadata": {},
   "source": [
    "We find that $ c_1 = 0$ and $c_2 = 2$.  $X_3$ is a multiple of $X_2$.\n",
    "\n",
    "$$\n",
    "\\begin{equation}\n",
    "(0)\\left[ \\begin{array}{r} 1 \\\\ 0 \\\\ 1 \\end{array}\\right] +\n",
    "2\\left[ \\begin{array}{r} 1 \\\\ 2\\\\ 3  \\end{array}\\right] =\n",
    "\\left[ \\begin{array}{r} 2 \\\\ 4 \\\\ 6  \\end{array}\\right]\\end{equation}\n",
    "$$"
   ]
  },
  {
   "cell_type": "markdown",
   "id": "e44a6b0d",
   "metadata": {},
   "source": [
    "**Exercise 4:** Find the value($s$) of $a$ such that the set of vectors $ \\{V_1, V_2, V_3\\} $ is linearly independent.\n",
    "\n",
    "$$\n",
    "\\begin{equation}\n",
    "V_1 = \\left[ \\begin{array}{r} 1 \\\\ 1  \\\\ 1  \\end{array}\\right] \\hspace{1cm} \n",
    "V_2 = \\left[ \\begin{array}{r} a \\\\ 1 \\\\ 1   \\end{array}\\right] \\hspace{1cm}\n",
    "V_3 = \\left[ \\begin{array}{r} 0 \\\\ 1 \\\\ a  \\end{array}\\right]\n",
    "\\end{equation}\n",
    "$$\n",
    "\n"
   ]
  },
  {
   "cell_type": "markdown",
   "id": "6f42fb5e",
   "metadata": {},
   "source": [
    "**Solution:**\n",
    "\n",
    "We consider the homogeneous system $AX=0$ where $A$ is the matrix with the given vectors as its columns.\n",
    "\n",
    "$$\n",
    "\\begin{equation}\n",
    "A = \\left[ \\begin{array}{rrr} 1 & a & 0 \\\\ 1 & 1 & 1 \\\\ 1 & 1 & a \\end{array}\\right]\n",
    "\\end{equation}\n",
    "$$\n",
    "\n",
    "After carrying out row operations on $A$, we get the reduced form of $A$ which is as follows:\n",
    "$$\n",
    "\\begin{equation}\n",
    "A_{Red} = \\left[ \\begin{array}{rrr} 1 & 0 & 0 \\\\ 0 & 1-a & 0 \\\\ 0 & 0 & a-1 \\end{array}\\right]\n",
    "\\end{equation}\n",
    "$$\n",
    "\n",
    "The columns of $A$ are linearly independent if there is no free variable in the homogeneous system $AX=0$. This means that there needs to be a pivot in each column of $A$. This condition is true when $a - 1$ and $ 1-a$ are nonzero. \n",
    "Therefore, the set of vectors $\\{V_1, V_2, V_3\\}$ will be linearly independent for all real values of $a$ except 1."
   ]
  },
  {
   "cell_type": "markdown",
   "id": "bb71b46b",
   "metadata": {},
   "source": [
    "**Exercise 5:**  Use the concept of linear independence of vectors to show that the given system does not have infinitely many solutions.\n",
    "\n",
    "$$\n",
    "\\begin{equation}\n",
    "AX = \\left[ \\begin{array}{rrr} 1 & 1 & 2 \\\\ 2 & 0 & 1 \\\\ 3 & 1 & 1 \\end{array}\\right]\n",
    "\\left[ \\begin{array}{r} x_1 \\\\ x_2 \\\\ x_3 \\end{array}\\right]=\n",
    "\\left[ \\begin{array}{r} 1 \\\\ 1 \\\\ 1  \\end{array}\\right]= B\n",
    "\\end{equation}\n",
    "$$"
   ]
  },
  {
   "cell_type": "markdown",
   "id": "78d5cd59",
   "metadata": {},
   "source": [
    "**Solution:** "
   ]
  },
  {
   "cell_type": "code",
   "execution_count": null,
   "id": "3d818e17",
   "metadata": {},
   "outputs": [],
   "source": [
    "# Building the matrix A\n",
    "A = np.array([[1,1,2],[2,0,1],[3,1,1]])\n",
    "print(\"A: \\n\", A,'\\n')\n",
    "\n",
    "A_reduced = lag.FullRowReduction(A)\n",
    "print(\"A_reduced: \\n\", A_reduced)"
   ]
  },
  {
   "cell_type": "markdown",
   "id": "5e470f57",
   "metadata": {},
   "source": [
    "We can see that the reduced form of $A$ has a pivot in each column. This means that there is no free variable and the columns of $A$ are linearly independent. This also means that the null space of $A$ contains only the zero vector. Hence, the given system can never have infinitely many solutions."
   ]
  },
  {
   "cell_type": "markdown",
   "id": "cea0ddb9",
   "metadata": {},
   "source": [
    "**Exercise 6:** Can you find a nonzero vector in the null space of the matrix $A$? Use this information to determine the number of solutions for the system $AX = B$, where $B$ is any vector in $\\mathbb{R}^3\\$.\n",
    "\n",
    "$$\n",
    "\\begin{equation}\n",
    "A = \\left[ \\begin{array}{rrr} 1 & 2 & 3 \\\\ 1 & 0 & 1 \\\\ 1 & 1 & 2 \\end{array}\\right]\n",
    "\\end{equation}\n",
    "$$"
   ]
  },
  {
   "cell_type": "markdown",
   "id": "c2b4c175",
   "metadata": {},
   "source": [
    "**Solution:**\n",
    "\n",
    "A vector $X$ is in the null space of $A$ if it is a solution to the homogeneous system $AX=0$."
   ]
  },
  {
   "cell_type": "code",
   "execution_count": null,
   "id": "04355959",
   "metadata": {},
   "outputs": [],
   "source": [
    "# Building the matrix A\n",
    "A_aug = np.array([[1,2,3,0],[1,0,1,0],[1,1,2,0]])\n",
    "print(\"A augmented: \\n\", A_aug,'\\n')\n",
    "\n",
    "A_aug_reduced = lag.FullRowReduction(A_aug)\n",
    "print(\"A augmented reduced: \\n\", A_aug_reduced, '\\n')"
   ]
  },
  {
   "cell_type": "markdown",
   "id": "3e186523",
   "metadata": {},
   "source": [
    "Since there is no pivot in the third column, there is a free variable in the system and the columns of $A$ are linearly dependent. This means that the null space of $A$ contains a non-zero vector. \n",
    "\n",
    "Let $x_3 = t$ where $t$ is any scalar.  For any value of $t$, the following vector is a solution to $AX=0$.\n",
    "\n",
    "$$\n",
    "\\begin{equation}\n",
    "X = \\left[ \\begin{array}{r} -t \\\\ -t  \\\\ t  \\end{array}\\right] \\hspace{1cm} \n",
    "\\end{equation}\n",
    "$$\n",
    "\n",
    "Choose $t=1$ for example gives the following specific vector in the null space of $A$.\n",
    "\n",
    "$$\n",
    "\\begin{equation}\n",
    "X = \\left[ \\begin{array}{r} -1 \\\\ -1  \\\\ 1  \\end{array}\\right] \\hspace{1cm} \n",
    "\\end{equation}\n",
    "$$\n",
    "\n",
    "\n",
    "Since the null space of $A$ contains nonzero vector, the system $AX = B$ has infinitely many solutions."
   ]
  },
  {
   "cell_type": "markdown",
   "id": "901663e2",
   "metadata": {},
   "source": [
    "**Exercise 7:** Find two distinct nonzero vectors in the null space of the matrix $D$.\n",
    "\n",
    "$$\n",
    "\\begin{equation}\n",
    "D = \\left[ \\begin{array}{rrr} 4 & 4 & 3 \\\\ 8 & 8 & 6 \\\\ 1 & 0 & 1 \\end{array}\\right]\n",
    "\\end{equation}\n",
    "$$"
   ]
  },
  {
   "cell_type": "markdown",
   "id": "874a84ab",
   "metadata": {},
   "source": [
    "Recall that the null space of $D$ is the set of all vectors $X = \\left[ \\begin{array}{rrr} x_1 \\\\ x_2 \\\\ x_3 \\end{array}\\right] $ such that $DX = 0$."
   ]
  },
  {
   "cell_type": "code",
   "execution_count": null,
   "id": "1a0d859c",
   "metadata": {},
   "outputs": [],
   "source": [
    "D = np.array([[4,4,3,0],[8,8,6,0],[1,0,1,0]])\n",
    "D_reduced = lag.FullRowReduction(D)\n",
    "print(D_reduced)"
   ]
  },
  {
   "cell_type": "markdown",
   "id": "e9975bcb",
   "metadata": {},
   "source": [
    "If we parametrize $x_3 = s$ then the following is a solution to the system and therefore in the null space of $D$ for any $s \\in \\mathbb{R}$\n",
    "\n",
    "$$\n",
    "\\begin{eqnarray*}\n",
    "x_1 & = & -s\\\\\n",
    "x_2  & = & 0.25 s\\\\\n",
    "x_3 & = & s\n",
    "\\end{eqnarray*}\n",
    "$$\n",
    "\n",
    "For example, if we take $s = 1$ and $s = 2$, then we get that the following two vectors are distinct, nonzero elements of $\\mathcal{N}(D)$\n",
    "\n",
    "$$\n",
    "\\begin{equation}\n",
    "\\left[ \\begin{array}{rrr} -1 \\\\ 0.25 \\\\ 1 \\end{array}\\right] \\hspace{1cm} \n",
    "\\left[ \\begin{array}{rrr} -2 \\\\ 0.5 \\\\ 2 \\end{array}\\right]\n",
    "\\end{equation}\n",
    "$$"
   ]
  },
  {
   "cell_type": "markdown",
   "id": "6108151c",
   "metadata": {},
   "source": [
    "**Exercise 8:** \n",
    "Suppose the vector $X$ given below is a solution for a system $AX = B$ for any value of $t$.\n",
    "\n",
    "$$\n",
    "\\begin{equation}\n",
    "X = \\left[ \\begin{array}{r} -3 + 2t \\\\ 2 - t  \\\\ t  \\end{array}\\right] \\hspace{1cm} \n",
    "\\end{equation}\n",
    "$$\n",
    "\n",
    "\n",
    "$(a)$ Following the discussion in this section on homogeneous systems, find $X_h$ and $X_p$ so that $X= X_p+X_h$ so that $X_p$ is the solution to some system $AX=B$ and $X_h$ is the solution to the corresponding homogeneous system $AX=0$. \n",
    "\n",
    "$(b)$ Given the coefficient matrix $A$, find $B$.\n",
    "\n",
    "$$\n",
    "\\begin{equation}\n",
    "A = \\left[ \\begin{array}{rrr} 1 & 2 & 0 \\\\ 0 & 1 & 1  \\end{array}\\right]\n",
    "\\end{equation}\n",
    "$$"
   ]
  },
  {
   "cell_type": "markdown",
   "id": "2a5567de",
   "metadata": {},
   "source": [
    "**Solution:** "
   ]
  },
  {
   "cell_type": "markdown",
   "id": "f26d2a92",
   "metadata": {},
   "source": [
    "($a$) The given solution can be split as:\n",
    "\n",
    "$$\n",
    "\\begin{equation}\n",
    "X  = \n",
    "\\left[ \\begin{array}{c} -3 \\\\ 2  \\\\ 0 \\end{array}\\right] + \n",
    "t\\left[ \\begin{array}{c} 2 \\\\ -1  \\\\ 1 \\end{array}\\right] = X_p + X_h\n",
    "\\end{equation}\n",
    "$$\n",
    "\n",
    "$AX_p= B$, $AX_h= 0$ for any $t$, and $A(X_p+X_h) = B$ for any $t$.\n",
    "\n",
    "($b$) $B= AX_p$"
   ]
  },
  {
   "cell_type": "code",
   "execution_count": null,
   "id": "407d2b5e",
   "metadata": {},
   "outputs": [],
   "source": [
    "A = np.array([[1,2,0],[0,1,1]])\n",
    "X_p = np.array([[-3],[2],[0]])\n",
    "\n",
    "B = A@X_p\n",
    "\n",
    "print(\"B: \\n\", B, '\\n')"
   ]
  },
  {
   "cell_type": "markdown",
   "id": "7e0ca314",
   "metadata": {},
   "source": [
    "### Bases"
   ]
  },
  {
   "cell_type": "markdown",
   "id": "4100e046",
   "metadata": {},
   "source": [
    "**Exercise 1:** Find a basis for the set of solutions to the system $PX=0$ where $P$ is defined as follows.\n",
    "\n",
    "$$\n",
    "\\begin{equation}\n",
    "P = \\left[ \\begin{array}{rrrr} 1 & 0 & 3 & -2 & 4 \\\\ -1 & 1 & 6 & -2 & 1 \\\\ -2 & 1 & 3 & 0 & -3 \\end{array}\\right] \n",
    "\\end{equation}\n",
    "$$"
   ]
  },
  {
   "cell_type": "markdown",
   "id": "b45402f3",
   "metadata": {},
   "source": [
    "First we find a general solution to the system above."
   ]
  },
  {
   "cell_type": "code",
   "execution_count": null,
   "id": "64ea2710",
   "metadata": {},
   "outputs": [],
   "source": [
    "P = np.array([[1,0,3,-2,4],[-1,1,6,-2,1],[-2,1,3,0,-3]])\n",
    "P_reduced = lag.FullRowReduction(P)\n",
    "print(P_reduced)"
   ]
  },
  {
   "cell_type": "markdown",
   "id": "1a60520e",
   "metadata": {},
   "source": [
    "In this system, $x_3$, $x_4$, and $x_5$ are free variables. If we parametrize them as $x_3 = r$, $x_4 = s$, and $x_5 = t$ then $x_1 = -3r + 2s - 4t$ and $x_2 = -9r + 4s - 5t.$ Then we can write the components of a general solution vector $X$ in terms of these parameters.\n",
    "\n",
    "$$\n",
    "\\begin{equation}\n",
    "X = \\left[ \\begin{array}{r} x_1 \\\\ x_ 2 \\\\ x_ 3 \\\\ x_4 \\\\ x_5 \\end{array}\\right] =  \n",
    "r\\left[ \\begin{array}{r} -3 \\\\ -9 \\\\  1 \\\\ 0 \\\\ 0 \\end{array}\\right] +\n",
    "s\\left[ \\begin{array}{r} 2 \\\\ 4 \\\\ 0 \\\\ 1 \\\\ 0 \\end{array}\\right] +\n",
    "t\\left[ \\begin{array}{r} -4 \\\\ -5 \\\\ 0 \\\\ 0 \\\\ 1 \\end{array}\\right]\n",
    "\\end{equation}\n",
    "$$\n",
    "\n",
    "Therefore any solution to the system must be a linear combination of $V_1, V_2,$ and $V_3$ as defined below, and therefore $\\{V_1,V_2,V_3\\}$ forms a basis for the set of solutons to $PX = 0$.\n",
    "\n",
    "$$\n",
    "\\begin{equation}\n",
    "V_1 = \\left[ \\begin{array}{r} -3 \\\\ -9 \\\\  1 \\\\ 0 \\\\ 0 \\end{array}\\right] \\hspace{1cm}\n",
    "V_2 = \\left[ \\begin{array}{r} 2 \\\\ 4 \\\\ 0 \\\\ 1 \\\\ 0  \\end{array}\\right] \\hspace{1cm}\n",
    "V_3 = \\left[ \\begin{array}{r} -4 \\\\ -5 \\\\ 0 \\\\ 0 \\\\ 1  \\end{array}\\right]\n",
    "\\end{equation}\n",
    "$$"
   ]
  },
  {
   "cell_type": "markdown",
   "id": "7d41ea94",
   "metadata": {},
   "source": [
    "**Exercise 2:** Determine if the following set of vectors is a basis for $\\mathbb{R}^4$.  Give justification with an appropriate calculation.\n",
    "\n",
    "$$\n",
    "\\begin{equation}\n",
    "W_1 = \\left[ \\begin{array}{r} -1 \\\\ 0 \\\\ 1 \\\\ 2 \\end{array}\\right] \\hspace{0.7cm} \n",
    "W_2 = \\left[ \\begin{array}{r} 2 \\\\ 1 \\\\ 2 \\\\ 4 \\end{array}\\right] \\hspace{0.7cm}\n",
    "W_3 = \\left[ \\begin{array}{r} 0 \\\\ 0 \\\\ 1 \\\\ 0 \\end{array}\\right] \\hspace{0.7cm}\n",
    "W_4 = \\left[ \\begin{array}{r} -1 \\\\ 0 \\\\ -1 \\\\ 1 \\end{array}\\right]\n",
    "\\end{equation}\n",
    "$$"
   ]
  },
  {
   "cell_type": "markdown",
   "id": "6cfc1331",
   "metadata": {},
   "source": [
    "We need to check that these vectors are linearly independent and span $\\mathbb{R}^4$. We can do both by forming the matrix whose columns are these vectors and then using $\\texttt{FullRowReduction}$."
   ]
  },
  {
   "cell_type": "code",
   "execution_count": null,
   "id": "314fcec1",
   "metadata": {},
   "outputs": [],
   "source": [
    "W = np.array([[-1,2,0,-1],[0,1,0,0],[1,2,1,-1],[2,4,0,1]])\n",
    "W_reduced = lag.FullRowReduction(W)\n",
    "print(W_reduced)"
   ]
  },
  {
   "cell_type": "markdown",
   "id": "9a8645ca",
   "metadata": {},
   "source": [
    "We can see that the RREF of $W$ has a pivot in every row and column, and thus this set of vectors forms a basis for $\\mathbb{R}^4$."
   ]
  },
  {
   "cell_type": "markdown",
   "id": "fa6fa177",
   "metadata": {},
   "source": [
    "**Exercise 3:** Give an example of a set of three vectors that does **not** form a basis for $\\mathbb{R}^3$.  Provide a calculation that shows why the example is not a basis."
   ]
  },
  {
   "cell_type": "markdown",
   "id": "0ac366a5",
   "metadata": {},
   "source": [
    "Consider the set of vectors $\\{V_1,V_2,V_3\\}$ defined below.\n",
    "\n",
    "$$\n",
    "\\begin{equation}\n",
    "V_1 = \\left[ \\begin{array}{r} 1 \\\\ 0 \\\\ 0 \\end{array}\\right] \\hspace{0.7cm} \n",
    "V_2 = \\left[ \\begin{array}{r} 0 \\\\ 1 \\\\ 0 \\end{array}\\right] \\hspace{0.7cm}\n",
    "V_3 = \\left[ \\begin{array}{r} 1 \\\\ 1 \\\\ 0 \\end{array}\\right] \\hspace{0.7cm}\n",
    "\\end{equation}\n",
    "$$"
   ]
  },
  {
   "cell_type": "code",
   "execution_count": null,
   "id": "c1cf9071",
   "metadata": {},
   "outputs": [],
   "source": [
    "V_1 = np.array([[1],[0],[0]])\n",
    "V_2 = np.array([[0],[1],[0]])\n",
    "V_3 = np.array([[1],[1],[0]])\n",
    "print(V_1 + V_2 - V_3)"
   ]
  },
  {
   "cell_type": "markdown",
   "id": "009199ca",
   "metadata": {},
   "source": [
    "Since we have found a non-trivial linear combination of the vectors that equals zero, the set is linearly dependent and therefore not a basis."
   ]
  },
  {
   "cell_type": "markdown",
   "id": "52ea6aec",
   "metadata": {},
   "source": [
    "**Exercise 4:** Calculate the dimension of the span of $ \\{U_1, U_2, U_3, U_4\\}$.\n",
    "\n",
    "$$\n",
    "\\begin{equation}\n",
    "U_1 = \\left[ \\begin{array}{r} 1 \\\\ 2 \\\\ -1 \\\\ 3 \\end{array}\\right] \\hspace{0.7cm} \n",
    "U_2 = \\left[ \\begin{array}{r} 2 \\\\ -3 \\\\ 3 \\\\ -2 \\end{array}\\right] \\hspace{0.7cm}\n",
    "U_3 = \\left[ \\begin{array}{r} 3 \\\\ -1 \\\\ 2 \\\\ 1 \\end{array}\\right] \\hspace{0.7cm}\n",
    "U_4 = \\left[ \\begin{array}{r} 5 \\\\ -4 \\\\ 4 \\\\ -1 \\end{array}\\right]\n",
    "\\end{equation}\n",
    "$$"
   ]
  },
  {
   "cell_type": "markdown",
   "id": "9c32dbb3",
   "metadata": {},
   "source": [
    "Recall that the dimension of a vector space is the number of vectors in any basis for that space, so if we can find a basis for the span of $U = \\{U_1, U_2, U_3, U_4\\}$ then we will know its dimension. A basis for this space is a linearly independent set of vectors that span it. By definition $U$ spans the span of $U$, so we just need to check that the vectors of $U$ are linearly independent, removing any redundant ones."
   ]
  },
  {
   "cell_type": "code",
   "execution_count": null,
   "id": "f1b2fc75",
   "metadata": {},
   "outputs": [],
   "source": [
    "U_12 = np.array([[1,2],[2,-3],[-1,3],[3,-2]])\n",
    "U_12_reduced = lag.FullRowReduction(U_12)\n",
    "print(U_12_reduced)"
   ]
  },
  {
   "cell_type": "markdown",
   "id": "e69bb0b9",
   "metadata": {},
   "source": [
    "We can see the $U_1$ and $U_2$ are linearly independent, so now we check if adding $U_3$ changes that."
   ]
  },
  {
   "cell_type": "code",
   "execution_count": null,
   "id": "824ca59f",
   "metadata": {},
   "outputs": [],
   "source": [
    "U_123 = np.array([[1,2,3],[2,-3,-1],[-1,3,2],[3,-2,1]])\n",
    "U_123_reduced = lag.FullRowReduction(U_123)\n",
    "print(U_123_reduced)"
   ]
  },
  {
   "cell_type": "markdown",
   "id": "ce3f8832",
   "metadata": {},
   "source": [
    "The last column does not have a pivot, so $U_3$ is included in the span of $U_1$ and $U_2$. Therefore the span of $\\{U_1, U_2, U_3\\}$ is the same as the span of $\\{U_1, U_2\\}$, and so we can remove $U_3$ from consideration. Next we check $U_4$."
   ]
  },
  {
   "cell_type": "code",
   "execution_count": null,
   "id": "dd9b6ef1",
   "metadata": {},
   "outputs": [],
   "source": [
    "U_124 = np.array([[1,2,5],[2,-3,-4],[-1,3,4],[3,-2,-1]])\n",
    "U_124_reduced = lag.FullRowReduction(U_124)\n",
    "print(U_124_reduced)"
   ]
  },
  {
   "cell_type": "markdown",
   "id": "11d28672",
   "metadata": {},
   "source": [
    "$U_1$, $U_2$, and $U_4$ are linearly independent and $U_3$ can be expressed as a linear combination of the other three. Therefore the subspace of $\\mathbb{R}^4$ spanned by $\\{U_1,U_2,U_4\\}$ is three-dimensional."
   ]
  },
  {
   "cell_type": "markdown",
   "id": "a685a603",
   "metadata": {},
   "source": [
    "**Exercise 5:** Determine whether the set of vectors $ \\{V_1, V_2, V_3\\}$ is a basis for $\\mathbb{R}^4$. If not, find a vector which can be added to the set such that the resulting set of vectors is a basis for $\\mathbb{R}^4$.\n",
    "\n",
    "$$\n",
    "\\begin{equation}\n",
    "V_1 = \\left[ \\begin{array}{r} 1 \\\\ 2 \\\\ 1 \\\\ 1  \\end{array}\\right] \\hspace{0.7cm} \n",
    "V_2 = \\left[ \\begin{array}{r} 1 \\\\ 0 \\\\ 2 \\\\ 2 \\end{array}\\right] \\hspace{0.7cm}\n",
    "V_3 = \\left[ \\begin{array}{r} 1 \\\\ 3 \\\\ 1 \\\\ 2 \\end{array}\\right] \\hspace{0.7cm}\n",
    "\\end{equation}\n",
    "$$\n",
    "\n"
   ]
  },
  {
   "cell_type": "markdown",
   "id": "67e0ceef",
   "metadata": {},
   "source": [
    "**Solution:**\n",
    "\n",
    "The matrix $A$ which contains the given vectors as its columns is as follows:\n",
    "\n",
    "$$\n",
    "\\begin{equation}\n",
    "A = \\left[ \\begin{array}{rrrr} 1 & 1 & 1  \\\\ 2 & 0 & 3  \\\\ 1 & 2 & 1 \\\\ 1 & 2 & 2 \\end{array}\\right] \n",
    "\\end{equation}\n",
    "$$\n",
    "\n",
    "Since there are four rows and three columns, there can be a maximum of three pivots. This means that at least one of the rows will not have a pivot, which implies that the set of vectors does not span $\\mathbb{R}^4$. The set $ \\{V_1, V_2, V_3\\}$ is not a basis for $\\mathbb{R}^4$.\n",
    "\n",
    "Let us consider another vector $V_4$ in $\\mathbb{R}^4$ and check if the set of vectors $\\{V_1,V_2,V_3,V_4\\}$ is a basis for $\\mathbb{R}^4$.\n",
    "\n",
    "$$\n",
    "\\begin{equation}\n",
    "V_4 = \\left[ \\begin{array}{r} 1 \\\\ 0 \\\\ 1 \\\\ 2 \\end{array}\\right] \\\n",
    "\\end{equation}\n",
    "$$\n",
    "\n",
    "We build a matrix $A$ that has these vectors as its columns and then perform row reduction to find the location of the pivots."
   ]
  },
  {
   "cell_type": "code",
   "execution_count": null,
   "id": "0420de5f",
   "metadata": {},
   "outputs": [],
   "source": [
    "A  = np.array([[1,1,1,1],[2,0,3,0],[1,2,1,1],[1,2,2,2]])\n",
    "A_red = lag.FullRowReduction(A)\n",
    "\n",
    "print(\"A: \\n\", A, '\\n')\n",
    "print(\"A_reduced: \\n\", A_red, '\\n')"
   ]
  },
  {
   "cell_type": "markdown",
   "id": "1f668713",
   "metadata": {},
   "source": [
    "Since there is a pivot in each row, the set of vectors spans $\\mathbb{R}^4$. Since there is a pivot in each column, the set of vectors is linearly independent. Hence, $\\{V_1, V_2, V_3,V_4\\}$ is a basis for $\\mathbb{R}^4$."
   ]
  },
  {
   "cell_type": "markdown",
   "id": "0497cdd9",
   "metadata": {},
   "source": [
    "**Exercise 6:** Find the dimension of the subspace spanned by $\\{W_1, W_2\\}$. Explain your answer.\n",
    "\n",
    "$$\n",
    "\\begin{equation}\n",
    "W_1 = \\left[ \\begin{array}{r} 1 \\\\ 2 \\\\ 0 \\\\ 0  \\end{array}\\right] \\hspace{0.7cm} \n",
    "W_2 = \\left[ \\begin{array}{r} 2 \\\\ 3 \\\\ 0 \\\\ 0 \\end{array}\\right] \\hspace{0.7cm}\n",
    "\\end{equation}\n",
    "$$\n",
    "\n"
   ]
  },
  {
   "cell_type": "markdown",
   "id": "6efb71e6",
   "metadata": {},
   "source": [
    "**Solution:**\n",
    "\n",
    "The matrix $P$ which contains $W_1$, $W_2$ as its columns is as follows:\n",
    "\n",
    "$$\n",
    "\\begin{equation}\n",
    "P = \\left[ \\begin{array}{rrrr} 1 & 2  \\\\ 2 & 3  \\\\  0 & 0 \\\\ 0 & 0 \\end{array}\\right] \n",
    "\\end{equation}\n",
    "$$\n"
   ]
  },
  {
   "cell_type": "code",
   "execution_count": null,
   "id": "cfd66310",
   "metadata": {},
   "outputs": [],
   "source": [
    "P = np.array([[1,2],[2,3],[0,0],[0,0]])\n",
    "P_reduced = lag.FullRowReduction(P)\n",
    "\n",
    "print(\"P: \\n\", P, '\\n')\n",
    "print(\"P_reduced: \\n\", P_reduced, '\\n')"
   ]
  },
  {
   "cell_type": "markdown",
   "id": "5f30dab2",
   "metadata": {},
   "source": [
    "Since only two rows of the matrix $P$ contain a pivot, the basis for the subspace will contain two vectors. Hence, the dimension of the subspace spanned by $\\{W_1, W_2\\}$ is 2."
   ]
  },
  {
   "cell_type": "markdown",
   "id": "99f6df89",
   "metadata": {},
   "source": [
    "**Exercise 7:** Find the value(s) of $a$ for which the set of vectors $\\{X_1,X_2,X_3\\}$ is **not** a basis for $\\mathbb{R}^3$.\n",
    "\n",
    "$$\n",
    "\\begin{equation}\n",
    "X_1 = \\left[ \\begin{array}{r} 1 \\\\ 2 \\\\ 1   \\end{array}\\right] \\hspace{0.7cm} \n",
    "X_2 = \\left[ \\begin{array}{r} 2 \\\\ a \\\\ 3  \\end{array}\\right] \\hspace{0.7cm}\n",
    "X_3 = \\left[ \\begin{array}{r} 1 \\\\ 2 \\\\ a \\end{array}\\right] \\hspace{0.7cm}\n",
    "\\end{equation}\n",
    "$$\n",
    "\n"
   ]
  },
  {
   "cell_type": "markdown",
   "id": "6daec370",
   "metadata": {},
   "source": [
    "**Solution:**\n",
    "\n",
    "The matrix $S$ which contains the given vectors as its columns is as follows:\n",
    "\n",
    "$$\n",
    "\\begin{equation}\n",
    "S = \\left[ \\begin{array}{rrrr} 1 & 2 & 1  \\\\ 2 & a & 2  \\\\ 1 & 3 & a  \\end{array}\\right] \n",
    "\\end{equation}\n",
    "$$\n",
    "\n",
    "The row reduced form of $S$ looks like:\n",
    "\n",
    "$$\n",
    "\\begin{equation}\n",
    "\\left[ \\begin{array}{rrrr} 1 & 0 & 0  \\\\ 0 & a - 4 & 0  \\\\ 0 & 0 & a - 1  \\end{array}\\right] \n",
    "\\end{equation}\n",
    "$$\n",
    "\n",
    "The set of vectors $\\{X_1, X_2, X_3\\}$ is not be a basis for $\\mathbb{R}^3$ if there is not a pivot in each row. If $ a = 4$, there is not a pivot in the second row. If $ a= 1$, there is no pivot in the third row.  We can conclude that the set of vectors $\\{X_1, X_2, X_3\\}$ is not a basis for $\\mathbb{R}^3$ if $a = 1$ or $a = 4$."
   ]
  },
  {
   "cell_type": "markdown",
   "id": "49a0419b",
   "metadata": {},
   "source": [
    "**Exercise 8:** Let $U$ be the subspace of $\\mathbb{R}^5$ which contains vectors with their first and second enteries same and the third entry as zero. What the vectors in the subspace $U$ look like? Use this information to find a basis for $U$ and determine the dimension of $U$."
   ]
  },
  {
   "cell_type": "markdown",
   "id": "c814359f",
   "metadata": {},
   "source": [
    "**Solution:**\n",
    "\n",
    "The vectors in $U$ have the form\n",
    "\n",
    "$$\n",
    "\\begin{equation}\n",
    "\\left[ \\begin{array}{r} a \\\\ a \\\\ 0 \\\\ b \\\\ c  \\end{array}\\right] \\\n",
    "\\end{equation}\n",
    "$$ \n",
    "\n",
    "where $a$, $b$, and $c$ are arbitrary real numbers.\n",
    "\n",
    "$$\n",
    "\\begin{equation}\n",
    "\\left[ \\begin{array}{r} a \\\\ a \\\\ 0 \\\\ b \\\\ c \\end{array}\\right]  =  \n",
    "a\\left[ \\begin{array}{r} 1 \\\\ 1 \\\\ 0 \\\\ 0 \\\\ 0 \\end{array}\\right]  +\n",
    "b\\left[ \\begin{array}{r} 0 \\\\ 0 \\\\ 0 \\\\ 1 \\\\ 0  \\end{array}\\right]  +\n",
    "c\\left[ \\begin{array}{r} 0 \\\\ 0 \\\\ 0\\\\ 0 \\\\ 1 \\end{array}\\right]\\end{equation}\n",
    "$$\n",
    "\n",
    "If \n",
    "\n",
    "$$\n",
    "\\begin{equation}\n",
    "V_1 = \\left[ \\begin{array}{r} 1 \\\\ 1 \\\\ 0 \\\\ 0 \\\\ 0  \\end{array}\\right] \\hspace{0.7cm} \n",
    "V_2 = \\left[ \\begin{array}{r} 0 \\\\ 0 \\\\ 0 \\\\ 1 \\\\ 0 \\end{array}\\right] \\hspace{0.7cm}\n",
    "V_3 = \\left[ \\begin{array}{r} 0 \\\\ 0 \\\\ 0 \\\\ 0 \\\\ 1 \\end{array}\\right] \\hspace{0.7cm}\n",
    "\\end{equation}\n",
    "$$ \n",
    "\n",
    "then $\\{V_1, V_2, V_3\\}$ is the basis for the subspace $U$.  Since there are three vectors in the basis for the subspace $U$, the dimension of $U$ is 3."
   ]
  },
  {
   "cell_type": "markdown",
   "id": "7773fac6",
   "metadata": {},
   "source": [
    "**Exercise 9:** Let $\\beta = \\{U_1,U_2,U_3\\}$ be a basis for $\\mathbb{R}^3$. Find the **coordinates** of $V$ with respect to $\\beta$.\n",
    "\n",
    "$$\n",
    "\\begin{equation}\n",
    "U_1 = \\left[ \\begin{array}{r} 1 \\\\ 2 \\\\ 3   \\end{array}\\right] \\hspace{0.7cm} \n",
    "U_2 = \\left[ \\begin{array}{r} 2 \\\\ 1 \\\\ 0  \\end{array}\\right] \\hspace{0.7cm}\n",
    "U_3 = \\left[ \\begin{array}{r} 3 \\\\ 2 \\\\ 5 \\end{array}\\right] \\hspace{0.7cm}\n",
    "V = \\left[ \\begin{array}{r} 8 \\\\ 6 \\\\ 8 \\end{array}\\right] \\hspace{0.7cm}\n",
    "\\end{equation}\n",
    "$$\n",
    "\n"
   ]
  },
  {
   "cell_type": "markdown",
   "id": "f3116422",
   "metadata": {},
   "source": [
    "**Solution:** \n",
    "\n",
    "In order to find the **coordinates** of $V$ with respect to $\\beta$ we need to find the linear combination of $U_1$, $U_2$ and $U_3$ that equals $V$.\n",
    "\n",
    "$$\n",
    "\\begin{equation}\n",
    "\\left[ \\begin{array}{r} 8 \\\\ 6 \\\\ 8 \\end{array}\\right]  =  \n",
    "c_1\\left[ \\begin{array}{r} 1 \\\\ 2 \\\\ 3  \\end{array}\\right]  +\n",
    "c_2\\left[ \\begin{array}{r} 2 \\\\ 1 \\\\ 0   \\end{array}\\right]  +\n",
    "c_3\\left[ \\begin{array}{r} 3 \\\\ 2 \\\\ 5 \\end{array}\\right]\\end{equation}\n",
    "$$\n",
    "\n",
    "That is, we need to solve the system $A[V]_{\\alpha} = V$ where $A$ is the matrix with $U_1$ , $U_2$ and $U_3$ as its columns, and $[V]_{\\alpha}$ is the vector of the unknown coefficients $c_1$, $c_2$, $c_3$."
   ]
  },
  {
   "cell_type": "code",
   "execution_count": null,
   "id": "0168b219",
   "metadata": {},
   "outputs": [],
   "source": [
    "A = np.array([[1,2,3],[2,1,2],[3,0,5]])\n",
    "V = np.array([[8],[6],[8]])\n",
    "X_alpha = lag.SolveSystem(A, V)\n",
    "\n",
    "print(\"A: \\n\", A, '\\n')\n",
    "print(\"V: \\n\", V, '\\n')\n",
    "print(\"X_alpha: \\n\", X_alpha, '\\n')"
   ]
  },
  {
   "cell_type": "markdown",
   "id": "19df9787",
   "metadata": {},
   "source": [
    "**Exercise 10:** Can a set of four vectors in $\\mathbb{R}^3$ be a basis for $\\mathbb{R}^3$? Explain and verify your answer through a computation."
   ]
  },
  {
   "cell_type": "markdown",
   "id": "6761983e",
   "metadata": {},
   "source": [
    "**Solution:**\n",
    "\n",
    "If we have four vectors in $\\mathbb{R}^3$ and we use them as the columns of a matrix $A$, then we get a $ 3 \\times 4 $ matrix. This means that there can be at most three pivots since there are only three rows. Therefore, there will always be a column without a pivot, which means the set will be linearly dependent. Hence, a set of four vectors cannot be a basis for $\\mathbb{R}^3$. \n",
    "\n",
    "We can demonstrate with some arbitrary vectors $V_1$, $V_2$, $V_3$ and $V_4$ in $\\mathbb{R}^3$.\n",
    "\n",
    "$$\n",
    "\\begin{equation}\n",
    "V_1 = \\left[ \\begin{array}{r} 1 \\\\ 2 \\\\ 1  \\end{array}\\right] \\hspace{0.7cm} \n",
    "V_2 = \\left[ \\begin{array}{r} 1 \\\\ 0 \\\\ 2  \\end{array}\\right] \\hspace{0.7cm}\n",
    "V_3 = \\left[ \\begin{array}{r} 1 \\\\ 3 \\\\ 1  \\end{array}\\right] \\hspace{0.7cm}\n",
    "V_4 = \\left[ \\begin{array}{r} 0 \\\\ 1 \\\\ 1  \\end{array}\\right] \\\n",
    "\\end{equation}\n",
    "$$"
   ]
  },
  {
   "cell_type": "code",
   "execution_count": null,
   "id": "b3871b54",
   "metadata": {},
   "outputs": [],
   "source": [
    "# Building matrix A with V_1, V_2, V_3, V_4 as its columns.\n",
    "\n",
    "A = np.array([[1,1,1,0],[2,0,3,1],[1,2,1,1]])\n",
    "A_red = lag.FullRowReduction(A)\n",
    "\n",
    "print(\"A: \\n\", A, '\\n')\n",
    "print(\"A_reduced: \\n\", A_red, '\\n')"
   ]
  },
  {
   "cell_type": "markdown",
   "id": "134840bb",
   "metadata": {},
   "source": [
    "We can see from the computation that there is no pivot in the fourth column. Therefore, the set of vectors $\\{V_1, V_2, V_3, V_4\\}$ is linearly dependent and therefore not a basis for $\\mathbb{R}^3$.  Any set of four vectors in $\\mathbb{R}^3$ must be linearly dependent."
   ]
  },
  {
   "cell_type": "markdown",
   "id": "d7664d12",
   "metadata": {},
   "source": [
    "### Vector Space Examples\n",
    "\n"
   ]
  },
  {
   "cell_type": "markdown",
   "id": "76638d0b",
   "metadata": {},
   "source": [
    "**Exercise 1:** Determine whether or not the set of polynomials $\\{p_1, p_2, p_3\\}$ is a basis for $\\mathbb{P}_2$.\n",
    "\n",
    "$$\n",
    "\\begin{eqnarray*}\n",
    "p_1 & = & 3x^2 + 2x + 1 \\\\\n",
    "p_2 & = & 2x^2 + 5x + 3 \\\\\n",
    "p_3 & = & 6x^2 + 4x  +5 \n",
    "\\end{eqnarray*}\n",
    "$$"
   ]
  },
  {
   "cell_type": "markdown",
   "id": "96f52a12",
   "metadata": {},
   "source": [
    "**Solution:**\n",
    "\n",
    "A set of polynomials is a basis for $\\mathbb{P}_2$ if every polynomial in $\\mathbb{P}_2$ can be written as a linear combination of the basis polynomials in a unique way.\n",
    "\n",
    "Every polynomial in $\\mathbb{P}_2$ is of the form: $ax^2 + bx + c$.\n",
    "\n",
    "If $\\{p_1,p_2,p_3\\}$ is a basis for $\\mathbb{P}_2$, then\n",
    "\n",
    "$ax^2 + bx + c = c_1(3x^2 + 2x + 1) + c_2(2x^2 + 5x + 3) + c_3(6x^2 + 4x  +5)$.\n",
    "\n",
    "The above equation gives us the following system of equations:\n",
    "\n",
    "$$\n",
    "\\begin{eqnarray*}\n",
    "3c_1 + 2c_2 + 6c_3  & = & a \\\\\n",
    "2c_1 +5c_2 + 4c_3  & = & b \\\\\n",
    "c_1 + 3c_2 + 5c_3  & = & c  \\\\\n",
    "\\end{eqnarray*}\n",
    "$$\n",
    "\n",
    "The corresponding system is:\n",
    "\n",
    "$$\n",
    "\\begin{equation}\n",
    "AX = \\left[ \\begin{array}{rrr} 3 & 2 & 6 \\\\ 2 & 5 & 4 \\\\ 1 & 3 & 5 \\end{array}\\right]\n",
    "\\left[ \\begin{array}{r} c_1 \\\\ c_2 \\\\ c_3 \\end{array}\\right]=\n",
    "\\left[ \\begin{array}{r} a \\\\ b \\\\ c  \\end{array}\\right]= B\n",
    "\\end{equation}\n",
    "$$\n",
    "\n",
    "The system has at least one solution if the coefficient matrix $A$ has a pivot in every row.  The system has at most one solution if $A$ has a pivot in every column."
   ]
  },
  {
   "cell_type": "code",
   "execution_count": 9,
   "id": "a294ca3c",
   "metadata": {},
   "outputs": [
    {
     "name": "stdout",
     "output_type": "stream",
     "text": [
      "A: \n",
      " [[3 2 6]\n",
      " [2 5 4]\n",
      " [1 3 5]] \n",
      "\n",
      "A_Reduced: \n",
      " [[1. 0. 0.]\n",
      " [0. 1. 0.]\n",
      " [0. 0. 1.]] \n",
      "\n"
     ]
    }
   ],
   "source": [
    "## Building the matrix A:\n",
    "A = np.array([[3,2,6],[2,5,4],[1,3,5]])\n",
    "A_reduced = lag.FullRowReduction(A);\n",
    "\n",
    "print(\"A: \\n\", A, '\\n')\n",
    "print(\"A_Reduced: \\n\", A_reduced, '\\n')"
   ]
  },
  {
   "cell_type": "markdown",
   "id": "0524cce0",
   "metadata": {},
   "source": [
    "Since there is a pivot in each row and each column of $A$, the system will have a unique solution for any given values of $a$, $b$, and $c$.  This implies that each polynomial in $\\mathbb{P}_2$ can be written as a linear combination of the vectors $p_1$, $p_2$, and $p_3$ in a unique way.  We say that $\\{p_1,p_2,p_3\\}$ spans $\\mathbb{P}_2$ and is linearly independent. Therefore, $\\{p_1,p_2,p_3\\}$ is a basis for $\\mathbb{P}_2$."
   ]
  },
  {
   "cell_type": "markdown",
   "id": "800dd718",
   "metadata": {},
   "source": [
    "**Exercise 2:** Find the coordinates of $p_4$ with respect to the basis $\\alpha\\ = \\{p_1, p_2, p_3\\}$. \n",
    "\n",
    "$$\n",
    "\\begin{eqnarray*}\n",
    "p_1 & = & x^2 + x + 2 \\\\\n",
    "p_2 & = & 2x^2 + 4x + 0 \\\\\n",
    "p_3 & = & 3x^2  + 2x      +1 \\\\\n",
    "p_4 & = & 11x^2 + 13x + 4\n",
    "\\end{eqnarray*}\n",
    "$$"
   ]
  },
  {
   "cell_type": "markdown",
   "id": "00c90c0c",
   "metadata": {},
   "source": [
    "**Solution:**\n",
    "\n",
    "In order to find the coordinates of $p_4$ with respect to $\\alpha$, we need to express $p_4$ as a linear combination of $p_1$, $p_2$ and $p_3$.\n",
    "\n",
    "So, $11x^2 + 13x + 4 = c_1(x^2 + x + 2) + c_2(2x^2 + 4x + 0) + c_3(3x^2  + 2x +1)$. We are looking for scalars $c_1$, $c_2$ and $c_3$ which make this equation true.\n",
    "\n",
    "The corresponding system of equations is:\n",
    "\n",
    "$$\n",
    "\\begin{eqnarray*}\n",
    "c_1 + 2c_2 + 3c_3  & = & 11 \\\\\n",
    "c_1 +4c_2 + 2c_3  & = & 13\\\\\n",
    "2c_1 \\,\\,  \\quad\\quad    +  c_3  & = & 4\\\\\n",
    "\\end{eqnarray*}\n",
    "$$\n",
    "\n",
    "We need to solve the following system:\n",
    "\n",
    "$$\n",
    "\\begin{equation}\n",
    "AX = \\left[ \\begin{array}{rrr} 1 & 2 & 3 \\\\ 1 & 4 & 2 \\\\ 2 & 0 & 1 \\end{array}\\right]\n",
    "\\left[ \\begin{array}{r} c_1 \\\\ c_2 \\\\ c_3 \\end{array}\\right]=\n",
    "\\left[ \\begin{array}{r} 11 \\\\ 13 \\\\ 4  \\end{array}\\right]= B\n",
    "\\end{equation}\n",
    "$$\n",
    "\n"
   ]
  },
  {
   "cell_type": "code",
   "execution_count": 10,
   "id": "8de6c59d",
   "metadata": {},
   "outputs": [
    {
     "name": "stdout",
     "output_type": "stream",
     "text": [
      "A: \n",
      " [[1 2 3]\n",
      " [1 4 2]\n",
      " [2 0 1]] \n",
      "\n",
      "B: \n",
      " [[11]\n",
      " [13]\n",
      " [ 4]] \n",
      "\n",
      "X: \n",
      " [[1.]\n",
      " [2.]\n",
      " [2.]] \n",
      "\n"
     ]
    }
   ],
   "source": [
    "## Building A and B\n",
    "\n",
    "A = np.array([[1,2,3],[1,4,2],[2,0,1]])\n",
    "B = np.array([[11],[13],[4]])\n",
    "\n",
    "X = lag.SolveSystem(A,B)\n",
    "\n",
    "print(\"A: \\n\", A, '\\n')\n",
    "print(\"B: \\n\", B, '\\n')\n",
    "print(\"X: \\n\", X, '\\n')"
   ]
  },
  {
   "cell_type": "markdown",
   "id": "8210f879",
   "metadata": {},
   "source": [
    "From the computations we can conclude that the coordinates of $p_4$ with respect to $\\alpha$ are $1$,$2$ and $2$.  We can express these coordinates together in a vector.\n",
    "\n",
    "$$\n",
    "\\begin{equation}\n",
    "[p_4]_{\\alpha} =\n",
    "\\left[ \\begin{array}{r} 1 \\\\ 2 \\\\ 2  \\end{array}\\right]\n",
    "\\end{equation}\n",
    "$$\n",
    "\n"
   ]
  },
  {
   "cell_type": "markdown",
   "id": "f8b9579a",
   "metadata": {},
   "source": [
    "**Exercise 3:** Demonstrate that a set of four polynomials in $\\mathbb{P}_4$ cannot span $\\mathbb{P}_4$ through a computation."
   ]
  },
  {
   "cell_type": "markdown",
   "id": "4e7a71ab",
   "metadata": {},
   "source": [
    "**Solution:**\n",
    "\n",
    "Let us consider any four polynomials in $\\mathbb{P}_4$.\n",
    "\n",
    "$$\n",
    "\\begin{eqnarray*}\n",
    "p_1 & = & x^4 + x^3 + x^2 + x + 2  \\\\\n",
    "p_2 & = & x^4 + 2x^2 + x + 1 \\\\\n",
    "p_3 & = & 2x^4 + x^3 + x^2 + x + 2 \\\\\n",
    "p_4 & = & 3x^4 + x^3 + 2x^2 + x + 2\n",
    "\\end{eqnarray*}\n",
    "$$\n",
    "\n",
    "If the four polynomials span $\\mathbb{P}_4$, then we should be able to express every polynomial in $\\mathbb{P}_4$ as a linear combination of $p_1$, $p_2$, $p_3$ and $p_4$.  An arbitrary polynomial in $\\mathbb{P}_4$ has the form $ax^4 + bx^3 + cx^2 + dx  + e $. We are therefore concerned with solving the following equation.\n",
    "\n",
    "$$\n",
    "\\begin{equation}\n",
    "ax^4 + bx^3 + cx^2 + dx  + e  = c_1(x^4 + x^3 + x^2 + x + 2 ) + c_2(x^4 + 2x^2 + x + 1) + c_3(2x^4 + x^3 + x^2 + x + 2) + c_4(3x^4 + x^3 + 2x^2 + x + 2)\n",
    "\\end{equation}\n",
    "$$\n",
    "\n",
    "This equation is true for all values of $x$ only if the left and right side are the same polynomial.  Gathering the like terms on the right side gives a system of equations.\n",
    "\n",
    "$$\n",
    "\\begin{eqnarray*}\n",
    "c_1 + c_2 + 2c_3 + 3c_4 & = & a \\\\\n",
    "c_1 +\\,\\,\\,\\,\\,\\,\\,\\,\\,\\,\\,\\,c_3 \\,\\,+ \\,\\,\\,c_4 & = & b \\\\\n",
    "c_1 + 2c_2 + c_3 + 2c_4 & = & c  \\\\\n",
    "c_1 + \\,c_2 \\,+\\, c_3\\, +\\, c_4 & = & d \\\\\n",
    "2c_1 + c_2 + 2c_3 + 2c_4 & = & e \\\\\n",
    "\\end{eqnarray*}\n",
    "$$\n",
    "\n",
    "We write the system as a matrix equation and observe that the coefficient matrix $A$ is $5\\times 4$.\n",
    "\n",
    "$$\n",
    "\\begin{equation}\n",
    "AX = \\left[ \\begin{array}{rrr} 1 & 1 & 2 & 3 \\\\ 1 & 0 & 1 & 1 \\\\ 1 & 2 & 1 & 2 \\\\ 1 & 1 & 1 & 1 \\\\2 & 1 & 2 &2\\end{array}\\right]\n",
    "\\left[ \\begin{array}{r} c_1 \\\\ c_2 \\\\ c_3 \\\\c_4\\end{array}\\right]=\n",
    "\\left[ \\begin{array}{r} a \\\\ b \\\\ c \\\\d\\\\e \\end{array}\\right]= B\n",
    "\\end{equation}\n",
    "$$\n",
    "\n",
    "The system is consistent for any vector $B$ if there is a pivot in each row of $A$."
   ]
  },
  {
   "cell_type": "code",
   "execution_count": 6,
   "id": "9824ac29",
   "metadata": {},
   "outputs": [
    {
     "name": "stdout",
     "output_type": "stream",
     "text": [
      "A: \n",
      " [[1 1 2 3]\n",
      " [1 0 1 1]\n",
      " [1 2 1 2]\n",
      " [1 1 1 1]\n",
      " [2 1 2 2]] \n",
      "\n",
      "A_red: \n",
      " [[1. 0. 0. 0.]\n",
      " [0. 1. 0. 0.]\n",
      " [0. 0. 1. 0.]\n",
      " [0. 0. 0. 1.]\n",
      " [0. 0. 0. 0.]] \n",
      "\n"
     ]
    }
   ],
   "source": [
    "## Building matrix A\n",
    "A = np.array([[1,1,2,3],[1,0,1,1],[1,2,1,2],[1,1,1,1],[2,1,2,2]])\n",
    "A_red = lag.FullRowReduction(A);\n",
    "\n",
    "print(\"A: \\n\", A, '\\n')\n",
    "print(\"A_red: \\n\", A_red, '\\n')"
   ]
  },
  {
   "cell_type": "markdown",
   "id": "73872fae",
   "metadata": {},
   "source": [
    "The computations show that there is no pivot in the fifth row, which implies that the set $\\{ p_1, p_2, p_3, p_4 \\}$ does not span $\\mathbb{P}_4$.  In general, a $5\\times 4$ matrix can have at most $4$ pivots and can thus never have a pivot in each row.  We can therefore conclude that *any* set of four polynomials does not span $\\mathbb{P}_4$."
   ]
  },
  {
   "cell_type": "markdown",
   "id": "91b06948",
   "metadata": {},
   "source": [
    "**Exercise 4:** The set of matrices $\\{A, B\\}$ form a basis for a subspace of $\\mathbb{M}_{2\\times 2}$. Find a matrix which is in the subspace (but is not $A$ or $B$) and a matrix which is not in the subspace. Verify your answer.\n",
    "\n",
    "\n",
    "$$\n",
    "\\begin{equation}\n",
    "A = \\left[ \\begin{array}{ccc} 1 & 0  \\\\ 2 & 0  \\end{array}\\right] \\hspace{1cm}\n",
    "B = \\left[ \\begin{array}{ccc} 4 & 0 \\\\ 5 & 0  \\end{array}\\right] \\hspace{1cm}\n",
    "\\end{equation}\n",
    "$$"
   ]
  },
  {
   "cell_type": "markdown",
   "id": "ed4aa230",
   "metadata": {},
   "source": [
    "**Solution:**\n",
    "\n",
    "Since $A$ and $B$ are the basis for a subspace of $\\mathbb{M}_{2\\times 2}$, any matrix which can be formed from the linear combination of $A$ and $B$ will also be in the subspace. A matrix which cannot be represented as a linear combination of $A$ and $B$ will not be in the subspace.\n",
    "\n",
    "For instance, let\n",
    "\n",
    "$$\n",
    "\\begin{equation}\n",
    "C = 2A + B = \n",
    "2\\left[ \\begin{array}{ccc}1 & 0  \\\\2 & 0  \\end{array}\\right] +\n",
    "\\left[ \\begin{array}{ccc} 4& 0 \\\\ 5 &0  \\end{array}\\right] =\n",
    "\\left[ \\begin{array}{ccc} 6 & 0 \\\\ \n",
    "9 & 0 \\end{array}\\right]\n",
    "\\end{equation}\n",
    "$$\n",
    "\n",
    "Since $C$ is formed from linear combination of $A$ and $B$, $C$ lies in the subspace.\n",
    "\n",
    "Let $c_1$, $c_2$ be two scalars.\n",
    "\n",
    "Linear combination of $A$ and $B$ looks like:\n",
    "\n",
    "$$\n",
    "\\begin{equation}\n",
    "c_1\\left[ \\begin{array}{ccc}1 & 0  \\\\2 & 0  \\end{array}\\right] +\n",
    "c_2\\left[ \\begin{array}{ccc} 4& 0 \\\\ 5 &0  \\end{array}\\right] =\n",
    "\\left[ \\begin{array}{ccc} c_1 + 4c_2 & 0 \\\\ \n",
    "2c_1+5c_2 & 0 \\end{array}\\right]\n",
    "\\end{equation}\n",
    "$$\n",
    "\n",
    "Therefore, the matrix $D$ does not lie in the subspace because it cannot be represented as a linear combination of $A$ and $B$ for any values of $c_1$ and $c_2$.\n",
    "\n",
    "$$\n",
    "\\begin{equation}\n",
    "D = \\left[ \\begin{array}{ccc} 1 & 1  \\\\ 2 & 3  \\end{array}\\right] \\hspace{1cm}\n",
    "\\end{equation}\n",
    "$$"
   ]
  },
  {
   "cell_type": "markdown",
   "id": "cd2246af",
   "metadata": {},
   "source": [
    "**Exercise 5:** Find the **coordinate vector** of $F$ with respect to the basis $\\beta = \\{A,B,C,D\\}$ for $\\mathbb{M}_{2\\times 2}$.\n",
    "\n",
    "$$\n",
    "\\begin{equation}\n",
    "A = \\left[ \\begin{array}{ccc} 1 & 0  \\\\ 0 & 1  \\end{array}\\right] \\hspace{1cm}\n",
    "B = \\left[ \\begin{array}{ccc} 2 & 1  \\\\ 2 & 2  \\end{array}\\right] \\hspace{1cm}\n",
    "C = \\left[ \\begin{array}{ccc} 3 & 0 \\\\ 1 & 4   \\end{array}\\right] \\hspace{1cm}\n",
    "D = \\left[ \\begin{array}{ccc} 3 & 4\\\\ 1 & 1   \\end{array}\\right] \\hspace{1cm}\n",
    "F = \\left[ \\begin{array}{ccc} 14 & 10\\\\ 7 & 11   \\end{array}\\right] \\hspace{1cm}\n",
    "\\end{equation}\n",
    "$$"
   ]
  },
  {
   "cell_type": "markdown",
   "id": "c01af31d",
   "metadata": {},
   "source": [
    "**Solution:**\n",
    "\n",
    "The coordinate vector of $F$ with respect to $\\beta$ is a vector in $\\mathbb{R}^4$ whose components are the coordinates of $F$ with respect to  $\\beta$.\n",
    "\n",
    "Let us represent $F$ as a linear combination of $A$, $B$, $C$, and $D$.\n",
    "\n",
    "$$\n",
    "\\begin{equation}\n",
    "c_1\\left[ \\begin{array}{ccc}1 & 0  \\\\0 & 1  \\end{array}\\right] +\n",
    "c_2\\left[ \\begin{array}{ccc} 2& 1 \\\\ 2 &2  \\end{array}\\right] +\n",
    "c_3\\left[ \\begin{array}{ccc} 3 & 0 \\\\ 1 & 4 \\end{array}\\right] + \n",
    "c_4\\left[ \\begin{array}{ccc} 3 & 4 \\\\ 1 & 1 \\end{array}\\right]  = \n",
    "\\left[ \\begin{array}{ccc} 14 & 10 \\\\ 7 & 11 \\end{array}\\right]  \n",
    "\\end{equation}\n",
    "$$\n",
    "\n",
    "The corresponding linear system is:\n",
    "\n",
    "$$\n",
    "\\begin{equation}\n",
    "PX = \\left[ \\begin{array}{rrr} 1 & 2 & 3 & 3 \\\\ 0 & 1 & 0 & 4\\\\ 0 & 2 & 1 & 1 \\\\ 1 & 2 & 4 & 1\\end{array}\\right]\n",
    "\\left[ \\begin{array}{r} c_1 \\\\ c_2 \\\\ c_3 \\\\ c_4 \\end{array}\\right]=\n",
    "\\left[ \\begin{array}{r} 14 \\\\ 10 \\\\ 7 \\\\11  \\end{array}\\right]= Q\n",
    "\\end{equation}\n",
    "$$\n",
    "\n",
    "Here, the columns of $P$ are the coordinate vectors of the given matrices $A$, $B$, $C$, and $D$ with respect to the standard basis of $\\mathbb{M}_{2\\times 2}$ and $X$ represents the coordinate vector of $F$ with respect to $\\beta$.\n",
    "\n",
    "Therefore, $X = \\left[F\\right]_{\\beta}$.\n"
   ]
  },
  {
   "cell_type": "code",
   "execution_count": 12,
   "id": "2002c559",
   "metadata": {},
   "outputs": [
    {
     "name": "stdout",
     "output_type": "stream",
     "text": [
      "P: \n",
      " [[1 2 3 3]\n",
      " [0 1 0 4]\n",
      " [0 2 1 1]\n",
      " [1 2 4 1]] \n",
      "\n",
      "Q: \n",
      " [[14]\n",
      " [10]\n",
      " [ 7]\n",
      " [11]] \n",
      "\n",
      "X: \n",
      " [[1.]\n",
      " [2.]\n",
      " [1.]\n",
      " [2.]] \n",
      "\n"
     ]
    }
   ],
   "source": [
    "## Building matrices P and Q:\n",
    "P = np.array([[1,2,3,3],[0,1,0,4],[0,2,1,1],[1,2,4,1]])\n",
    "Q = np.array([[14],[10],[7],[11]])\n",
    "\n",
    "X = lag.SolveSystem(P,Q)\n",
    "\n",
    "print(\"P: \\n\", P, '\\n')\n",
    "print(\"Q: \\n\", Q, '\\n')\n",
    "print(\"X: \\n\", X, '\\n')"
   ]
  },
  {
   "cell_type": "markdown",
   "id": "9c465526",
   "metadata": {},
   "source": [
    "**Exercise 6:** Let $\\mathbb{D}_{2\\times 2}$ be the set of $ 2 \\times 2 $ diagonal matrices. \n",
    "\n",
    "($a$)  Explain why $\\mathbb{D}_{2\\times 2}$ is a subspace of $\\mathbb{M}_{2\\times 2}$.\n",
    "\n",
    "($b$)  Find a basis for $\\mathbb{D}_{2\\times 2}$.\n",
    "\n",
    "($c$)  Determine the dimension of $\\mathbb{D}_{2\\times 2}$."
   ]
  },
  {
   "cell_type": "markdown",
   "id": "9fdb0982",
   "metadata": {},
   "source": [
    "**Solution:**\n",
    "\n",
    "$(a)$ \n",
    "\n",
    "Let us consider two arbitrary matrices $X$ and $Y$ in $\\mathbb{D}_{2\\times 2}$:\n",
    "\n",
    "$$\n",
    "\\begin{equation}\n",
    "A = \\left[ \\begin{array}{ccc} a & 0  \\\\ 0 & b  \\end{array}\\right] \\hspace{1cm}\n",
    "B = \\left[ \\begin{array}{ccc} c & 0 \\\\ 0 & d  \\end{array}\\right] \\hspace{1cm}\n",
    "\\end{equation}\n",
    "$$\n",
    "\n",
    "$$\n",
    "\\begin{equation}\n",
    "A + B = \\left[ \\begin{array}{ccc} a + c & 0  \\\\ 0 & b + d \\end{array}\\right] \n",
    "\\end{equation}\n",
    "$$ \n",
    "\n",
    "$$\n",
    "\\begin{equation}\n",
    "kA  = \\left[ \\begin{array}{ccc} ka & 0  \\\\ 0 & kb  \\end{array}\\right] \n",
    "\\end{equation}\n",
    "$$ \n",
    "\n",
    "For any two arbitrary matrices $X$ and $Y$ in $\\mathbb{D}_{2\\times 2}$, $X+Y$ and $kA$ are also in $\\mathbb{D}_{2\\times 2}$. Therefore, $\\mathbb{D}_{2\\times 2}$ is a subspace of $\\mathbb{M}_{2\\times 2}$.\n",
    "\n",
    "\n",
    "\n",
    "\n",
    "\n",
    "$(b)$ \n",
    "\n",
    "Any matrix in $\\mathbb{D}_{2\\times 2}$ has the form:\n",
    "\n",
    "$$\n",
    "\\begin{equation}\n",
    "\\left[ \\begin{array}{ccc} a & 0  \\\\ 0 & b  \\end{array}\\right] \\hspace{1cm}\n",
    "\\end{equation}\n",
    "$$ where $a$ and $b$ are some scalars.\n",
    "\n",
    "This matrix can also be written as:\n",
    "\n",
    "$$\n",
    "\\begin{equation}\n",
    "\\left[ \\begin{array}{ccc}a & 0  \\\\0 & b  \\end{array}\\right] =\n",
    "a\\left[ \\begin{array}{ccc} 1& 0\\\\ 0 &0  \\end{array}\\right] +\n",
    "b\\left[ \\begin{array}{ccc} 0 & 0 \\\\ 0 & 1 \\end{array}\\right]  \n",
    "\\end{equation}\n",
    "$$\n",
    "\n",
    "Let $$\n",
    "\\begin{equation}\n",
    "P = \\left[ \\begin{array}{ccc} 1 & 0  \\\\ 0 & 0  \\end{array}\\right] \\hspace{1cm}\n",
    "Q = \\left[ \\begin{array}{ccc} 0 & 0  \\\\ 0 & 1 \\end{array}\\right] \\hspace{1cm}\n",
    "\\end{equation}\n",
    "$$\n",
    "\n",
    "Since every matrix in $\\mathbb{D}_{2\\times 2}$ can be written as a unique linear combination of $P$ and $Q$, $\\{P,Q\\}$ is a basis for $\\mathbb{D}_{2\\times 2}$.\n",
    "\n",
    "\n",
    "\n",
    "\n",
    "\n",
    "$(c)$ \n",
    "\n",
    "Since there are two matrices in the basis for $\\mathbb{D}_{2\\times 2}$, the dimension of $\\mathbb{D}_{2\\times 2}$ is 2. "
   ]
  },
  {
   "cell_type": "markdown",
   "id": "c48349a9",
   "metadata": {},
   "source": [
    "### Applications"
   ]
  },
  {
   "cell_type": "markdown",
   "id": "34179122",
   "metadata": {},
   "source": [
    "Set up and solve a linear system to balance each chemical equation.  \n",
    "\n",
    "**Exercise 1:** Combustion of methane:\n",
    "\n",
    "$$\n",
    "\\begin{equation}\n",
    "C_3H_8 + O_2 \\to CO_2 + H_2O\n",
    "\\end{equation}\n",
    "$$"
   ]
  },
  {
   "cell_type": "markdown",
   "id": "968cc13b",
   "metadata": {},
   "source": [
    "**Solution:**\n",
    "\n",
    "We will denote each molecule as a vector whose first entry is the number of carbon atoms, the second the number of oxygen atoms, and the third the number of hydrogen atoms. Then the chemical equation above can be expressed as the following vector equation\n",
    "\n",
    "$$\n",
    "\\begin{equation}\n",
    "x_1\\left[\\begin{array}{c} 3 \\\\ 0 \\\\ 8 \\end{array}\\right]\n",
    "+ x_2\\left[\\begin{array}{c} 0 \\\\ 2 \\\\ 0 \\end{array}\\right]\n",
    "= x_3\\left[\\begin{array}{c} 1 \\\\ 2 \\\\ 0 \\end{array}\\right]\n",
    "+ x_4\\left[\\begin{array}{c} 0 \\\\ 1 \\\\ 2 \\end{array}\\right]\n",
    "\\end{equation}\n",
    "$$\n",
    "\n",
    "If we move everything to the left side then we get the following homogeneous system\n",
    "\n",
    "$$\n",
    "\\begin{equation}\n",
    "\\left[\\begin{array}{rrr} 3 & 0 & -1 & 0 \\\\ 0 & 2 & -2 & -1 \\\\ 8 & 0 & 0 & -2 \\end{array}\\right]\n",
    "\\left[\\begin{array}{r} x_1 \\\\ x_2 \\\\ x_3 \\\\ x_4 \\end{array}\\right]\n",
    "= \\left[\\begin{array}{r} 0 \\\\ 0 \\\\ 0  \\end{array}\\right]\n",
    "\\end{equation}\n",
    "$$"
   ]
  },
  {
   "cell_type": "code",
   "execution_count": null,
   "id": "67274f52",
   "metadata": {},
   "outputs": [],
   "source": [
    "A = np.array([[3, 0, -1, 0],[0, 2, -2, -1],[8, 0, 0, -2]])\n",
    "A_reduced = lag.FullRowReduction(A)\n",
    "print(A_reduced)"
   ]
  },
  {
   "cell_type": "markdown",
   "id": "c32163d3",
   "metadata": {},
   "source": [
    "Since there is no pivot in the column corresponding to $x_4$, we treat $x_4$ as a free variable.  Since we want solutions that are integers, we will take $x_4=4$. This gives $x_1=1$, $x_2=5$, and $x_3=3$.  The correct equation for the chemical reaction is the following.\n",
    "\n",
    "$$\n",
    "\\begin{equation}\n",
    "C_3H_8 + 5O_2 \\to 3CO_2 + 4H_2O\n",
    "\\end{equation}\n",
    "$$\n"
   ]
  },
  {
   "cell_type": "markdown",
   "id": "f464f35d",
   "metadata": {},
   "source": [
    "**Exercise 2:** Aluminum reaction with sulfuric acid \n",
    "\n",
    "$$\n",
    "\\begin{equation}\n",
    "Al + H_2SO_4 \\to Al_2(SO_4)_3 + H_2\n",
    "\\end{equation}\n",
    "$$"
   ]
  },
  {
   "cell_type": "markdown",
   "id": "3ecda639",
   "metadata": {},
   "source": [
    "**Solution:**\n",
    "\n",
    "We will denote each molecule as a vector whose first entry is the number of aluminum atoms, the second the number of oxygen atoms, the third the number of hydrogen atoms, and the fourth the number of sulfur atoms. Then the chemical equation above can be expressed as the following vector equation\n",
    "\n",
    "$$\n",
    "\\begin{equation}\n",
    "x_1\\left[\\begin{array}{c} 1 \\\\ 0 \\\\ 0 \\\\ 0 \\end{array}\\right]\n",
    "+ x_2\\left[\\begin{array}{c} 0 \\\\ 4 \\\\ 2 \\\\ 1 \\end{array}\\right]\n",
    "= x_3\\left[\\begin{array}{c} 2 \\\\ 12 \\\\ 0 \\\\ 3 \\end{array}\\right]\n",
    "+ x_4\\left[\\begin{array}{c} 0 \\\\ 0 \\\\ 2 \\\\ 0 \\end{array}\\right]\n",
    "\\end{equation}\n",
    "$$\n",
    "\n",
    "If we move everything to the left side then we get the following homogeneous system\n",
    "\n",
    "\n",
    "$$\n",
    "\\begin{equation}\n",
    "\\left[\\begin{array}{rrr} 1 & 0 & -2 & 0 \\\\ 0 & 4 & -12 & 0 \\\\ 0 & 2 & 0 & -2 \\\\ 0 & 1 & -3 & 0 \\end{array}\\right]\n",
    "\\left[\\begin{array}{r} x_1 \\\\ x_2 \\\\ x_3 \\\\ x_4 \\end{array}\\right]\n",
    "= \\left[\\begin{array}{r} 0 \\\\ 0 \\\\ 0 \\\\ 0  \\end{array}\\right]\n",
    "\\end{equation}\n",
    "$$"
   ]
  },
  {
   "cell_type": "code",
   "execution_count": 3,
   "id": "e9669031",
   "metadata": {},
   "outputs": [
    {
     "name": "stdout",
     "output_type": "stream",
     "text": [
      "[[ 1.          0.          0.         -0.66666667]\n",
      " [ 0.          1.          0.         -1.        ]\n",
      " [ 0.          0.          1.         -0.33333333]\n",
      " [ 0.          0.          0.          0.        ]]\n"
     ]
    }
   ],
   "source": [
    "B = np.array([[1, 0, -2, 0],[0, 4, -12, 0],[0, 2, 0, -2],[0, 1, -3, 0]])\n",
    "B_reduced = lag.FullRowReduction(B)\n",
    "print(B_reduced)"
   ]
  },
  {
   "cell_type": "markdown",
   "id": "79078843",
   "metadata": {},
   "source": [
    "Since there is no pivot in the column corresponding to $x_4$, we treat $x_4$ as a free variable. Since we want solutions that are integers, we will take $x_4 = 3$. This gives $x_1=2$, $x_2=3$, and $x_3=1$.  The correct equation for the chemical reaction is the following.\n",
    "\n",
    "$$\n",
    "\\begin{equation}\n",
    "2Al + 3H_2SO_4 \\to Al_2(SO_4)_3 + 3H_2\n",
    "\\end{equation}\n",
    "$$\n"
   ]
  },
  {
   "cell_type": "markdown",
   "id": "996d828f",
   "metadata": {},
   "source": [
    "**Exercise 3:** Silver tarnish\n",
    "\n",
    "$$\n",
    "\\begin{equation}\n",
    "Ag + H_2S + O_2 \\to Ag_2S + H_2O\n",
    "\\end{equation}\n",
    "$$"
   ]
  },
  {
   "cell_type": "markdown",
   "id": "b576f005",
   "metadata": {},
   "source": [
    "**Solution:**\n",
    "\n",
    "We will denote each molecule as a vector whose first entry is the number of silver atoms, the second the number of oxygen atoms, the third the number of hydrogen atoms, and the fourth the number of sulfur atoms. Then the chemical equation above can be expressed as the following vector equation\n",
    "\n",
    "$$\n",
    "\\begin{equation}\n",
    "x_1\\left[\\begin{array}{c} 1 \\\\ 0 \\\\ 0 \\\\ 0 \\end{array}\\right]\n",
    "+ x_2\\left[\\begin{array}{c} 0 \\\\ 0 \\\\ 2 \\\\ 0 \\end{array}\\right]\n",
    "+ x_3\\left[\\begin{array}{c} 0 \\\\ 2 \\\\ 0 \\\\ 0 \\end{array}\\right]\n",
    "= x_4\\left[\\begin{array}{c} 2 \\\\ 0 \\\\ 0 \\\\ 1 \\end{array}\\right]\n",
    "+ x_5\\left[\\begin{array}{c} 0 \\\\ 1 \\\\ 2 \\\\ 0 \\end{array}\\right]\n",
    "\\end{equation}\n",
    "$$\n",
    "\n",
    "If we move everything to the left side then we get the following homogeneous system\n",
    "\n",
    "$$\n",
    "\\begin{equation}\n",
    "\\left[\\begin{array}{rrr} 1 & 0 & 0 & -2 & 0 \\\\ 0 & 0 & 2 & 0 & -1 \\\\ 0 & 2 & 0 & 0 & -2 \\\\ 0 & 1 & 0 & -1 & 0 \\end{array}\\right]\n",
    "\\left[\\begin{array}{r} x_1 \\\\ x_2 \\\\ x_3 \\\\ x_4 \\\\ x_5 \\end{array}\\right]\n",
    "= \\left[\\begin{array}{r} 0 \\\\ 0 \\\\ 0 \\\\ 0  \\end{array}\\right]\n",
    "\\end{equation}\n",
    "$$"
   ]
  },
  {
   "cell_type": "code",
   "execution_count": null,
   "id": "1ec1ec1e",
   "metadata": {},
   "outputs": [],
   "source": [
    "C = np.array([[1, 0, 0, -2, 0],[0, 0, 2, 0, -1],[0, 2, 0, 0, -2],[0, 1, 0, -1, 0]])\n",
    "C_reduced = lag.FullRowReduction(C)\n",
    "print(C_reduced)"
   ]
  },
  {
   "cell_type": "markdown",
   "id": "b1d020b8",
   "metadata": {},
   "source": [
    "Since there is no pivot in the column corresponding to $x_5$, we treat $x_5$ as a free variable. Since we want soltions that are integers, we will take $x_5 = 2$ This gives $x_1=4$, $x_2=2$, $x_3 = 1$, and $x_4=2$.  The correct equation for the chemical reaction is the following.\n",
    "\n",
    "$$\n",
    "\\begin{equation}\n",
    "4Ag + 2H_2S + O_2 \\to 2Ag_2S + 2H_2O\n",
    "\\end{equation}\n",
    "$$"
   ]
  }
 ],
 "metadata": {
  "kernelspec": {
   "display_name": "Python 3",
   "language": "python",
   "name": "python3"
  },
  "language_info": {
   "codemirror_mode": {
    "name": "ipython",
    "version": 3
   },
   "file_extension": ".py",
   "mimetype": "text/x-python",
   "name": "python",
   "nbconvert_exporter": "python",
   "pygments_lexer": "ipython3",
   "version": "3.7.3"
  }
 },
 "nbformat": 4,
 "nbformat_minor": 5
}
