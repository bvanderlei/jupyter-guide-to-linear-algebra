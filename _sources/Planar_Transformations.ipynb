{
 "cells": [
  {
   "cell_type": "markdown",
   "metadata": {},
   "source": [
    "## Transformations in a Plane"
   ]
  },
  {
   "cell_type": "markdown",
   "metadata": {},
   "source": [
    "As discussed in the previous section, any linear transformation $T:\\mathbb{R}^2\\to\\mathbb{R}^2$ can be represented as the multiplication of a $2\\times 2$ matrix and a coordinate vector.  For now, the coordinates are with respect to the standard basis $\\{E_1,E_2\\}$ as they were before.  The columns of the matrix are then the images of the the basis vectors.\n",
    "\n",
    "$$\n",
    "\\begin{equation}\n",
    "A = \\left[ \\begin{array}{c|c} T(E_1) & T(E_2) \\end{array} \\right]\n",
    "\\end{equation}\n",
    "$$"
   ]
  },
  {
   "cell_type": "markdown",
   "metadata": {},
   "source": [
    "### Example 1:  Horizontal Stretch\n",
    "\n",
    "As a first example let us consider the transformation defined by the following images.\n",
    "\n",
    "$$\n",
    "\\begin{equation}\n",
    "T\\left(\\left[ \\begin{array}{r} 1 \\\\ 0  \\end{array}\\right]\\right)= \\left[ \\begin{array}{r} 2 \\\\ 0  \\end{array}\\right] \\hspace{1in}  T\\left(\\left[ \\begin{array}{r} 0 \\\\ 1  \\end{array}\\right]\\right)= \\left[ \\begin{array}{r} 0 \\\\ 1  \\end{array}\\right]  \n",
    "\\end{equation}\n",
    "$$\n",
    "\n",
    "The matrix corresponding to the transformation is then\n",
    "\n",
    "$$\n",
    "\\begin{equation}\n",
    "A = \\left[ \\begin{array}{cc} 2 & 0 \\\\ 0 & 1 \\end{array}\\right]\n",
    "\\end{equation}\n",
    "$$\n",
    "\n",
    "The image of a general vector with components $c_1$ and $c_2$ is given by a linear combination \n",
    "of the images of the basis vectors.\n",
    "\n",
    "$$\n",
    "\\begin{equation}\n",
    "T\\left(\\left[ \\begin{array}{r} c_1 \\\\ c_2  \\end{array}\\right]\\right) = T\\left(c_1\\left[ \\begin{array}{r} 1 \\\\ 0  \\end{array}\\right] + c_2 \\left[ \\begin{array}{r} 0 \\\\ 1  \\end{array}\\right]\\right) = c_1T\\left(\\left[ \\begin{array}{r} 1 \\\\ 0  \\end{array}\\right]\\right) + c_2 T\\left(\\left[ \\begin{array}{r} 0 \\\\ 1  \\end{array}\\right]\\right)  = c_1\\left[ \\begin{array}{r} 2 \\\\ 0  \\end{array}\\right] + c_2\\left[ \\begin{array}{r} 0 \\\\ 1  \\end{array}\\right]  = \\left[ \\begin{array}{cc} 2 & 0 \\\\ 0 & 1 \\end{array}\\right] \\left[\\begin{array}{c} c_1 \\\\ c_2 \\end{array}\\right]\n",
    "\\end{equation}\n",
    "$$\n",
    "\n",
    "To get a visual understanding of the transformation, we produce a plot that displays multiple input vectors, and their corresponding images.  Since we will multiply each vector by the same matrix, we can organize our calculations by constructing a matrix with columns that match the input vectors.  This matrix is the array labeled $\\texttt{coords}$ in the code below.  We use array slicing to label the first row $\\texttt{x}$, and the second row $\\texttt{y}$ for the purposes of plotting. "
   ]
  },
  {
   "cell_type": "code",
   "execution_count": 1,
   "metadata": {},
   "outputs": [],
   "source": [
    "%matplotlib inline  \n",
    "from math import pi, sin, cos\n",
    "import matplotlib.pyplot as plt\n",
    "import numpy as np\n",
    "\n",
    "coords = np.array([[0,0],[0.5,0.5],[0.5,1.5],[0,1],[0,0]])\n",
    "coords = coords.transpose()\n",
    "coords\n",
    "x = coords[0,:]\n",
    "y = coords[1,:]\n",
    "\n",
    "A = np.array([[2,0],[0,1]])\n",
    "A_coords = A@coords"
   ]
  },
  {
   "cell_type": "markdown",
   "metadata": {},
   "source": [
    "The columns of the array $\\texttt{A_coords}$ are the images of the vectors that make up the columns of $\\texttt{coords}$.  Let's plot the coordinates and see the effect of the transformation.  Again, we need to access the first and second rows by slicing.  The red points show the original coordinates, and the new coordinates are shown in blue."
   ]
  },
  {
   "cell_type": "code",
   "execution_count": 2,
   "metadata": {},
   "outputs": [
    {
     "data": {
      "image/png": "[encoded data removed]",
      "text/plain": [
       "<Figure size 432x288 with 1 Axes>"
      ]
     },
     "metadata": {
      "needs_background": "light"
     },
     "output_type": "display_data"
    }
   ],
   "source": [
    "x_LT1 = A_coords[0,:]\n",
    "y_LT1 = A_coords[1,:]\n",
    "\n",
    "# Create the figure and axes objects\n",
    "fig, ax = plt.subplots()\n",
    "\n",
    "# Plot the points.  x and y are original vectors, x_LT1 and y_LT1 are images\n",
    "ax.plot(x,y,'ro')\n",
    "ax.plot(x_LT1,y_LT1,'bo')\n",
    "\n",
    "# Connect the points by lines\n",
    "ax.plot(x,y,'r',ls=\"--\")\n",
    "ax.plot(x_LT1,y_LT1,'b')\n",
    "\n",
    "# Edit some settings \n",
    "ax.axvline(x=0,color=\"k\",ls=\":\")\n",
    "ax.axhline(y=0,color=\"k\",ls=\":\")\n",
    "ax.grid(True)\n",
    "ax.axis([-2,2,-1,2])\n",
    "ax.set_aspect('equal')\n",
    "ax.set_title(\"Horizontal Stretch\");"
   ]
  },
  {
   "cell_type": "markdown",
   "metadata": {},
   "source": [
    "We observe that the result of the transformation is that the polygon has been stretched in the horizontal direction.  \n",
    "\n",
    "### Example 2:  Reflection\n",
    "\n",
    "Now that we have a set of vectors stored in the $\\texttt{coords}$ matrix, let's look at another transformation that is defined by the matrix $B$.\n",
    "\n",
    "$$\n",
    "\\begin{equation}\n",
    "B = \\left[ \\begin{array}{cc} -1 & 0 \\\\ 0 & 1 \\end{array}\\right]\n",
    "\\end{equation}\n",
    "$$\n",
    "\n",
    "We make a new array $B$, but reuse the plotting code from the previous example."
   ]
  },
  {
   "cell_type": "code",
   "execution_count": 3,
   "metadata": {},
   "outputs": [
    {
     "data": {
      "image/png": "[encoded data removed]",
      "text/plain": [
       "<Figure size 432x288 with 1 Axes>"
      ]
     },
     "metadata": {
      "needs_background": "light"
     },
     "output_type": "display_data"
    }
   ],
   "source": [
    "B = np.array([[-1,0],[0,1]])\n",
    "B_coords = B@coords\n",
    "\n",
    "x_LT2 = B_coords[0,:]\n",
    "y_LT2 = B_coords[1,:]\n",
    "\n",
    "# Create the figure and axes objects\n",
    "fig, ax = plt.subplots()\n",
    "\n",
    "# Plot the points.  x and y are original vectors, x_LT1 and y_LT1 are images\n",
    "ax.plot(x,y,'ro')\n",
    "ax.plot(x_LT2,y_LT2,'bo')\n",
    "\n",
    "# Connect the points by lines\n",
    "ax.plot(x,y,'r',ls=\"--\")\n",
    "ax.plot(x_LT2,y_LT2,'b')\n",
    "\n",
    "# Edit some settings \n",
    "ax.axvline(x=0,color=\"k\",ls=\":\")\n",
    "ax.axhline(y=0,color=\"k\",ls=\":\")\n",
    "ax.grid(True)\n",
    "ax.axis([-2,2,-1,2])\n",
    "ax.set_aspect('equal')\n",
    "ax.set_title(\"Reflection\");"
   ]
  },
  {
   "cell_type": "markdown",
   "metadata": {},
   "source": [
    "We see that this transformation reflects points around the vertical axis.\n",
    "\n",
    "### Example 3:  Rotation\n",
    "\n",
    "To rotate vectors in the plane, we choose an angle $\\theta$ and write down the matrix that represents the rotation counterclockwise by an angle $\\theta$.  Basic trigonometry can be used to calculate the columns in this case.   \n",
    "\n",
    "$$\n",
    "\\begin{equation}\n",
    "R = \\left[ \\begin{array}{cc} \\cos\\theta & -\\sin\\theta \\\\ \\sin\\theta & \\cos\\theta \\end{array}\\right]\n",
    "\\end{equation}\n",
    "$$"
   ]
  },
  {
   "cell_type": "code",
   "execution_count": 4,
   "metadata": {},
   "outputs": [
    {
     "data": {
      "image/png": "[encoded data removed]",
      "text/plain": [
       "<Figure size 432x288 with 1 Axes>"
      ]
     },
     "metadata": {
      "needs_background": "light"
     },
     "output_type": "display_data"
    }
   ],
   "source": [
    "theta = pi/6\n",
    "R = np.array([[cos(theta),-sin(theta)],[sin(theta),cos(theta)]])\n",
    "R_coords = R@coords\n",
    "\n",
    "x_LT3 = R_coords[0,:]\n",
    "y_LT3 = R_coords[1,:]\n",
    "\n",
    "# Create the figure and axes objects\n",
    "fig, ax = plt.subplots()\n",
    "\n",
    "# Plot the points.  x and y are original vectors, x_LT1 and y_LT1 are images\n",
    "ax.plot(x,y,'ro')\n",
    "ax.plot(x_LT3,y_LT3,'bo')\n",
    "\n",
    "# Connect the points by lines\n",
    "ax.plot(x,y,'r',ls=\"--\")\n",
    "ax.plot(x_LT3,y_LT3,'b')\n",
    "\n",
    "# Edit some settings \n",
    "ax.axvline(x=0,color=\"k\",ls=\":\")\n",
    "ax.axhline(y=0,color=\"k\",ls=\":\")\n",
    "ax.grid(True)\n",
    "ax.axis([-2,2,-1,2])\n",
    "ax.set_aspect('equal')\n",
    "ax.set_title(\"Rotation\");"
   ]
  },
  {
   "cell_type": "markdown",
   "metadata": {},
   "source": [
    "### Example 4: Shear\n",
    "\n",
    "In the study of mechanics, shear forces occur when one force acts on some part of a body while a second force acts on another part of the body but in the opposite direction. To visualize this, imagine a deck of playing cards resting on the table, and then while resting your hand on top of the deck, sliding your hand parallel to the table. \n",
    "\n",
    "A **shear** transformation is any transformation that shifts points in a given direction by an amount proportional to their original (signed) distance from the line that is parallel to the movement of direction and that passes through the origin. For example, a horizontal shear applied to a vector would add to the vector's $x$-coordinate a value scaled by the value of its $y$-coordinate (or subtract, if the $y$-coordinate was negative). A vertical shear is expressed as a matrix in the form of the first matrix below, and a horizontal shear with the second where $k \\in \\mathbb{R}$ is called the **shearing factor**.\n",
    "\n",
    "$$\n",
    "\\begin{equation}\n",
    "\\left[ \\begin{array}{r} 1 & 0 \\\\ k & 1  \\end{array}\\right] \\hspace{1in}  \n",
    "\\left[ \\begin{array}{r} 1 & k \\\\ 0 & 1  \\end{array}\\right]  \n",
    "\\end{equation}\n",
    "$$"
   ]
  },
  {
   "cell_type": "code",
   "execution_count": 5,
   "metadata": {},
   "outputs": [
    {
     "data": {
      "image/png": "[encoded data removed]",
      "text/plain": [
       "<Figure size 432x288 with 1 Axes>"
      ]
     },
     "metadata": {
      "needs_background": "light"
     },
     "output_type": "display_data"
    }
   ],
   "source": [
    "S = np.array([[1,2],[0,1]])\n",
    "S_coords = S@coords\n",
    "\n",
    "x_LT4 = S_coords[0,:]\n",
    "y_LT4 = S_coords[1,:]\n",
    "\n",
    "\n",
    "# Create the figure and axes objects\n",
    "fig, ax = plt.subplots()\n",
    "\n",
    "# Plot the points.  x and y are original vectors, x_LT1 and y_LT1 are images\n",
    "ax.plot(x,y,'ro')\n",
    "ax.plot(x_LT4,y_LT4,'bo')\n",
    "\n",
    "# Connect the points by lines\n",
    "ax.plot(x,y,'r',ls=\"--\")\n",
    "ax.plot(x_LT4,y_LT4,'b')\n",
    "\n",
    "# Edit some settings \n",
    "ax.axvline(x=0,color=\"k\",ls=\":\")\n",
    "ax.axhline(y=0,color=\"k\",ls=\":\")\n",
    "ax.grid(True)\n",
    "ax.axis([-2,4,-1,2])\n",
    "ax.set_aspect('equal')\n",
    "ax.set_title(\"Shear\");"
   ]
  },
  {
   "cell_type": "markdown",
   "metadata": {},
   "source": [
    "### Example 5:  Composition of transformations\n",
    "\n",
    "One of the powerful aspects of representing linear transformations as matrices is that we can form compositions by matrix multiplication.  For example,  in order to find the matrix that represents the composition $B\\circ R$, the rotation from Example 3, followed by the reflection of Example 2,\n",
    "we can simply multiply the matrices that represent the individual transformations.  \n",
    "\n",
    "$$\n",
    "\\begin{equation}\n",
    "[B][R] = \\left[ \\begin{array}{cc} -1 & 0 \\\\ 0 & 1 \\end{array}\\right]\n",
    "\\left[ \\begin{array}{cc} \\cos\\theta & -\\sin\\theta \\\\ \\sin\\theta & \\cos\\theta \\end{array}\\right]\n",
    "=\\left[ \\begin{array}{cc} -\\cos\\theta & \\sin\\theta \\\\ \\sin\\theta & \\cos\\theta \\end{array}\\right]\n",
    "\\end{equation}\n",
    "$$\n"
   ]
  },
  {
   "cell_type": "code",
   "execution_count": 6,
   "metadata": {},
   "outputs": [
    {
     "data": {
      "image/png": "[encoded data removed]",
      "text/plain": [
       "<Figure size 432x288 with 1 Axes>"
      ]
     },
     "metadata": {
      "needs_background": "light"
     },
     "output_type": "display_data"
    }
   ],
   "source": [
    "C = np.array([[-cos(theta),sin(theta)],[sin(theta),cos(theta)]])\n",
    "C_coords = C@coords\n",
    "\n",
    "x_LT5 = C_coords[0,:]\n",
    "y_LT5 = C_coords[1,:]\n",
    "\n",
    "\n",
    "# Create the figure and axes objects\n",
    "fig, ax = plt.subplots()\n",
    "\n",
    "# Plot the points.  x and y are original vectors, x_LT1 and y_LT1 are images\n",
    "ax.plot(x,y,'ro')\n",
    "ax.plot(x_LT5,y_LT5,'bo')\n",
    "\n",
    "# Connect the points by lines\n",
    "ax.plot(x,y,'r',ls=\"--\")\n",
    "ax.plot(x_LT5,y_LT5,'b')\n",
    "\n",
    "# Edit some settings \n",
    "ax.axvline(x=0,color=\"k\",ls=\":\")\n",
    "ax.axhline(y=0,color=\"k\",ls=\":\")\n",
    "ax.grid(True)\n",
    "ax.axis([-2,2,-1,2])\n",
    "ax.set_aspect('equal')"
   ]
  },
  {
   "cell_type": "markdown",
   "metadata": {},
   "source": [
    "### Exercises"
   ]
  },
  {
   "cell_type": "markdown",
   "metadata": {},
   "source": [
    "**Exercise 1:** \n",
    "\n",
    "($a$) Find a matrix that represents the reflection about the $x_1$-axis. "
   ]
  },
  {
   "cell_type": "code",
   "execution_count": 10,
   "metadata": {},
   "outputs": [],
   "source": [
    "## Code solution here."
   ]
  },
  {
   "cell_type": "markdown",
   "metadata": {},
   "source": [
    "($b$) Multiply the matrix by $\\texttt{coords}$ and plot the results."
   ]
  },
  {
   "cell_type": "code",
   "execution_count": 10,
   "metadata": {},
   "outputs": [],
   "source": [
    "## Code solution here."
   ]
  },
  {
   "cell_type": "markdown",
   "metadata": {},
   "source": [
    "**Exercise 2:** \n",
    "\n",
    "($a$) Find a matrix that represents the reflection about the line $x_1=x_2$. "
   ]
  },
  {
   "cell_type": "code",
   "execution_count": 10,
   "metadata": {},
   "outputs": [],
   "source": [
    "## Code solution here."
   ]
  },
  {
   "cell_type": "markdown",
   "metadata": {},
   "source": [
    "($b$) Multiply the matrix by $\\texttt{coords}$ and plot the results."
   ]
  },
  {
   "cell_type": "code",
   "execution_count": 10,
   "metadata": {},
   "outputs": [],
   "source": [
    "## Code solution here."
   ]
  },
  {
   "cell_type": "markdown",
   "metadata": {},
   "source": [
    "**Exercise 3:** \n",
    "\n",
    "($a$) Find a matrix that represents the rotation clockwise by an angle $\\theta$. "
   ]
  },
  {
   "cell_type": "code",
   "execution_count": 10,
   "metadata": {},
   "outputs": [],
   "source": [
    "## Code solution here."
   ]
  },
  {
   "cell_type": "markdown",
   "metadata": {},
   "source": [
    "($b$) Let $\\theta = 90^{\\circ}$.  Multiply the matrix by $\\texttt{coords}$ and plot the results."
   ]
  },
  {
   "cell_type": "code",
   "execution_count": 10,
   "metadata": {},
   "outputs": [],
   "source": [
    "## Code solution here."
   ]
  },
  {
   "cell_type": "markdown",
   "metadata": {},
   "source": [
    "**Exercise 4:** \n",
    "\n",
    "($a$) Find a matrix that represents a vertical shear followed by the rotation in Example 3. "
   ]
  },
  {
   "cell_type": "code",
   "execution_count": 10,
   "metadata": {},
   "outputs": [],
   "source": [
    "## Code solution here."
   ]
  },
  {
   "cell_type": "markdown",
   "metadata": {},
   "source": [
    "($b$) Multiply the matrix by $\\texttt{coords}$ and plot the results."
   ]
  },
  {
   "cell_type": "code",
   "execution_count": 8,
   "metadata": {},
   "outputs": [],
   "source": [
    "## Code solution here."
   ]
  },
  {
   "cell_type": "markdown",
   "metadata": {},
   "source": [
    "**Exercise 5:** Create a new matrix of coordinates and apply one of the transformations in the Examples.  Plot the results."
   ]
  },
  {
   "cell_type": "code",
   "execution_count": 9,
   "metadata": {},
   "outputs": [],
   "source": [
    "## Code solution here."
   ]
  },
  {
   "cell_type": "markdown",
   "metadata": {},
   "source": [
    "**Exercise 6:** \n",
    "\n",
    "($a$) Construct a matrix that represents a horizontal and a vertical stretch by a factor of 2 . "
   ]
  },
  {
   "cell_type": "code",
   "execution_count": null,
   "metadata": {},
   "outputs": [],
   "source": [
    "## Code solution here"
   ]
  },
  {
   "cell_type": "markdown",
   "metadata": {},
   "source": [
    "($b$) Create a new matrix of coordinates.  Apply this transformation and plot the results."
   ]
  },
  {
   "cell_type": "code",
   "execution_count": null,
   "metadata": {},
   "outputs": [],
   "source": [
    "## Code solution here"
   ]
  }
 ],
 "metadata": {
  "kernelspec": {
   "display_name": "Python 3",
   "language": "python",
   "name": "python3"
  },
  "language_info": {
   "codemirror_mode": {
    "name": "ipython",
    "version": 3
   },
   "file_extension": ".py",
   "mimetype": "text/x-python",
   "name": "python",
   "nbconvert_exporter": "python",
   "pygments_lexer": "ipython3",
   "version": "3.7.3"
  }
 },
 "nbformat": 4,
 "nbformat_minor": 2
}
