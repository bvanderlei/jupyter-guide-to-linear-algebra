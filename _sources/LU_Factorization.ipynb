{
 "cells": [
  {
   "cell_type": "markdown",
   "metadata": {},
   "source": [
    "## LU Factorization\n"
   ]
  },
  {
   "cell_type": "code",
   "execution_count": 1,
   "metadata": {},
   "outputs": [],
   "source": [
    "import numpy as np\n",
    "import laguide as lag\n",
    "import numpy.linalg as nla"
   ]
  },
  {
   "cell_type": "markdown",
   "metadata": {},
   "source": [
    "We saw in the last section that given two matrices, $A$ and $B$, of compatible shapes, we are able to define the product matrix $C=AB$ in a useful way.  In this section we discuss the factorization of a matrix.  One might naturally ask if it is possible to start with matrix $C$ and determine the two matrix factors $A$ and $B$.  As it turns out, a useful course of action is to look for matrix factors that have a particular structure.\n",
    "\n",
    "One such factorization, that is closely related to the elimination process, is known as the LU Factorization.  Given a matrix $A$, we will look for matrices $L$ and $U$ such that \n",
    "\n",
    "1. $LU = A$\n",
    "2. $L$ is a lower triangular matrix with main diagonal entries equal to 1.\n",
    "3. $U$ is an upper triangular matrix.\n",
    "\n",
    "Here is a visualization of what we are seeking.\n",
    "\n",
    "\n",
    "$$\n",
    "\\begin{equation}\n",
    "A = \\left[ \\begin{array}{cccc} * & * & * & * \\\\ * & * & * & * \\\\ * & * & * & * \\\\ * & * & * & *  \\end{array}\\right]\\hspace{1cm}\n",
    "L = \\left[ \\begin{array}{cccc} 1 & 0 & 0 & 0 \\\\ * & 1 & 0 & 0 \\\\ * & * & 1 & 0 \\\\ * & * & * & 1 \\end{array}\\right]\\hspace{1cm}\n",
    "U = \\left[ \\begin{array}{cccc} * & * & * & * \\\\ 0 & * & * & * \\\\ 0 & 0 & * & * \\\\ 0 & 0 & 0 & *  \\end{array}\\right]\\hspace{1cm}\n",
    "\\end{equation}\n",
    "$$\n",
    "\n",
    "Before we tackle the problem of calculating $L$ and $U$ from a known matrix $A$, let's see why such a factorization is useful.  Suppose that we have found $L$ and $U$ so that $A=LU$ and we wish to solve the system $AX=B$.  Another way to write the problem then is $LUX=B$.  We can then define another unknown $Y$, by saying that $UX=Y$.  It seems now that we have exchanged a single system for two.\n",
    "\n",
    "$$\n",
    "\\begin{eqnarray*}\n",
    "UX & = & Y\\\\\n",
    "LY & = & B \n",
    "\\end{eqnarray*}\n",
    "$$\n",
    "\n",
    "While it is true that we have in fact doubled the number of equations, the two systems that we have are triangular and can be solved easily with back (or forward) substitution.  Let's see an example with actual numbers."
   ]
  },
  {
   "cell_type": "markdown",
   "metadata": {},
   "source": [
    "### Example 1:\n",
    "\n",
    "We want to solve the system of equations.\n",
    "\n",
    "$$\n",
    "\\begin{equation}\n",
    "\\left[ \\begin{array}{ccc} 3 & -1 & -2 \\\\ 6 & -1 & 0  \\\\ -3 & 5 & 20  \\end{array}\\right]X = \n",
    "\\left[ \\begin{array}{c} -4 \\\\ -8 \\\\ 6  \\end{array}\\right]\\hspace{1cm}\n",
    "\\end{equation}\n",
    "$$\n",
    "\n",
    "where $X$ is an unknown $3\\times 1$ vector.  Suppose we also have computed $L$ and $U$.\n",
    "\n",
    "$$\n",
    "\\begin{equation}\n",
    "L = \\left[ \\begin{array}{ccc} 1 & 0 & 0 \\\\ 2 & 1 & 0  \\\\ -1 & 4 & 1  \\end{array}\\right] \\hspace{2cm} \n",
    "U = \\left[ \\begin{array}{ccc} 3 & -1 & -2 \\\\ 0 & 1 & 4  \\\\ 0 & 0 & 2  \\end{array}\\right] \n",
    "\\end{equation}\n",
    "$$\n"
   ]
  },
  {
   "cell_type": "markdown",
   "metadata": {},
   "source": [
    "(_Check for yourself by hand and with Python that LU = A!_)\n",
    "\n",
    "Now let's write out the systems $UX=Y$ and $LY = B$.  For the sake of clarity, we leave the matrix notation aside for a moment and use the variables $x_1$, $x_2$, and $x_3$ for the entries of $X$ and the variables $y_1$, $y_2$, and $y_3$ for the entries of $Y$.\n",
    "\n",
    "\n",
    "$$\n",
    "\\begin{eqnarray*}\n",
    "x_1 \\hspace{2.1cm}& = & y_1\\\\\n",
    "2x_1 + x_2 \\hspace{1.1cm}& = & y_2\\\\\n",
    "-x_1 + 4x_2 +x_3 & = & y_3 \\\\\n",
    "\\\\\n",
    "3y_1 - y_2 - 2y_3 & = & -4\\\\\n",
    "y_2 + 4y_3 & = & -8\\\\\n",
    "2y_3 & = & 6 \n",
    "\\end{eqnarray*}\n",
    "$$\n",
    "\n",
    "Now the solution is a matter of substitution.  The last equation tells us $y_3$.  From there we work backwards to find $y_2$ and $y_1$.  Then we go the first three equations to determine the $x$ values in a similar way, starting this time with the very first equation and working our way down.\n"
   ]
  },
  {
   "cell_type": "code",
   "execution_count": 2,
   "metadata": {},
   "outputs": [
    {
     "name": "stdout",
     "output_type": "stream",
     "text": [
      "[[ 3 -1 -2]\n",
      " [ 6 -1  0]\n",
      " [-3  5 20]]\n",
      "[[-4]\n",
      " [-8]\n",
      " [ 6]]\n"
     ]
    }
   ],
   "source": [
    "# Code to produce example.  Remove later.\n",
    "\n",
    "L = np.array([[1,0,0],[2,1,0],[-1,4,1]])\n",
    "U = np.array([[3,-1,-2],[0,1,4],[0,0,2]])\n",
    "A = L@U\n",
    "print(A)\n",
    "X = np.array([[-2],[-4],[1]])\n",
    "B = A@X\n",
    "print(B)"
   ]
  },
  {
   "cell_type": "markdown",
   "metadata": {},
   "source": [
    "### Exercise:\n",
    "\n",
    "Solve the system $AX=B$ using the given $L$ and $U$.\n",
    "\n",
    "$$\n",
    "\\begin{equation}\n",
    "A = \\left[ \\begin{array}{ccc} 5 & 2 & 1 \\\\ 5 & 3 & 0 \\\\ -5 & -2 & -4  \\end{array}\\right] \\hspace{2cm} \n",
    "B = \\left[ \\begin{array}{c} 4 \\\\ 7 \\\\ 8  \\end{array}\\right] \\hspace{2cm} \n",
    "L = \\left[ \\begin{array}{ccc} 1 & 0 & 0 \\\\ 1 & 1 & 0  \\\\ -1 & 0 & 1  \\end{array}\\right] \\hspace{2cm} \n",
    "U = \\left[ \\begin{array}{ccc} 5 & 2 & 1 \\\\ 0 & 1 & -1  \\\\ 0 & 0 & 3  \\end{array}\\right] \n",
    "\\end{equation}\n",
    "$$"
   ]
  },
  {
   "cell_type": "code",
   "execution_count": 3,
   "metadata": {},
   "outputs": [
    {
     "name": "stdout",
     "output_type": "stream",
     "text": [
      "[[ 5  2  1]\n",
      " [ 5  3  0]\n",
      " [-5 -2 -4]]\n",
      "[[4]\n",
      " [7]\n",
      " [8]]\n"
     ]
    }
   ],
   "source": [
    "# Code to produce exercise.  Remove later.\n",
    "L = np.array([[1,0,0],[1,1,0],[-1,0,1]])\n",
    "U = np.array([[5,2,1],[0,1,-1],[0,0,-3]])\n",
    "A = L@U\n",
    "print(A)\n",
    "X = np.array([[2],[-1],[-4]])\n",
    "B = A@X\n",
    "print(B)"
   ]
  },
  {
   "cell_type": "markdown",
   "metadata": {},
   "source": [
    "### Exercise:\n",
    "\n",
    "Write a function called $\\texttt{ForwardSubstitution}$ that will solve a lower triangular system $LY=B$.  It will be helpful to go back and look at the code for $\\texttt{BackSubstitution}$."
   ]
  },
  {
   "cell_type": "markdown",
   "metadata": {},
   "source": [
    "### Elementary Matrices\n",
    "\n",
    "In order to understand how we can construct the LU factorization through elimination, it helpful to see that the steps of elimination can be carried out by multiplication with special matrices called **elementary matrices**.  Elementary matrices are the result of applying either a $\\texttt{RowScale}$ or $\\texttt{RowAdd}$ operation to the identity matrix of compatible shape.  (*Remember that rearranging the rows is only necessary if a 0 arises in a pivot position.  We will address row swaps a bit later.*) \n",
    "\n",
    "For an example, let's apply one of these operations to a $4\\times 4$ identity matrix."
   ]
  },
  {
   "cell_type": "code",
   "execution_count": 5,
   "metadata": {},
   "outputs": [
    {
     "name": "stdout",
     "output_type": "stream",
     "text": [
      "[[1. 0. 0. 0.]\n",
      " [0. 1. 0. 0.]\n",
      " [0. 0. 1. 0.]\n",
      " [0. 0. 0. 1.]]\n",
      "\n",
      "\n",
      "[[ 1.  0.  0.  0.]\n",
      " [ 0.  1.  0.  0.]\n",
      " [ 0. -3.  1.  0.]\n",
      " [ 0.  0.  0.  1.]]\n"
     ]
    }
   ],
   "source": [
    "I = np.eye(4)\n",
    "E = lag.RowAdd(I,1,2,-3)\n",
    "print(I)\n",
    "print('\\n')\n",
    "print(E)\n"
   ]
  },
  {
   "cell_type": "markdown",
   "metadata": {},
   "source": [
    "The $E$ that we get is the result of adding -3 times the first row of $I$ to the third row of $I$.  The interesting property of the elementry matrix $E$ is that if we multiply another matrix $A$ by $E$, the result will be a the matrix we would get by applying the same row operation to $A$."
   ]
  },
  {
   "cell_type": "code",
   "execution_count": 6,
   "metadata": {},
   "outputs": [
    {
     "name": "stdout",
     "output_type": "stream",
     "text": [
      "[[ 1  2  0 -1]\n",
      " [-1  1 -1  4]\n",
      " [ 2 13 -4  9]\n",
      " [-2  5 -3 13]]\n",
      "\n",
      "\n",
      "[[ 1.  2.  0. -1.]\n",
      " [-1.  1. -1.  4.]\n",
      " [ 5. 10. -1. -3.]\n",
      " [-2.  5. -3. 13.]]\n"
     ]
    }
   ],
   "source": [
    "A=np.array([[1,2,0,-1],[-1,1,-1,4],[2,13,-4,9],[-2,5,-3,13]])\n",
    "print(A)\n",
    "print('\\n')\n",
    "print(E@A)"
   ]
  },
  {
   "cell_type": "markdown",
   "metadata": {},
   "source": [
    "With this idea in place, we could carry out the elimination by applying a sequence of elementary matrices $E_1$, $E_2$, $E_3$,...to $A$.  Let's see how it works for the matrix above."
   ]
  },
  {
   "cell_type": "code",
   "execution_count": 8,
   "metadata": {},
   "outputs": [
    {
     "name": "stdout",
     "output_type": "stream",
     "text": [
      "[[ 1.  2.  0. -1.]\n",
      " [ 0.  3. -1.  3.]\n",
      " [ 0.  9. -4. 11.]\n",
      " [ 0.  9. -3. 11.]]\n",
      "[[ 1.  2.  0. -1.]\n",
      " [ 0.  3. -1.  3.]\n",
      " [ 0.  0. -1.  2.]\n",
      " [ 0.  0.  0.  2.]]\n"
     ]
    }
   ],
   "source": [
    "A=np.array([[1,2,0,-1],[-1,1,-1,4],[2,13,-4,9],[-2,5,-3,13]])\n",
    "I = np.eye(4)\n",
    "E1 = lag.RowAdd(I,0,1,1)\n",
    "E2 = lag.RowAdd(I,0,2,-2)\n",
    "E3 = lag.RowAdd(I,0,3,2)\n",
    "print(E3@E2@E1@A)\n",
    "E4 = lag.RowAdd(I,1,2,-3)\n",
    "E5 = lag.RowAdd(I,1,3,-3)\n",
    "print(E5@E4@E3@E2@E1@A)"
   ]
  },
  {
   "cell_type": "markdown",
   "metadata": {},
   "source": [
    "After using $\\texttt{RowAdd}$ to create zeros in the appropriate spaces, we now have the $U$ factor.  Writing out the matrix multiplication in symbols it looks like this.\n",
    "\n",
    "$$\n",
    "\\begin{equation}\n",
    "E_5E_4E_3E_2E_1A = U\n",
    "\\end{equation}\n",
    "$$\n",
    "\n",
    "Note that the order of the multiplications cannot be changed.  $E_1$ should be the first to multiply $A$, then $E_2$, and so on.  Now let us manipulate the symbols a bit based on the properties of inverse matrices.\n",
    "\n",
    "$$\n",
    "\\begin{eqnarray}\n",
    "A &=& (E_5E_4E_3E_2E_1)^{-1}U  \\\\\n",
    "A &=& E_1^{-1}E_2^{-1}E_3^{-1}E_4^{-1}E_5^{-1}U  \n",
    "\\end{eqnarray}\n",
    "$$\n",
    "\n",
    "It must be that $L = E_1^{-1}E_2^{-1}E_3^{-1}E_4^{-1}E_5^{-1}$.  The fact that this product of inverse elementary matrices has the correct form to be $L$ is not at all clear.  Let's make the following two observations.\n",
    "\n",
    "1. Each of the inverse elementary matrices has a simple lower triangular structure.  In fact, the matrix $E_3^{-1}$ is also an elementary matrix.  It is the elementary matrix that undoes the row operation represented by $E_3$!  Multiplication by $E_3$ adds 2 times the first row to the last row.  Multiplication by $E_3^{-1}$ adds -2 times the first row to the last row."
   ]
  },
  {
   "cell_type": "code",
   "execution_count": 9,
   "metadata": {},
   "outputs": [
    {
     "name": "stdout",
     "output_type": "stream",
     "text": [
      "[[1. 0. 0. 0.]\n",
      " [0. 1. 0. 0.]\n",
      " [0. 0. 1. 0.]\n",
      " [2. 0. 0. 1.]]\n",
      "[[ 1.  0.  0.  0.]\n",
      " [ 0.  1.  0.  0.]\n",
      " [ 0.  0.  1.  0.]\n",
      " [-2.  0.  0.  1.]]\n"
     ]
    }
   ],
   "source": [
    "print(E3)\n",
    "print(nla.inv(E3))"
   ]
  },
  {
   "cell_type": "markdown",
   "metadata": {},
   "source": [
    "2. Mulitiplying two lower triangular matrices together produces a lower triangular matrix.  Look at any example and try to figure out why."
   ]
  },
  {
   "cell_type": "code",
   "execution_count": 10,
   "metadata": {},
   "outputs": [
    {
     "name": "stdout",
     "output_type": "stream",
     "text": [
      "[[ 1  0  0  0]\n",
      " [-1  1  0  0]\n",
      " [ 2  3  1  0]\n",
      " [-2  3  0  1]]\n",
      "[[ 1  0  0  0]\n",
      " [ 2  1  0  0]\n",
      " [-5  4  1  0]\n",
      " [ 4  4  1  1]]\n",
      "[[1 0 0 0]\n",
      " [1 1 0 0]\n",
      " [3 7 1 0]\n",
      " [8 7 1 1]]\n"
     ]
    }
   ],
   "source": [
    "L1 = np.array([[1,0,0,0],[-1,1,0,0],[2,3,1,0],[-2,3,0,1]])\n",
    "L2 = np.array([[1,0,0,0],[2,1,0,0],[-5,4,1,0],[4,4,1,1]])\n",
    "print(L1)\n",
    "print(L2)\n",
    "print(L1@L2)"
   ]
  },
  {
   "cell_type": "markdown",
   "metadata": {},
   "source": [
    "These two facts together tell us that the matrix $E_1^{-1}E_2^{-1}E_3^{-1}E_4^{-1}E_5^{-1}$ has the correct structure to be the $L$ factor.  What is even more convenient is that when we multiply these inverse elementary matrices together, the nonzero  entries in the lower triangular portions do not change. "
   ]
  },
  {
   "cell_type": "code",
   "execution_count": 11,
   "metadata": {},
   "outputs": [
    {
     "name": "stdout",
     "output_type": "stream",
     "text": [
      "[[1. 0. 0. 0.]\n",
      " [0. 1. 0. 0.]\n",
      " [0. 0. 1. 0.]\n",
      " [0. 3. 0. 1.]]\n",
      "[[1. 0. 0. 0.]\n",
      " [0. 1. 0. 0.]\n",
      " [0. 3. 1. 0.]\n",
      " [0. 3. 0. 1.]]\n",
      "[[ 1.  0.  0.  0.]\n",
      " [ 0.  1.  0.  0.]\n",
      " [ 0.  3.  1.  0.]\n",
      " [-2.  3.  0.  1.]]\n"
     ]
    }
   ],
   "source": [
    "print(nla.inv(E5))\n",
    "print(nla.inv(E4)@nla.inv(E5))\n",
    "print(nla.inv(E3)@nla.inv(E4)@nla.inv(E5))"
   ]
  },
  {
   "cell_type": "markdown",
   "metadata": {},
   "source": [
    "The nonzero lower triangular entries in $E_3^{-1}E_4^{-1}E_5^{-1}$ are the same as the corresponding entries of $E_3^{-1}$, $E_4^{-1}$, and $E_5^{-1}$.  This means that the entries in $L$ are just the scale factors used in our application of $\\texttt{RowAdd}$, multiplied by -1.  Now that we understand how these elementary matrices combine to produce $L$, we don't actually need to construct them.  We can just compute $L$ as we do the row operations by keeping track of the scale factors   "
   ]
  },
  {
   "cell_type": "code",
   "execution_count": null,
   "metadata": {},
   "outputs": [],
   "source": []
  },
  {
   "cell_type": "code",
   "execution_count": null,
   "metadata": {},
   "outputs": [],
   "source": []
  },
  {
   "cell_type": "code",
   "execution_count": 12,
   "metadata": {},
   "outputs": [
    {
     "name": "stdout",
     "output_type": "stream",
     "text": [
      "[[ 1  0  0  0]\n",
      " [-1  1  0  0]\n",
      " [ 2  3  1  0]\n",
      " [-2  3  0  1]]\n",
      "\n",
      "\n",
      "[[ 1  2  0 -1]\n",
      " [ 0  3 -1  3]\n",
      " [ 0  0 -1  2]\n",
      " [ 0  0  0  2]]\n",
      "\n",
      "\n",
      "[[ 1  2  0 -1]\n",
      " [-1  1 -1  4]\n",
      " [ 2 13 -4  9]\n",
      " [-2  5 -3 13]]\n"
     ]
    }
   ],
   "source": [
    "L = np.array([[1,0,0,0],[-1,1,0,0],[2,3,1,-0],[-2,3,0,1]])\n",
    "U = np.array([[1,2,0,-1],[0,3,-1,3],[0,0,-1,2],[0,0,0,2]])\n",
    "print(L)\n",
    "print('\\n')\n",
    "print(U)\n",
    "print('\\n')\n",
    "print(L@U)\n"
   ]
  },
  {
   "cell_type": "markdown",
   "metadata": {},
   "source": [
    "### Example 2:  Finding LU when row swaps are needed\n",
    "\n",
    "As we have seen, it is sometimes necessary to rearrange the rows of a matrix when performing elimination.  This row operation can also be done by multiplying the matrix with an elementary matrix.  Let's build a matrix $P$ that performs an exchange of rows 2 and 3 in a $4\\times 4$ matrix.  Again, we can do this by performing the same row operation on the identity matrix.  "
   ]
  },
  {
   "cell_type": "code",
   "execution_count": 45,
   "metadata": {},
   "outputs": [
    {
     "name": "stdout",
     "output_type": "stream",
     "text": [
      "C=\n",
      "[[-2 -4  3  4]\n",
      " [ 2 -6  0  4]\n",
      " [-6 -4 -3 -1]\n",
      " [ 3  5 -2  4]]\n",
      "\n",
      "\n",
      "P=\n",
      "[[1. 0. 0. 0.]\n",
      " [0. 0. 1. 0.]\n",
      " [0. 1. 0. 0.]\n",
      " [0. 0. 0. 1.]]\n",
      "\n",
      "\n",
      "PC=\n",
      "[[-2. -4.  3.  4.]\n",
      " [-6. -4. -3. -1.]\n",
      " [ 2. -6.  0.  4.]\n",
      " [ 3.  5. -2.  4.]]\n"
     ]
    }
   ],
   "source": [
    "C = np.random.randint(-6,6,size=(4,4))\n",
    "I = np.eye(4)\n",
    "P = lag.RowSwap(I,1,2)\n",
    "print('C=')\n",
    "print(C)\n",
    "print('\\n')\n",
    "print('P=')\n",
    "print(P)\n",
    "print('\\n')\n",
    "print('PC=')\n",
    "print(P@C)"
   ]
  },
  {
   "cell_type": "markdown",
   "metadata": {},
   "source": [
    "When the row operation is a row swap, it is common to refer to the corresponding elementary matrix as a **permutation matrix**, and use the letter $P$ to represent it.\n",
    "\n",
    "In order to understand how the row swaps are incorporated into the factorization, it is most helpful to see an example.  In this $4\\times 4$ example, we will use our $\\texttt{lag}$ routines to carry out the elimination and build the corresponding elementary matrices along the way.  For the $\\texttt{RowAdd}$ operations, we will label the elementary matrix with an $L$, and for the $\\texttt{RowSwap}$ operations we will use the label $P$."
   ]
  },
  {
   "cell_type": "code",
   "execution_count": 52,
   "metadata": {},
   "outputs": [
    {
     "name": "stdout",
     "output_type": "stream",
     "text": [
      "[[ 1  2 -1 -1]\n",
      " [ 4  8 -4  2]\n",
      " [ 1  1  1  2]\n",
      " [ 3  3  4  4]]\n"
     ]
    }
   ],
   "source": [
    "B = np.array([1,2,-1,-1,4,8,-4,2,1,1,1,2,3,3,4,4])\n",
    "B = B.reshape((4,4))\n",
    "print(B)"
   ]
  },
  {
   "cell_type": "code",
   "execution_count": 53,
   "metadata": {},
   "outputs": [
    {
     "name": "stdout",
     "output_type": "stream",
     "text": [
      "[[ 1.  2. -1. -1.]\n",
      " [ 0.  0.  0.  6.]\n",
      " [ 0. -1.  2.  3.]\n",
      " [ 0. -3.  7.  7.]]\n"
     ]
    }
   ],
   "source": [
    "B = lag.RowAdd(B,0,1,-4)\n",
    "L1 = lag.RowAdd(I,0,1,-4)\n",
    "\n",
    "B = lag.RowAdd(B,0,2,-1)\n",
    "L2 = lag.RowAdd(I,0,2,-1)\n",
    "\n",
    "B = lag.RowAdd(B,0,3,-3)\n",
    "L3 = lag.RowAdd(I,0,3,-3)\n",
    "\n",
    "print(B)"
   ]
  },
  {
   "cell_type": "code",
   "execution_count": 54,
   "metadata": {},
   "outputs": [
    {
     "name": "stdout",
     "output_type": "stream",
     "text": [
      "[[ 1.  2. -1. -1.]\n",
      " [ 0. -1.  2.  3.]\n",
      " [ 0.  0.  0.  6.]\n",
      " [ 0. -3.  7.  7.]]\n"
     ]
    }
   ],
   "source": [
    "B = lag.RowSwap(B,1,2)\n",
    "P1 = lag.RowSwap(I,1,2)\n",
    "\n",
    "print(B)"
   ]
  },
  {
   "cell_type": "code",
   "execution_count": 55,
   "metadata": {},
   "outputs": [
    {
     "name": "stdout",
     "output_type": "stream",
     "text": [
      "[[ 1.  2. -1. -1.]\n",
      " [ 0. -1.  2.  3.]\n",
      " [ 0.  0.  0.  6.]\n",
      " [ 0.  0.  1. -2.]]\n"
     ]
    }
   ],
   "source": [
    "B = lag.RowAdd(B,1,3,-3)\n",
    "L4 = lag.RowAdd(I,1,3,-3)\n",
    "\n",
    "print(B)"
   ]
  },
  {
   "cell_type": "code",
   "execution_count": 56,
   "metadata": {},
   "outputs": [
    {
     "name": "stdout",
     "output_type": "stream",
     "text": [
      "[[ 1.  2. -1. -1.]\n",
      " [ 0. -1.  2.  3.]\n",
      " [ 0.  0.  1. -2.]\n",
      " [ 0.  0.  0.  6.]]\n"
     ]
    }
   ],
   "source": [
    "B = lag.RowSwap(B,2,3)\n",
    "P2 = lag.RowSwap(I,2,3)\n",
    "\n",
    "print(B)"
   ]
  },
  {
   "cell_type": "markdown",
   "metadata": {},
   "source": [
    "I terms of matrix multiplication, we have carried out the matrix product $P_2L_4P_1L_3L_2L_1B = U$, as we can check."
   ]
  },
  {
   "cell_type": "code",
   "execution_count": 57,
   "metadata": {},
   "outputs": [
    {
     "name": "stdout",
     "output_type": "stream",
     "text": [
      "[[ 1  2 -1 -1]\n",
      " [ 4  8 -4  2]\n",
      " [ 1  1  1  2]\n",
      " [ 3  3  4  4]]\n",
      "\n",
      "\n",
      "[[ 1.  2. -1. -1.]\n",
      " [ 0. -1.  2.  3.]\n",
      " [ 0.  0.  1. -2.]\n",
      " [ 0.  0.  0.  6.]]\n"
     ]
    }
   ],
   "source": [
    "B = np.array([1,2,-1,-1,4,8,-4,2,1,1,1,2,3,3,4,4])\n",
    "B = B.reshape((4,4))\n",
    "print(B)\n",
    "print('\\n')\n",
    "print(P2@L4@P1@L3@L2@L1@B)"
   ]
  },
  {
   "cell_type": "markdown",
   "metadata": {},
   "source": [
    "As we see with a calculation in the next cell, the inverse matrix $(P_2L_4P_1L_3L_2L_1)^{-1}$ does not have the correct lower triangular structure to be the L factor.    In fact there are no matrices $L$ and $U$ with the correct triangular structure such that $B=LU$ for this particular matrix $B$."
   ]
  },
  {
   "cell_type": "code",
   "execution_count": 62,
   "metadata": {},
   "outputs": [
    {
     "name": "stdout",
     "output_type": "stream",
     "text": [
      "[[1. 0. 0. 0.]\n",
      " [4. 0. 0. 1.]\n",
      " [1. 1. 0. 0.]\n",
      " [3. 3. 1. 0.]]\n"
     ]
    }
   ],
   "source": [
    "possible_L = nla.inv(P2@L4@P1@L3@L2@L1)\n",
    "print(possible_L)"
   ]
  },
  {
   "cell_type": "markdown",
   "metadata": {},
   "source": [
    "Although this calculation did not give us exactly what we were seeking, it does shed light on another possibility.  If we look at the result in the last cell for a moment, we might notice that this matrix *would have the correct structure* if we rearranged the rows.  In fact it is no coincidence that the row swaps we need to perform to get a lower triangular matrix at this point are exactly the same row swaps that we carried out during the elimination.\n",
    "\n",
    "In order to move forward,  we need to realize that if we performed these row swaps *before* starting the elimination process, they would not interfere with the structure of L.  Let's give it a try!"
   ]
  },
  {
   "cell_type": "code",
   "execution_count": 63,
   "metadata": {},
   "outputs": [
    {
     "name": "stdout",
     "output_type": "stream",
     "text": [
      "[[ 1.  2. -1. -1.]\n",
      " [ 1.  1.  1.  2.]\n",
      " [ 3.  3.  4.  4.]\n",
      " [ 4.  8. -4.  2.]]\n"
     ]
    }
   ],
   "source": [
    "B = np.array([1,2,-1,-1,4,8,-4,2,1,1,1,2,3,3,4,4])\n",
    "B = B.reshape((4,4))\n",
    "B = lag.RowSwap(B,1,2)\n",
    "B = lag.RowSwap(B,2,3)\n",
    "print(B)"
   ]
  },
  {
   "cell_type": "code",
   "execution_count": 64,
   "metadata": {},
   "outputs": [
    {
     "name": "stdout",
     "output_type": "stream",
     "text": [
      "[[ 1.  2. -1. -1.]\n",
      " [ 0. -1.  2.  3.]\n",
      " [ 0. -3.  7.  7.]\n",
      " [ 0.  0.  0.  6.]]\n"
     ]
    }
   ],
   "source": [
    "B = lag.RowAdd(B,0,1,-1)\n",
    "L1 = lag.RowAdd(I,0,1,-1)\n",
    "\n",
    "B = lag.RowAdd(B,0,2,-3)\n",
    "L2 = lag.RowAdd(I,0,2,-3)\n",
    "\n",
    "B = lag.RowAdd(B,0,3,-4)\n",
    "L3 = lag.RowAdd(I,0,3,-4)\n",
    "\n",
    "print(B)"
   ]
  },
  {
   "cell_type": "code",
   "execution_count": 65,
   "metadata": {},
   "outputs": [
    {
     "name": "stdout",
     "output_type": "stream",
     "text": [
      "[[ 1.  2. -1. -1.]\n",
      " [ 0. -1.  2.  3.]\n",
      " [ 0.  0.  1. -2.]\n",
      " [ 0.  0.  0.  6.]]\n"
     ]
    }
   ],
   "source": [
    "B = lag.RowAdd(B,1,2,-3)\n",
    "L4 = lag.RowAdd(I,1,2,-3)\n",
    "\n",
    "print(B)"
   ]
  },
  {
   "cell_type": "markdown",
   "metadata": {},
   "source": [
    "The process has given us $L_4L_3L_2L_1P_2P_1B=U$, and now $(L_4L_3L_2L_1)^{-1}$ has the correct structure to be $L$. "
   ]
  },
  {
   "cell_type": "code",
   "execution_count": 66,
   "metadata": {},
   "outputs": [
    {
     "name": "stdout",
     "output_type": "stream",
     "text": [
      "[[1. 0. 0. 0.]\n",
      " [1. 1. 0. 0.]\n",
      " [3. 3. 1. 0.]\n",
      " [4. 0. 0. 1.]]\n"
     ]
    }
   ],
   "source": [
    "L = nla.inv(L4@L3@L2@L1)\n",
    "print(L)"
   ]
  },
  {
   "cell_type": "markdown",
   "metadata": {},
   "source": [
    "If we group the permutation matrices together, we can summarize the factorization by writing $PB=LU$.  We can understand this to mean that the matrix $B$ with the rows reordered according to $P$ does have an $LU$ factorization.  (*Note that it is also possible to write this as $B=PLU$.  Maybe a good exercise!*)"
   ]
  },
  {
   "cell_type": "markdown",
   "metadata": {},
   "source": [
    "### PLU routine"
   ]
  },
  {
   "cell_type": "markdown",
   "metadata": {},
   "source": [
    "#### Exercises:"
   ]
  },
  {
   "cell_type": "code",
   "execution_count": null,
   "metadata": {},
   "outputs": [],
   "source": []
  }
 ],
 "metadata": {
  "kernelspec": {
   "display_name": "Python 3",
   "language": "python",
   "name": "python3"
  },
  "language_info": {
   "codemirror_mode": {
    "name": "ipython",
    "version": 3
   },
   "file_extension": ".py",
   "mimetype": "text/x-python",
   "name": "python",
   "nbconvert_exporter": "python",
   "pygments_lexer": "ipython3",
   "version": "3.7.3"
  }
 },
 "nbformat": 4,
 "nbformat_minor": 4
}
