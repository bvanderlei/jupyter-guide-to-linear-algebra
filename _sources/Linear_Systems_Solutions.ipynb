{
 "cells": [
  {
   "cell_type": "markdown",
   "id": "79d13280",
   "metadata": {},
   "source": [
    "## Linear Systems"
   ]
  },
  {
   "cell_type": "code",
   "execution_count": 1,
   "id": "66d73620",
   "metadata": {},
   "outputs": [],
   "source": [
    "import laguide as lag\n",
    "import numpy as np\n",
    "import scipy.linalg as sla\n",
    "%matplotlib inline\n",
    "import matplotlib.pyplot as plt"
   ]
  },
  {
   "cell_type": "markdown",
   "id": "88b613b3",
   "metadata": {},
   "source": [
    "**Exercise 1:** Consider the system of equations given below. Find a value for the coefficient $a$ so that the system has exactly one solution. For that value of $a$, find the solution to the system of equations and plot the lines formed by your equations to check your answer.\n",
    "\n",
    "$$\n",
    "\\begin{eqnarray*}\n",
    "ax_1 + 2x_2 & = & 1 \\\\\n",
    "4x_1 + 8x_2 & = & 12 \\\\\n",
    "\\end{eqnarray*}\n",
    "$$"
   ]
  },
  {
   "cell_type": "markdown",
   "id": "5e4c8c51",
   "metadata": {},
   "source": [
    "If $a=1$ the two lines are parallel and do not intersect.  For any other value of $a$ the lines intersect at exactly one point.  For example, we take $a = -1$. By plotting the two lines formed by these equations and examining where they intersect we can see that the solution to this system is $x_1 = 1,$ $x_2 = 1$"
   ]
  },
  {
   "cell_type": "code",
   "execution_count": null,
   "id": "928bab55",
   "metadata": {},
   "outputs": [],
   "source": [
    "x=np.linspace(-5,5,100)\n",
    "\n",
    "fig, ax = plt.subplots()\n",
    "ax.plot(x,(x+1)/2)\n",
    "ax.plot(x,(12-4*x)/8)\n",
    "\n",
    "ax.text(-2.9,3.1,'$4x_1 + 8x_2 = 12$')\n",
    "ax.text(-3,-1.6,'$-x_1 + 2x_2 = 1$')\n",
    "\n",
    "ax.set_xlim(-4,4)\n",
    "ax.set_ylim(-2,6)\n",
    "ax.axvline(color='k',linewidth = 1)\n",
    "ax.axhline(color='k',linewidth = 1)\n",
    "\n",
    "ax.set_xticks(np.linspace(-4,4,9))\n",
    "ax.set_yticks(np.linspace(-2,6,9))\n",
    "ax.set_aspect('equal')\n",
    "ax.grid(True,ls=':')"
   ]
  },
  {
   "cell_type": "markdown",
   "id": "25c378d9",
   "metadata": {},
   "source": [
    "**Exercise 2:** Find a value for the coefficient $a$ so that the system has no solution. Plot the lines formed by your equations to verify there is no solution.\n",
    "\n",
    "$$\n",
    "\\begin{eqnarray*}\n",
    " ax_1 + 2x_2 & = & 1 \\\\\n",
    "4x_1 + 8x_2 & = & 12 \\\\\n",
    "\\end{eqnarray*}\n",
    "$$"
   ]
  },
  {
   "cell_type": "markdown",
   "id": "2ae2e889",
   "metadata": {},
   "source": [
    "If $a = 1$ then the lines are parallel and there is no solution to the system."
   ]
  },
  {
   "cell_type": "code",
   "execution_count": null,
   "id": "f3878927",
   "metadata": {},
   "outputs": [],
   "source": [
    "x=np.linspace(-5,5,100)\n",
    "\n",
    "fig, ax = plt.subplots()\n",
    "ax.plot(x,(1-x)/2)\n",
    "ax.plot(x,(12-4*x)/8)\n",
    "\n",
    "ax.text(-2.8,3.1,'$4x_1 + 8x_2 = 12$')\n",
    "ax.text(0.4,-1.4,'$x_1 + 2x_2 = 1$')\n",
    "\n",
    "ax.set_xlim(-4,4)\n",
    "ax.set_ylim(-2,6)\n",
    "ax.axvline(color='k',linewidth = 1)\n",
    "ax.axhline(color='k',linewidth = 1)\n",
    "\n",
    "ax.set_xticks(np.linspace(-4,4,9))\n",
    "ax.set_yticks(np.linspace(-2,6,9))\n",
    "ax.set_aspect('equal')\n",
    "ax.grid(True,ls=':')"
   ]
  },
  {
   "cell_type": "markdown",
   "id": "580c43f1",
   "metadata": {},
   "source": [
    "**Exercise 3:** Consider the system of equations given below. Under what conditions on the coefficients $a,b,c,d,e,f$ does this system have only one solution? No solutions? An infinite number of solutions? (*Think about what must be true of the slopes and intercepts of the lines in each case.*)\n",
    "\n",
    "\n",
    "$$\n",
    "\\begin{eqnarray*}\n",
    "ax_1 + bx_2 & = & c \\\\\n",
    "dx_1 + ex_2 & = & f \\\\\n",
    "\\end{eqnarray*}\n",
    "$$\n",
    "\n",
    "    \n",
    "\n",
    "\n"
   ]
  },
  {
   "cell_type": "markdown",
   "id": "2070138f",
   "metadata": {},
   "source": [
    "Using algebra, we can convert the arbitrary equation $ax_1 + bx_2 = c$ to its slope-intercept form $x_2 = - \\frac{a}{b}x_1 + \\frac{c}{b}$. Two lines intersect only once in the plane if and only if their slopes are different.  Therefore if $\\frac{a}{b} \\neq \\frac{d}{e}$ then the system has exactly one solution. In the case that the slopes are equal, we examine the y-intercepts of the equations to determine whether there exists no solutions or an infinite number of solutions. If $\\frac{c}{b} = \\frac{f}{e}$ then the y-intercepts are equal and the two equations describe the same line.  In this case there are an infinite number of solutions. On the other hand, if $\\frac{c}{b} \\neq \\frac{f}{e}$ then the lines are parallel and there exists no solutions. In summary:\n",
    "\n",
    "- If $\\frac{a}{b} \\neq \\frac{d}{e}$ then there exists exactly one solution\n",
    "- If $\\frac{a}{b} = \\frac{d}{e}$ and $\\frac{c}{b} = \\frac{f}{e}$ then there are an infinite number of solutions\n",
    "- If $\\frac{a}{b} = \\frac{d}{e}$ and $\\frac{c}{b} \\neq \\frac{f}{e}$ then there are no solutions"
   ]
  },
  {
   "cell_type": "markdown",
   "id": "96cc2012",
   "metadata": {},
   "source": [
    "### Gaussian Elimination"
   ]
  },
  {
   "cell_type": "markdown",
   "id": "748f8767",
   "metadata": {},
   "source": [
    "**Exercise 1:** In the system below, use a row operation functions to produce a zero coefficient in the location of the coefficient 12.  Do this first by hand and then create a NumPy array to represent the system and use the row operation functions.  (*There are two ways to create the zero using $\\texttt{RowAdd}$.  Try to find both.*)\n",
    "\n",
    "$$\n",
    "\\begin{eqnarray*}\n",
    "4x_1 - 2x_2 + 7x_3 & = & 2\\\\\n",
    "x_1 + 3x_2 + 12x_3 & = & 4\\\\\n",
    "-7x_1 \\quad\\quad - 3x_3 & = & -1 \n",
    "\\end{eqnarray*}\n",
    "$$\n"
   ]
  },
  {
   "cell_type": "code",
   "execution_count": null,
   "id": "ef8fc800",
   "metadata": {},
   "outputs": [],
   "source": [
    "C = np.array([[4,-2,7,2],[1,3,12,4],[-7,0,-3,-1]])\n",
    "C1 = lag.RowAdd(C,0,1,-12/7)\n",
    "C2 = lag.RowAdd(C,2,1,4)\n",
    "print(C,'\\n')\n",
    "print(C1,'\\n')\n",
    "print(C2,'\\n')"
   ]
  },
  {
   "cell_type": "markdown",
   "id": "b97529b8",
   "metadata": {},
   "source": [
    "**Exercise 2:** Create a NumPy array to represent the system below.  Determine which coefficient should be zero in order for the system to be upper triangular.  Use $\\texttt{RowAdd}$ to carry out the row operation and then print your results.\n",
    "  \n",
    "$$\n",
    "\\begin{eqnarray*}\n",
    "3x_1 + 4x_2 \\, - \\,\\,\\,\\,\\,  x_3 &   =   & -6\\\\\n",
    "-2x_2   +  10x_3  &   =   & -8\\\\\n",
    "4x_2   \\,  - \\,\\, 2x_3 &  =  & -2 \n",
    "\\end{eqnarray*}\n",
    "$$"
   ]
  },
  {
   "cell_type": "code",
   "execution_count": null,
   "id": "18b95552",
   "metadata": {},
   "outputs": [],
   "source": [
    "A = np.array([[3,4,-1,-6],[0,-2,10,-8],[0,4,-2,-2]])\n",
    "\n",
    "# B is obtained after performing RowAdd on A.\n",
    "B = lag.RowAdd(A, 1, 2, 2)\n",
    "print(B)\n"
   ]
  },
  {
   "cell_type": "markdown",
   "id": "2c361fee",
   "metadata": {},
   "source": [
    "**Exercise 3:** Carry out the elimination process on the following system.  Define a NumPy array and make use of the row operation functions.  Print the results of each step.  Write down the upper triangular system represented by the array after all steps are completed.\n",
    "\n",
    "$$\n",
    "\\begin{eqnarray*}\n",
    "x_1 - x_2 + x_3 & = & 3\\\\\n",
    "2x_1 + x_2 + 8x_3 & = & 18\\\\\n",
    "4x_1 + 2x_2 -3x_3 & = & -2 \n",
    "\\end{eqnarray*}\n",
    "$$"
   ]
  },
  {
   "cell_type": "code",
   "execution_count": null,
   "id": "d44386a4",
   "metadata": {
    "scrolled": false
   },
   "outputs": [],
   "source": [
    "A = np.array([[1,-1,1,3],[2,1,8,18],[4,2,-3,-2]])\n",
    "A1 = lag.RowScale(A,0,1.0/A[0][0])\n",
    "A2 = lag.RowAdd(A1,0,1,-A[1][0])\n",
    "A3 = lag.RowAdd(A2,0,2,-A2[2][0])\n",
    "A4 = lag.RowScale(A3,1,1.0/A3[1][1])\n",
    "A5 = lag.RowAdd(A4,1,2,-A4[2][1])\n",
    "A6 = lag.RowScale(A5,2,1.0/A5[2][2])\n",
    "print(A,'\\n')\n",
    "print(A1,'\\n')\n",
    "print(A2,'\\n')\n",
    "print(A3,'\\n')\n",
    "print(A4,'\\n')\n",
    "print(A5,'\\n')\n",
    "print(A6,'\\n')"
   ]
  },
  {
   "cell_type": "markdown",
   "id": "b6080934",
   "metadata": {},
   "source": [
    "**Exercise 4:** Use row operations on the system below to produce an **lower triangular** system.  The first equation of the lower triangular system should contain only $x_1$ and the second equation should contain only $x_1$ and $x_2$.\n",
    "\n",
    "  $$\n",
    "\\begin{eqnarray*}\n",
    "x_1 + 2x_2 + x_3 & = & 3\\\\\n",
    "3x_1 - x_2 - 3x_3 & = & -1\\\\\n",
    "2x_1 + 3x_2 + x_3 & = & 4\n",
    "\\end{eqnarray*}\n",
    "$$"
   ]
  },
  {
   "cell_type": "code",
   "execution_count": null,
   "id": "22f760d4",
   "metadata": {},
   "outputs": [],
   "source": [
    "A = np.array([[1,2,1,3],[3,-1,-3,-1],[2,3,1,4]])\n",
    "print(\"A: \\n\", A, '\\n')\n",
    "\n",
    "B = lag.RowAdd(A, 2, 0, -1)\n",
    "C = lag.RowAdd(B, 2, 1, 3)\n",
    "L = lag.RowAdd(C, 1, 0, 1/8)\n",
    "\n",
    "print(\"L: \\n\", L, '\\n')"
   ]
  },
  {
   "cell_type": "markdown",
   "id": "918dc3f9",
   "metadata": {},
   "source": [
    "The corresponding lower triangular system is\n",
    "\n",
    "$$\n",
    "\\begin{eqnarray*}\n",
    "0.125x_1 \\,\\,\\,\\,\\,\\,\\,\\,\\,\\,\\,\\,\\,\\,\\,\\,\\,\\,\\,\\,\\,\\,\\,\\,\\,\\,\\,\\,\\,\\, & = & 0.375\\\\\n",
    "9x_1 + 8x_2 \\,\\,\\,\\,\\,\\,\\,\\,\\,\\,\\,\\,\\,\\,\\  & = & 11\\\\\n",
    "2x_1 + 3x_2 + 1x_3 & = & 4 \n",
    "\\end{eqnarray*}\n",
    "$$"
   ]
  },
  {
   "cell_type": "markdown",
   "id": "75c638a6",
   "metadata": {},
   "source": [
    "**Exercise 5:** Use elimination to determine whether the following system is **consistent** or **inconsistent**.\n",
    " \n",
    "$$\n",
    "\\begin{eqnarray*}\n",
    "x_1 - x_2 - x_3 & = & 4\\\\\n",
    "2x_1 - 2x_2 - 2x_3 & = & 8\\\\\n",
    "5x_1 - 5x_2 - 5x_3 & = & 20 \n",
    "\\end{eqnarray*}\n",
    "$$\n",
    "\n"
   ]
  },
  {
   "cell_type": "code",
   "execution_count": null,
   "id": "a8e47632",
   "metadata": {},
   "outputs": [],
   "source": [
    "# A is the array of numbers corresponding to the given system. \n",
    "A = np.array([[1,-1,-1,4],[2,-2,-2,8],[5,-5,-5,20]])\n",
    "\n",
    "# B1 and B2 are obtained by performing row operations on A.\n",
    "B1 = lag.RowAdd(A, 0, 1, -2)\n",
    "B2 = lag.RowAdd(B1, 0, 2, -5)\n",
    "\n",
    "print(B1)\n",
    "print(B2)"
   ]
  },
  {
   "cell_type": "markdown",
   "id": "7e381282",
   "metadata": {},
   "source": [
    "In this system the second equation and third equation are just multiples of the first.  Any solution to one of the equations is a solution to all three equations.  We can get a solution to the first equation by choosing values for $x_2$ and $x_3$ and then calculating the value of $x_1$ that satisfies the equation.  One such solution is $x_1 = 6$, $x_2=1$, $x_3=1$. "
   ]
  },
  {
   "cell_type": "markdown",
   "id": "edfe5fa3",
   "metadata": {},
   "source": [
    "**Exercise 6:** Use elimination to show that this system of equations has no solution.\n",
    "\n",
    "  $$\n",
    "\\begin{eqnarray*}\n",
    "x_1  +  x_2 +  x_3 & = & 0\\\\\n",
    "x_1 -  x_2 + 3x_3 & = & 3\\\\\n",
    "-x_1 - x_2 - x_3 & = & 2 \n",
    "\\end{eqnarray*}\n",
    "$$\n",
    "  \n"
   ]
  },
  {
   "cell_type": "code",
   "execution_count": null,
   "id": "17ad0015",
   "metadata": {},
   "outputs": [],
   "source": [
    "# A is the array of numbers corresponding to the given system of equations.\n",
    "A = np.array([[1,1,1,0],[1,-1,3,3],[-1,-1,-1,2]])\n",
    "\n",
    "B1 = lag.RowAdd(A, 0, 1, -1)\n",
    "print(B1)\n",
    "\n",
    "B2 = lag.RowAdd(B1, 0, 2, 1)\n",
    "print(B2)"
   ]
  },
  {
   "cell_type": "markdown",
   "id": "6d2193d2",
   "metadata": {},
   "source": [
    "The third row of $\\texttt{B2}$ indicates that the system is inconsistent.  This row represents the equation $0x_3 = 2$, which cannot be true for any value of $x_3$."
   ]
  },
  {
   "cell_type": "markdown",
   "id": "731774f9",
   "metadata": {},
   "source": [
    "**Exercise 7:** Use  $\\texttt{random}$ module to produce a $3\\times 4$ array which contains random integers between $0$ and $5$. Write code that performs a row operation that produces a zero in the first row, third column.  Run the code several times to be sure that it works on **different** random arrays.  Will the code ever fail?"
   ]
  },
  {
   "cell_type": "code",
   "execution_count": null,
   "id": "2f07d572",
   "metadata": {},
   "outputs": [],
   "source": [
    "## Code solution here.\n",
    "\n",
    "A = np.random.randint(0,5, size = (3,4))\n",
    " \n",
    "print(\"A: \\n\", A, '\\n')\n",
    "\n",
    "if A[1,2] == 0:\n",
    "    A = lag.RowSwap(A, 0, 1)\n",
    "else:\n",
    "    A = lag.RowAdd(A, 1, 0, -A[0,2]/A[1,2])\n",
    "\n",
    "print(\"A after one row operation: \\n\", A, '\\n')"
   ]
  },
  {
   "cell_type": "markdown",
   "id": "67705fb8",
   "metadata": {},
   "source": [
    "The code will not fail to produce a matrix with a zero in the specified position."
   ]
  },
  {
   "cell_type": "markdown",
   "id": "55781a92",
   "metadata": {},
   "source": [
    "**Exercise 8:** Starting from the array that represents the upper triangular system in **Example 1** ($\\texttt{A5}$), use the row operations to produce an array of the following form.  Do one step at a time and again print your results to check that you are successful.  \n",
    "\n",
    "$$\n",
    "\\begin{equation}\n",
    "\\left[ \\begin{array}{cccc} 1 & 0 & 0 & 1 \\\\ 0 & 1 & 0 & 0 \\\\ 0 & 0 & 1 & 2 \\end{array}\\right]\n",
    "\\end{equation}\n",
    "$$"
   ]
  },
  {
   "cell_type": "code",
   "execution_count": null,
   "id": "8d6220d6",
   "metadata": {},
   "outputs": [],
   "source": [
    "B = np.array([[1,-1,1,3],[0,1,2,4],[0,0,1,2]])\n",
    "B1 = lag.RowAdd(B,1,0,1)\n",
    "B2 = lag.RowAdd(B1,2,0,-3)\n",
    "B3 = lag.RowAdd(B2,2,1,-2)\n",
    "print(B,'\\n')\n",
    "print(B1,'\\n')\n",
    "print(B2,'\\n')\n",
    "print(B3,'\\n')"
   ]
  },
  {
   "cell_type": "markdown",
   "id": "613ff101",
   "metadata": {},
   "source": [
    "**Exercise 9:** Redo **Example 2** using the $\\texttt{random}$ module to produce a $3\\times 4$ array made up of random floats instead of random integers.  "
   ]
  },
  {
   "cell_type": "code",
   "execution_count": null,
   "id": "ff3bda6b",
   "metadata": {},
   "outputs": [],
   "source": [
    "D = np.random.rand(3,4)\n",
    "D1 = lag.RowScale(D,0,1.0/D[0][0])\n",
    "D2 = lag.RowAdd(D1,0,1,-D[1][0])\n",
    "D3 = lag.RowAdd(D2,0,2,-D2[2][0])\n",
    "D4 = lag.RowScale(D3,1,1.0/D3[1][1])\n",
    "D5 = lag.RowAdd(D4,1,2,-D4[2][1])\n",
    "D6 = lag.RowScale(D5,2,1.0/D5[2][2])\n",
    "print(D,'\\n')\n",
    "print(D1,'\\n')\n",
    "print(D2,'\\n')\n",
    "print(D3,'\\n')\n",
    "print(D4,'\\n')\n",
    "print(D5,'\\n')\n",
    "print(D6,'\\n')"
   ]
  },
  {
   "cell_type": "markdown",
   "id": "284fc09b",
   "metadata": {},
   "source": [
    "**Exercise 10:** Write a loop that will execute the elimination code in **Example 2** on 1000 different $3\\times 4$ arrays of random floats to see how frequently it fails.  "
   ]
  },
  {
   "cell_type": "code",
   "execution_count": null,
   "id": "1ed676f1",
   "metadata": {},
   "outputs": [],
   "source": [
    "for count in range(1000):\n",
    "    E = np.random.rand(3,4)\n",
    "    E1 = lag.RowScale(E,0,1.0/E[0][0])\n",
    "    E2 = lag.RowAdd(E1,0,1,-E[1][0])\n",
    "    E3 = lag.RowAdd(E2,0,2,-E2[2][0])\n",
    "    E4 = lag.RowScale(E3,1,1.0/E3[1][1])\n",
    "    E5 = lag.RowAdd(E4,1,2,-E4[2][1])\n",
    "    E6 = lag.RowScale(E5,2,1.0/E5[2][2])"
   ]
  },
  {
   "cell_type": "markdown",
   "id": "090e89e1",
   "metadata": {},
   "source": [
    "### Matrix Algebra\n",
    "\n",
    "**Exercise 1:** Calculate $-2E$, $G+F$, $4F-G$, $HG$, and $GE$ using the following matrix definitions.  Do the exercise on paper first, then check by doing the calculation with NumPy arrays.\n",
    "\n",
    "$$\n",
    "\\begin{equation}\n",
    "E = \\left[ \\begin{array}{r} 5 \\\\ -2 \\end{array}\\right] \\hspace{1cm} \n",
    "F = \\left[ \\begin{array}{rr} 1 & 6 \\\\ 2 & 0 \\\\ -1 & -1 \\end{array}\\right] \\hspace{1cm}\n",
    "G = \\left[ \\begin{array}{rr} 2 & 0\\\\ -1 & 3 \\\\ -1 & 6 \\end{array}\\right] \\hspace{1cm}\n",
    "H = \\left[ \\begin{array}{rrr} 3 & 0 & 1 \\\\ 1 & -2 & 2 \\\\ 3 & 4 & -1\\end{array}\\right]\n",
    "\\end{equation}\n",
    "$$"
   ]
  },
  {
   "cell_type": "code",
   "execution_count": null,
   "id": "34eeaf4a",
   "metadata": {},
   "outputs": [],
   "source": [
    "E = np.array([[5],[-2]])\n",
    "F = np.array([[1,6],[2,0],[-1,-1]])\n",
    "G = np.array([[2,0],[-1,3],[-1,6]])\n",
    "H = np.array([[3,0,1],[1,-2,2],[3,4,-1]])\n",
    "print(-2*E,'\\n')\n",
    "print(G+F,'\\n')\n",
    "print(4*F-G,'\\n')\n",
    "print(H@G,'\\n')\n",
    "print(G@E)"
   ]
  },
  {
   "cell_type": "markdown",
   "id": "9764aff0",
   "metadata": {},
   "source": [
    "**Exercise 2:** Find the values of $x$ and $y$ so that this equation holds.\n",
    "\n",
    "$$\n",
    "\\begin{equation}\n",
    "\\left[ \\begin{array}{rr} 1 & 3 \\\\ -4 & 2 \\end{array}\\right]\n",
    "\\left[ \\begin{array}{rr} 3 & x \\\\ 2 & y \\end{array}\\right]=\n",
    "\\left[ \\begin{array}{rr} 9 & 10 \\\\ -8 & 16 \\end{array}\\right] \n",
    "\\end{equation}\n",
    "$$"
   ]
  },
  {
   "cell_type": "markdown",
   "id": "7f27199a",
   "metadata": {},
   "source": [
    "Recall that matrix multiplication can be carried out column by column.  Given a matrix equation of the form $AB = C$, multiplying $A$ by the $j^{\\text{th}}$ column of $B$ gives the $j^{\\text{th}}$ column of $C$. This view of matrix multiplication gives the following linear system which we can solve with elimination\n",
    "\n",
    "$$\n",
    "\\begin{equation}\n",
    "\\left[ \\begin{array}{rr} 1 & 3 \\\\ -4 & 2 \\end{array}\\right]\n",
    "\\left[ \\begin{array}{rr} x \\\\ y \\end{array}\\right] =\n",
    "\\left[ \\begin{array}{rr} x + 3y \\\\ -4x + 2y \\end{array}\\right] =\n",
    "\\left[ \\begin{array}{cccc} 10\\\\ 16 \\end{array}\\right]\n",
    "\\end{equation}\n",
    "$$"
   ]
  },
  {
   "cell_type": "code",
   "execution_count": null,
   "id": "47161b3d",
   "metadata": {},
   "outputs": [],
   "source": [
    "A = np.array([[1,3,10],[-4,2,16]])\n",
    "A1 = lag.RowAdd(A,0,1,4)\n",
    "A2 = lag.RowScale(A1,1,1/14)\n",
    "A3 = lag.RowAdd(A2,1,0,-3)\n",
    "print(A,'\\n')\n",
    "print(A1,'\\n')\n",
    "print(A2,'\\n')\n",
    "print(A3)"
   ]
  },
  {
   "cell_type": "markdown",
   "id": "41d62ac1",
   "metadata": {},
   "source": [
    "Therefore $x = -2$ and $y = 4$.\n",
    "\n",
    "Alternatively, if we carry out the matrix multiplication completely, we arrive at the same system to be solved.\n",
    "\n",
    "$$\n",
    "\\begin{equation}\n",
    "\\left[ \\begin{array}{rr} 9 & x + 3y \\\\ -8 & -4x + 2y \\end{array}\\right] =\n",
    "\\left[ \\begin{array}{cccc} 9 & 10\\\\ -8 & 16 \\end{array}\\right]\n",
    "\\end{equation}\n",
    "$$"
   ]
  },
  {
   "cell_type": "markdown",
   "id": "e4db91b7",
   "metadata": {},
   "source": [
    "**Exercise 3:** Define NumPy arrays for the matrices $H$ and $G$ given below.  \n",
    "\n",
    "$$\n",
    "\\begin{equation}\n",
    "H = \\left[ \\begin{array}{rrr} 3 & 3 & -1  \\\\ -3 & 0 & 8 \\\\  1 & 6 & 5 \\end{array}\\right]\\hspace{2cm}\n",
    "G = \\left[ \\begin{array}{rrrr} 1 & 5 & 2 & -3 \\\\ 7 & -2 & -3 & 0 \\\\ 2 & 2 & 4 & 6\\end{array}\\right]\n",
    "\\end{equation}\n",
    "$$\n",
    "\n",
    "$(a)$ Multiply the second and third column of $H$ with the first and second row of $G$.  Use slicing to make subarrays.  Does the result have any relationship to the full product $HG$?\n",
    "\n",
    "$(b)$ Multiply the first and second row of $H$ with the second and third column of $G$.  Does this result have any relationship to the full product $HG$?\n"
   ]
  },
  {
   "cell_type": "code",
   "execution_count": null,
   "id": "2de2f857",
   "metadata": {},
   "outputs": [],
   "source": [
    "H = np.array([[3,3,-1],[-3,0,8],[1,6,5]])\n",
    "G = np.array([[1,5,2,-3],[7,-2,-3,0],[2,2,4,6]])\n",
    "\n",
    "print(H@G,'\\n')\n",
    "print(H[:,1:3]@G[0:2,:],'\\n')\n",
    "print(H[0:2,:]@G[:,1:3])"
   ]
  },
  {
   "cell_type": "markdown",
   "id": "533a589b",
   "metadata": {},
   "source": [
    "The second product is a $2 \\times 2$ matrix that is a **submatrix** of the larger matrix $HG$."
   ]
  },
  {
   "cell_type": "markdown",
   "id": "49b49d0f",
   "metadata": {},
   "source": [
    "**Exercise 4:** Generate a $4\\times 4$ matrix $B$ with random integer entries.  Compute matrices $P = \\frac12(B+B^T)$ and $Q = \\frac12(B-B^T)$.  Rerun your code several times to get different matrices.  What do you notice about $P$ and $Q$?  Explain why it must always be true.       "
   ]
  },
  {
   "cell_type": "code",
   "execution_count": null,
   "id": "24d950ab",
   "metadata": {},
   "outputs": [],
   "source": [
    "B = np.random.randint(size=(4,4),high=10,low=-10)\n",
    "P = 1/2*(B+B.transpose())\n",
    "Q = 1/2*(B-B.transpose())\n",
    "print(B,'\\n')\n",
    "print(P,'\\n')\n",
    "print(Q)"
   ]
  },
  {
   "cell_type": "markdown",
   "id": "54ca5c78",
   "metadata": {},
   "source": [
    "$P$ is always a symmetric matrix and $Q$ is always a skew-symmetric matrix.\n",
    "    \n",
    "To see why $P$ is always symmetric, recall that $P$ being symmetric is equivalent to saying $p_{ij} = p_{ji}$ for all entries $p_{ij}$ in $P$. Now notice that \n",
    "\n",
    "$$\n",
    "\\begin{equation}   \n",
    "p_{ij} = \\frac{1}{2}(b_{ij} + b_{ji}) = \\frac{1}{2}(b_{ji} + b_{ij}) = p_{ji}\n",
    "\\end{equation}\n",
    "$$\n",
    "\n",
    "and therefore $P$ is symmetric.\n",
    "   \n",
    "To see why $Q$ is always skew-symmetric, recall that $Q$ being skew-symmetric is equivalent to saying $q_{ij} = -q_{ji}$ for all entries $q_{ij}$ in $Q$. Now notice that\n",
    "   \n",
    "$$\n",
    "\\begin{equation}\n",
    "q_{ij} = \\frac{1}{2}(b_{ij} - b_{ji}) = -\\frac{1}{2}(b_{ji} - b_{ij}) = -q_{ji}\n",
    "\\end{equation}\n",
    "$$\n",
    "\n",
    "and therefore $Q$ is skew-symmetric."
   ]
  },
  {
   "cell_type": "markdown",
   "id": "6fb62420",
   "metadata": {},
   "source": [
    "**Exercise 5:** Just as the elements of a matrix can be either integers or real numbers, we can also have a matrix with elements that are themselves matrices. A **block matrix** is any matrix that we have interpreted as being partitioned into these **submatrices**. Evaluate the product $HG$ treating the $H_i$'s and $G_j$'s as the elements of their respective matrices. If we have two matrices that can be multiplied together normally, does any partition allow us to multiply using the submatrices as the elements?\n",
    "\n",
    "$$\n",
    "\\begin{equation}\n",
    "H = \\left[ \\begin{array}{cc|cc} 1 & 3 & 2 & 0  \\\\ -1 & 0 & 3 & 3 \\\\ \\hline 2 & 2 & -2 & 1 \\\\ 0 & 1 & 1 & 4 \\end{array}\\right] = \\left[ \\begin{array}{} H_1 & H_2 \\\\ H_3 & H_4\\end{array} \\right] \\hspace{2cm} \n",
    "G = \\left[ \\begin{array}{cc|c} 3 & 0 & 5 \\\\ 1 & 1 & -3 \\\\ \\hline 2 & 0 & 1 \\\\ 0 & 2 & 1\\end{array}\\right] = \\left[ \\begin{array}{} G_1 & G_2 \\\\ G_3 & G_4\\end{array} \\right]\n",
    "\\end{equation}\n",
    "$$"
   ]
  },
  {
   "cell_type": "code",
   "execution_count": null,
   "id": "04de511b",
   "metadata": {},
   "outputs": [],
   "source": [
    "H = np.array([[1,3,2,0],[-1,0,3,3],[2,2,-2,1],[0,1,1,4]])\n",
    "G = np.array([[3,0,5],[1,1,-3],[2,0,1],[0,2,1]])b\n",
    "H1 = np.array([[1,3],[-1,0]])\n",
    "H2 = np.array([[2,0],[3,3]])\n",
    "H3 = np.array([[2,2],[0,1]])\n",
    "H4 = np.array([[-2,1],[1,4]])\n",
    "G1 = np.array([[3,0],[1,1]])\n",
    "G2 = np.array([[5],[-3]])\n",
    "G3 = np.array([[2,0],[0,2]])\n",
    "G4 = np.array([[1],[1]])\n",
    "HG1 = H1@G1 + H2@G3\n",
    "HG2 = H1@G2 + H2@G4\n",
    "HG3 = H3@G1 + H4@G3\n",
    "HG4 = H3@G2 + H4@G4\n",
    "print(H@G,'\\n')\n",
    "print(HG1,'\\n')\n",
    "print(HG2,'\\n')\n",
    "print(HG3,'\\n')\n",
    "print(HG4)"
   ]
  },
  {
   "cell_type": "markdown",
   "id": "2b4ddf75",
   "metadata": {},
   "source": [
    "Not every partition of a matrix will let us multiply them in this way. If we had instead partitioned $H$ like this:\n",
    "\n",
    "$$\n",
    "\\begin{equation}\n",
    "H = \\left[ \\begin{array}{c|ccc} 1 & 3 & 2 & 0  \\\\ -1 & 0 & 3 & 3 \\\\ \\hline 2 & 2 & -2 & 1 \\\\ 0 & 1 & 1 & 4 \\end{array}\\right] = \\left[ \\begin{array}{} H_1 & H_2 \\\\ H_3 & H_4\\end{array} \\right] \\hspace{2cm} \n",
    "\\end{equation}\n",
    "$$\n",
    "\n",
    "then many of the products calculated above (such as $H_1G_1$) would not be defined."
   ]
  },
  {
   "cell_type": "markdown",
   "id": "045353a2",
   "metadata": {},
   "source": [
    "### Inverse Matrices\n"
   ]
  },
  {
   "cell_type": "markdown",
   "id": "f41af527",
   "metadata": {},
   "source": [
    "**Exercise 1:** Solve the following system of equations using an inverse matrix.\n",
    "\n",
    "$$\n",
    "\\begin{eqnarray*}\n",
    "2x_1 + 3x_2 + x_3 & = & 4\\\\\n",
    "3x_1 + 3x_2 + x_3 & = & 8\\\\\n",
    "2x_1 + 4x_2 + x_3 & = & 5 \n",
    "\\end{eqnarray*}\n",
    "$$"
   ]
  },
  {
   "cell_type": "markdown",
   "id": "c31da122",
   "metadata": {},
   "source": [
    "We can write the matrix equation $AX = B$ for the given system of equation which looks like:\n",
    "\n",
    "$$\n",
    "AX=\n",
    "\\left[ \\begin{array}{rrrr} 2 & 3 & 1  \\\\ 3 & 3 & 1  \\\\ 2 & 4 & 1   \\end{array}\\right]\n",
    "\\left[ \\begin{array}{rrrr} x_1 \\\\ x_2 \\\\ x_3 \\end{array}\\right]=\n",
    "\\left[ \\begin{array}{rrrr} 4 \\\\ 8 \\\\ 5  \\end{array}\\right]=\n",
    "B\n",
    "$$"
   ]
  },
  {
   "cell_type": "code",
   "execution_count": null,
   "id": "fee8ab50",
   "metadata": {},
   "outputs": [],
   "source": [
    "A = np.array([[2,3,1],[3,3,1],[2,4,1]])\n",
    "\n",
    "print(\"A: \\n\", A, '\\n')\n",
    "\n",
    "A_inv = lag.Inverse(A)\n",
    "b = np.array([[4],[8],[5]])\n",
    "\n",
    "print(\"b: \\n\", b, '\\n')\n",
    "print(\"A_inv: \\n\", A_inv, '\\n')\n",
    "x = A_inv@b\n",
    "\n",
    "print(\"x: \\n\", x, '\\n')"
   ]
  },
  {
   "cell_type": "markdown",
   "id": "11b3c19a",
   "metadata": {},
   "source": [
    "**Exercise 2:** Let $A$ and $B$ be two random $4\\times 4$ matrices.  Demonstrate using Python that $(AB)^{-1}=B^{-1}A^{-1}$ for the matrices."
   ]
  },
  {
   "cell_type": "code",
   "execution_count": null,
   "id": "6dd52880",
   "metadata": {},
   "outputs": [],
   "source": [
    "## Code solution here"
   ]
  },
  {
   "cell_type": "markdown",
   "id": "304487b0",
   "metadata": {},
   "source": [
    "**Exercise 3:** Explain why $(AB)^{-1}=B^{-1}A^{-1}$ by using the definition given in this section."
   ]
  },
  {
   "cell_type": "markdown",
   "id": "93cb25ca",
   "metadata": {},
   "source": [
    "**Exercise 4:**  Solve the system $AX=B$ by finding $A^{-1}$ and computing $X=A^{-1}B$.\n",
    "\n",
    "$$\n",
    "A = \\left[ \\begin{array}{rrrr} 1 & 2 & -3 \\\\ -1 & 1 & -1  \\\\ 0 & -2 & 3  \\end{array}\\right] \\quad\\quad\n",
    "B = \\left[ \\begin{array}{rrrr} 1  \\\\ 1 \\\\ 1  \\end{array}\\right]\n",
    "$$    "
   ]
  },
  {
   "cell_type": "code",
   "execution_count": null,
   "id": "3d0ef812",
   "metadata": {},
   "outputs": [],
   "source": [
    "A = np.array([[1,2,-3],[-1,1,-1],[0,-2,3]])\n",
    "print(\"A: \\n\", A, '\\n')\n",
    "\n",
    "A_inverse = lag.Inverse(A)\n",
    "B = np.array([[1],[1],[1]])\n",
    "\n",
    "print(\"A inverse is : \\n\", A_inverse, '\\n')\n",
    " \n",
    "X = A_inverse@B\n",
    "\n",
    "print(\"X: \\n\", X, '\\n')"
   ]
  },
  {
   "cell_type": "markdown",
   "id": "1e2a5693",
   "metadata": {},
   "source": [
    "**Exercise 5:** Find a $3 \\times 3 $ matrix $Y$ such that $AY = C$.\n",
    "\n",
    "$$\n",
    "A = \\left[ \\begin{array}{rrrr} 3 & 1 & 0 \\\\ 5 & 2 & 1 \\\\ 0 & 2 & 3\\end{array}\\right]\\hspace{2cm}\n",
    "C = \\left[ \\begin{array}{rrrr} 1 & 2 & 1 \\\\ 3 & 4 & 0 \\\\ 1 & 0 & 2 \\end{array}\\right]\\hspace{2cm}\n",
    "$$"
   ]
  },
  {
   "cell_type": "code",
   "execution_count": null,
   "id": "d7833366",
   "metadata": {},
   "outputs": [],
   "source": [
    "A = np.array([[3,1,0],[5,2,1],[0,2,3]])\n",
    "C = np.array([[1,2,1],[3,4,0],[1,0,2]])\n",
    "\n",
    "print(\"A: \\n\", A, '\\n')\n",
    "print(\"C: \\n\", C, '\\n')\n",
    "\n",
    "A_inv = lag.Inverse(A)\n",
    "Y = A_inv@C\n",
    "\n",
    "print(\"A inverse is : \\n\", A_inv, '\\n')\n",
    "print(\"Y: \\n\", Y, '\\n')"
   ]
  },
  {
   "cell_type": "markdown",
   "id": "d30f7d82",
   "metadata": {},
   "source": [
    "**Exercise 6:** Let $A$ be a random $4 \\times 1$ matrix and $B$ is a random $ 1 \\times 4 $ matrix. Use Python to demonstrate that the product $ AB $ is not invertible. Do you expect this to be true for any two matrices $P$ and $Q$ such that $P$ is an $ n \\times 1 $ matrix and $Q$ is a $ 1 \\times n$ matrix ? Explain."
   ]
  },
  {
   "cell_type": "code",
   "execution_count": 4,
   "id": "04aa8924",
   "metadata": {},
   "outputs": [
    {
     "name": "stdout",
     "output_type": "stream",
     "text": [
      "A: \n",
      " [[7]\n",
      " [0]\n",
      " [2]\n",
      " [7]] \n",
      "\n",
      "B: \n",
      " [[6 7 7 5]] \n",
      "\n",
      "AB: \n",
      " [[1.         1.16666667 1.16666667 0.83333333]\n",
      " [0.         0.         0.         0.        ]\n",
      " [0.         0.         0.         0.        ]\n",
      " [0.         0.         0.         0.        ]] \n",
      "\n"
     ]
    }
   ],
   "source": [
    "A = np.random.randint(0,9, size = (4,1))\n",
    "B = np.random.randint(0,9, size = (1,4))\n",
    "\n",
    "print(\"A: \\n\", A, '\\n')\n",
    "print(\"B: \\n\", B, '\\n')\n",
    "\n",
    "AB = A@B\n",
    "AB = lag.FullRowReduction(AB)\n",
    "\n",
    "print(\"AB: \\n\", AB, '\\n')\n"
   ]
  },
  {
   "cell_type": "markdown",
   "id": "51b02466",
   "metadata": {},
   "source": [
    "It can be clearly seen from the above code cell that the reduced form of the product $AB$ contains zero enteries on the diagonal. This shows that $AB$ is not invertible. It is expected to be true for any two general matrices $P$ and $Q$ where $P$ is an $ n \\times 1 $ matrix and $Q$ is a $ 1 \\times n$ matrix. \n",
    "\n",
    "Let $$\n",
    "P = \\left[ \\begin{array}{rrrr} a \\\\ b \\\\ c \\\\  d\\\\..\\\\.. \\end{array}\\right]\n",
    "$$\n",
    "and $$\n",
    "Q = \\left[ \\begin{array}{rrrr} w & x &y&z&.&.&. \\end{array}\\right]\n",
    "$$\n",
    "\n",
    "$$\n",
    "PQ = \\left[ \\begin{array}{rrrr} aw & ax &ay& az &.&.&. \\\\ bw & bx & by & bz &.&.&.\\\\ cw & cx & cy & cz&.&.&. \\\\ dw & dx & dy & dz&.&.&. \\\\.&.&.&.&.&.&.\\\\. &.&.&.&.&.&.\\end{array}\\right]\n",
    "$$\n",
    " \n",
    "If we perform a $\\texttt{RowAdd}$ to create a zero at any position in a row using another row, the entire row becomes zero. Notice that each row is just a multiple of the first row.  This means that when we carry out row reduction on $PQ$, the resulting **upper triangular** matrix have zeros in all entries except for the first row.  This implies that the product $PQ$ is non-invertible."
   ]
  },
  {
   "cell_type": "markdown",
   "id": "a69c5538",
   "metadata": {},
   "source": [
    "**Exercise 7:** Let $A$ be a random $ 3 \\times 3$ matrices. Demonstrate using Python that $(A^T)^{-1} = (A^{-1})^T$ for the matrix. Use this property to explain why $A^{-1}$ must be symmetric if $A$ is symmetric."
   ]
  },
  {
   "cell_type": "code",
   "execution_count": 3,
   "id": "b6ad3e27",
   "metadata": {},
   "outputs": [
    {
     "name": "stdout",
     "output_type": "stream",
     "text": [
      "A: \n",
      " [[3 0 1]\n",
      " [2 6 3]\n",
      " [4 5 8]] \n",
      "\n",
      "A_inv_transpose: \n",
      " [[ 0.38823529 -0.04705882 -0.16470588]\n",
      " [ 0.05882353  0.23529412 -0.17647059]\n",
      " [-0.07058824 -0.08235294  0.21176471]] \n",
      "\n",
      "A_trans_inverse: \n",
      " [[ 0.38823529 -0.04705882 -0.16470588]\n",
      " [ 0.05882353  0.23529412 -0.17647059]\n",
      " [-0.07058824 -0.08235294  0.21176471]] \n",
      "\n",
      "A_inverse_transpose and A_transpose_inverse are not equal. \n"
     ]
    }
   ],
   "source": [
    "A = np.random.randint(0,9, size = (3,3))\n",
    "\n",
    "print(\"A: \\n\", A, '\\n') \n",
    "\n",
    "# Create the inverse of A and its transpose\n",
    "A_inv = lag.Inverse(A)\n",
    "A_inv_trans = A_inv.transpose()\n",
    "\n",
    "print(\"A_inv_transpose: \\n\", np.round(A_inv_trans,8), '\\n')\n",
    "\n",
    "# Create the transpose of A and its inverse\n",
    "A_trans = A.transpose()\n",
    "A_trans_inv = lag.Inverse(A_trans)\n",
    "\n",
    "print(\"A_trans_inverse: \\n\", np.round(A_trans_inv,8), '\\n')\n",
    "\n",
    "# checking if the transpose of A inverse and the inverse of A transpose are equal.\n",
    "if (np.array_equal(A_trans_inv, A_inv_trans)):\n",
    "    print(\"A_inverse_transpose and A_transpose_inverse are equal. \")\n",
    "else:\n",
    "    print(\"A_inverse_transpose and A_transpose_inverse are not equal. \")"
   ]
  },
  {
   "cell_type": "markdown",
   "id": "abc62f76",
   "metadata": {},
   "source": [
    "From the computations done in the code cell above, we verified that $ (A^{-1})^T = (A^T)^{-1} $.  If $A$ is symmetric, then $A^T = A$ and we can replace $A^T$ with $A$ on the right side of the equation to get $(A^{-1})^T = A^{-1} $, which means that $A^{-1}$ is also symmetric."
   ]
  },
  {
   "cell_type": "markdown",
   "id": "fada8e2f",
   "metadata": {},
   "source": [
    "**Exercise 8:** Consider the following $ 4 \\times 4 $ matrix:\n",
    "\n",
    "$$\n",
    "A = \\left[ \\begin{array}{rrrr} 4 & x_1 & 0 & 0 \\\\ 0 & x_2 & 0 & 0 \\\\ 0 & x_3 & 1 & 0 \\\\ 0 & x_4 & 0 & 3 \\end{array}\\right]\n",
    "$$\n",
    "\n",
    "  $(a)$ Find the condition on $x_1$, $x_2$, $x_3$ or $x_4$ for which $A^{-1}$ exists. Assuming that condition is true, find the inverse of $A$.\n",
    "\n",
    "  $(b)$ Use Python to check if $ A^{-1}A = I $ when $x_1 = 4$, $x_2 = 1$, $x_3 = 1$, and $x_4 = 3$."
   ]
  },
  {
   "cell_type": "markdown",
   "id": "2e87c811",
   "metadata": {},
   "source": [
    "#### Solution: \n",
    "(a) After carrying out row operations on $A$, we get the following upper triangular matrix.\n",
    "\n",
    "$$\n",
    "\\left[ \\begin{array}{rrrr} 4 & x_1 & 0 & 0 \\\\ 0 & x_2 & 0 & 0 \\\\ 0 & 0 & 1 & 0 \\\\ 0 & 0 & 0 & 3 \\end{array}\\right]\n",
    "$$\n",
    "\n",
    "$A$ will be invertible if and only if all the diagonal enteries are non-zero, so $A$ will be invertible if and only if $x_2\\neq 0$.  In this case, $[A|I]$ is\n",
    "\n",
    "$$\n",
    "\\begin{equation}\n",
    "[A|I] = \\left[ \\begin{array}{rrrr|rrrr} \n",
    "4 & x_1 & 0 & 0 & 1 & 0 & 0 & 0 \\\\ \n",
    "0 & x_2 & 0 & 0 & 0 & 1 & 0 & 0 \\\\\n",
    "0 & x_3 & 1 & 0 & 0 & 0 & 1 & 0 \\\\\n",
    " 0& x_4 & 0 & 3 & 0 & 0 & 0 & 1 \\\\ \n",
    "\\end{array}\\right]\n",
    "\\end{equation}\n",
    "$$\n",
    "\n",
    "row operations give $A^{-1}$ as follows.\n",
    "\n",
    "$$\n",
    "A^{-1} = \\left[ \\begin{array}{rrrr} 1/4 & -x_1/4x_2 & 0 & 0 \\\\ 0 & x_2 & 0 & 0 \\\\ 0 & -x_3/x_2 & 1 & 0 \\\\ 0 & -x_4/3x_2 & 0 & 1/3 \\end{array}\\right]\n",
    "$$\n"
   ]
  },
  {
   "cell_type": "code",
   "execution_count": 7,
   "id": "73e955d7",
   "metadata": {},
   "outputs": [
    {
     "name": "stdout",
     "output_type": "stream",
     "text": [
      "A@A_inv: \n",
      " [[1.  1.5 0.  0. ]\n",
      " [0.  4.  0.  0. ]\n",
      " [0.  6.  1.  0. ]\n",
      " [0.  0.  0.  1. ]] \n",
      "\n"
     ]
    }
   ],
   "source": [
    "## Part (b)\n",
    "\n",
    "x_1 = 1\n",
    "x_2 = 2\n",
    "x_3 = 4\n",
    "x_4 = 0\n",
    "\n",
    "A = np.array([[4,x_1,0,0],[0,x_2,0,0],[0,x_3,1,0],[0,x_4,0,3]])\n",
    "A_inv = np.array([[1/4,-x_1/4/x_2,0,0],[0,x_2,0,0],[0,-x_3/x_2,1,0],[0,-x_4/3/x_2,0,1/3]])\n",
    "\n",
    "print(\"A@A_inv: \\n\", A@A_inv,'\\n')\n"
   ]
  },
  {
   "cell_type": "code",
   "execution_count": null,
   "id": "ee833453",
   "metadata": {},
   "outputs": [],
   "source": [
    "## Code solution here"
   ]
  },
  {
   "cell_type": "markdown",
   "id": "27081dae",
   "metadata": {},
   "source": [
    "**Exercise 9:** Apply the methods used in this section to compute a right inverse of the matrix $A$.\n",
    "\n",
    "$$\n",
    "A = \\left[ \\begin{array}{rrrr} 1 & 0 & 0 & 2 \\\\ 0 & -1 & 1 & 4 \\end{array}\\right]\n",
    "$$\n"
   ]
  },
  {
   "cell_type": "markdown",
   "id": "16c251e0",
   "metadata": {},
   "source": [
    "\n",
    "Let $C$ be the right inverse of $A$, then $AC= I$, and $C$ is a $ 4 \\times 2 $ matrix.\n",
    "\n",
    "$$\n",
    "AC=\n",
    "\\left[ \\begin{array}{rrrr} 1 & 0 & 0 & 2 \\\\ 0 & -1 & 1 & 4  \\end{array}\\right]\n",
    "\\left[ \\begin{array}{rrrr} x_1 & y_1  \\\\ x_2 & y_2  \\\\ x_3 & y_3 \\\\ x_4 & y_4   \\end{array}\\right]=\n",
    "\\left[ \\begin{array}{rrrr} 1 & 0  \\\\ 0 & 1  \\end{array}\\right]=\n",
    "I\n",
    "$$\n",
    "\n",
    "If we understand the product $AC$ in terms of the columns of $C$, we get two linear systems to solve for $x_i$ and $y_i$ which are as follows:\n",
    "\n",
    "$$\n",
    "\\left[ \\begin{array}{rrrr} 1 & 0 & 0 & 2 \\\\ 0 & -1 & 1 & 4  \\end{array}\\right]\n",
    "\\left[ \\begin{array}{r}  x_1 \\\\  x_2  \\\\ x_3 \\\\ x_4  \\end{array}\\right]=\n",
    "\\left[ \\begin{array}{r}  1 \\\\  0   \\end{array}\\right]\n",
    "$$\n",
    "\n",
    "                                                               \n",
    "\n",
    "$$\n",
    "\\left[ \\begin{array}{rrrr} 1 & 0 & 0 & 2 \\\\ 0 & -1 & 1 & 4  \\end{array}\\right]\n",
    "\\left[ \\begin{array}{r}  y_1 \\\\  y_2  \\\\ y_3 \\\\ y_4  \\end{array}\\right]=\n",
    "\\left[ \\begin{array}{r}  0 \\\\ 1 \\end{array}\\right]\n",
    "$$\n",
    "\n",
    "\n",
    "It can be clearly seen that $x_3, x_4, y_3$, and $y_4$ are free variables due to which there are infinite number of matrices $C$ which can be the right inverse of $A$. In other words, $C$ is not unique. One possibility is: \n",
    "\n",
    "$$\n",
    "C = \\left[ \\begin{array}{rrrr} 1 & 0 \\\\ 0 & -1 \\\\ 0 & 0 \\\\ 0 & 0 \\end{array}\\right]\n",
    "$$\n",
    "\n",
    "We check that $ AC = I $ in the code cell below."
   ]
  },
  {
   "cell_type": "code",
   "execution_count": null,
   "id": "e678a112",
   "metadata": {},
   "outputs": [],
   "source": [
    "A = np.array([[1,0,0,2],[0,-1,1,4]])\n",
    "C = np.array([[1,0],[0,-1],[0,0],[0,0]])\n",
    " \n",
    "print(\"AC = \\n\", A@C, '\\n')"
   ]
  },
  {
   "cell_type": "markdown",
   "id": "fc252afb",
   "metadata": {},
   "source": [
    "### LU Factorization\n"
   ]
  },
  {
   "cell_type": "markdown",
   "id": "472d4b9d",
   "metadata": {},
   "source": [
    "**Exercise 1:** Solve $ AX = B $ using $ A = LU $ and the $L$, $U$, and $B$ given below.  Compute $LUX$ to verify your answer. \n",
    "\n",
    "$$\n",
    "\\begin{equation}\n",
    "A = \\left[ \\begin{array}{ccc} 5 & 2 & 1 \\\\ 5 & 3 & 0 \\\\ -5 & -2 & -4  \\end{array}\\right] \\hspace{2cm} \n",
    "B = \\left[ \\begin{array}{c} 4 \\\\ 7 \\\\ 8  \\end{array}\\right] \\hspace{2cm} \n",
    "L = \\left[ \\begin{array}{ccc} 1 & 0 & 0 \\\\ 1 & 1 & 0  \\\\ -1 & 0 & 1  \\end{array}\\right] \\hspace{2cm} \n",
    "U = \\left[ \\begin{array}{ccc} 5 & 2 & 1 \\\\ 0 & 1 & -1  \\\\ 0 & 0 & 3  \\end{array}\\right] \n",
    "\\end{equation}\n",
    "$$"
   ]
  },
  {
   "cell_type": "code",
   "execution_count": null,
   "id": "414d1f75",
   "metadata": {},
   "outputs": [],
   "source": [
    "## Code solution here."
   ]
  },
  {
   "cell_type": "markdown",
   "id": "6ea3324c",
   "metadata": {},
   "source": [
    "**Exercise 2:** Solve $ AX = B $ using $ A = LU $ and the $L$, $U$, and $B$ given below.  Compute $LUX$ to verify your answer. \n",
    "\n",
    "$$\n",
    "\\begin{equation}\n",
    "L = \\left[ \\begin{array}{ccc} 1 & 0 & 0 \\\\ -1 & 1 & 0 \\\\ 0 & -1 & 1  \\end{array}\\right] \\hspace{2cm} \n",
    "U = \\left[ \\begin{array}{ccc} 1 & -1 & 0 \\\\ 0 & 1 & -1  \\\\ 0 & 0 & 1  \\end{array}\\right] \\hspace{2cm} \n",
    "B = \\left[ \\begin{array}{c} 2 \\\\ -3 \\\\ 4  \\end{array}\\right] \n",
    "\\end{equation}\n",
    "$$"
   ]
  },
  {
   "cell_type": "code",
   "execution_count": null,
   "id": "ea32cf3a",
   "metadata": {},
   "outputs": [],
   "source": [
    "## Code solution here."
   ]
  },
  {
   "cell_type": "markdown",
   "id": "43084b91",
   "metadata": {},
   "source": [
    "**Exercise 3:** Write a function called $\\texttt{ForwardSubstitution}$ that will solve a lower triangular system $LY=B$.  It will be helpful to go back and look at the code for $\\texttt{BackSubstitution}$."
   ]
  },
  {
   "cell_type": "code",
   "execution_count": null,
   "id": "9f55ddcf",
   "metadata": {},
   "outputs": [],
   "source": [
    "## Code solution here."
   ]
  },
  {
   "cell_type": "markdown",
   "id": "06723509",
   "metadata": {},
   "source": [
    "**Exercise 4:** Let $A$, $B$, and $C$ be the following matrices:\n",
    "\n",
    "  $$\n",
    "\\begin{equation}\n",
    "A = \\left[ \\begin{array}{ccc} 1 & 2 & 4 \\\\ 2 & 1 & 3 \\\\ 1 & 0 & 2  \\end{array}\\right] \\hspace{2cm} \n",
    "B = \\left[ \\begin{array}{ccc} 1 & 2 & 4 \\\\ 2 & 1 & 3  \\\\ 2 & 2 & 6  \\end{array}\\right] \\hspace{2cm} \n",
    "C = \\left[ \\begin{array}{ccc} 1 & 2 & 4 \\\\ 0 & -1 & -3  \\\\ 2 & 2 & 6  \\end{array}\\right] \n",
    "\\end{equation}\n",
    "$$\n",
    "\n",
    "$(a)$ Find an elementary matrix $E$ such that $EA = B$.  Verify with a computation.\n",
    "\n",
    "$(b)$ Find an elementary matrix $F$ such that $ FB = C$.  Verify with a computation.\n",
    "    "
   ]
  },
  {
   "cell_type": "code",
   "execution_count": null,
   "id": "87e3b14e",
   "metadata": {},
   "outputs": [],
   "source": [
    "# Building the matrix A\n",
    "A = np.array([[1,2,4],[2,1,3],[1,0,2]])\n",
    "I = np.eye(3)\n",
    "print(\"A: \\n\", A, '\\n')\n",
    "\n",
    "# Part (a)\n",
    "B = lag.RowAdd(A, 0, 2, 1)\n",
    "E = lag.RowAdd(I, 0, 2, 1)\n",
    "\n",
    "print(\"B: \\n\", B, '\\n')\n",
    "print(\"E: \\n\", E, '\\n')\n",
    "print(\"EA: \\n\", E@A, '\\n')\n",
    "\n",
    "# Part (b)\n",
    "# Building the matrix B\n",
    "B = np.array([[1,2,4],[2,1,3],[2,2,6]])\n",
    "\n",
    "C = lag.RowAdd(B, 2, 1, -1)\n",
    "F = lag.RowAdd(I, 2, 1, -1)\n",
    "\n",
    "print(\"C: \\n\", C, '\\n')\n",
    "print(\"F: \\n\", F, '\\n')\n",
    "\n",
    "print(\"FB: \\n\", F@B, '\\n')"
   ]
  },
  {
   "cell_type": "markdown",
   "id": "c7adbad5",
   "metadata": {},
   "source": [
    "**Exercise 5:** Consider the following $3\\times 3$  matrix :\n",
    "\n",
    "$$\n",
    "\\begin{equation}\n",
    "A = \\left[ \\begin{array}{rrr}  2 & 1 & 1\\\\  6 & 4 & 5  \\\\ 4 & 1 & 3 \\end{array} \\right] \n",
    "\\end{equation}\n",
    "$$\n",
    "\n",
    "$(a)$ Find **elementary matrices** $E_1$, $E_2$, and $E_3$ such that $ E_3E_2E_1A = U $ where $U$ is an upper triangular matrix.\n",
    "\n",
    "$(b)$ Find $L$ using the inverses of $E_1$, $E_2$, $E_3$, and verify that $  A = LU $."
   ]
  },
  {
   "cell_type": "code",
   "execution_count": null,
   "id": "bbd8fd9f",
   "metadata": {},
   "outputs": [],
   "source": [
    "# Create the matrix A\n",
    "A = np.array([[2,1,1],[6,4,5],[4,1,3]])\n",
    "I = np.eye(3)\n",
    "print(\"A: \\n\", A, '\\n')\n",
    "\n",
    "#Part (a):\n",
    "B1 = lag.RowAdd(A, 0, 1, -3)\n",
    "E1 = lag.RowAdd(I, 0, 1, -3)\n",
    "\n",
    "B2 = lag.RowAdd(B1, 0, 2, -2)\n",
    "E2 = lag.RowAdd(I, 0, 2, -2)\n",
    "\n",
    "U = lag.RowAdd(B2, 1, 2, 1)\n",
    "E3 = lag.RowAdd(I, 1, 2, 1)\n",
    "\n",
    "\n",
    "print(\"E1: \\n\", E1, '\\n')\n",
    "print(\"E2: \\n\",E2, '\\n')\n",
    "print(\"E3: \\n\", E3, '\\n')\n",
    "print(\"U: \\n\", U, '\\n')\n",
    "\n",
    "# Part (b)\n",
    "L1 = sla.inv(E1)\n",
    "L2 = sla.inv(E2)\n",
    "L3 = sla.inv(E3)\n",
    "\n",
    "L = L1@L2@L3\n",
    "\n",
    "print(\"L: \\n\", L, '\\n' )\n",
    "print(\"LU: \\n\", L@U, '\\n')"
   ]
  },
  {
   "cell_type": "markdown",
   "id": "801dfbee",
   "metadata": {},
   "source": [
    "**Exercise 6:**  Compute the $LDU$ factorization of the following matrix and verify that $A = LDU$.\n",
    "\n",
    "$$\n",
    "\\begin{equation}\n",
    "A = \\left[ \\begin{array}{rrr}  1 & 1 & 1\\\\  3 & 5 & 6  \\\\ -2 & 2 & 7 \\end{array} \\right] \n",
    "\\end{equation}\n",
    "$$\n"
   ]
  },
  {
   "cell_type": "code",
   "execution_count": null,
   "id": "8e4f7329",
   "metadata": {},
   "outputs": [],
   "source": [
    "# Create the matrix A\n",
    "A = np.array([[1,1,1],[3,5,6],[-2,2,7]])\n",
    "I = np.eye(3)\n",
    "print(\"A: \\n\", A, '\\n')\n",
    "\n",
    "B1 = lag.RowAdd(A, 0, 1, -3)\n",
    "E1 = lag.RowAdd(I, 0, 1, -3)\n",
    "\n",
    "B2 = lag.RowAdd(B1, 0, 2, 2)\n",
    "E2 = lag.RowAdd(I, 0, 2, 2)\n",
    "\n",
    "B3 = lag.RowAdd(B2, 1, 2, -2)\n",
    "E3 = lag.RowAdd(I, 1, 2, -2)\n",
    "\n",
    "print(\"B3: \\n\", B3, '\\n')\n",
    "\n",
    "L1 = sla.inv(E1)\n",
    "L2 = sla.inv(E2)\n",
    "L3 = sla.inv(E3)\n",
    "\n",
    "# creating lower triangular matrix L\n",
    "L = L1@L2@L3\n",
    "\n",
    "# creating row echelon form of A\n",
    "U1 = lag.RowScale(B3, 1, 1/2)\n",
    "U = lag.RowScale(U1, 2, 1/3)\n",
    "\n",
    "# creating diagonal matrix D\n",
    "D = np.array([[1,0,0],[0,2,0],[0,0,3]])\n",
    "\n",
    "print(\"L: \\n\", L, '\\n')\n",
    "print(\"U: \\n\", U, '\\n')\n",
    "print(\"D: \\n\", D, '\\n')\n",
    "\n",
    "print(\"LDU: \\n\", L@D@U, '\\n' )"
   ]
  },
  {
   "cell_type": "markdown",
   "id": "a152487f",
   "metadata": {},
   "source": [
    "**Exercise 7:** Find $P, L,$ and $U$ such that $PA = LU$.  Following the discussion in this section, $P$ should be a permutation matrix, $L$ should be a lower triangular matrix with ones long the main diagonal, and $U$ should be an upper triangular matrix.\n",
    "\n",
    "$$\n",
    "\\begin{equation}\n",
    "A = \\left[ \\begin{array}{rrr}  1 & 3 & 2\\\\  -2 & -6 & 1  \\\\ 2 & 5 & 7 \\end{array} \\right] \n",
    "\\end{equation}\n",
    "$$\n",
    "    "
   ]
  },
  {
   "cell_type": "code",
   "execution_count": null,
   "id": "f4424a66",
   "metadata": {},
   "outputs": [],
   "source": [
    "# Building the matrix A\n",
    "A = np.array([[1,3,2],[-2,-6,1],[2,5,7]])\n",
    "I = np.eye(3)\n",
    "\n",
    "B1 = lag.RowAdd(A, 0, 1, 2)\n",
    "E1 = lag.RowAdd(I, 0, 1, 2)\n",
    "\n",
    "B2 = lag.RowAdd(B1, 0, 2, -2)\n",
    "E2 = lag.RowAdd(I, 0, 2, -2)\n",
    "\n",
    "print(\"B1: \\n\", B1, '\\n')\n",
    "print(\"B2: \\n\", B2, '\\n')\n",
    "\n",
    "# Since we cannot perform futher row reduction in this form, we need to swap the second and third rows.\n",
    "\n",
    "# P is the permutation matrix\n",
    "\n",
    "P = lag.RowSwap(I, 1, 2)\n",
    "\n",
    "print(\"P: \\n\", P, '\\n')\n",
    "print(\"PA: \\n\", P@A, '\\n')\n",
    "\n",
    "B = lag.RowAdd(P@A, 0, 1, -2)\n",
    "F1 = lag.RowAdd(I, 0, 1, -2)\n",
    "\n",
    "print(\"B: \\n\", B, '\\n')\n",
    "\n",
    "# U is the upper triangular matrix\n",
    "U = lag.RowAdd(B, 0, 2, 2)\n",
    "F2 = lag.RowAdd(I, 0, 2, 2)\n",
    "\n",
    "print(\"U: \\n\", U, '\\n')\n",
    "\n",
    "L1 = sla.inv(F1)\n",
    "L2 = sla.inv(F2)\n",
    "\n",
    "L = L1@L2\n",
    "\n",
    "print(\"L: \\n\", L, '\\n')\n",
    "\n",
    "print(\"LU: \\n\", L@U, '\\n')\n",
    "\n",
    "# From here, we can see that PA = LU."
   ]
  },
  {
   "cell_type": "markdown",
   "id": "13887e0c",
   "metadata": {},
   "source": [
    "**Exercise 8:** Use SciPy to compute the $PLU$ factorization of a $3\\times 3$ matrix.  Replicate the results using the row operations functions in $\\texttt{laguide}$."
   ]
  },
  {
   "cell_type": "code",
   "execution_count": null,
   "id": "ecfd275c",
   "metadata": {},
   "outputs": [],
   "source": [
    "## Code Solution here"
   ]
  },
  {
   "cell_type": "markdown",
   "id": "67e6d0fd",
   "metadata": {},
   "source": [
    "### Applications"
   ]
  },
  {
   "cell_type": "markdown",
   "id": "75f11fe6",
   "metadata": {},
   "source": [
    "#### Interpolation\n",
    "\n",
    "**Exercise 1:** In 2017, researchers from the Universities of British Columbia, Alberta, and Toronto published their findings regarding the population of snowshoe hares around Kluane Lake, Yukon. They measured the density of hares per hectare, taking a reading once every two years. Here are some of their measurements:\n",
    "\n",
    "| Measurement #    | Density per ha. |\n",
    "| ---------------- | --------------- |\n",
    "| 1                | 0.26            |\n",
    "| 2                | 0.20            |\n",
    "| 3                | 1.17            |\n",
    "| 4                | 2.65            |\n",
    "| 5                | 0.14            |\n",
    "| 6                | 0.42            |\n",
    "| 7                | 1.65            |\n",
    "| 8                | 2.73            |\n",
    "| 9                | 0.09            |\n",
    "| 10               | 0.21            |\n",
    "\n",
    "$(a)$ Find the unique ninth degree polynomial whose graph passes through each of these points.  Plot the data points together with the graph of the polynomial to observe the fit.\n",
    "   \n",
    "$(b)$ Using the polynomial that we found, what should we expect the density of hares to be if we measured their population in the year between the third and fourth measurement? What about between the fourth and the fifth?\n",
    " \n",
    "$(c)$ Why might this method of interpolation not be an appropriate model of our data over time?"
   ]
  },
  {
   "cell_type": "code",
   "execution_count": 6,
   "id": "de270fac",
   "metadata": {},
   "outputs": [
    {
     "data": {
      "image/png": "[encoded data removed]",
      "text/plain": [
       "<Figure size 432x288 with 1 Axes>"
      ]
     },
     "metadata": {
      "needs_background": "light"
     },
     "output_type": "display_data"
    }
   ],
   "source": [
    "x = np.array([1,2,3,4,5,6,7,8,9,10])\n",
    "y = np.array([0.26,0.2,1.17,2.65,0.14,0.42,1.65,2.73,0.09,0.21])\n",
    "\n",
    "A = np.zeros((10,10),dtype=int)\n",
    "B = np.zeros((10,1))\n",
    "\n",
    "for i in range(10):\n",
    "    B[i,0] = y[i]\n",
    "    for j in range(10):\n",
    "        A[i,j] = x[i]**(j)\n",
    "        \n",
    "coeffs = lag.SolveSystem(A,B)\n",
    "\n",
    "x_fit = np.linspace(x[0],x[9],100)\n",
    "y_fit = coeffs[0] + coeffs[1]*x_fit + coeffs[2]*x_fit**2 + coeffs[3]*x_fit**3 + coeffs[4]*x_fit**4 + coeffs[5]*x_fit**5 + coeffs[6]*x_fit**6 + coeffs[7]*x_fit**7 + coeffs[8]*x_fit**8 + coeffs[9]*x_fit**9 \n",
    "\n",
    "fig,ax = plt.subplots()\n",
    "\n",
    "ax.scatter(x,y,color='red');\n",
    "ax.plot(x_fit,y_fit,'b');\n",
    "ax.set_xlim(0,11);\n",
    "ax.set_ylim(-7,7);\n",
    "ax.set_xlabel('x');\n",
    "ax.set_ylabel('y');\n",
    "ax.grid(True);"
   ]
  },
  {
   "cell_type": "markdown",
   "id": "beed7122",
   "metadata": {},
   "source": [
    "Judging by the graph of the polynomial, it looks like the curve takes on a value of about 2.5 when $x = 3.5$ and a value of about 1 when $x = 4.5$.\n",
    "\n",
    "Although this method of finding a polynomial that passes through all our data points provides a nice smooth curve, it doesn't match our intuition of what the curve should look like. The curve drops below zero between the ninth and tenth measurement, indicating a negative density. But this is impossible, since we can't have a negative number of hares! It also rises much higher between the first and second measurement than the data points alone seem to suggest."
   ]
  },
  {
   "cell_type": "markdown",
   "id": "b2e8bdde",
   "metadata": {},
   "source": [
    "**Exercise 2:** The further you travel out into the solar system and away from the Sun, the slower an object must be travelling to remain in its orbit. Here are the average radii of the orbits of the planets in our solar system, and their average orbital velocity around the Sun.\n",
    "\n",
    "|Planet                           | Distance from Sun (million km)  | Orbital Velocity (km/s)         |\n",
    "| ------------------------------- | ------------------------------- | ------------------------------- |\n",
    "|Mercury                          | 57.9                            | 47.4                            |\n",
    "|Venus                            | 108.2                           | 35.0                            | \n",
    "|Earth                            | 149.6                           | 29.8                            |\n",
    "|Mars                             | 228.0                           | 24.1                            |\n",
    "|Jupiter                          | 778.5                           | 13.1                            |\n",
    "|Saturn                           | 1432.0                          | 9.7                             |\n",
    "|Uranus                           | 2867.0                          | 6.8                             |\n",
    "|Neptune                          | 4515.0                          | 5.4                             |\n",
    "\n",
    "$(a)$ Find the unique first degree polynomial whose graph passes through points defined by Mercury and Jupiter.  Plot the data points together with the graph of the polynomial to observe the fit. Amend your polynomial and graph by adding Saturn, and then Earth. What do you notice as you add more points? What if you had started with different planets?\n",
    "   \n",
    "$(b)$ Expand your work in part $(a)$ to a seventh degree poynomial that passes through all eight planets. The first object in the Kuiper Belt, Ceres, was discovered by Giuseppe Piazzi in 1801. Ceres has an average distance from the sun of 413.5 million km. Based on the points on the graph, estimate the orbital velocity of Ceres. What does the polynomial suggest the value would be?"
   ]
  },
  {
   "cell_type": "markdown",
   "id": "2ec4518f",
   "metadata": {},
   "source": [
    "We start by finding the polynomial and graph that passes through the points defined by Mercury and Jupiter."
   ]
  },
  {
   "cell_type": "code",
   "execution_count": 3,
   "id": "aa12e6c9",
   "metadata": {},
   "outputs": [
    {
     "data": {
      "image/png": "[encoded data removed]",
      "text/plain": [
       "<Figure size 432x288 with 1 Axes>"
      ]
     },
     "metadata": {
      "needs_background": "light"
     },
     "output_type": "display_data"
    }
   ],
   "source": [
    "x = np.array([57.9,778.5])\n",
    "y = np.array([47.4,13.1])\n",
    "\n",
    "A = np.zeros((2,2))\n",
    "B = np.zeros((2,1))\n",
    "\n",
    "for i in range(2):\n",
    "    B[i,0] = y[i]\n",
    "    for j in range(2):\n",
    "        A[i,j] = x[i]**(j)\n",
    "        \n",
    "coeffs = lag.SolveSystem(A,B)\n",
    "\n",
    "x_fit = np.linspace(x[0],x[1])\n",
    "y_fit = coeffs[0] + coeffs[1]*x_fit\n",
    "fig,ax = plt.subplots()\n",
    "\n",
    "ax.scatter(x,y,color='red');\n",
    "ax.plot(x_fit,y_fit,'b');\n",
    "ax.set_xlim(0,5000);\n",
    "ax.set_ylim(0,50);\n",
    "ax.set_xlabel('Distance from sun (million km)');\n",
    "ax.set_ylabel('Orbital velocity (km/s)');\n",
    "ax.grid(True);"
   ]
  },
  {
   "cell_type": "markdown",
   "id": "990ee1c0",
   "metadata": {},
   "source": [
    "Next we add the point defined by Saturn."
   ]
  },
  {
   "cell_type": "code",
   "execution_count": 4,
   "id": "1611ae6d",
   "metadata": {},
   "outputs": [
    {
     "data": {
      "image/png": "[encoded data removed]",
      "text/plain": [
       "<Figure size 432x288 with 1 Axes>"
      ]
     },
     "metadata": {
      "needs_background": "light"
     },
     "output_type": "display_data"
    }
   ],
   "source": [
    "x = np.array([57.9,778.5,1432.0])\n",
    "y = np.array([47.4,13.1,9.7])\n",
    "\n",
    "A = np.zeros((3,3))\n",
    "B = np.zeros((3,1))\n",
    "\n",
    "for i in range(3):\n",
    "    B[i,0] = y[i]\n",
    "    for j in range(3):\n",
    "        A[i,j] = x[i]**(j)\n",
    "        \n",
    "coeffs = lag.SolveSystem(A,B)\n",
    "\n",
    "x_fit = np.linspace(x[0],x[2])\n",
    "y_fit = coeffs[0] + coeffs[1]*x_fit + coeffs[2]*x_fit**2\n",
    "fig,ax = plt.subplots()\n",
    "\n",
    "ax.scatter(x,y,color='red');\n",
    "ax.plot(x_fit,y_fit,'b');\n",
    "ax.set_xlim(0,5000);\n",
    "ax.set_ylim(0,50);\n",
    "ax.set_xlabel('Distance from sun (million km)');\n",
    "ax.set_ylabel('Orbital velocity (km/s)');\n",
    "ax.grid(True);"
   ]
  },
  {
   "cell_type": "markdown",
   "id": "5bb73560",
   "metadata": {},
   "source": [
    "Next we add the point defined by Earth."
   ]
  },
  {
   "cell_type": "code",
   "execution_count": 5,
   "id": "e66c9135",
   "metadata": {},
   "outputs": [
    {
     "data": {
      "image/png": "[encoded data removed]",
      "text/plain": [
       "<Figure size 432x288 with 1 Axes>"
      ]
     },
     "metadata": {
      "needs_background": "light"
     },
     "output_type": "display_data"
    }
   ],
   "source": [
    "x = np.array([57.9,149.6,778.5,1432.0])\n",
    "y = np.array([47.4,29.8,13.1,9.7])\n",
    "\n",
    "A = np.zeros((4,4))\n",
    "B = np.zeros((4,1))\n",
    "\n",
    "for i in range(4):\n",
    "    B[i,0] = y[i]\n",
    "    for j in range(4):\n",
    "        A[i,j] = x[i]**(j)\n",
    "        \n",
    "coeffs = lag.SolveSystem(A,B)\n",
    "\n",
    "x_fit = np.linspace(x[0],x[3])\n",
    "y_fit = coeffs[0] + coeffs[1]*x_fit + coeffs[2]*x_fit**2 + coeffs[3]*x_fit**3\n",
    "fig,ax = plt.subplots()\n",
    "\n",
    "ax.scatter(x,y,color='red');\n",
    "ax.plot(x_fit,y_fit,'b');\n",
    "ax.set_xlim(0,5000);\n",
    "ax.set_ylim(0,50);\n",
    "ax.set_xlabel('Distance from sun (million km)');\n",
    "ax.set_ylabel('Orbital velocity (km/s)');\n",
    "ax.grid(True);"
   ]
  },
  {
   "cell_type": "markdown",
   "id": "8acdc21e",
   "metadata": {},
   "source": [
    "The polynomial seems to have a smoother, more \"natural\" curve when there are fewer points, but quickly overshoots as more points are added. Finally we extend the polynomial to fill all the points in the table."
   ]
  },
  {
   "cell_type": "code",
   "execution_count": 6,
   "id": "48a5ed68",
   "metadata": {},
   "outputs": [
    {
     "data": {
      "image/png": "[encoded data removed]",
      "text/plain": [
       "<Figure size 432x288 with 1 Axes>"
      ]
     },
     "metadata": {
      "needs_background": "light"
     },
     "output_type": "display_data"
    }
   ],
   "source": [
    "x = np.array([57.9,108.2,149.6,228.0,778.5,1432.0,2867.0,4515.0])\n",
    "y = np.array([47.4,35.0,29.8,24.1,13.1,9.7,6.8,5.4])\n",
    "\n",
    "\n",
    "A = np.zeros((8,8))\n",
    "B = np.zeros((8,1))\n",
    "\n",
    "for i in range(8):\n",
    "    B[i,0] = y[i]\n",
    "    for j in range(8):\n",
    "        A[i,j] = x[i]**(j)\n",
    "        \n",
    "coeffs = lag.SolveSystem(A,B)\n",
    "\n",
    "x_fit = np.linspace(x[0],x[7])\n",
    "y_fit = coeffs[0] + coeffs[1]*x_fit + coeffs[2]*x_fit**2 + coeffs[3]*x_fit**3 + coeffs[4]*x_fit**4 + coeffs[5]*x_fit**5 + coeffs[6]*x_fit**6 + coeffs[7]*x_fit**7\n",
    "\n",
    "fig,ax = plt.subplots()\n",
    "\n",
    "ax.scatter(x,y,color='red');\n",
    "ax.plot(x_fit,y_fit,'b');\n",
    "ax.set_xlim(0,5000);\n",
    "ax.set_ylim(0,50);\n",
    "ax.set_xlabel('Distance from sun (million km)');\n",
    "ax.set_ylabel('Orbital velocity (km/s)');\n",
    "ax.grid(True);"
   ]
  },
  {
   "cell_type": "markdown",
   "id": "1d979ffe",
   "metadata": {},
   "source": [
    "The polynomial looks like it takes on a value near 0 when $x = 413.5$, but the points suggest something closer to 18."
   ]
  },
  {
   "cell_type": "code",
   "execution_count": null,
   "id": "7856be9b",
   "metadata": {},
   "outputs": [],
   "source": []
  }
 ],
 "metadata": {
  "kernelspec": {
   "display_name": "Python 3",
   "language": "python",
   "name": "python3"
  },
  "language_info": {
   "codemirror_mode": {
    "name": "ipython",
    "version": 3
   },
   "file_extension": ".py",
   "mimetype": "text/x-python",
   "name": "python",
   "nbconvert_exporter": "python",
   "pygments_lexer": "ipython3",
   "version": "3.7.3"
  }
 },
 "nbformat": 4,
 "nbformat_minor": 5
}
