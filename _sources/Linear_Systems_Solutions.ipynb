{
 "cells": [
  {
   "cell_type": "markdown",
   "id": "79d13280",
   "metadata": {},
   "source": [
    "## Linear Systems"
   ]
  },
  {
   "cell_type": "code",
   "execution_count": null,
   "id": "66d73620",
   "metadata": {},
   "outputs": [],
   "source": [
    "import laguide as lag\n",
    "import numpy as np"
   ]
  },
  {
   "cell_type": "markdown",
   "id": "9a6601cd",
   "metadata": {},
   "source": [
    "### Gaussian Elimination"
   ]
  },
  {
   "cell_type": "markdown",
   "id": "369b92e3",
   "metadata": {},
   "source": [
    "- In the system below, use a row operation functions to produce a 0 coefficient in the location of the coefficient 12.  Do this first by hand and then create a NumPy array to represent the system and use the row operation functions.  (*There are two ways to create the 0 using $\\texttt{RowAdd}$.  Try to find both.*)\n",
    "\n",
    "$$\n",
    "\\begin{eqnarray*}\n",
    "4x_1 - 2x_2 + 7x_3 & = & 2\\\\\n",
    "x_1 + 3x_2 + 12x_3 & = & 4\\\\\n",
    "-7x_1 \\quad\\quad - 3x_3 & = & -1 \n",
    "\\end{eqnarray*}\n",
    "$$\n"
   ]
  },
  {
   "cell_type": "code",
   "execution_count": null,
   "id": "c6ffe9c0",
   "metadata": {},
   "outputs": [],
   "source": [
    "C = np.array([[4,-2,7,2],[1,3,12,4],[-7,0,-3,-1]])\n",
    "C1 = lag.RowAdd(C,0,1,-12/7)\n",
    "C2 = lag.RowAdd(C,2,1,4)\n",
    "print(C,'\\n')\n",
    "print(C1,'\\n')\n",
    "print(C2,'\\n')"
   ]
  },
  {
   "cell_type": "markdown",
   "id": "c1fdbca7",
   "metadata": {},
   "source": [
    "- Carry out the elimination process on the following system.  Define a NumPy array and make use of the row operation functions.  Print the results of each step.  Write down the triangular system represented by the array after all steps are completed.\n",
    "\n",
    "$$\n",
    "\\begin{eqnarray*}\n",
    "x_1 - x_2 + x_3 & = & 3\\\\\n",
    "2x_1 + x_2 + 8x_3 & = & 18\\\\\n",
    "4x_1 + 2x_2 -3x_3 & = & -2 \n",
    "\\end{eqnarray*}\n",
    "$$"
   ]
  },
  {
   "cell_type": "code",
   "execution_count": null,
   "id": "911c50d2",
   "metadata": {
    "scrolled": false
   },
   "outputs": [],
   "source": [
    "A = np.array([[1,-1,1,3],[2,1,8,18],[4,2,-3,-2]])\n",
    "A1 = lag.RowScale(A,0,1.0/A[0][0])\n",
    "A2 = lag.RowAdd(A1,0,1,-A[1][0])\n",
    "A3 = lag.RowAdd(A2,0,2,-A2[2][0])\n",
    "A4 = lag.RowScale(A3,1,1.0/A3[1][1])\n",
    "A5 = lag.RowAdd(A4,1,2,-A4[2][1])\n",
    "A6 = lag.RowScale(A5,2,1.0/A5[2][2])\n",
    "print(A,'\\n')\n",
    "print(A1,'\\n')\n",
    "print(A2,'\\n')\n",
    "print(A3,'\\n')\n",
    "print(A4,'\\n')\n",
    "print(A5,'\\n')\n",
    "print(A6,'\\n')"
   ]
  },
  {
   "cell_type": "markdown",
   "id": "352df2e7",
   "metadata": {},
   "source": [
    "- Starting from the array that represents the lower triangular system in **Example 1** ($\\texttt{A5}$), use the row operations to produce an array of the following form.  Do one step at a time and again print your results to check that you are successful.  \n",
    "\n",
    "$$\n",
    "\\begin{equation}\n",
    "\\left[ \\begin{array}{cccc} 1 & 0 & 0 & 1 \\\\ 0 & 1 & 0 & 0 \\\\ 0 & 0 & 1 & 2 \\end{array}\\right]\n",
    "\\end{equation}\n",
    "$$"
   ]
  },
  {
   "cell_type": "code",
   "execution_count": null,
   "id": "562e720b",
   "metadata": {},
   "outputs": [],
   "source": [
    "B = np.array([[1,-1,1,3],[0,1,2,4],[0,0,1,2]])\n",
    "B1 = lag.RowAdd(B,1,0,1)\n",
    "B2 = lag.RowAdd(B1,2,0,-3)\n",
    "B3 = lag.RowAdd(B2,2,1,-2)\n",
    "print(B,'\\n')\n",
    "print(B1,'\\n')\n",
    "print(B2,'\\n')\n",
    "print(B3,'\\n')"
   ]
  },
  {
   "cell_type": "markdown",
   "id": "d774b465",
   "metadata": {},
   "source": [
    "- Redo **Example 2** using the $\\texttt{random}$ module to produce a $3\\times 4$ array made up of random floats instead of random integers.  "
   ]
  },
  {
   "cell_type": "code",
   "execution_count": null,
   "id": "ec660613",
   "metadata": {},
   "outputs": [],
   "source": [
    "D = np.random.rand(3,4)\n",
    "D1 = lag.RowScale(D,0,1.0/D[0][0])\n",
    "D2 = lag.RowAdd(D1,0,1,-D[1][0])\n",
    "D3 = lag.RowAdd(D2,0,2,-D2[2][0])\n",
    "D4 = lag.RowScale(D3,1,1.0/D3[1][1])\n",
    "D5 = lag.RowAdd(D4,1,2,-D4[2][1])\n",
    "D6 = lag.RowScale(D5,2,1.0/D5[2][2])\n",
    "print(D,'\\n')\n",
    "print(D1,'\\n')\n",
    "print(D2,'\\n')\n",
    "print(D3,'\\n')\n",
    "print(D4,'\\n')\n",
    "print(D5,'\\n')\n",
    "print(D6,'\\n')"
   ]
  },
  {
   "cell_type": "markdown",
   "id": "ad48d997",
   "metadata": {},
   "source": [
    "- Write a loop that will execute the elimination code in **Example 2** on 1000 different $3\\times 4$ arrays of random floats to see how frequently it fails.  "
   ]
  },
  {
   "cell_type": "code",
   "execution_count": null,
   "id": "d792ff5d",
   "metadata": {},
   "outputs": [],
   "source": [
    "for count in range(1000):\n",
    "    E = np.random.rand(3,4)\n",
    "    E1 = lag.RowScale(E,0,1.0/E[0][0])\n",
    "    E2 = lag.RowAdd(E1,0,1,-E[1][0])\n",
    "    E3 = lag.RowAdd(E2,0,2,-E2[2][0])\n",
    "    E4 = lag.RowScale(E3,1,1.0/E3[1][1])\n",
    "    E5 = lag.RowAdd(E4,1,2,-E4[2][1])\n",
    "    E6 = lag.RowScale(E5,2,1.0/E5[2][2])"
   ]
  }
 ],
 "metadata": {
  "kernelspec": {
   "display_name": "Python 3",
   "language": "python",
   "name": "python3"
  },
  "language_info": {
   "codemirror_mode": {
    "name": "ipython",
    "version": 3
   },
   "file_extension": ".py",
   "mimetype": "text/x-python",
   "name": "python",
   "nbconvert_exporter": "python",
   "pygments_lexer": "ipython3",
   "version": "3.7.3"
  }
 },
 "nbformat": 4,
 "nbformat_minor": 5
}
