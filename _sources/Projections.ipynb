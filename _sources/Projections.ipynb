{
 "cells": [
  {
   "cell_type": "markdown",
   "metadata": {},
   "source": [
    "## Projections"
   ]
  },
  {
   "cell_type": "markdown",
   "metadata": {},
   "source": [
    "At the start of the chapter, we considered the projection of one vector onto the direction of another, and how to use that projection to decompose the vector into two orthogonal components.  We then considered the higher dimensional analogy of projecting a vector onto a subspace and, using that projection to decompose the vector into orthogonal components.   In this section, we concentrate these concepts, and consider projections as linear transformations which have applications beyond vector decomposition.\n",
    "\n",
    "A linear transformation $T:\\mathbb{R}^n \\to \\mathbb{R}^n$ is a **projection** if $T\\circ T = T$.  The result of applying a projection once is the same as the result of applying it twice.  We can understand the effect of a projection as the collapsing of a vector in $\\mathbb{R}^n$ onto a subspace $\\mathcal{V}$.  Once a vector as been projected onto $\\mathcal{V}$, any further projection onto $\\mathcal{V}$ has no effect.      \n"
   ]
  },
  {
   "cell_type": "markdown",
   "metadata": {},
   "source": [
    "### Example 1\n",
    "\n",
    "We look first at an orthogonal projection onto the $x_1$-axis in $\\mathbb{R}^2$.  This transformation $T:\\mathbb{R}^2\\to\\mathbb{R}^2$ can be defined with the following formula.\n",
    "\n",
    "$$\n",
    "\\begin{equation}\n",
    "T\\left( \\left[ \\begin{array}{r} x \\\\ y \\end{array} \\right]\\right) =\n",
    "\\left[ \\begin{array}{r} x \\\\ 0 \\end{array} \\right]\n",
    "\\end{equation}\n",
    "$$\n",
    "\n",
    "This projection simply carries all vectors onto the $x_1$-axis based on their first entry."
   ]
  },
  {
   "cell_type": "code",
   "execution_count": 2,
   "metadata": {
    "tags": [
     "hide-input"
    ]
   },
   "outputs": [
    {
     "data": {
      "image/png": "[encoded data removed]",
      "text/plain": [
       "<Figure size 432x288 with 1 Axes>"
      ]
     },
     "metadata": {
      "needs_background": "light"
     },
     "output_type": "display_data"
    }
   ],
   "source": [
    "%matplotlib inline\n",
    "import numpy as np\n",
    "import laguide as lag\n",
    "import matplotlib.pyplot as plt\n",
    "\n",
    "x=np.linspace(-6,6,100)\n",
    "\n",
    "fig, ax = plt.subplots()\n",
    "\n",
    "options = {\"head_width\":0.1, \"head_length\":0.2, \"length_includes_head\":True}\n",
    "\n",
    "ax.arrow(0,0,2,4,fc='b',ec='b',**options)\n",
    "ax.arrow(0,0,2,0,fc='r',ec='r',**options)\n",
    "\n",
    "ax.set_xlim(-4,4)\n",
    "ax.set_ylim(-2,6)\n",
    "ax.set_aspect('equal')\n",
    "ax.set_xticks(np.arange(-4,4,step = 1))\n",
    "ax.set_yticks(np.arange(-2,6,step = 1))\n",
    "\n",
    "ax.text(1.5,2,'$X$')\n",
    "ax.text(1.3,-0.8,'$T(X)$')\n",
    "\n",
    "ax.axvline(color='k',linewidth = 1)\n",
    "ax.axhline(color='k',linewidth = 1)\n",
    "\n",
    "ax.grid(True,ls=':')"
   ]
  },
  {
   "cell_type": "markdown",
   "metadata": {},
   "source": [
    "### Example 2\n",
    "\n",
    "Now let's consider $T:\\mathbb{R}^2 \\to \\mathbb{R}^2$ defined by $T(X) = PX$ where $P$ is the following matrix.\n",
    "\n",
    "$$\n",
    "\\begin{equation}\n",
    "\\left[\\begin{array}{rr} 3/2 & -3/2 \\\\ 1/2 & -1/2 \\end{array}\\right]\n",
    "\\end{equation}\n",
    "$$\n",
    "\n",
    "To verify that $T$ is indeed a projection, we need to check that $P^2X = PX$ for every $X$ in $\\mathbb{R}^2$.  This will be true if $P^2=P$.\n"
   ]
  },
  {
   "cell_type": "code",
   "execution_count": 3,
   "metadata": {},
   "outputs": [
    {
     "name": "stdout",
     "output_type": "stream",
     "text": [
      "[[ 1.5 -1.5]\n",
      " [ 0.5 -0.5]]\n"
     ]
    }
   ],
   "source": [
    "P = np.array([[1.5, -1.5],[0.5, -0.5]])\n",
    "print(P@P)"
   ]
  },
  {
   "cell_type": "markdown",
   "metadata": {},
   "source": [
    "Now that we know $T$ is a projection, let's consider the effect of $T$ a bit more carefully.  We observe that the second column is a multiple of the first.  This means that $\\mathcal{C}(P)$ is one-dimensional.  Since $P^2=P$, we \n",
    "know that any vector $X$ in the column space will be unchanged by when multiplied by $P$.\n",
    "\n",
    "\n",
    "$$\n",
    "\\begin{equation}\n",
    "PX = \\left[\\begin{array}{rr} 3/2 & -3/2 \\\\ 1/2 & -1/2 \\end{array}\\right]\n",
    "\\left[\\begin{array}{r} 3k \\\\ k \\end{array}\\right] =\n",
    "\\left[\\begin{array}{r} 3k \\\\ k \\end{array}\\right] = X\n",
    "\\end{equation}\n",
    "$$\n",
    "\n",
    "Next, let's observe the effect of $T$ on a vector $X$ that is not in $\\mathcal{C}(P)$\n",
    "\n",
    "$$\n",
    "\\begin{equation}\n",
    "PX = \\left[\\begin{array}{rr} 3/2 & -3/2 \\\\ 1/2 & -1/2 \\end{array}\\right]\n",
    "\\left[\\begin{array}{r} 4 \\\\ 2 \\end{array}\\right] =\n",
    "\\left[\\begin{array}{r} 3 \\\\ 1 \\end{array}\\right] \n",
    "\\end{equation}\n",
    "$$\n",
    "\n"
   ]
  },
  {
   "cell_type": "code",
   "execution_count": 4,
   "metadata": {},
   "outputs": [
    {
     "name": "stdout",
     "output_type": "stream",
     "text": [
      "[[3.]\n",
      " [1.]]\n"
     ]
    }
   ],
   "source": [
    "X = np.array([[1],[-1]])\n",
    "print(P@X)"
   ]
  },
  {
   "cell_type": "code",
   "execution_count": 7,
   "metadata": {
    "tags": [
     "hide-input"
    ]
   },
   "outputs": [
    {
     "data": {
      "image/png": "[encoded data removed]",
      "text/plain": [
       "<Figure size 432x288 with 1 Axes>"
      ]
     },
     "metadata": {
      "needs_background": "light"
     },
     "output_type": "display_data"
    }
   ],
   "source": [
    "fig, ax = plt.subplots()\n",
    "\n",
    "ax.arrow(0,0,2,4,fc='b',ec='b',**options)\n",
    "ax.arrow(0,0,-3,-1,fc='r',ec='r',**options)\n",
    "ax.plot(x,x/3,ls=':')\n",
    "\n",
    "ax.set_xlim(-4,4)\n",
    "ax.set_ylim(-2,6)\n",
    "ax.set_aspect('equal')\n",
    "ax.set_xticks(np.arange(-4,4,step = 1))\n",
    "ax.set_yticks(np.arange(-2,6,step = 1))\n",
    "\n",
    "ax.text(1.5,2,'$X$')\n",
    "ax.text(-1.2,-1,'$PX$')\n",
    "ax.text(3,1.6,'$\\mathcal{C}(P)$')\n",
    "\n",
    "ax.axvline(color='k',linewidth = 1)\n",
    "ax.axhline(color='k',linewidth = 1)\n",
    "\n",
    "ax.grid(True,ls=':')"
   ]
  },
  {
   "cell_type": "markdown",
   "metadata": {},
   "source": [
    "We see of course that $PX$ is in $\\mathcal{C}(P)$, but in contrast to the projections in earlier sections, this projections is not orthogonal.  If we decompose $X$ into components $PX$ and $X-PX$, we see that these components are not orthogonal."
   ]
  },
  {
   "cell_type": "code",
   "execution_count": 8,
   "metadata": {},
   "outputs": [
    {
     "name": "stdout",
     "output_type": "stream",
     "text": [
      "-8.0\n"
     ]
    }
   ],
   "source": [
    "V = P@X\n",
    "E = X-V\n",
    "print(lag.DotProduct(V,E))"
   ]
  },
  {
   "cell_type": "code",
   "execution_count": 9,
   "metadata": {
    "tags": [
     "hide-input"
    ]
   },
   "outputs": [
    {
     "data": {
      "image/png": "[encoded data removed]",
      "text/plain": [
       "<Figure size 432x288 with 1 Axes>"
      ]
     },
     "metadata": {
      "needs_background": "light"
     },
     "output_type": "display_data"
    }
   ],
   "source": [
    "fig, ax = plt.subplots()\n",
    "\n",
    "ax.arrow(0,0,2,4,fc='b',ec='b',**options)\n",
    "ax.arrow(-3,-1,5,5,fc='r',ec='r',**options)\n",
    "ax.arrow(0,0,-3,-1,fc='r',ec='r',**options)\n",
    "ax.plot(x,x/3,ls=':')\n",
    "\n",
    "ax.set_xlim(-4,4)\n",
    "ax.set_ylim(-2,6)\n",
    "ax.set_aspect('equal')\n",
    "ax.set_xticks(np.arange(-4,4,step = 1))\n",
    "ax.set_yticks(np.arange(-2,6,step = 1))\n",
    "\n",
    "ax.text(1.5,2,'$X$')\n",
    "ax.text(-1.2,-1,'$PX$')\n",
    "ax.text(-1.5,2,'$X-PX$')\n",
    "ax.text(3,1.6,'$\\mathcal{C}(P)$')\n",
    "\n",
    "ax.axvline(color='k',linewidth = 1)\n",
    "ax.axhline(color='k',linewidth = 1)\n",
    "\n",
    "ax.grid(True,ls=':')"
   ]
  },
  {
   "cell_type": "markdown",
   "metadata": {},
   "source": [
    "The transformation is projecting onto $\\mathcal{C}(P)$, but *not in the orthogonal direction*.  To reveal the direction of the projection, we look at $\\mathcal{N}(P)$.  \n",
    "\n",
    "$$\n",
    "\\begin{equation}\n",
    "\\mathcal{N}(P) = \\textrm{Span of} \\left\\{ \\left[ \\begin{array}{r} 1 \\\\ 1 \\end{array} \\right]\\right\\}\n",
    "\\end{equation}\n",
    "$$\n",
    "\n",
    "Any vector in $\\mathcal{N}(P)$ is projected to the zero vector.  The key point is that $PX-X$ must be in $\\mathcal{N}(P)$ precisely because $P$ represents a projection and $P^2=P$.\n",
    "\n",
    "$$\n",
    "\\begin{equation}\n",
    "P(PX-X) = P^2X - PX = PX - PX = 0  \n",
    "\\end{equation}\n",
    "$$\n",
    "\n",
    "In general, projections take all vectors onto one subspace, in the direction of another subspace."
   ]
  },
  {
   "cell_type": "markdown",
   "metadata": {},
   "source": [
    "### Orthogonal Projections\n",
    "\n",
    "Having observed that projections can be carried out in an arbitrary direction, we now focus attention on how to define a matrix $P$ that carries out **orthogonal projection** onto a subspace $\\mathcal{V}$ of $\\mathbb{R}^n$.  That is, for a vector $B$ in $\\mathbb{R}^n$, we want the projection matrix $P$ such that $\\hat{B} = PB$ is in $\\mathcal{V}$ and $E = B-\\hat{B}$ to be orthogonal to $\\mathcal{V}$.  In fact, we have already seen the necessary calculations for these projections.\n",
    "\n",
    "In the simplest example, $\\mathcal{V}$ is one-dimensional with basis $\\{V\\}$, with $V$ a vector of unit length.  In our discussion of [orthogonalization](Orthogonalization.ipynb) we worked out the following formula.\n",
    "\n",
    "$$ \n",
    "\\begin{equation}\n",
    "\\hat{B} = \\left(\\frac{B\\cdot V}{V\\cdot V}\\right){V}\n",
    "\\end{equation}\n",
    "$$\n",
    "\n",
    "Since $V$ is a unit vector, we can use $V\\cdot V=1$.  We can also manipulate this order of the factors since $B\\cdot V = V\\cdot B$, and the order that we multiply the scalar and vector does not affect the result. \n",
    "\n",
    "$$ \n",
    "\\begin{equation}\n",
    "\\hat{B} = V \\left(V\\cdot B \\right) \n",
    "\\end{equation}\n",
    "$$\n",
    "\n",
    "In order to understand this as a matrix-vector multiplication, we can rewrite it using matrix multiplication for the dot products, and the associate property of matrix multiplication.\n",
    "\n",
    "$$ \n",
    "\\begin{equation}\n",
    "\\hat{B} = V \\left(V^TB \\right) = (VV^T)B \n",
    "\\end{equation}\n",
    "$$\n",
    "\n",
    "The result is that if $V$ is a unit vector, the matrix $P = VV^T$ orthogonally projects $B$ onto $\\mathcal{V}$.\n",
    "\n",
    "In the most general case, $\\mathcal{V}$ is a $m$-dimensional subspace of $\\mathbb{R}^n$ with basis $\\{V_1, V_2,..., V_m\\}$.  This scenario was treated in the previous section on least squares solutions.  If if $A$ is a matrix with the $V_i$ as columns, and $B$ is a vector that is not in $\\mathcal{C}(A)$, we found that we can solve the normal equations $A^TAX=A^TB$ in order to find a vector $\\hat{X}$ such that $A\\hat{X} = \\hat{B}$ and $\\hat{B}$ is the orthogonal projection of $B$ onto $\\mathcal{C}(A)$.  If we now want to focus on the projection of $B$, we can write $\\hat{B} = PB$ where $P = A(A^TA)^{-1}A^T$ is the projection matrix.\n",
    "\n",
    "In the case that we have an orthonormal basis, projection onto a subspace is quite a bit simpler.  If $\\{U_1, U_2,..., U_m\\}$ is an orthonormal basis for an $m$-dimensional subspace $\\mathcal{V}$, $\\hat{B}$ can be written in expressed in terms of the basis vectors, with coordinates computed using dot products.\n",
    "\n",
    "$$\n",
    "\\begin{equation}\n",
    "\\hat{B} = (B\\cdot U_1)U_1 + (B\\cdot U_2)U_2 + ... + (B\\cdot U_m)U_m\n",
    "\\end{equation}\n",
    "$$\n",
    "\n",
    "As we did in the 1-dimensional case, we can use the properties of dot products and matrix multiplications to rewrite this as $\\hat{B} = PB$ for some projectionmatrix $P$.\n",
    "\n",
    "$$\n",
    "\\begin{eqnarray*}\n",
    "\\hat{B} & = & U_1(U_1\\cdot B) + U_2(U_2\\cdot B) + ... + U_m(U_m\\cdot B) \\\\\n",
    "& = & U_1(U_1^TB) + U_2(U_2^TB) + ... + U_m(U_m^TB) \\\\\n",
    "& = & (U_1U_1^T)B + (U_2U_2^T)B + ... + (U_mU_m^T)B \\\\\n",
    "& = & (U_1U_1^T + U_2U_2^T + ... + U_mU_m^T)B \n",
    "\\end{eqnarray*}\n",
    "$$\n",
    "\n",
    "Each of the matrices $U_i^TU_i$ projects $B$ onto the direction of $U_i$.  The sum of all of the individual projections gives us $\\hat{B}$, and the sum of all the projection matrices gives us $P U_1U_1^T + U_2U_2^T + ... + U_mU_m^T$. \n",
    "\n",
    "We can also realize that the formula $P = A(A^TA)^{-1}A^T$ for the general case still applies.  Let's take $Q$ to be the matrix with $U_i$ as columns.  Since $Q$ is an orthogonal matrix, $Q^TQ= I$, and $P =  Q(Q^TQ)^{-1}Q^T = QQ^T$.  "
   ]
  },
  {
   "cell_type": "markdown",
   "metadata": {},
   "source": []
  },
  {
   "cell_type": "code",
   "execution_count": null,
   "metadata": {},
   "outputs": [],
   "source": []
  }
 ],
 "metadata": {
  "kernelspec": {
   "display_name": "Python 3",
   "language": "python",
   "name": "python3"
  },
  "language_info": {
   "codemirror_mode": {
    "name": "ipython",
    "version": 3
   },
   "file_extension": ".py",
   "mimetype": "text/x-python",
   "name": "python",
   "nbconvert_exporter": "python",
   "pygments_lexer": "ipython3",
   "version": "3.7.3"
  }
 },
 "nbformat": 4,
 "nbformat_minor": 4
}
