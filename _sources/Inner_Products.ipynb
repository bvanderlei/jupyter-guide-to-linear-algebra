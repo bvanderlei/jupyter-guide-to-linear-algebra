{
 "cells": [
  {
   "cell_type": "markdown",
   "metadata": {},
   "source": [
    "## Inner Products\n",
    "\n",
    "In this chapter, we introduce the idea of an inner product, examine the additional structure that it imposes on  a vector space, and look at some common applications.  An inner product is an operation on two vectors in a vector space that is defined in such a way as to satisfy certain algebraic requirements.  To begin, we will focus only on one specific inner product defined for vectors in  $\\mathbb{R}^n$.  Later in the chapter we will consider other examples in $\\mathbb{R}^n$ and other vector spaces.\n",
    "\n",
    "The **dot product** is the common inner product that we will focus on.  For vectors $U$ and $V$ in $\\mathbb{R}^n$, the dot product is written as $U\\cdot V$, and is defined in the following way.\n",
    "\n",
    "$$\n",
    "\\begin{equation}\n",
    "U\\cdot V = \\sum^n u_iv_i = u_1v_1 + u_2v_2 + ... + u_nv_n\n",
    "\\end{equation}\n",
    "$$\n",
    "\n",
    "For example, we show the computation for $U$ and $V$ in $\\mathbb{R}^4$.\n",
    "\n",
    "\n",
    "$$\n",
    "\\begin{equation}\n",
    "U = \\left[ \\begin{array}{r} 2 \\\\ -1 \\\\ 2 \\\\ 3 \\end{array}\\right] \\hspace{1cm} \n",
    "V = \\left[ \\begin{array}{r} 1 \\\\ 4 \\\\ 5 \\\\ 0  \\end{array}\\right] \n",
    "\\end{equation}\n",
    "$$\n",
    "\n",
    "\n",
    "$$\n",
    "\\begin{equation}\n",
    "U\\cdot V = (2)(1) + (-1)(4) + (2)(5) + (3)(0) = 8\n",
    "\\end{equation}\n",
    "$$\n",
    "\n",
    "\n",
    "\n",
    "This is exactly the sort of calculation that is carried out in matrix multiplications.  In fact it is possible to view matrix products as collections of dot products between the rows and columns of the two matrices.  Suppose for example that we have the following matrix product with $U$ as the second row of $A$ and $V$ as the third column of $B$.\n",
    "\n",
    "$$\n",
    "\\begin{equation}\n",
    "A \\left[ \\begin{array}{rrrr} 1 & 1 & 0 & 2 \\\\ 2 & -1 & 2 & 3 \\\\ 3 & -1 & 2 & 1 \\\\ -2 & 0 & 0 & 1 \\end{array}\\right] \\hspace{1cm} \n",
    "B = \\left[ \\begin{array}{rrr} 1 & 1 & 1 \\\\ 4 & 1 & 4 \\\\ 0 & 1 & 5 \\\\ 1 & 1 & 0 \\end{array}\\right] \n",
    "\\hspace{1cm}\n",
    "AB =  \\left[ \\begin{array}{rrrr} 7 & 4 & 5 \\\\ 1 & 6 & 8 \\\\ 0 & 5 & 9 \\\\ -1 & -1 & -2 \\end{array}\\right] \n",
    "\\end{equation}\n",
    "$$\n",
    "\n",
    "We see that $(AB)_{23} = U\\cdot V$, the dot product of the second row of $A$ with the third row of $B$.  In general the entry $(AB)_{ij}$ will be the dot product of the $i$th row of $A$ with the $j$th column of $B$.  \n",
    "\n",
    "Taking advantage of this connection, we could also write the definition of the dot product by viewing the vectors as $n\\times 1$ matrices, and making use of matrix transposes.\n",
    "\n",
    "$$\n",
    "\\begin{equation}\n",
    "U\\cdot V = U^TV\n",
    "\\end{equation}\n",
    "$$\n",
    "\n",
    "Since $U$ is an $n\\times 1$ matrix, $U^T$ will be a $1\\times n$ matrix, and $U^TV$ will be a $1\\times 1$ matrix.  In other words $U^TV$ will be a scalar.  If we take this view, we will be able to compute inner products just the same as we would matrix products using NumPy.\n"
   ]
  },
  {
   "cell_type": "code",
   "execution_count": 1,
   "metadata": {},
   "outputs": [
    {
     "name": "stdout",
     "output_type": "stream",
     "text": [
      "[[8]]\n"
     ]
    }
   ],
   "source": [
    "import numpy as np\n",
    "\n",
    "U = np.array([[2],[-1],[2],[3]])\n",
    "V = np.array([[1],[4],[5],[0]])\n",
    "\n",
    "dot_product = U.transpose()@V\n",
    "print(dot_product)"
   ]
  },
  {
   "cell_type": "markdown",
   "metadata": {},
   "source": [
    "Computing a dot product with this formula is correct and we would not notice any difference in doing the calculation on paper.  There is however a slight technical inconvenience in using NumPy operations to apply this formula.  The output produced by the code ($\\texttt{dot_product}$) is not a true scalar, but in fact is another NumPy array object of size $1 \\times 1$.  This may have unintended consequences as we include this code in larger calculations.  We can keep this in mind and simply reference the value in the $1\\times 1$ array with indices if need be.      "
   ]
  },
  {
   "cell_type": "code",
   "execution_count": 2,
   "metadata": {},
   "outputs": [
    {
     "name": "stdout",
     "output_type": "stream",
     "text": [
      "8\n"
     ]
    }
   ],
   "source": [
    "print(dot_product[0,0])"
   ]
  },
  {
   "cell_type": "markdown",
   "metadata": {},
   "source": [
    "Another possibility is that we write our own function, called $\\texttt{DotProduct}$ to provide us the dot product in a simple format.  The following code is included in the $\\texttt{laguide}$ module for future use. "
   ]
  },
  {
   "cell_type": "code",
   "execution_count": 3,
   "metadata": {},
   "outputs": [],
   "source": [
    "def DotProduct(U,V):\n",
    "    # =============================================================================\n",
    "    # U and V are NumPy arrays that represents vectors of dimension n x 1.\n",
    "    # DotProduct returns the dot product of U and V\n",
    "    # =============================================================================\n",
    "\n",
    "    # Check shapes of U and V\n",
    "    if (U.shape[1] != 1 or V.shape[1] != 1):\n",
    "        print(\"Dot product only accepts column vectors.\")\n",
    "        return\n",
    "    # Check shape of V\n",
    "    if (U.shape[0] != V.shape[0]):\n",
    "        print(\"Dot product only accepts column vectors of equal length.\")\n",
    "        return\n",
    "\n",
    "    n = U.shape[0]\n",
    "    product = 0\n",
    "    \n",
    "    for i in range(n):\n",
    "        product += U[i,0]*V[i,0]\n",
    "\n",
    "    return product"
   ]
  },
  {
   "cell_type": "markdown",
   "metadata": {},
   "source": [
    "We can now call the function and receive a scalar as output."
   ]
  },
  {
   "cell_type": "code",
   "execution_count": 4,
   "metadata": {},
   "outputs": [
    {
     "name": "stdout",
     "output_type": "stream",
     "text": [
      "8\n"
     ]
    }
   ],
   "source": [
    "print(DotProduct(U,V))"
   ]
  },
  {
   "cell_type": "markdown",
   "metadata": {},
   "source": [
    "### Geometric Interpretations\n",
    "\n",
    "The dot product provides a way to measure distances and angles in $\\mathbb{R}^n$.  Again it is easiest to visualize these measures in $\\mathbb{R}^2$.\n",
    "\n",
    "The **magnitude** of a vector $U$, written as $||U||$, is defined as $\\left(U\\cdot U\\right)^{1/2}$.  In $\\mathbb{R}^2$ it is plain to see that this definition corresponds to the Pythagorean Theorem.\n",
    "\n"
   ]
  },
  {
   "cell_type": "code",
   "execution_count": 2,
   "metadata": {
    "tags": [
     "hide-input"
    ]
   },
   "outputs": [
    {
     "data": {
      "image/png": "[encoded data removed]",
      "text/plain": [
       "<Figure size 432x288 with 1 Axes>"
      ]
     },
     "metadata": {
      "needs_background": "light"
     },
     "output_type": "display_data"
    }
   ],
   "source": [
    "%matplotlib inline\n",
    "import numpy as np\n",
    "import matplotlib.pyplot as plt\n",
    "\n",
    "fig, ax = plt.subplots()\n",
    "options = {\"head_width\":0.1, \"head_length\":0.2, \"length_includes_head\":True}\n",
    "\n",
    "ax.arrow(0,0,2,3,fc='b',ec='b',**options)\n",
    "\n",
    "ax.text(1,2,'$U$')\n",
    "\n",
    "ax.set_xlim(0,5)\n",
    "ax.set_xlabel('$x_1$')\n",
    "ax.set_ylim(0,5)\n",
    "ax.set_ylabel('$x_2$')\n",
    "ax.set_aspect('equal')\n",
    "ax.grid(True,ls=':')"
   ]
  },
  {
   "cell_type": "markdown",
   "metadata": {},
   "source": [
    "$$\n",
    "\\begin{equation}\n",
    "U = \\left[ \\begin{array}{r} 2 \\\\ 3 \\end{array}\\right] \\hspace{2cm} \n",
    "||U|| = \\sqrt{(2)(2) + (3)(3)} = \\sqrt{13}\n",
    "\\end{equation}\n",
    "$$\n",
    "\n",
    "Calculating the magnitude of a vector is common enough that it will be useful to write a function to carry it out.  We will leave it as an exercise in this section, and will incude the function $\\texttt{Magnitude}$ in the $\\texttt{laguide}$ module for use in future sections. "
   ]
  },
  {
   "cell_type": "code",
   "execution_count": 3,
   "metadata": {},
   "outputs": [
    {
     "name": "stdout",
     "output_type": "stream",
     "text": [
      "3.605551275463989\n"
     ]
    }
   ],
   "source": [
    "from laguide import Magnitude\n",
    "\n",
    "U = np.array([[2],[3]])\n",
    "print(Magnitude(U))"
   ]
  },
  {
   "cell_type": "markdown",
   "metadata": {},
   "source": [
    "It is often useful to work with vectors that have magnitude equal to one.  Such vectors are called **unit vectors**.  We can construct a unit vector in the *same direction* as a vector $U$ by multiplying $U$ by the recipricol of its magnitude.  We will label this unit vector $W$."
   ]
  },
  {
   "cell_type": "code",
   "execution_count": 4,
   "metadata": {
    "tags": [
     "hide-input"
    ]
   },
   "outputs": [
    {
     "data": {
      "image/png": "[encoded data removed]",
      "text/plain": [
       "<Figure size 432x288 with 1 Axes>"
      ]
     },
     "metadata": {
      "needs_background": "light"
     },
     "output_type": "display_data"
    }
   ],
   "source": [
    "fig, ax = plt.subplots()\n",
    "options = {\"head_width\":0.1, \"head_length\":0.2, \"length_includes_head\":True}\n",
    "\n",
    "ax.arrow(0,0,2,3,fc='b',ec='b',**options)\n",
    "ax.arrow(0,0,0.555,0.832,fc='b',ec='r',**options)\n",
    "\n",
    "ax.text(1,2,'$U$')\n",
    "ax.text(0.5,0.3,'$W$')\n",
    "\n",
    "\n",
    "ax.set_xlim(0,5)\n",
    "ax.set_xlabel('$x_1$')\n",
    "ax.set_ylim(0,5)\n",
    "ax.set_ylabel('$x_2$')\n",
    "ax.set_aspect('equal')\n",
    "ax.grid(True,ls=':')"
   ]
  },
  {
   "cell_type": "markdown",
   "metadata": {},
   "source": [
    "$$\n",
    "\\begin{equation}\n",
    "W = \\frac{1}{\\sqrt{13}} \\left[ \\begin{array}{r} 2 \\\\ 3 \\end{array}\\right]\n",
    "\\end{equation}\n",
    "$$"
   ]
  },
  {
   "cell_type": "markdown",
   "metadata": {},
   "source": [
    "We can also use the definition of magnitude to define the distance between two vectors $U$ and $V$ as $||U-V||$, the magnitude of the difference.  If we picture the vectors as arrows, $U-V$ goes from the tip of $V$ to the tip of $U$.  This is consistent with our arrow picture of vector addition since $V + (U-V) = U$.   "
   ]
  },
  {
   "cell_type": "code",
   "execution_count": 1,
   "metadata": {
    "tags": [
     "hide-input"
    ]
   },
   "outputs": [
    {
     "ename": "NameError",
     "evalue": "name 'plt' is not defined",
     "output_type": "error",
     "traceback": [
      "\u001b[0;31m---------------------------------------------------------------------------\u001b[0m",
      "\u001b[0;31mNameError\u001b[0m                                 Traceback (most recent call last)",
      "\u001b[0;32m<ipython-input-1-72ca3285e1ed>\u001b[0m in \u001b[0;36m<module>\u001b[0;34m()\u001b[0m\n\u001b[0;32m----> 1\u001b[0;31m \u001b[0mfig\u001b[0m\u001b[0;34m,\u001b[0m \u001b[0max\u001b[0m \u001b[0;34m=\u001b[0m \u001b[0mplt\u001b[0m\u001b[0;34m.\u001b[0m\u001b[0msubplots\u001b[0m\u001b[0;34m(\u001b[0m\u001b[0;34m)\u001b[0m\u001b[0;34m\u001b[0m\u001b[0;34m\u001b[0m\u001b[0m\n\u001b[0m\u001b[1;32m      2\u001b[0m \u001b[0moptions\u001b[0m \u001b[0;34m=\u001b[0m \u001b[0;34m{\u001b[0m\u001b[0;34m\"head_width\"\u001b[0m\u001b[0;34m:\u001b[0m\u001b[0;36m0.1\u001b[0m\u001b[0;34m,\u001b[0m \u001b[0;34m\"head_length\"\u001b[0m\u001b[0;34m:\u001b[0m\u001b[0;36m0.2\u001b[0m\u001b[0;34m,\u001b[0m \u001b[0;34m\"length_includes_head\"\u001b[0m\u001b[0;34m:\u001b[0m\u001b[0;32mTrue\u001b[0m\u001b[0;34m}\u001b[0m\u001b[0;34m\u001b[0m\u001b[0;34m\u001b[0m\u001b[0m\n\u001b[1;32m      3\u001b[0m \u001b[0;34m\u001b[0m\u001b[0m\n\u001b[1;32m      4\u001b[0m \u001b[0max\u001b[0m\u001b[0;34m.\u001b[0m\u001b[0marrow\u001b[0m\u001b[0;34m(\u001b[0m\u001b[0;36m0\u001b[0m\u001b[0;34m,\u001b[0m\u001b[0;36m0\u001b[0m\u001b[0;34m,\u001b[0m\u001b[0;36m2\u001b[0m\u001b[0;34m,\u001b[0m\u001b[0;36m3\u001b[0m\u001b[0;34m,\u001b[0m\u001b[0mfc\u001b[0m\u001b[0;34m=\u001b[0m\u001b[0;34m'b'\u001b[0m\u001b[0;34m,\u001b[0m\u001b[0mec\u001b[0m\u001b[0;34m=\u001b[0m\u001b[0;34m'b'\u001b[0m\u001b[0;34m,\u001b[0m\u001b[0;34m**\u001b[0m\u001b[0moptions\u001b[0m\u001b[0;34m)\u001b[0m\u001b[0;34m\u001b[0m\u001b[0;34m\u001b[0m\u001b[0m\n\u001b[1;32m      5\u001b[0m \u001b[0max\u001b[0m\u001b[0;34m.\u001b[0m\u001b[0marrow\u001b[0m\u001b[0;34m(\u001b[0m\u001b[0;36m0\u001b[0m\u001b[0;34m,\u001b[0m\u001b[0;36m0\u001b[0m\u001b[0;34m,\u001b[0m\u001b[0;36m4\u001b[0m\u001b[0;34m,\u001b[0m\u001b[0;36m2\u001b[0m\u001b[0;34m,\u001b[0m\u001b[0mfc\u001b[0m\u001b[0;34m=\u001b[0m\u001b[0;34m'b'\u001b[0m\u001b[0;34m,\u001b[0m\u001b[0mec\u001b[0m\u001b[0;34m=\u001b[0m\u001b[0;34m'b'\u001b[0m\u001b[0;34m,\u001b[0m\u001b[0;34m**\u001b[0m\u001b[0moptions\u001b[0m\u001b[0;34m)\u001b[0m\u001b[0;34m\u001b[0m\u001b[0;34m\u001b[0m\u001b[0m\n",
      "\u001b[0;31mNameError\u001b[0m: name 'plt' is not defined"
     ]
    }
   ],
   "source": [
    "fig, ax = plt.subplots()\n",
    "options = {\"head_width\":0.1, \"head_length\":0.2, \"length_includes_head\":True}\n",
    "\n",
    "ax.arrow(0,0,2,3,fc='b',ec='b',**options)\n",
    "ax.arrow(0,0,4,2,fc='b',ec='b',**options)\n",
    "ax.arrow(4,2,-2,1,fc='b',ec='r',**options)\n",
    "\n",
    "ax.text(1,2,'$U$')\n",
    "ax.text(3,1,'$V$')\n",
    "ax.text(3,2.8,'$U-V$')\n",
    "\n",
    "ax.set_xlim(0,5)\n",
    "ax.set_xlabel('$x_1$')\n",
    "ax.set_ylim(0,5)\n",
    "ax.set_ylabel('$x_2$')\n",
    "ax.set_aspect('equal')\n",
    "ax.grid(True,ls=':')"
   ]
  },
  {
   "cell_type": "markdown",
   "metadata": {},
   "source": [
    "With common identities from trigonometry, it is also possible to work out the angle between two vectors in terms of the dot product."
   ]
  },
  {
   "cell_type": "code",
   "execution_count": 10,
   "metadata": {
    "tags": [
     "hide-input"
    ]
   },
   "outputs": [
    {
     "data": {
      "image/png": "[encoded data removed]",
      "text/plain": [
       "<Figure size 432x288 with 1 Axes>"
      ]
     },
     "metadata": {
      "needs_background": "light"
     },
     "output_type": "display_data"
    }
   ],
   "source": [
    "fig, ax = plt.subplots()\n",
    "options = {\"head_width\":0.1, \"head_length\":0.2, \"length_includes_head\":True}\n",
    "\n",
    "ax.arrow(0,0,2,3,fc='b',ec='b',**options)\n",
    "ax.arrow(0,0,4,2,fc='b',ec='b',**options)\n",
    "\n",
    "ax.text(1,2,'$U$')\n",
    "ax.text(3,1,'$V$')\n",
    "ax.text(1,1,'$\\\\theta$')\n",
    "\n",
    "ax.set_xlim(0,5)\n",
    "ax.set_xlabel('$x_1$')\n",
    "ax.set_ylim(0,5)\n",
    "ax.set_ylabel('$x_2$')\n",
    "ax.set_aspect('equal')\n",
    "ax.grid(True,ls=':')"
   ]
  },
  {
   "cell_type": "markdown",
   "metadata": {},
   "source": [
    "$$\n",
    "\\begin{equation}\n",
    "\\cos{\\theta} = \\frac{U\\cdot V}{||U||||V||}\n",
    "\\end{equation}\n",
    "$$\n",
    "\n",
    "It is worth noting the special case that arises when the angle between $U$ and $V$ is a right angle.  In this case, since $\\cos{\\theta}$ will be zero, the dot product $U\\cdot V$ will also be zero.  When $U\\cdot V = 0$, the vectors $U$ and $V$  are said to be **orthogonal**.  In upcoming sections we will learn the importance of orthogonality, and how it can be used to simplify certain calculations "
   ]
  },
  {
   "cell_type": "markdown",
   "metadata": {},
   "source": [
    "### Algebraic Properties\n",
    "\n",
    "If $U$, $V$, and $W$ are any vectors in $\\mathbb{R}^n$, and $k$ is a scalar, then the following statements involving the dot product are true.\n",
    "\n",
    "1. $U\\cdot V = V\\cdot U$\n",
    "2. $U\\cdot(V + W) = U\\cdot V + U\\cdot W$\n",
    "3. $(kU)\\cdot V = k(U\\cdot V)$\n",
    "4. $U\\cdot U \\ge 0$\n",
    "\n",
    "These algebraic properties are not difficult to prove using the definition of the dot product, but they are important for carrying out calculations with unspecified vectors.  More importantly, it is these four properties that make the dot product an **inner product**.  We provide examples of other inner products later in the chapter. "
   ]
  },
  {
   "cell_type": "markdown",
   "metadata": {},
   "source": [
    "### Exercises\n",
    "\n",
    "- Create a function named $\\texttt{Magnitude}$ that accepts as an argument vector in the form of a Numpy array object with shape $n\\times 1$, and returns the magnitude of that vector.\n",
    "\n",
    "- Use the $\\texttt{random}$ module of Numpy to generate random $4\\times 1$ vectors $U$, $V$, and $W$, and a random scalar $k$.  Verify the algebraic properties of the dot product listed above.  Try to make use of a conditional statement to check each statement.\n",
    "\n",
    "- Let $X$ and $Y$ be the following vectors.\n",
    "\n",
    "$$\n",
    "\\begin{equation}\n",
    "X = \\left[ \\begin{array}{r} 3 \\\\ -1 \\\\ 2  \\end{array}\\right] \\hspace{1cm} \n",
    "Y = \\left[ \\begin{array}{r} 4 \\\\ 2 \\\\ 0  \\end{array}\\right] \n",
    "\\end{equation}\n",
    "$$\n",
    "\n",
    "- Determine the angle between $X$ and $Y$.  (*You will need the $\\texttt{acos}$ function in Python's $\\texttt{math}$ module.*)\n",
    "- Find a vector in $\\mathbb{R}^3$ that is orthogonal to the vector $X$.\n",
    "- Construct a unit vector $Z$ such that $Z\\cdot Y = -||Y||$."
   ]
  },
  {
   "cell_type": "code",
   "execution_count": null,
   "metadata": {},
   "outputs": [],
   "source": []
  }
 ],
 "metadata": {
  "kernelspec": {
   "display_name": "Python 3",
   "language": "python",
   "name": "python3"
  },
  "language_info": {
   "codemirror_mode": {
    "name": "ipython",
    "version": 3
   },
   "file_extension": ".py",
   "mimetype": "text/x-python",
   "name": "python",
   "nbconvert_exporter": "python",
   "pygments_lexer": "ipython3",
   "version": "3.7.3"
  }
 },
 "nbformat": 4,
 "nbformat_minor": 4
}
