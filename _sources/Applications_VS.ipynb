{
 "cells": [
  {
   "cell_type": "markdown",
   "metadata": {},
   "source": [
    "## Applications"
   ]
  },
  {
   "cell_type": "markdown",
   "metadata": {},
   "source": [
    "In some cases, linear systems arise naturally through a vector equation"
   ]
  },
  {
   "cell_type": "markdown",
   "metadata": {},
   "source": [
    "### Chemical Equations\n",
    "\n",
    "In balancing a chemical equation, we seek to determine a number of molecules of reactant that form a number of molecules of reactant, while maintaining an equal number of each type of atom on both sides of the equation.  Here is an example for the combustion of ethanol\n",
    "\n",
    "$$\n",
    "\\begin{equation}\n",
    "C_2H_5OH + O_2 \\to CO_2 + H_2O\n",
    "\\end{equation}\n",
    "$$\n",
    "\n",
    "This equation is not correct since it does not contain the same number of carbon atoms ($C$), nor the same number of hydrogen atoms ($H$) on each side.  Let's rewrite the equation with unknown coefficients multiplying each molecule."
   ]
  },
  {
   "cell_type": "markdown",
   "metadata": {},
   "source": [
    "The problem now is to find values for $x_1$, $x_2$, $x_3$, and $x_4$ such that both sides of the equation contain the same number of atoms each of carbon, oxygen, and hydrogen.  Furthermore, , since the molecules are discrete units, the unknown coefficients must be *positive integers*.\n",
    "\n",
    "In this scenario it is useful to think of each of the molecules as a vector with three entries, one for each type of atom in the equation.  Let's say the first entry is the number of carbon atoms, the second the number of oxygen atoms, and the third the number of hydrogen atoms.  The following vector thus represents $C_2H_5OH$.\n",
    "\n",
    "$$\n",
    "\\begin{equation}\n",
    "\\left[\\begin{array}{c} 2 \\\\ 6 \\\\ 1 \\end{array}\\right]\n",
    "\\end{equation}\n",
    "$$\n",
    "\n",
    "The chemical equation is very naturally expressed as a vector equation.\n",
    "\n",
    "$$\n",
    "\\begin{equation}\n",
    "x_1\\left[\\begin{array}{c} 2 \\\\ 6 \\\\ 1 \\end{array}\\right]\n",
    "+ x_2\\left[\\begin{array}{c} 0 \\\\ 0 \\\\ 2 \\end{array}\\right]\n",
    "= x_3\\left[\\begin{array}{c} 1 \\\\ 0 \\\\ 2 \\end{array}\\right]\n",
    "+ x_4\\left[\\begin{array}{c} 0 \\\\ 2 \\\\ 1 \\end{array}\\right]\n",
    "\\end{equation}\n",
    "$$\n",
    "\n",
    "Rearranging so that all the terms with unknowns are on the left side, we see that this vector equation represents a homogeneous system.\n",
    "\n",
    "$$\n",
    "\\begin{equation}\n",
    "\\left[\\begin{array}{rrr} 2 & 0 & -1 & 0 \\\\ 6 & 0 & 0 & -2 \\\\ 1 & 2 & -2 & -1 \\end{array}\\right]\n",
    "\\left[\\begin{array}{r} x_1 \\\\ x_2 \\\\ x_3 \\\\ x_4 \\end{array}\\right]\n",
    "= \\left[\\begin{array}{r} 0 \\\\ 0 \\\\ 0  \\end{array}\\right]\n",
    "\\end{equation}\n",
    "$$\n",
    "\n"
   ]
  },
  {
   "cell_type": "markdown",
   "metadata": {},
   "source": [
    "Before trying to find a solution, let's apply some of the results of this chapter.  We know that homogeneous systems are always consistent since the trivial solution ($x_1=x_2=x_3=x_4=0$) is always a possible solution.  We can also look at the shape of the coefficient matrix ($4 \\times 3$) to make a further conclusion.  Since there can be only one pivot per row, we know that there are at most 3 pivots.  This means that there cannot be a pivot in each of the 4 columns, which means that there is at least one free variable in the system and that the trivial solution is not the only solution.\n",
    "\n",
    "Let's now use the RREF to find solutions.  Remember that since the this is a homogeneous system, the last column in the augmented matrix, which represents the righthand side, is all zeros.  We will omit this last column from the calculation since all entries will remain zero regardless of any row operations performed."
   ]
  },
  {
   "cell_type": "code",
   "execution_count": 4,
   "metadata": {},
   "outputs": [
    {
     "name": "stdout",
     "output_type": "stream",
     "text": [
      "[[ 1.          0.          0.         -0.33333333]\n",
      " [ 0.          1.          0.         -1.        ]\n",
      " [ 0.          0.          1.         -0.66666667]]\n"
     ]
    }
   ],
   "source": [
    "import numpy as np\n",
    "import laguide as lag\n",
    "\n",
    "A = np.array([[2, 0, -1, 0],[6, 0, 0, -2],[1, 2, -2, -1]])\n",
    "A_reduced = lag.FullRowReduction(A)\n",
    "print(A_reduced)"
   ]
  },
  {
   "cell_type": "markdown",
   "metadata": {},
   "source": [
    "Since there is a pivot in the column corresponding to $x_4$, we treat $x_4$ as a free variable.  For this application, we are specifically looking for solutions that are integers, so we will take $x_4=3$.  This gives $x_3=2$, $x_2=3$, and $x_1=1$.  The correct equation for the chemical reaction is the following.\n",
    "\n",
    "$$\n",
    "\\begin{equation}\n",
    "C_2H_5OH + 3O_2 \\to 2CO_2 + 3H_2O\n",
    "\\end{equation}\n",
    "$$\n"
   ]
  },
  {
   "cell_type": "markdown",
   "metadata": {},
   "source": [
    "### Exercises\n",
    "\n",
    "- Combustion of methane:\n",
    "\n",
    "$$\n",
    "\\begin{equation}\n",
    "C_3H_8 + 5O_2 \\to 3CO_2 + 4H_2O\n",
    "\\end{equation}\n",
    "$$\n",
    "\n",
    "- Aluminum reaction with sulfuric acid \n",
    "\n",
    "$$\n",
    "\\begin{equation}\n",
    "Al + H_2SO_4 \\to Al_2(SO_4)_3 + H_2\n",
    "\\end{equation}\n",
    "$$\n",
    "\n",
    "- Silver tarnish\n",
    "\n",
    "$$\n",
    "\\begin{equation}\n",
    "Ag + H_2S + O_2 \\to Ag_2S + H_2O\n",
    "\\end{equation}\n",
    "$$\n",
    "\n"
   ]
  },
  {
   "cell_type": "code",
   "execution_count": null,
   "metadata": {},
   "outputs": [],
   "source": []
  }
 ],
 "metadata": {
  "kernelspec": {
   "display_name": "Python 3",
   "language": "python",
   "name": "python3"
  },
  "language_info": {
   "codemirror_mode": {
    "name": "ipython",
    "version": 3
   },
   "file_extension": ".py",
   "mimetype": "text/x-python",
   "name": "python",
   "nbconvert_exporter": "python",
   "pygments_lexer": "ipython3",
   "version": "3.7.3"
  }
 },
 "nbformat": 4,
 "nbformat_minor": 4
}
