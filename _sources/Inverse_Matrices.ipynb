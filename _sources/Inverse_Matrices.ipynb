{
 "cells": [
  {
   "cell_type": "markdown",
   "metadata": {},
   "source": [
    "## Inverse Matrices"
   ]
  },
  {
   "cell_type": "code",
   "execution_count": 1,
   "metadata": {},
   "outputs": [],
   "source": [
    "import numpy as np\n",
    "import laguide as lag"
   ]
  },
  {
   "cell_type": "markdown",
   "metadata": {},
   "source": [
    "In this section we consider the idea of inverse matrices and desribe a common method for their construction.\n",
    "\n",
    "As a motivation for the upcoming calculations, let's again consider the system of linear equations written in the matrix algebra form.\n",
    "\n",
    "$$\n",
    "\\begin{equation}\n",
    "AX = B\n",
    "\\end{equation}\n",
    "$$\n",
    "\n",
    "Again, $A$ is a matrix of coefficents that are known, $B$ is a vector of known data, and $X$ is a vector that is unknown.  If $A$, $B$, and $X$ were instead only numbers, we would recognize immediately that the way to solve for $X$ is to divide both sides of the equation by $A$, so long as $A\\neq 0$.  The natural question to ask about the system is 'Can we define matrix division?'\n",
    "\n",
    "The answer is 'Not quite.'  We can make progress though by understanding that in the case that $A$,$B$, and $X$ are numbers, we could also find the solution by multiplying by $1/A$.  This subtle distinction is important because it means that we do not need to define division.  We only need to find the number, that when muliplied by $A$ gives 1.  This number is called the multiplicative inverse of $A$ and is written as $1/A$, so long as $A\\neq 0$.\n",
    "\n",
    "We can extend this idea to the situation where $A$, $B$, and $X$ are matrices.  In order to solve the system $AX=B$, we want to multiply by a certain matrix, that when multiplied by $A$ will give the identity matrix $I$.  This matrix is known as the **inverse matrix**, and is given the symbol $A^{-1}$.\n",
    "\n",
    "If $A$ is a square matrix we define $A^{-1}$ (read as \"A inverse\") to be the matrix such that the following are true.\n",
    "\n",
    "$$\n",
    "\\begin{equation}\n",
    "A^{-1}A = I \\hspace{3cm}AA^{-1} = I\n",
    "\\end{equation}\n",
    "$$\n",
    "\n",
    "\n"
   ]
  },
  {
   "cell_type": "markdown",
   "metadata": {},
   "source": [
    "Notes about inverse matrices:\n",
    "\n",
    "1. The order of multiplication of $A$ and $A^{-1}$ does change the product as it typically does in matrix multiplication.\n",
    "2. The matrix must be square in order for this definition to make sense.  If $A$ is not square, it is impossible for both \n",
    "$A^{-1}A$ and $AA^{-1}$ to be defined.\n",
    "3. Not all matrices have inverses.  Matrices that do have inverses are called **invertible**.  Matrices that do not have inverses are called **non-invertible**, or **singular**, matrices.\n",
    "4. If a matrix is invertible, its inverse is unique.\n",
    "\n",
    "Now *if we know* $A^{-1}$, we can solve the system $AX=B$ by multiplying both sides by $A^{-1}$.\n",
    "\n",
    "$$\n",
    "\\begin{equation}\n",
    "A^{-1}AX = A^{-1}B\n",
    "\\end{equation}\n",
    "$$\n",
    "\n",
    "Then $A^{-1}AX = IX = X$, so the solution to the system is $X=A^{-1}B$.  Generally speaking however, it is not easy to find $A^{-1}$.\n"
   ]
  },
  {
   "cell_type": "markdown",
   "metadata": {},
   "source": [
    "### Construction of an Inverse Matrix\n",
    "\n",
    "We take $C$ as an example matrix, and consider how we might build the inverse.\n",
    "\n",
    "$$\n",
    "\\begin{equation}\n",
    "C = \\left[ \\begin{array}{rrrr} 1 & 0 & 2 & -1 \\\\ 3 & 1 & -3 & 2 \\\\ 2 & 0 & 4 & 4 \\\\ 2 & 1 & -1 & -1 \\end{array}\\right]\n",
    "\\end{equation}\n",
    "$$\n",
    "\n",
    "Let's think of the matrix product $CC^{-1}= I$ in terms of the columns of $C^{-1}$.  We put focus on the third column as an example, and label those unknown entries with $y_i$.  The \\* entries are uknown as well, but we are ignoring them for the moment.\n",
    "\n",
    "$$\n",
    "\\begin{equation}\n",
    "CC^{-1}=\n",
    "\\left[ \\begin{array}{rrrr} 1 & 0 & 2 & -1 \\\\ 3 & 1 & -3 & 2 \\\\ 2 & 0 & 4 & 4 \\\\ 2 & 1 & -1 & -1 \\end{array}\\right]\n",
    "\\left[ \\begin{array}{rrrr} * & * & y_1& * \\\\ * & * & y_2 & * \\\\ * & * & y_3 & * \\\\ * & * & y_4 & *  \\end{array}\\right]=\n",
    "\\left[ \\begin{array}{rrrr} 1 & 0 & 0 & 0 \\\\ 0 & 1 & 0 & 0 \\\\ 0 & 0 & 1 & 0 \\\\ 0 & 0 & 0 & 1 \\end{array}\\right]=\n",
    "I\n",
    "\\end{equation}\n",
    "$$\n",
    "\n",
    "Recall now that $C$ multiplied by the third column of $C^{-1}$ produces the third column of $I$.  This gives us a linear system to solve for the $y_i$.\n",
    "\n",
    "$$\n",
    "\\begin{equation}\n",
    "\\left[ \\begin{array}{rrrr} 1 & 0 & 2 & -1 \\\\ 3 & 1 & -3 & 2 \\\\ 2 & 0 & 4 & 4 \\\\ 2 & 1 & -1 & -1 \\end{array}\\right]\n",
    "\\left[ \\begin{array}{r}  y_1 \\\\  y_2  \\\\ y_3 \\\\ y_4  \\end{array}\\right]=\n",
    "\\left[ \\begin{array}{r}  0 \\\\  0  \\\\ 1 \\\\ 0  \\end{array}\\right]\n",
    "\\end{equation}\n",
    "$$\n"
   ]
  },
  {
   "cell_type": "code",
   "execution_count": 5,
   "metadata": {},
   "outputs": [
    {
     "name": "stdout",
     "output_type": "stream",
     "text": [
      "[[-0.16666667]\n",
      " [ 0.66666667]\n",
      " [ 0.16666667]\n",
      " [ 0.16666667]]\n"
     ]
    }
   ],
   "source": [
    "## Solve CY = I3\n",
    "C = np.array([[1,0,2,-1],[3,1,-3,2],[2,0,4,4],[2,1,-1,-1]])\n",
    "I3 = np.array([[0],[0],[1],[0]])\n",
    "Y3 = lag.SolveSystem(C,I3)\n",
    "print(Y3)\n"
   ]
  },
  {
   "cell_type": "markdown",
   "metadata": {},
   "source": [
    "The other columns of $C^{-1}$ can be found by solving similar systems with the corresponding columns of the identity matrix.  We can then build $C^{-1}$ by assembling the columns into a single matrix, and test the result by checking the products $C^{-1}C$ and $CC^{-1}$."
   ]
  },
  {
   "cell_type": "code",
   "execution_count": 6,
   "metadata": {},
   "outputs": [
    {
     "name": "stdout",
     "output_type": "stream",
     "text": [
      "[[ 0.83333333  0.5        -0.16666667 -0.5       ]\n",
      " [-2.08333333 -1.25        0.66666667  2.25      ]\n",
      " [-0.08333333 -0.25        0.16666667  0.25      ]\n",
      " [-0.33333333  0.          0.16666667  0.        ]] \n",
      " [[ 1.00000000e+00  0.00000000e+00 -1.11022302e-16  1.11022302e-16]\n",
      " [ 0.00000000e+00  1.00000000e+00  0.00000000e+00  4.44089210e-16]\n",
      " [ 5.55111512e-17  0.00000000e+00  1.00000000e+00 -5.55111512e-17]\n",
      " [ 0.00000000e+00  0.00000000e+00  0.00000000e+00  1.00000000e+00]] \n",
      " [[ 1.00000000e+00  0.00000000e+00  0.00000000e+00  0.00000000e+00]\n",
      " [-1.11022302e-16  1.00000000e+00  5.55111512e-17  0.00000000e+00]\n",
      " [ 0.00000000e+00  0.00000000e+00  1.00000000e+00  0.00000000e+00]\n",
      " [-3.33066907e-16  0.00000000e+00  1.11022302e-16  1.00000000e+00]]\n"
     ]
    }
   ],
   "source": [
    "I1 = np.array([[1],[0],[0],[0]])\n",
    "I2 = np.array([[0],[1],[0],[0]])\n",
    "I4 = np.array([[0],[0],[0],[1]])\n",
    "\n",
    "Y1 = lag.SolveSystem(C,I1)\n",
    "Y2 = lag.SolveSystem(C,I2)\n",
    "Y4 = lag.SolveSystem(C,I4)\n",
    "\n",
    "C_inverse = np.hstack((Y1,Y2,Y3,Y4))\n",
    "print(C_inverse,'\\n',C_inverse@C,'\\n',C@C_inverse)"
   ]
  },
  {
   "cell_type": "markdown",
   "metadata": {},
   "source": [
    "We will write a Python function to compute the inverse of a matrix in this way, but in practice, finding the inverse of a matrix is a terribly inefficient way of solving a linear system.  We have to solve $n$ systems to just to find the inverse of an $n \\times n$ matrix, so it appears that it takes $n$ times the amount of work that it would to just solve the system by elimination.  Suppose however that we needed to solve a linear system $AX=B$ for *many different vectors* $B$, but the same coefficient matrix $A$.  In that case it might seema appealing to have $A^{-1}$, but from a computational standpoint it is still more efficient to use the $LU$ factorization."
   ]
  },
  {
   "cell_type": "code",
   "execution_count": 9,
   "metadata": {},
   "outputs": [],
   "source": [
    "def Inverse(A):\n",
    "    # =============================================================================\n",
    "    # A is a NumPy array that represents a matrix of dimension n x n.\n",
    "    # Inverse computes the inverse matrix by solving AX=I where I is the identity.\n",
    "    # If A is not invertible, Inverse will not return correct results.\n",
    "    # =============================================================================\n",
    "\n",
    "    # Check shape of A\n",
    "    if (A.shape[0] != A.shape[1]):\n",
    "        print(\"Inverse accepts only square arrays.\")\n",
    "        return\n",
    "    n = A.shape[0]  # n is number of rows and columns in A\n",
    "\n",
    "    I = np.eye(n)\n",
    "    \n",
    "    # The augmented matrix is A together with all the columns of I.  RowReduction is\n",
    "    # carried out simultaneously for all n systems.\n",
    "    A_augmented = np.hstack((A,I))\n",
    "    R = lag.RowReduction(A_augmented)\n",
    "    \n",
    "    Inverse = np.zeros((n,n))\n",
    "    \n",
    "    # Now BackSubstitution is carried out for each column and the result is stored \n",
    "    # in the corresponding column of Inverse.\n",
    "    A_reduced = R[:,0:n]\n",
    "    for i in range(0,n):\n",
    "        B_reduced = R[:,n+i:n+i+1]\n",
    "        Inverse[:,i:i+1] = lag.BackSubstitution(A_reduced,B_reduced)\n",
    "    \n",
    "    return(Inverse)"
   ]
  },
  {
   "cell_type": "code",
   "execution_count": 10,
   "metadata": {},
   "outputs": [
    {
     "name": "stdout",
     "output_type": "stream",
     "text": [
      "[[ 0.83333333  0.5        -0.16666667 -0.5       ]\n",
      " [-2.08333333 -1.25        0.66666667  2.25      ]\n",
      " [-0.08333333 -0.25        0.16666667  0.25      ]\n",
      " [-0.33333333  0.          0.16666667  0.        ]]\n"
     ]
    }
   ],
   "source": [
    "print(Inverse(C))"
   ]
  },
  {
   "cell_type": "markdown",
   "metadata": {},
   "source": [
    "### Exercises"
   ]
  },
  {
   "cell_type": "markdown",
   "metadata": {},
   "source": [
    "- Let $A$ and $B$ be two random square matrices.  Demonstrate using Python that $(AB)^{-1}=B^{-1}A^{-1}$."
   ]
  }
 ],
 "metadata": {
  "kernelspec": {
   "display_name": "Python 3",
   "language": "python",
   "name": "python3"
  },
  "language_info": {
   "codemirror_mode": {
    "name": "ipython",
    "version": 3
   },
   "file_extension": ".py",
   "mimetype": "text/x-python",
   "name": "python",
   "nbconvert_exporter": "python",
   "pygments_lexer": "ipython3",
   "version": "3.7.3"
  }
 },
 "nbformat": 4,
 "nbformat_minor": 4
}
