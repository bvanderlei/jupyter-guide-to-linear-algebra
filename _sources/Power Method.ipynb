{
 "cells": [
  {
   "cell_type": "markdown",
   "metadata": {},
   "source": [
    "## Power Method"
   ]
  },
  {
   "cell_type": "markdown",
   "metadata": {},
   "source": [
    "The diagonalization of a matrix gives us a shortcut for computing powers of a matrix.  This idea is the basis for the **power method**, which is an algorithm for approximating eigenvalues.\n",
    "\n",
    "If an $n\\times n$ matrix $A$ is diagonalizable with eigenvectors $\\{V_1, V_2, ..., V_n\\}$, then any vector $X$ can be written as $X = c_1V_1 + c_2V_2 + ... c_nV_n$.  The product $A^mX$ can be computed by scaling the eigenvector components.\n",
    "\n",
    "$$\n",
    "\\begin{equation}\n",
    "A^mX = c_1\\lambda_1^mV_1 + c_2\\lambda_2^mV_2 + ... c_n\\lambda_n^mV_n\n",
    "\\end{equation}\n",
    "$$\n"
   ]
  },
  {
   "cell_type": "code",
   "execution_count": null,
   "metadata": {},
   "outputs": [],
   "source": []
  }
 ],
 "metadata": {
  "kernelspec": {
   "display_name": "Python 3",
   "language": "python",
   "name": "python3"
  },
  "language_info": {
   "codemirror_mode": {
    "name": "ipython",
    "version": 3
   },
   "file_extension": ".py",
   "mimetype": "text/x-python",
   "name": "python",
   "nbconvert_exporter": "python",
   "pygments_lexer": "ipython3",
   "version": "3.7.3"
  }
 },
 "nbformat": 4,
 "nbformat_minor": 4
}
