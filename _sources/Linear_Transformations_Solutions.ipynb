{
 "cells": [
  {
   "cell_type": "markdown",
   "id": "2e1cb82f",
   "metadata": {},
   "source": [
    "## Linear Transformations"
   ]
  },
  {
   "cell_type": "code",
   "execution_count": 1,
   "id": "53f13420",
   "metadata": {},
   "outputs": [],
   "source": [
    "import laguide as lag\n",
    "import numpy as np\n",
    "import scipy.linalg as sla\n",
    "%matplotlib inline\n",
    "import matplotlib.pyplot as plt"
   ]
  },
  {
   "cell_type": "markdown",
   "id": "3b1b5fa1",
   "metadata": {},
   "source": [
    "**Exercise 1:** Find the vector $T(V)$ where\n",
    "\n",
    "$$\n",
    "\\begin{equation}\n",
    "V = \\left[\\begin{array}{r} 1 \\\\ 3 \\end{array} \\right]\n",
    "\\end{equation}\n",
    "$$"
   ]
  },
  {
   "cell_type": "markdown",
   "id": "6ace42c8",
   "metadata": {},
   "source": [
    "We use the definition of $T$ to find $T(V)$ and then check our answer by using the $\\texttt{T}$ function that we defined.\n",
    "\n",
    "$$\n",
    "\\begin{equation}\n",
    "T(V) = T \\left(\\left[ \\begin{array}{rr} 1 \\\\ 3 \\end{array}\\right]\\right)\n",
    "= \\left[ \\begin{array}{rr} 2(1) \\\\ 0 \\\\ (3) \\end{array}\\right]\n",
    "= \\left[ \\begin{array}{rr} 2 \\\\ 0 \\\\ 3 \\end{array}\\right]\n",
    "\\end{equation}\n",
    "$$"
   ]
  },
  {
   "cell_type": "code",
   "execution_count": 2,
   "id": "0bc8e02a",
   "metadata": {},
   "outputs": [
    {
     "name": "stdout",
     "output_type": "stream",
     "text": [
      "[[2.]\n",
      " [0.]\n",
      " [3.]]\n"
     ]
    }
   ],
   "source": [
    "def T(V):\n",
    "    W = np.zeros((3,1))\n",
    "    W[0,0] = 2*V[0,0]\n",
    "    W[2,0] = V[1,0]\n",
    "    return W\n",
    "\n",
    "V = np.array([[1],[3]])\n",
    "print(T(V))"
   ]
  },
  {
   "cell_type": "markdown",
   "id": "988e0e0f",
   "metadata": {},
   "source": [
    "**Exercise 2:** Find the vector $U$ so that \n",
    "\n",
    "$$\n",
    "\\begin{equation}\n",
    "T(U) = \\left[\\begin{array}{r} 5 \\\\ 0 \\\\ -1 \\end{array} \\right]\n",
    "\\end{equation}\n",
    "$$"
   ]
  },
  {
   "cell_type": "markdown",
   "id": "df3df2ff",
   "metadata": {},
   "source": [
    "If we start by taking $U$ to be an arbitrary vector in $\\mathbb{R}^2$ with entries $u_1$ and $u_2$, then we get the following vector equation for $U$.\n",
    "\n",
    "$$\n",
    "\\begin{equation}\n",
    "T(U) = T \\left(\\left[\\begin{array}{r} u_1 \\\\ u_2 \\end{array} \\right]\\right)\n",
    "= \\left[\\begin{array}{r} 2u_1 \\\\ 0 \\\\ u_2 \\end{array} \\right]\n",
    "= \\left[\\begin{array}{r} 5 \\\\ 0 \\\\ -1 \\end{array} \\right]\n",
    "\\end{equation}\n",
    "$$\n",
    "\n",
    "We can see that $2u_1 = 5$ so $u_1 = 2.5$ and $u_2 = -1$. Therefore $U = \\left[\\begin{array}{r} 2.5 \\\\ -1 \\end{array} \\right]$"
   ]
  },
  {
   "cell_type": "markdown",
   "id": "cbad6c65",
   "metadata": {},
   "source": [
    "**Exercise 3:** Write a Python function that implements the transformation $N:\\mathbb{R}^3\\to\\mathbb{R}^2$, given by the following rule.  Use the function to find evidence that $N$ is **not linear**.\n",
    "\n",
    "$$\n",
    "\\begin{equation}\n",
    "N \\left(\\left[\\begin{array}{r} v_1 \\\\ v_2 \\\\ v_3 \\end{array} \\right]\\right) = \n",
    "\\left[\\begin{array}{c} 8v_2 \\\\  v_1 + v_2 + 3 \\end{array} \\right]\n",
    "\\end{equation}\n",
    "$$"
   ]
  },
  {
   "cell_type": "code",
   "execution_count": 3,
   "id": "096a39f1",
   "metadata": {},
   "outputs": [],
   "source": [
    "def N(V):\n",
    "    W = np.zeros((2,1))\n",
    "    W[0,0] = 8*V[1,0]\n",
    "    W[1,0] = V[0,0] + V[1,0] + 3\n",
    "    return W"
   ]
  },
  {
   "cell_type": "markdown",
   "id": "d1978308",
   "metadata": {},
   "source": [
    "One of the requirements for $N$ to be linear is that $N(V+W) = N(V) + N(W)$ for all vectors $V,W$ in $\\mathbb{R}^3$. Any choice of $V$ and $W$ shows that this is not the case, however, and so $N$ is not linear."
   ]
  },
  {
   "cell_type": "code",
   "execution_count": 4,
   "id": "4f5e41c0",
   "metadata": {},
   "outputs": [
    {
     "name": "stdout",
     "output_type": "stream",
     "text": [
      "[[24.]\n",
      " [ 8.]] \n",
      "\n",
      "[[24.]\n",
      " [11.]]\n"
     ]
    }
   ],
   "source": [
    "V = np.array([[1],[1],[1]])\n",
    "W = np.array([[1],[2],[3]])\n",
    "print(N(V + W),'\\n')\n",
    "print(N(V) + N(W))"
   ]
  },
  {
   "cell_type": "markdown",
   "id": "54a25a1c",
   "metadata": {},
   "source": [
    "**Exercise 4:** Consider the two transformations, $S$ and $R$, defined below.  Write a Python function that implements the composition $R\\circ S$.  Explain why it is not possible to form the composition $S \\circ R$.\n",
    "\n",
    "$$\n",
    "\\begin{equation}\n",
    "S \\left(\\left[\\begin{array}{r} v_1 \\\\ v_2 \\\\ v_3 \\end{array} \\right]\\right) = \n",
    "\\left[\\begin{array}{c}   v_1 + v_2 \\\\  3v_3 \\end{array} \\right]\n",
    "\\end{equation}\n",
    "$$\n",
    "\n",
    "$$\n",
    "\\begin{equation}\n",
    "R \\left(\\left[\\begin{array}{r} v_1 \\\\ v_2  \\end{array} \\right]\\right) = \n",
    "\\left[\\begin{array}{rr} 3 &  0 \\\\ -1 & 1 \\end{array}\\right]\n",
    "\\left[\\begin{array}{c}   v_1 \\\\ v_2 \\end{array} \\right]\n",
    "\\end{equation}\n",
    "$$\n",
    "  "
   ]
  },
  {
   "cell_type": "markdown",
   "id": "5390ad06",
   "metadata": {},
   "source": [
    "We will first write a function for each of $S$ and $R$, and then we will write a function that implements the composition $R \\circ S$ by first applying $S$ and then applying $R$ to the output of that transformation. We will confirm that it is working correctly by testing with an example vector."
   ]
  },
  {
   "cell_type": "code",
   "execution_count": 5,
   "id": "42939cb2",
   "metadata": {},
   "outputs": [
    {
     "name": "stdout",
     "output_type": "stream",
     "text": [
      "[[ 15.]\n",
      " [-11.]]\n"
     ]
    }
   ],
   "source": [
    "def S(V):\n",
    "    W = np.zeros((2,1))\n",
    "    W[0,0] = V[0,0] + V[1,0]\n",
    "    W[1,0] = 3*V[2,0]\n",
    "    return W\n",
    "\n",
    "def R(V):\n",
    "    T = np.array([[3,0],[-1,1]])\n",
    "    W = T@V\n",
    "    return W\n",
    "\n",
    "def R_composed_with_S(V):\n",
    "    W = R(S(V))\n",
    "    return W\n",
    "\n",
    "V = np.array([[1],[4],[-2]])\n",
    "print(R_composed_with_S(V))"
   ]
  },
  {
   "cell_type": "markdown",
   "id": "82a63706",
   "metadata": {},
   "source": [
    "$$\n",
    "\\begin{equation}\n",
    "R \\left(S\\left(\\left[\\begin{array}{r} 1 \\\\ 4 \\\\ -2 \\end{array} \\right]\\right)\\right) \n",
    "= R \\left(\\left[\\begin{array}{r} 5 \\\\ -6 \\end{array} \\right]\\right)\n",
    "= \\left[\\begin{array}{r} 3 & 0 \\\\ -1 & 1 \\end{array} \\right] \\left[\\begin{array}{r} 5 \\\\ -6 \\end{array} \\right]\n",
    "= \\left[\\begin{array}{r} 15 \\\\ -11 \\end{array} \\right]\n",
    "\\end{equation}\n",
    "$$"
   ]
  },
  {
   "cell_type": "markdown",
   "id": "15a3ebe1",
   "metadata": {},
   "source": [
    "It is impossible to form the composition $S \\circ R$ because this requires applying the transformation $S$ to the output of the mapping $R$, but $R$ outputs vectors in $\\mathbb{R}^2$ and $S$ needs input vectors from $\\mathbb{R}^3$."
   ]
  },
  {
   "cell_type": "markdown",
   "id": "c94ddd64",
   "metadata": {},
   "source": [
    "### Matrix Representations"
   ]
  },
  {
   "cell_type": "markdown",
   "id": "ec1de755",
   "metadata": {},
   "source": [
    "**Exercise 1:** For each of the following linear transformations, find the standard matrix representation, and then determine if the transformation is onto, one-to-one, or invertible.\n",
    "\n",
    "$(a)$\n",
    "\n",
    "$$\n",
    "\\begin{equation}\n",
    "B \\left(\\left[\\begin{array}{r} x_1 \\\\ x_2 \\\\ x_3 \\\\ x_4 \\end{array} \\right]\\right) = \n",
    "\\left[\\begin{array}{c} x_1 + 2x_2 - x_3 -x_4 \\\\ x_2 -3x_3 +2x_4 \\end{array} \\right]\n",
    "\\end{equation}\n",
    "$$"
   ]
  },
  {
   "cell_type": "markdown",
   "id": "1d97ab92",
   "metadata": {},
   "source": [
    "$B$ maps $\\mathbb{R}^4$ to $\\mathbb{R}^2$ so to find the standard matrix representation of $B$, we have to first apply the formula to each of the four standard basis vectors of $\\mathbb{R}^4$.\n",
    "\n",
    "$$\n",
    "\\begin{equation}\n",
    "B\\left(\\left[\\begin{array}{r} 1\\\\0\\\\0\\\\0 \\end{array}\\right]\\right)= \\left[\\begin{array}{r} 1\\\\0 \\end{array}\\right] \\hspace{1cm} \n",
    "B\\left(\\left[\\begin{array}{r} 0\\\\1\\\\0\\\\0 \\end{array}\\right]\\right)= \\left[\\begin{array}{r} 2\\\\1 \\end{array}\\right] \\hspace{1cm} \n",
    "B\\left(\\left[\\begin{array}{r} 0\\\\0\\\\1\\\\0 \\end{array}\\right]\\right)= \\left[\\begin{array}{r} -1\\\\-3 \\end{array}\\right] \\hspace{1cm}\n",
    "B\\left(\\left[\\begin{array}{r} 0\\\\0\\\\0\\\\1 \\end{array}\\right]\\right)= \\left[\\begin{array}{r} -1\\\\2 \\end{array}\\right] \n",
    "\\end{equation}\n",
    "$$\n",
    "\n",
    "We build $[B]$ by using these images as the columns and then find the RREF using $\\texttt{FullRowReduction}$.\n",
    "\n",
    "$$\n",
    "\\begin{equation}\n",
    "[B] = \\left[\\begin{array}{rr} 1 & 2 & -1 & -1 \\\\ 0 & 1 & -3 & 2 \\end{array}\\right]\n",
    "\\end{equation}\n",
    "$$"
   ]
  },
  {
   "cell_type": "code",
   "execution_count": 3,
   "id": "4cdbb169",
   "metadata": {},
   "outputs": [
    {
     "name": "stdout",
     "output_type": "stream",
     "text": [
      "[[ 1.  0.  5. -5.]\n",
      " [ 0.  1. -3.  2.]]\n"
     ]
    }
   ],
   "source": [
    "B = np.array([[1,2,-1,-1],[0,1,-3,2]])\n",
    "print(lag.FullRowReduction(B))"
   ]
  },
  {
   "cell_type": "markdown",
   "id": "6d528771",
   "metadata": {},
   "source": [
    "The RREF of $[B]$ has a pivot in every row, but not in the third and fourth columns. Therefore $B$ is onto but not one-to-one."
   ]
  },
  {
   "cell_type": "markdown",
   "id": "412c00c5",
   "metadata": {},
   "source": [
    "$(b)$\n",
    "\n",
    "$$\n",
    "\\begin{equation}\n",
    "C \\left(\\left[\\begin{array}{r} x_1 \\\\ x_2 \\\\ x_3 \\end{array} \\right]\\right) = \n",
    "\\left[\\begin{array}{c} x_1 -x_2 + 8x_3 \\\\ 4x_1 + 5x_2 - x_3 \\\\ -x_1 -x_2 + 3x_3 \\end{array} \\right]\n",
    "\\end{equation}\n",
    "$$"
   ]
  },
  {
   "cell_type": "markdown",
   "id": "2b95824b",
   "metadata": {},
   "source": [
    "$C$ maps $\\mathbb{R}^3$ to $\\mathbb{R}^3$ so to find the standard matrix representation of $C$, we have to first apply the formula to each of the three standard basis vectors of $\\mathbb{R}^3$.\n",
    "\n",
    "$$\n",
    "\\begin{equation}\n",
    "C\\left(\\left[\\begin{array}{r} 1\\\\0\\\\0 \\end{array}\\right]\\right)= \\left[\\begin{array}{r} 1\\\\4\\\\-1 \\end{array}\\right]\\hspace{1cm} \n",
    "C\\left(\\left[\\begin{array}{r} 0\\\\1\\\\0 \\end{array}\\right]\\right)= \\left[\\begin{array}{r} -1\\\\5\\\\-1 \\end{array}\\right]\\hspace{1cm} \n",
    "C\\left(\\left[\\begin{array}{r} 0\\\\0\\\\1 \\end{array}\\right]\\right)= \\left[\\begin{array}{r} 8\\\\-1\\\\3 \\end{array}\\right]\n",
    "\\end{equation}\n",
    "$$\n",
    "\n",
    "We build $[C]$ by using these images as the columns and then find the RREF using $\\texttt{FullRowReduction}$.\n",
    "\n",
    "$$\n",
    "\\begin{equation}\n",
    "[C] = \\left[\\begin{array}{rr} 1 & -1 & 8 \\\\ 4 & 5 & -1 \\\\ -1 & -1 & 3\\end{array}\\right]\n",
    "\\end{equation}\n",
    "$$"
   ]
  },
  {
   "cell_type": "code",
   "execution_count": 4,
   "id": "f6327520",
   "metadata": {},
   "outputs": [
    {
     "name": "stdout",
     "output_type": "stream",
     "text": [
      "[[1. 0. 0.]\n",
      " [0. 1. 0.]\n",
      " [0. 0. 1.]]\n"
     ]
    }
   ],
   "source": [
    "C = np.array([[1,-1,8],[4,5,-1],[-1,-1,3]])\n",
    "print(lag.FullRowReduction(C))"
   ]
  },
  {
   "cell_type": "markdown",
   "id": "a283e671",
   "metadata": {},
   "source": [
    "The RREF of $[C]$ has a pivot in every row and column. Therefore $C$ is onto and one-to-one, which means it is invertible."
   ]
  }
 ],
 "metadata": {
  "kernelspec": {
   "display_name": "Python 3",
   "language": "python",
   "name": "python3"
  },
  "language_info": {
   "codemirror_mode": {
    "name": "ipython",
    "version": 3
   },
   "file_extension": ".py",
   "mimetype": "text/x-python",
   "name": "python",
   "nbconvert_exporter": "python",
   "pygments_lexer": "ipython3",
   "version": "3.7.3"
  }
 },
 "nbformat": 4,
 "nbformat_minor": 5
}
