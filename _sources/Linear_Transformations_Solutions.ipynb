{
 "cells": [
  {
   "cell_type": "markdown",
   "id": "2e1cb82f",
   "metadata": {},
   "source": [
    "## Linear Transformations"
   ]
  },
  {
   "cell_type": "code",
   "execution_count": 1,
   "id": "53f13420",
   "metadata": {},
   "outputs": [],
   "source": [
    "import laguide as lag\n",
    "import numpy as np\n",
    "import scipy.linalg as sla\n",
    "%matplotlib inline\n",
    "import matplotlib.pyplot as plt"
   ]
  },
  {
   "cell_type": "markdown",
   "id": "3b1b5fa1",
   "metadata": {},
   "source": [
    "**Exercise 1:** Find the vector $T(V)$ where\n",
    "\n",
    "$$\n",
    "\\begin{equation}\n",
    "V = \\left[\\begin{array}{r} 1 \\\\ 3 \\end{array} \\right]\n",
    "\\end{equation}\n",
    "$$"
   ]
  },
  {
   "cell_type": "markdown",
   "id": "6ace42c8",
   "metadata": {},
   "source": [
    "We use the definition of $T$ to find $T(V)$ and then check our answer by using the $\\texttt{T}$ function that we defined.\n",
    "\n",
    "$$\n",
    "\\begin{equation}\n",
    "T(V) = T \\left(\\left[ \\begin{array}{rr} 1 \\\\ 3 \\end{array}\\right]\\right)\n",
    "= \\left[ \\begin{array}{rr} 2(1) \\\\ 0 \\\\ (3) \\end{array}\\right]\n",
    "= \\left[ \\begin{array}{rr} 2 \\\\ 0 \\\\ 3 \\end{array}\\right]\n",
    "\\end{equation}\n",
    "$$"
   ]
  },
  {
   "cell_type": "code",
   "execution_count": 2,
   "id": "0bc8e02a",
   "metadata": {},
   "outputs": [
    {
     "name": "stdout",
     "output_type": "stream",
     "text": [
      "[[2.]\n",
      " [0.]\n",
      " [3.]]\n"
     ]
    }
   ],
   "source": [
    "def T(V):\n",
    "    W = np.zeros((3,1))\n",
    "    W[0,0] = 2*V[0,0]\n",
    "    W[2,0] = V[1,0]\n",
    "    return W\n",
    "\n",
    "V = np.array([[1],[3]])\n",
    "print(T(V))"
   ]
  },
  {
   "cell_type": "markdown",
   "id": "988e0e0f",
   "metadata": {},
   "source": [
    "**Exercise 2:** Find the vector $U$ so that \n",
    "\n",
    "$$\n",
    "\\begin{equation}\n",
    "T(U) = \\left[\\begin{array}{r} 5 \\\\ 0 \\\\ -1 \\end{array} \\right]\n",
    "\\end{equation}\n",
    "$$"
   ]
  },
  {
   "cell_type": "markdown",
   "id": "df3df2ff",
   "metadata": {},
   "source": [
    "If we start by taking $U$ to be an arbitrary vector in $\\mathbb{R}^2$ with entries $u_1$ and $u_2$, then we get the following vector equation for $U$.\n",
    "\n",
    "$$\n",
    "\\begin{equation}\n",
    "T(U) = T \\left(\\left[\\begin{array}{r} u_1 \\\\ u_2 \\end{array} \\right]\\right)\n",
    "= \\left[\\begin{array}{r} 2u_1 \\\\ 0 \\\\ u_2 \\end{array} \\right]\n",
    "= \\left[\\begin{array}{r} 5 \\\\ 0 \\\\ -1 \\end{array} \\right]\n",
    "\\end{equation}\n",
    "$$\n",
    "\n",
    "We can see that $2u_1 = 5$ so $u_1 = 2.5$ and $u_2 = -1$. Therefore $U = \\left[\\begin{array}{r} 2.5 \\\\ -1 \\end{array} \\right]$"
   ]
  },
  {
   "cell_type": "markdown",
   "id": "cbad6c65",
   "metadata": {},
   "source": [
    "**Exercise 3:** Write a Python function that implements the transformation $N:\\mathbb{R}^3\\to\\mathbb{R}^2$, given by the following rule.  Use the function to find evidence that $N$ is **not linear**.\n",
    "\n",
    "$$\n",
    "\\begin{equation}\n",
    "N \\left(\\left[\\begin{array}{r} v_1 \\\\ v_2 \\\\ v_3 \\end{array} \\right]\\right) = \n",
    "\\left[\\begin{array}{c} 8v_2 \\\\  v_1 + v_2 + 3 \\end{array} \\right]\n",
    "\\end{equation}\n",
    "$$"
   ]
  },
  {
   "cell_type": "code",
   "execution_count": 3,
   "id": "096a39f1",
   "metadata": {},
   "outputs": [],
   "source": [
    "def N(V):\n",
    "    W = np.zeros((2,1))\n",
    "    W[0,0] = 8*V[1,0]\n",
    "    W[1,0] = V[0,0] + V[1,0] + 3\n",
    "    return W"
   ]
  },
  {
   "cell_type": "markdown",
   "id": "d1978308",
   "metadata": {},
   "source": [
    "One of the requirements for $N$ to be linear is that $N(V+W) = N(V) + N(W)$ for all vectors $V,W$ in $\\mathbb{R}^3$. Any choice of $V$ and $W$ shows that this is not the case, however, and so $N$ is not linear."
   ]
  },
  {
   "cell_type": "code",
   "execution_count": 4,
   "id": "4f5e41c0",
   "metadata": {},
   "outputs": [
    {
     "name": "stdout",
     "output_type": "stream",
     "text": [
      "[[24.]\n",
      " [ 8.]] \n",
      "\n",
      "[[24.]\n",
      " [11.]]\n"
     ]
    }
   ],
   "source": [
    "V = np.array([[1],[1],[1]])\n",
    "W = np.array([[1],[2],[3]])\n",
    "print(N(V + W),'\\n')\n",
    "print(N(V) + N(W))"
   ]
  },
  {
   "cell_type": "markdown",
   "id": "54a25a1c",
   "metadata": {},
   "source": [
    "**Exercise 4:** Consider the two transformations, $S$ and $R$, defined below.  Write a Python function that implements the composition $R\\circ S$.  Explain why it is not possible to form the composition $S \\circ R$.\n",
    "\n",
    "$$\n",
    "\\begin{equation}\n",
    "S \\left(\\left[\\begin{array}{r} v_1 \\\\ v_2 \\\\ v_3 \\end{array} \\right]\\right) = \n",
    "\\left[\\begin{array}{c}   v_1 + v_2 \\\\  3v_3 \\end{array} \\right]\n",
    "\\end{equation}\n",
    "$$\n",
    "\n",
    "$$\n",
    "\\begin{equation}\n",
    "R \\left(\\left[\\begin{array}{r} v_1 \\\\ v_2  \\end{array} \\right]\\right) = \n",
    "\\left[\\begin{array}{rr} 3 &  0 \\\\ -1 & 1 \\end{array}\\right]\n",
    "\\left[\\begin{array}{c}   v_1 \\\\ v_2 \\end{array} \\right]\n",
    "\\end{equation}\n",
    "$$\n",
    "  "
   ]
  },
  {
   "cell_type": "markdown",
   "id": "5390ad06",
   "metadata": {},
   "source": [
    "We will first write a function for each of $S$ and $R$, and then we will write a function that implements the composition $R \\circ S$ by first applying $S$ and then applying $R$ to the output of that transformation. We will confirm that it is working correctly by testing with an example vector."
   ]
  },
  {
   "cell_type": "code",
   "execution_count": 5,
   "id": "42939cb2",
   "metadata": {},
   "outputs": [
    {
     "name": "stdout",
     "output_type": "stream",
     "text": [
      "[[ 15.]\n",
      " [-11.]]\n"
     ]
    }
   ],
   "source": [
    "def S(V):\n",
    "    W = np.zeros((2,1))\n",
    "    W[0,0] = V[0,0] + V[1,0]\n",
    "    W[1,0] = 3*V[2,0]\n",
    "    return W\n",
    "\n",
    "def R(V):\n",
    "    T = np.array([[3,0],[-1,1]])\n",
    "    W = T@V\n",
    "    return W\n",
    "\n",
    "def R_composed_with_S(V):\n",
    "    W = R(S(V))\n",
    "    return W\n",
    "\n",
    "V = np.array([[1],[4],[-2]])\n",
    "print(R_composed_with_S(V))"
   ]
  },
  {
   "cell_type": "markdown",
   "id": "82a63706",
   "metadata": {},
   "source": [
    "$$\n",
    "\\begin{equation}\n",
    "R \\left(S\\left(\\left[\\begin{array}{r} 1 \\\\ 4 \\\\ -2 \\end{array} \\right]\\right)\\right) \n",
    "= R \\left(\\left[\\begin{array}{r} 5 \\\\ -6 \\end{array} \\right]\\right)\n",
    "= \\left[\\begin{array}{r} 3 & 0 \\\\ -1 & 1 \\end{array} \\right] \\left[\\begin{array}{r} 5 \\\\ -6 \\end{array} \\right]\n",
    "= \\left[\\begin{array}{r} 15 \\\\ -11 \\end{array} \\right]\n",
    "\\end{equation}\n",
    "$$"
   ]
  },
  {
   "cell_type": "markdown",
   "id": "15a3ebe1",
   "metadata": {},
   "source": [
    "It is impossible to form the composition $S \\circ R$ because this requires applying the transformation $S$ to the output of the mapping $R$, but $R$ outputs vectors in $\\mathbb{R}^2$ and $S$ needs input vectors from $\\mathbb{R}^3$."
   ]
  },
  {
   "cell_type": "markdown",
   "id": "0b6d8f97",
   "metadata": {},
   "source": [
    "**Exercise 5:** Create a Python function which implements the transformation: $S:\\mathbb{R}^3\\to\\mathbb{R}^3$, given below. Use the function to provide evidence whether the transformation is **linear** or not.\n",
    "\n",
    "\n",
    "$$\n",
    "\\begin{equation}\n",
    "S \\left(\\left[\\begin{array}{r} v_1 \\\\ v_2 \\\\ v_3 \\end{array} \\right]\\right) = \n",
    "\\left[\\begin{array}{c} v_1 + v_2 \\\\  1 \\\\ v_3+v_1 \\end{array} \\right]\n",
    "\\end{equation}\n",
    "$$\n",
    "\n",
    "Repeat for the transformation $T:\\mathbb{R}^3\\to\\mathbb{R}^3$ is now defined by\n",
    "\n",
    "$$\n",
    "\\begin{equation}\n",
    "T \\left(\\left[\\begin{array}{r} v_1 \\\\ v_2 \\\\ v_3 \\end{array} \\right]\\right) = \n",
    "\\left[\\begin{array}{c} v_1 + v_2 \\\\  0 \\\\ v_3+v_1 \\end{array} \\right].\n",
    "\\end{equation}\n",
    "$$"
   ]
  },
  {
   "cell_type": "markdown",
   "id": "71222dd1",
   "metadata": {},
   "source": [
    "#### Solution:"
   ]
  },
  {
   "cell_type": "code",
   "execution_count": 2,
   "id": "db76208b",
   "metadata": {},
   "outputs": [
    {
     "name": "stdout",
     "output_type": "stream",
     "text": [
      "V: \n",
      " [[1]\n",
      " [2]\n",
      " [3]] \n",
      "\n",
      "S(V): \n",
      " [[3.]\n",
      " [1.]\n",
      " [5.]] \n",
      "\n",
      "S(W): \n",
      " [[3.]\n",
      " [1.]\n",
      " [4.]] \n",
      "\n",
      "S(V+W): \n",
      " [[6.]\n",
      " [1.]\n",
      " [9.]] \n",
      "\n",
      "S(V)+S(W): \n",
      " [[6.]\n",
      " [2.]\n",
      " [9.]] \n",
      "\n"
     ]
    }
   ],
   "source": [
    "def S(V):\n",
    "    W = np.zeros((3,1))\n",
    "    W[0,0] = V[0,0] + V[1,0]\n",
    "    W[1,0] = 1\n",
    "    W[2,0] = V[1,0] +V[2,0]\n",
    "    return W\n",
    "\n",
    "V = np.array([[1],[2],[3]])\n",
    "W = np.array([[2],[1],[3]])\n",
    "\n",
    "print(\"V: \\n\", V, '\\n')\n",
    "print(\"S(V): \\n\", S(V), '\\n')\n",
    "print(\"S(W): \\n\", S(W), '\\n')\n",
    "print(\"S(V+W): \\n\", S(V+W), '\\n')\n",
    "print(\"S(V)+S(W): \\n\", S(V)+S(W), '\\n')"
   ]
  },
  {
   "cell_type": "markdown",
   "id": "55dc6c41",
   "metadata": {},
   "source": [
    "We see that $S(V+W)\\neq S(V) + S(W)$. Therefore, the transformation $S:\\mathbb{R}^3\\to\\mathbb{R}^3$ is not linear.\n",
    "\n",
    "Now, let us consider that the transformation $T:\\mathbb{R}^3\\to\\mathbb{R}^3$ is defined as: \n",
    "$$\n",
    "\\begin{equation}\n",
    "T \\left(\\left[\\begin{array}{r} v_1 \\\\ v_2 \\\\ v_3 \\end{array} \\right]\\right) = \n",
    "\\left[\\begin{array}{c} v_1 + v_2 \\\\  0 \\\\ v_3+v_1 \\end{array} \\right]\n",
    "\\end{equation}\n",
    "$$\n",
    "\n",
    "It only differs from the previous transformation in terms of the second entry which is zero in this case rather than 1. Let us define the corresponding python function in the code cell below:\n"
   ]
  },
  {
   "cell_type": "code",
   "execution_count": 3,
   "id": "d0cc233a",
   "metadata": {},
   "outputs": [
    {
     "name": "stdout",
     "output_type": "stream",
     "text": [
      "V: \n",
      " [[1]\n",
      " [2]\n",
      " [3]] \n",
      "\n",
      "T(V): \n",
      " [[3.]\n",
      " [0.]\n",
      " [5.]] \n",
      "\n",
      "T(W): \n",
      " [[6.]\n",
      " [0.]\n",
      " [5.]] \n",
      "\n",
      "T(V+W): \n",
      " [[ 9.]\n",
      " [ 0.]\n",
      " [10.]] \n",
      "\n",
      "T(V)+T(W): \n",
      " [[ 9.]\n",
      " [ 0.]\n",
      " [10.]] \n",
      "\n",
      "T(kV)): \n",
      " [[15.]\n",
      " [ 0.]\n",
      " [25.]] \n",
      "\n",
      "kT(V)): \n",
      " [[15.]\n",
      " [ 0.]\n",
      " [25.]] \n",
      "\n"
     ]
    }
   ],
   "source": [
    "def T(V):\n",
    "    U = np.zeros((3,1))\n",
    "    U[0,0] = V[0,0] + V[1,0]\n",
    "    U[1,0] = 0\n",
    "    U[2,0] = V[1,0] + V[2,0]\n",
    "    return U\n",
    "\n",
    "V = np.array([[1],[2],[3]])\n",
    "W = np.array([[2],[4],[1]])\n",
    "\n",
    "print(\"V: \\n\", V, '\\n')\n",
    "print(\"T(V): \\n\", T(V), '\\n')\n",
    "print(\"T(W): \\n\", T(W), '\\n')\n",
    "print(\"T(V+W): \\n\", T(V+W), '\\n')\n",
    "print(\"T(V)+T(W): \\n\", T(V)+T(W), '\\n')\n",
    "\n",
    "k = 5\n",
    "print(\"T(kV)): \\n\", T(k*V), '\\n')\n",
    "print(\"kT(V)): \\n\", k*T(V), '\\n')"
   ]
  },
  {
   "cell_type": "markdown",
   "id": "0d7c703e",
   "metadata": {},
   "source": [
    "Our conclusions differ from that in the previous case. In this case, $T(V+W) = T(V) + T(W)$ and $T(kV) = kT(V)$. Therefore, we have evidence that $T:\\mathbb{R}^3\\to\\mathbb{R}^3$ is a linear transformation.\n",
    "\n",
    "Note the difference between $S$ and $T$ in this exercise."
   ]
  },
  {
   "cell_type": "markdown",
   "id": "da3eb8cf",
   "metadata": {},
   "source": [
    "**Exercise 6:** $L:\\mathbb{R}^3\\to\\mathbb{R}^2$ is a **Linear Transformation** . Find $L(kU+V)$ given that $k=7$, \n",
    "\n",
    "$$\n",
    "\\begin{equation}\n",
    "L(U) = \\left[\\begin{array}{r} 1 \\\\ 1  \\end{array} \\right]\\hspace{1cm}\n",
    "L(V) = \\left[\\begin{array}{r} 3 \\\\ 1  \\end{array} \\right]\n",
    "\\end{equation}\n",
    "$$"
   ]
  },
  {
   "cell_type": "markdown",
   "id": "693a855f",
   "metadata": {},
   "source": [
    "#### Solution:\n",
    "\n",
    "Since $L:\\mathbb{R}^3\\to\\mathbb{R}^2$ is a linear transformation, we can say that $L(kU+V) = L(kU) + L(V)$. Then, we can write $L(kV) = kL(V)$. Therefore, $L(kU+V) = kL(U)+ L(V)$.\n",
    "\n",
    "Given $k$, $L(V)$ and $L(U)$, we can find $L(kU+V)$.\n",
    "\n",
    "$$\n",
    "\\begin{equation}\n",
    "L(kU+V) = (7)\\left[\\begin{array}{r} 1 \\\\ 1  \\end{array} \\right] + \n",
    "\\left[\\begin{array}{r} 3 \\\\ 1  \\end{array} \\right] = \n",
    "\\left[\\begin{array}{r} 10 \\\\ 8  \\end{array} \\right]\n",
    "\\end{equation}\n",
    "$$"
   ]
  },
  {
   "cell_type": "markdown",
   "id": "06c97bfb",
   "metadata": {},
   "source": [
    "**Exercise 7:** Let $T:\\mathbb{R}^3 \\to \\mathbb{R}^2$ be defined by $T(X)= AX$, where \n",
    "\n",
    "$$\n",
    "\\begin{equation}\n",
    "A = \\left[\\begin{array}{rrr} 1 & 0 & 2 \\\\ 2 & 1 & 1  \\end{array}\\right].\n",
    "\\end{equation}\n",
    "$$\n",
    "\n",
    "Find all vectors $X$ that satisfy $T(X) = \\left[\\begin{array}{r} 1 \\\\ 2  \\end{array} \\right]\n",
    "$. \n"
   ]
  },
  {
   "cell_type": "markdown",
   "id": "090ab755",
   "metadata": {},
   "source": [
    "#### Solution:\n",
    "\n",
    "Given $T(X)$ and $A$, we can find $X$ by solving the following system:\n",
    "\n",
    "$$\n",
    "\\begin{equation}\n",
    "AX = \\left[ \\begin{array}{rrr} 1 & 0 & 2 \\\\ 2 & 1 & 1\\end{array}\\right]\n",
    "\\left[ \\begin{array}{r} x_1 \\\\ x_2 \\\\ x_3  \\end{array}\\right]=\n",
    "\\left[ \\begin{array}{r}1 \\\\ 2  \\end{array}\\right]= T(X)\n",
    "\\end{equation}\n",
    "$$\n",
    "\n",
    "We can see that there is no pivot in the third column of the coefficient matrix $A$, this means that $x_3$ is a free variable. Therefore, the above system has infinitely many solutions. In other words, there are an infinite number of vectors $X$ in $\\mathbb{R}^3$ which get mapped to the vector $AX$ in space $\\mathbb{R}^2$.\n",
    "\n",
    "\n",
    "\n",
    "For instance, when $x_3 = 3$, then we get $x_1 = -5$ and $x_2 = 9$.\n",
    "So, $$\n",
    "\\begin{equation}\n",
    "X = \\left[ \\begin{array}{rrr} -5 \\\\ 9 \\\\ 3 \\end{array}\\right]\n",
    "\\end{equation}\n",
    "$$\n"
   ]
  },
  {
   "cell_type": "code",
   "execution_count": 5,
   "id": "5fce7cad",
   "metadata": {},
   "outputs": [
    {
     "name": "stdout",
     "output_type": "stream",
     "text": [
      "AX: \n",
      " [[1]\n",
      " [2]] \n",
      "\n",
      "AX_2: \n",
      " [[1]\n",
      " [2]] \n",
      "\n"
     ]
    }
   ],
   "source": [
    "## verifying that T(X) = AX:\n",
    "\n",
    "A = np.array([[1,0,2],[2,1,1]])\n",
    "X = np.array([[-5],[9],[3]])\n",
    "\n",
    "print(\"AX: \\n\", A@X, '\\n')\n",
    "\n",
    "# Verifying that X is not unique:\n",
    "# When x_3 = 0, x_2 = 0, x_1 = 1\n",
    "\n",
    "X_2 = np.array([[1],[0],[0]])\n",
    "print(\"AX_2: \\n\", A@X_2, '\\n')"
   ]
  },
  {
   "cell_type": "markdown",
   "id": "2f3eb276",
   "metadata": {},
   "source": [
    "The computation demonstrates that $T(X)$ is same for two different vectors $X$. Therefore, $X$ is not unique."
   ]
  },
  {
   "cell_type": "markdown",
   "id": "35d64dc7",
   "metadata": {},
   "source": [
    "**Exercise 8:** Let $M:\\mathbb{P}_1 \\to \\mathbb{P}_3$ be a transformation defined by $M(p(x)) = x^3 + p(x)$. Determine whether $M$ is linear or not. "
   ]
  },
  {
   "cell_type": "markdown",
   "id": "00922b72",
   "metadata": {},
   "source": [
    "#### Solution:\n",
    "\n",
    "In order to determine whether $M$ is linear or not, let us consider two polynomials $p(x)$ and $q(x)$ in $\\mathbb{P}_1$. \n",
    "\n",
    "$M((p + q)(x)) = x^3 + p(x) + q(x)$ by the general properties of polynomials.\n",
    "\n",
    "$M(p(x)) + M(q(x)) = (x^3 + p(x)) + (x^3 + q(x)) = 2x^3 + p(x) + q(x)$.\n",
    "\n",
    "We can see that $M((p + q)(x))$ is not the same as $M(p(x)) + M(q(x))$. Therefore, $M$ is not linear.\n",
    "\n",
    "We can also see what $M(kp(x))$ and $k(M(p(x)))$ look like.\n",
    "\n",
    "$M(kp(x)) = x^3 + kp(x)$\n",
    "\n",
    "$k(M(p(x))) = kx^3 + kp(x)$\n",
    "\n",
    "It is clear that $M(kp(x))$ and $k(M(p(x)))$ are also different."
   ]
  },
  {
   "cell_type": "markdown",
   "id": "6358d078",
   "metadata": {},
   "source": [
    "**Exercise 9:** Let $S:\\mathbb{P}_2 \\to \\mathbb{P}_3$ and $T:\\mathbb{P}_3 \\to \\mathbb{P}_5$ be two **linear transformations** defined by the rules given below. Define the composition $T\\circ S$ and determine whether it is linear or not. Explain why $S\\circ T$ is not defined.\n",
    "\n",
    "$S(p(x)) = x(p(x))$ \n",
    "\n",
    "$T(q(x)) = x^2(q(x))$ \n",
    "\n",
    "where $p(x)$ is a polynomial in $\\mathbb{P}_2$ and $q(x)$ is a polynomial in $\\mathbb{P}_3$. "
   ]
  },
  {
   "cell_type": "markdown",
   "id": "cc07d1ba",
   "metadata": {},
   "source": [
    "#### Solution:\n",
    "\n",
    "Since $S:\\mathbb{P}_2 \\to \\mathbb{P}_3$ and $T:\\mathbb{P}_3 \\to \\mathbb{P}_5$ are two **linear transformations**, $T\\circ S:\\mathbb{P}_2 \\to \\mathbb{P}_5$ and it is defined by the following rule:\n",
    "\n",
    "$T\\circ S = T(S(p(x))) = x^2(S(p(x)))$ \n",
    "\n",
    "$S(p(x)) = x(p(x))$. Therefore, $T\\circ S = T(S(p(x))) = x^2(xp(x))$ \n",
    "\n",
    "$T\\circ S = T(S(p(x))) = x^3(p(x))$\n",
    "\n",
    "So, $T\\circ S:\\mathbb{P}_2 \\to \\mathbb{P}_5$ is a transformation defined by the following rule:\n",
    "\n",
    "$T\\circ S = T(S(p(x))) = x^3(p(x))$\n",
    "\n",
    "Let us see if  $T\\circ S:\\mathbb{P}_2 \\to \\mathbb{P}_5$ is a linear transformation.\n",
    "Consider two polynomials $p(x)$ and $q(x)$ in $\\mathbb{P}_2$.\n",
    "\n",
    "$T(S(p(x) + q(x))) = x^3(p(x) + q(x)) = x^3(p(x)) + x^3(q(x)) $ by the properties of polynomials.\n",
    "\n",
    "$T(S(p(x))) + T(S(q(x))) = x^3(p(x)) + x^3(q(x)) $.\n",
    "\n",
    "$T(S(kp(x))) = x^3(kp(x)) = kx^3(p(x)))$ by the properties of polynomials.\n",
    "\n",
    "$kT(S(p(x))) = x^3(kp(x)) = kx^3(p(x)))$\n",
    "\n",
    "$T\\circ S $ is a linear transformation since $T(S(p(x) + q(x))) =T(S(p(x))) + T(S(q(x)))$ and $T(S(kp(x))) = kT(S(p(x)))$.\n",
    "\n",
    "\n",
    "\n",
    "$S\\circ T$ is not defined because the output space of $T$ is not the input space of $S$. The output space of $T$ is $\\mathbb{P}_5$ but the input space of $S$ is $\\mathbb{P}_2$."
   ]
  },
  {
   "cell_type": "markdown",
   "id": "c94ddd64",
   "metadata": {},
   "source": [
    "### Matrix Representations"
   ]
  },
  {
   "cell_type": "markdown",
   "id": "ec1de755",
   "metadata": {},
   "source": [
    "**Exercise 1:** For each of the following linear transformations, find the standard matrix representation, and then determine if the transformation is onto, one-to-one, or invertible.\n",
    "\n",
    "$(a)$\n",
    "\n",
    "$$\n",
    "\\begin{equation}\n",
    "B \\left(\\left[\\begin{array}{r} x_1 \\\\ x_2 \\\\ x_3 \\\\ x_4 \\end{array} \\right]\\right) = \n",
    "\\left[\\begin{array}{c} x_1 + 2x_2 - x_3 -x_4 \\\\ x_2 -3x_3 +2x_4 \\end{array} \\right]\n",
    "\\end{equation}\n",
    "$$"
   ]
  },
  {
   "cell_type": "markdown",
   "id": "1d97ab92",
   "metadata": {},
   "source": [
    "$B$ maps $\\mathbb{R}^4$ to $\\mathbb{R}^2$ so to find the standard matrix representation of $B$, we have to first apply the formula to each of the four standard basis vectors of $\\mathbb{R}^4$.\n",
    "\n",
    "$$\n",
    "\\begin{equation}\n",
    "B\\left(\\left[\\begin{array}{r} 1\\\\0\\\\0\\\\0 \\end{array}\\right]\\right)= \\left[\\begin{array}{r} 1\\\\0 \\end{array}\\right] \\hspace{1cm} \n",
    "B\\left(\\left[\\begin{array}{r} 0\\\\1\\\\0\\\\0 \\end{array}\\right]\\right)= \\left[\\begin{array}{r} 2\\\\1 \\end{array}\\right] \\hspace{1cm} \n",
    "B\\left(\\left[\\begin{array}{r} 0\\\\0\\\\1\\\\0 \\end{array}\\right]\\right)= \\left[\\begin{array}{r} -1\\\\-3 \\end{array}\\right] \\hspace{1cm}\n",
    "B\\left(\\left[\\begin{array}{r} 0\\\\0\\\\0\\\\1 \\end{array}\\right]\\right)= \\left[\\begin{array}{r} -1\\\\2 \\end{array}\\right] \n",
    "\\end{equation}\n",
    "$$\n",
    "\n",
    "We build $[B]$ by using these images as the columns and then find the RREF using $\\texttt{FullRowReduction}$.\n",
    "\n",
    "$$\n",
    "\\begin{equation}\n",
    "[B] = \\left[\\begin{array}{rr} 1 & 2 & -1 & -1 \\\\ 0 & 1 & -3 & 2 \\end{array}\\right]\n",
    "\\end{equation}\n",
    "$$"
   ]
  },
  {
   "cell_type": "code",
   "execution_count": 3,
   "id": "4cdbb169",
   "metadata": {},
   "outputs": [
    {
     "name": "stdout",
     "output_type": "stream",
     "text": [
      "[[ 1.  0.  5. -5.]\n",
      " [ 0.  1. -3.  2.]]\n"
     ]
    }
   ],
   "source": [
    "B = np.array([[1,2,-1,-1],[0,1,-3,2]])\n",
    "print(lag.FullRowReduction(B))"
   ]
  },
  {
   "cell_type": "markdown",
   "id": "6d528771",
   "metadata": {},
   "source": [
    "The RREF of $[B]$ has a pivot in every row, but not in the third and fourth columns. Therefore $B$ is onto but not one-to-one."
   ]
  },
  {
   "cell_type": "markdown",
   "id": "412c00c5",
   "metadata": {},
   "source": [
    "$(b)$\n",
    "\n",
    "$$\n",
    "\\begin{equation}\n",
    "C \\left(\\left[\\begin{array}{r} x_1 \\\\ x_2 \\\\ x_3 \\end{array} \\right]\\right) = \n",
    "\\left[\\begin{array}{c} x_1 -x_2 + 8x_3 \\\\ 4x_1 + 5x_2 - x_3 \\\\ -x_1 -x_2 + 3x_3 \\end{array} \\right]\n",
    "\\end{equation}\n",
    "$$"
   ]
  },
  {
   "cell_type": "markdown",
   "id": "2b95824b",
   "metadata": {},
   "source": [
    "$C$ maps $\\mathbb{R}^3$ to $\\mathbb{R}^3$ so to find the standard matrix representation of $C$, we have to first apply the formula to each of the three standard basis vectors of $\\mathbb{R}^3$.\n",
    "\n",
    "$$\n",
    "\\begin{equation}\n",
    "C\\left(\\left[\\begin{array}{r} 1\\\\0\\\\0 \\end{array}\\right]\\right)= \\left[\\begin{array}{r} 1\\\\4\\\\-1 \\end{array}\\right]\\hspace{1cm} \n",
    "C\\left(\\left[\\begin{array}{r} 0\\\\1\\\\0 \\end{array}\\right]\\right)= \\left[\\begin{array}{r} -1\\\\5\\\\-1 \\end{array}\\right]\\hspace{1cm} \n",
    "C\\left(\\left[\\begin{array}{r} 0\\\\0\\\\1 \\end{array}\\right]\\right)= \\left[\\begin{array}{r} 8\\\\-1\\\\3 \\end{array}\\right]\n",
    "\\end{equation}\n",
    "$$\n",
    "\n",
    "We build $[C]$ by using these images as the columns and then find the RREF using $\\texttt{FullRowReduction}$.\n",
    "\n",
    "$$\n",
    "\\begin{equation}\n",
    "[C] = \\left[\\begin{array}{rr} 1 & -1 & 8 \\\\ 4 & 5 & -1 \\\\ -1 & -1 & 3\\end{array}\\right]\n",
    "\\end{equation}\n",
    "$$"
   ]
  },
  {
   "cell_type": "code",
   "execution_count": 4,
   "id": "f6327520",
   "metadata": {},
   "outputs": [
    {
     "name": "stdout",
     "output_type": "stream",
     "text": [
      "[[1. 0. 0.]\n",
      " [0. 1. 0.]\n",
      " [0. 0. 1.]]\n"
     ]
    }
   ],
   "source": [
    "C = np.array([[1,-1,8],[4,5,-1],[-1,-1,3]])\n",
    "print(lag.FullRowReduction(C))"
   ]
  },
  {
   "cell_type": "markdown",
   "id": "a283e671",
   "metadata": {},
   "source": [
    "The RREF of $[C]$ has a pivot in every row and column. Therefore $C$ is onto and one-to-one, which means it is invertible."
   ]
  },
  {
   "cell_type": "markdown",
   "id": "9e307622",
   "metadata": {},
   "source": [
    "**Exercise 2:** Let $L:\\mathbb{R}^3 \\to \\mathbb{R}^2$ be the **linear transformation** defined by $L(X)= AX$. \n",
    "\n",
    "$$\n",
    "\\begin{equation}\n",
    "A = \\left[\\begin{array}{rrr} 1 & 1 & 1\\\\ 2 & 3 & 4  \\end{array}\\right]\\\n",
    "\\end{equation}\n",
    "$$\n",
    "\n",
    "Determine whether $L:\\mathbb{R}^3 \\to \\mathbb{R}^2$ is an invertible transformation or not.\n",
    "\n"
   ]
  },
  {
   "cell_type": "markdown",
   "id": "d87aefc5",
   "metadata": {},
   "source": [
    "#### Solution:\n",
    "\n",
    "The **linear transformation** $L:\\mathbb{R}^3 \\to \\mathbb{R}^2$ will be invertible if the matrix $A$ is invertible as $L(X)= AX$. Since $A$ is a $ 2 \\times 3 $ matrix, it cannot be invertible. Therefore, $L:\\mathbb{R}^3 \\to \\mathbb{R}^2$ is not an invertible transformation."
   ]
  }
 ],
 "metadata": {
  "kernelspec": {
   "display_name": "Python 3",
   "language": "python",
   "name": "python3"
  },
  "language_info": {
   "codemirror_mode": {
    "name": "ipython",
    "version": 3
   },
   "file_extension": ".py",
   "mimetype": "text/x-python",
   "name": "python",
   "nbconvert_exporter": "python",
   "pygments_lexer": "ipython3",
   "version": "3.7.3"
  }
 },
 "nbformat": 4,
 "nbformat_minor": 5
}
