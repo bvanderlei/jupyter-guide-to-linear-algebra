{
 "cells": [
  {
   "cell_type": "markdown",
   "id": "2e1cb82f",
   "metadata": {},
   "source": [
    "## Linear Transformations"
   ]
  },
  {
   "cell_type": "code",
   "execution_count": 1,
   "id": "53f13420",
   "metadata": {},
   "outputs": [],
   "source": [
    "import laguide as lag\n",
    "import numpy as np\n",
    "import scipy.linalg as sla\n",
    "%matplotlib inline\n",
    "import matplotlib.pyplot as plt\n",
    "from math import pi, sin, cos"
   ]
  },
  {
   "cell_type": "markdown",
   "id": "3b1b5fa1",
   "metadata": {},
   "source": [
    "**Exercise 1:** Find the vector $T(V)$ where\n",
    "\n",
    "$$\n",
    "\\begin{equation}\n",
    "V = \\left[\\begin{array}{r} 1 \\\\ 3 \\end{array} \\right]\n",
    "\\end{equation}\n",
    "$$"
   ]
  },
  {
   "cell_type": "markdown",
   "id": "6ace42c8",
   "metadata": {},
   "source": [
    "We use the definition of $T$ to find $T(V)$ and then check our answer by using the $\\texttt{T}$ function that we defined.\n",
    "\n",
    "$$\n",
    "\\begin{equation}\n",
    "T(V) = T \\left(\\left[ \\begin{array}{rr} 1 \\\\ 3 \\end{array}\\right]\\right)\n",
    "= \\left[ \\begin{array}{rr} 2(1) \\\\ 0 \\\\ (3) \\end{array}\\right]\n",
    "= \\left[ \\begin{array}{rr} 2 \\\\ 0 \\\\ 3 \\end{array}\\right]\n",
    "\\end{equation}\n",
    "$$"
   ]
  },
  {
   "cell_type": "code",
   "execution_count": 2,
   "id": "0bc8e02a",
   "metadata": {},
   "outputs": [
    {
     "name": "stdout",
     "output_type": "stream",
     "text": [
      "[[2.]\n",
      " [0.]\n",
      " [3.]]\n"
     ]
    }
   ],
   "source": [
    "def T(V):\n",
    "    W = np.zeros((3,1))\n",
    "    W[0,0] = 2*V[0,0]\n",
    "    W[2,0] = V[1,0]\n",
    "    return W\n",
    "\n",
    "V = np.array([[1],[3]])\n",
    "print(T(V))"
   ]
  },
  {
   "cell_type": "markdown",
   "id": "988e0e0f",
   "metadata": {},
   "source": [
    "**Exercise 2:** Find the vector $U$ so that \n",
    "\n",
    "$$\n",
    "\\begin{equation}\n",
    "T(U) = \\left[\\begin{array}{r} 5 \\\\ 0 \\\\ -1 \\end{array} \\right]\n",
    "\\end{equation}\n",
    "$$"
   ]
  },
  {
   "cell_type": "markdown",
   "id": "df3df2ff",
   "metadata": {},
   "source": [
    "If we start by taking $U$ to be an arbitrary vector in $\\mathbb{R}^2$ with entries $u_1$ and $u_2$, then we get the following vector equation for $U$.\n",
    "\n",
    "$$\n",
    "\\begin{equation}\n",
    "T(U) = T \\left(\\left[\\begin{array}{r} u_1 \\\\ u_2 \\end{array} \\right]\\right)\n",
    "= \\left[\\begin{array}{r} 2u_1 \\\\ 0 \\\\ u_2 \\end{array} \\right]\n",
    "= \\left[\\begin{array}{r} 5 \\\\ 0 \\\\ -1 \\end{array} \\right]\n",
    "\\end{equation}\n",
    "$$\n",
    "\n",
    "We can see that $2u_1 = 5$ so $u_1 = 2.5$ and $u_2 = -1$. Therefore $U = \\left[\\begin{array}{r} 2.5 \\\\ -1 \\end{array} \\right]$"
   ]
  },
  {
   "cell_type": "markdown",
   "id": "cbad6c65",
   "metadata": {},
   "source": [
    "**Exercise 3:** Write a Python function that implements the transformation $N:\\mathbb{R}^3\\to\\mathbb{R}^2$, given by the following rule.  Use the function to find evidence that $N$ is **not linear**.\n",
    "\n",
    "$$\n",
    "\\begin{equation}\n",
    "N \\left(\\left[\\begin{array}{r} v_1 \\\\ v_2 \\\\ v_3 \\end{array} \\right]\\right) = \n",
    "\\left[\\begin{array}{c} 8v_2 \\\\  v_1 + v_2 + 3 \\end{array} \\right]\n",
    "\\end{equation}\n",
    "$$"
   ]
  },
  {
   "cell_type": "code",
   "execution_count": 3,
   "id": "096a39f1",
   "metadata": {},
   "outputs": [],
   "source": [
    "def N(V):\n",
    "    W = np.zeros((2,1))\n",
    "    W[0,0] = 8*V[1,0]\n",
    "    W[1,0] = V[0,0] + V[1,0] + 3\n",
    "    return W"
   ]
  },
  {
   "cell_type": "markdown",
   "id": "d1978308",
   "metadata": {},
   "source": [
    "One of the requirements for $N$ to be linear is that $N(V+W) = N(V) + N(W)$ for all vectors $V,W$ in $\\mathbb{R}^3$. Any choice of $V$ and $W$ shows that this is not the case, however, and so $N$ is not linear."
   ]
  },
  {
   "cell_type": "code",
   "execution_count": 4,
   "id": "4f5e41c0",
   "metadata": {},
   "outputs": [
    {
     "name": "stdout",
     "output_type": "stream",
     "text": [
      "[[24.]\n",
      " [ 8.]] \n",
      "\n",
      "[[24.]\n",
      " [11.]]\n"
     ]
    }
   ],
   "source": [
    "V = np.array([[1],[1],[1]])\n",
    "W = np.array([[1],[2],[3]])\n",
    "print(N(V + W),'\\n')\n",
    "print(N(V) + N(W))"
   ]
  },
  {
   "cell_type": "markdown",
   "id": "54a25a1c",
   "metadata": {},
   "source": [
    "**Exercise 4:** Consider the two transformations, $S$ and $R$, defined below.  Write a Python function that implements the composition $R\\circ S$.  Explain why it is not possible to form the composition $S \\circ R$.\n",
    "\n",
    "$$\n",
    "\\begin{equation}\n",
    "S \\left(\\left[\\begin{array}{r} v_1 \\\\ v_2 \\\\ v_3 \\end{array} \\right]\\right) = \n",
    "\\left[\\begin{array}{c}   v_1 + v_2 \\\\  3v_3 \\end{array} \\right]\n",
    "\\end{equation}\n",
    "$$\n",
    "\n",
    "$$\n",
    "\\begin{equation}\n",
    "R \\left(\\left[\\begin{array}{r} v_1 \\\\ v_2  \\end{array} \\right]\\right) = \n",
    "\\left[\\begin{array}{rr} 3 &  0 \\\\ -1 & 1 \\end{array}\\right]\n",
    "\\left[\\begin{array}{c}   v_1 \\\\ v_2 \\end{array} \\right]\n",
    "\\end{equation}\n",
    "$$\n",
    "  "
   ]
  },
  {
   "cell_type": "markdown",
   "id": "5390ad06",
   "metadata": {},
   "source": [
    "We will first write a function for each of $S$ and $R$, and then we will write a function that implements the composition $R \\circ S$ by first applying $S$ and then applying $R$ to the output of that transformation. We will confirm that it is working correctly by testing with an example vector."
   ]
  },
  {
   "cell_type": "code",
   "execution_count": 5,
   "id": "42939cb2",
   "metadata": {},
   "outputs": [
    {
     "name": "stdout",
     "output_type": "stream",
     "text": [
      "[[ 15.]\n",
      " [-11.]]\n"
     ]
    }
   ],
   "source": [
    "def S(V):\n",
    "    W = np.zeros((2,1))\n",
    "    W[0,0] = V[0,0] + V[1,0]\n",
    "    W[1,0] = 3*V[2,0]\n",
    "    return W\n",
    "\n",
    "def R(V):\n",
    "    T = np.array([[3,0],[-1,1]])\n",
    "    W = T@V\n",
    "    return W\n",
    "\n",
    "def R_composed_with_S(V):\n",
    "    W = R(S(V))\n",
    "    return W\n",
    "\n",
    "V = np.array([[1],[4],[-2]])\n",
    "print(R_composed_with_S(V))"
   ]
  },
  {
   "cell_type": "markdown",
   "id": "82a63706",
   "metadata": {},
   "source": [
    "$$\n",
    "\\begin{equation}\n",
    "R \\left(S\\left(\\left[\\begin{array}{r} 1 \\\\ 4 \\\\ -2 \\end{array} \\right]\\right)\\right) \n",
    "= R \\left(\\left[\\begin{array}{r} 5 \\\\ -6 \\end{array} \\right]\\right)\n",
    "= \\left[\\begin{array}{r} 3 & 0 \\\\ -1 & 1 \\end{array} \\right] \\left[\\begin{array}{r} 5 \\\\ -6 \\end{array} \\right]\n",
    "= \\left[\\begin{array}{r} 15 \\\\ -11 \\end{array} \\right]\n",
    "\\end{equation}\n",
    "$$"
   ]
  },
  {
   "cell_type": "markdown",
   "id": "15a3ebe1",
   "metadata": {},
   "source": [
    "It is impossible to form the composition $S \\circ R$ because this requires applying the transformation $S$ to the output of the mapping $R$, but $R$ outputs vectors in $\\mathbb{R}^2$ and $S$ needs input vectors from $\\mathbb{R}^3$."
   ]
  },
  {
   "cell_type": "markdown",
   "id": "0b6d8f97",
   "metadata": {},
   "source": [
    "**Exercise 5:** Create a Python function which implements the transformation: $S:\\mathbb{R}^3\\to\\mathbb{R}^3$, given below. Use the function to provide evidence whether the transformation is **linear** or not.\n",
    "\n",
    "\n",
    "$$\n",
    "\\begin{equation}\n",
    "S \\left(\\left[\\begin{array}{r} v_1 \\\\ v_2 \\\\ v_3 \\end{array} \\right]\\right) = \n",
    "\\left[\\begin{array}{c} v_1 + v_2 \\\\  1 \\\\ v_3+v_1 \\end{array} \\right]\n",
    "\\end{equation}\n",
    "$$\n",
    "\n",
    "Repeat for the transformation $T:\\mathbb{R}^3\\to\\mathbb{R}^3$ is now defined by\n",
    "\n",
    "$$\n",
    "\\begin{equation}\n",
    "T \\left(\\left[\\begin{array}{r} v_1 \\\\ v_2 \\\\ v_3 \\end{array} \\right]\\right) = \n",
    "\\left[\\begin{array}{c} v_1 + v_2 \\\\  0 \\\\ v_3+v_1 \\end{array} \\right].\n",
    "\\end{equation}\n",
    "$$"
   ]
  },
  {
   "cell_type": "markdown",
   "id": "71222dd1",
   "metadata": {},
   "source": [
    "#### Solution:"
   ]
  },
  {
   "cell_type": "code",
   "execution_count": 6,
   "id": "db76208b",
   "metadata": {},
   "outputs": [
    {
     "name": "stdout",
     "output_type": "stream",
     "text": [
      "V: \n",
      " [[1]\n",
      " [2]\n",
      " [3]] \n",
      "\n",
      "S(V): \n",
      " [[3.]\n",
      " [1.]\n",
      " [5.]] \n",
      "\n",
      "S(W): \n",
      " [[3.]\n",
      " [1.]\n",
      " [4.]] \n",
      "\n",
      "S(V+W): \n",
      " [[6.]\n",
      " [1.]\n",
      " [9.]] \n",
      "\n",
      "S(V)+S(W): \n",
      " [[6.]\n",
      " [2.]\n",
      " [9.]] \n",
      "\n"
     ]
    }
   ],
   "source": [
    "def S(V):\n",
    "    W = np.zeros((3,1))\n",
    "    W[0,0] = V[0,0] + V[1,0]\n",
    "    W[1,0] = 1\n",
    "    W[2,0] = V[1,0] +V[2,0]\n",
    "    return W\n",
    "\n",
    "V = np.array([[1],[2],[3]])\n",
    "W = np.array([[2],[1],[3]])\n",
    "\n",
    "print(\"V: \\n\", V, '\\n')\n",
    "print(\"S(V): \\n\", S(V), '\\n')\n",
    "print(\"S(W): \\n\", S(W), '\\n')\n",
    "print(\"S(V+W): \\n\", S(V+W), '\\n')\n",
    "print(\"S(V)+S(W): \\n\", S(V)+S(W), '\\n')"
   ]
  },
  {
   "cell_type": "markdown",
   "id": "55dc6c41",
   "metadata": {},
   "source": [
    "We see that $S(V+W)\\neq S(V) + S(W)$. Therefore, the transformation $S:\\mathbb{R}^3\\to\\mathbb{R}^3$ is not linear.\n",
    "\n",
    "Now, let us consider that the transformation $T:\\mathbb{R}^3\\to\\mathbb{R}^3$ is defined as: \n",
    "$$\n",
    "\\begin{equation}\n",
    "T \\left(\\left[\\begin{array}{r} v_1 \\\\ v_2 \\\\ v_3 \\end{array} \\right]\\right) = \n",
    "\\left[\\begin{array}{c} v_1 + v_2 \\\\  0 \\\\ v_3+v_1 \\end{array} \\right]\n",
    "\\end{equation}\n",
    "$$\n",
    "\n",
    "It only differs from the previous transformation in terms of the second entry which is zero in this case rather than 1. Let us define the corresponding python function in the code cell below:\n"
   ]
  },
  {
   "cell_type": "code",
   "execution_count": 7,
   "id": "d0cc233a",
   "metadata": {},
   "outputs": [
    {
     "name": "stdout",
     "output_type": "stream",
     "text": [
      "V: \n",
      " [[1]\n",
      " [2]\n",
      " [3]] \n",
      "\n",
      "T(V): \n",
      " [[3.]\n",
      " [0.]\n",
      " [5.]] \n",
      "\n",
      "T(W): \n",
      " [[6.]\n",
      " [0.]\n",
      " [5.]] \n",
      "\n",
      "T(V+W): \n",
      " [[ 9.]\n",
      " [ 0.]\n",
      " [10.]] \n",
      "\n",
      "T(V)+T(W): \n",
      " [[ 9.]\n",
      " [ 0.]\n",
      " [10.]] \n",
      "\n",
      "T(kV)): \n",
      " [[15.]\n",
      " [ 0.]\n",
      " [25.]] \n",
      "\n",
      "kT(V)): \n",
      " [[15.]\n",
      " [ 0.]\n",
      " [25.]] \n",
      "\n"
     ]
    }
   ],
   "source": [
    "def T(V):\n",
    "    U = np.zeros((3,1))\n",
    "    U[0,0] = V[0,0] + V[1,0]\n",
    "    U[1,0] = 0\n",
    "    U[2,0] = V[1,0] + V[2,0]\n",
    "    return U\n",
    "\n",
    "V = np.array([[1],[2],[3]])\n",
    "W = np.array([[2],[4],[1]])\n",
    "\n",
    "print(\"V: \\n\", V, '\\n')\n",
    "print(\"T(V): \\n\", T(V), '\\n')\n",
    "print(\"T(W): \\n\", T(W), '\\n')\n",
    "print(\"T(V+W): \\n\", T(V+W), '\\n')\n",
    "print(\"T(V)+T(W): \\n\", T(V)+T(W), '\\n')\n",
    "\n",
    "k = 5\n",
    "print(\"T(kV)): \\n\", T(k*V), '\\n')\n",
    "print(\"kT(V)): \\n\", k*T(V), '\\n')"
   ]
  },
  {
   "cell_type": "markdown",
   "id": "0d7c703e",
   "metadata": {},
   "source": [
    "Our conclusions differ from that in the previous case. In this case, $T(V+W) = T(V) + T(W)$ and $T(kV) = kT(V)$. Therefore, we have evidence that $T:\\mathbb{R}^3\\to\\mathbb{R}^3$ is a linear transformation.\n",
    "\n",
    "Note the difference between $S$ and $T$ in this exercise."
   ]
  },
  {
   "cell_type": "markdown",
   "id": "da3eb8cf",
   "metadata": {},
   "source": [
    "**Exercise 6:** $L:\\mathbb{R}^3\\to\\mathbb{R}^2$ is a **Linear Transformation** . Find $L(kU+V)$ given that $k=7$, \n",
    "\n",
    "$$\n",
    "\\begin{equation}\n",
    "L(U) = \\left[\\begin{array}{r} 1 \\\\ 1  \\end{array} \\right]\\hspace{1cm}\n",
    "L(V) = \\left[\\begin{array}{r} 3 \\\\ 1  \\end{array} \\right]\n",
    "\\end{equation}\n",
    "$$"
   ]
  },
  {
   "cell_type": "markdown",
   "id": "693a855f",
   "metadata": {},
   "source": [
    "#### Solution:\n",
    "\n",
    "Since $L:\\mathbb{R}^3\\to\\mathbb{R}^2$ is a linear transformation, we can say that $L(kU+V) = L(kU) + L(V)$. Then, we can write $L(kV) = kL(V)$. Therefore, $L(kU+V) = kL(U)+ L(V)$.\n",
    "\n",
    "Given $k$, $L(V)$ and $L(U)$, we can find $L(kU+V)$.\n",
    "\n",
    "$$\n",
    "\\begin{equation}\n",
    "L(kU+V) = (7)\\left[\\begin{array}{r} 1 \\\\ 1  \\end{array} \\right] + \n",
    "\\left[\\begin{array}{r} 3 \\\\ 1  \\end{array} \\right] = \n",
    "\\left[\\begin{array}{r} 10 \\\\ 8  \\end{array} \\right]\n",
    "\\end{equation}\n",
    "$$"
   ]
  },
  {
   "cell_type": "markdown",
   "id": "06c97bfb",
   "metadata": {},
   "source": [
    "**Exercise 7:** Let $T:\\mathbb{R}^3 \\to \\mathbb{R}^2$ be defined by $T(X)= AX$, where \n",
    "\n",
    "$$\n",
    "\\begin{equation}\n",
    "A = \\left[\\begin{array}{rrr} 1 & 0 & 2 \\\\ 2 & 1 & 1  \\end{array}\\right].\n",
    "\\end{equation}\n",
    "$$\n",
    "\n",
    "Find all vectors $X$ that satisfy $T(X) = \\left[\\begin{array}{r} 1 \\\\ 2  \\end{array} \\right]\n",
    "$. \n"
   ]
  },
  {
   "cell_type": "markdown",
   "id": "090ab755",
   "metadata": {},
   "source": [
    "#### Solution:\n",
    "\n",
    "Given $T(X)$ and $A$, we can find $X$ by solving the following system:\n",
    "\n",
    "$$\n",
    "\\begin{equation}\n",
    "AX = \\left[ \\begin{array}{rrr} 1 & 0 & 2 \\\\ 2 & 1 & 1\\end{array}\\right]\n",
    "\\left[ \\begin{array}{r} x_1 \\\\ x_2 \\\\ x_3  \\end{array}\\right]=\n",
    "\\left[ \\begin{array}{r}1 \\\\ 2  \\end{array}\\right]= T(X)\n",
    "\\end{equation}\n",
    "$$\n",
    "\n",
    "We can see that there is no pivot in the third column of the coefficient matrix $A$, this means that $x_3$ is a free variable. Therefore, the above system has infinitely many solutions. In other words, there are an infinite number of vectors $X$ in $\\mathbb{R}^3$ which get mapped to the vector $AX$ in space $\\mathbb{R}^2$.\n",
    "\n",
    "\n",
    "\n",
    "For instance, when $x_3 = 3$, then we get $x_1 = -5$ and $x_2 = 9$.\n",
    "So, $$\n",
    "\\begin{equation}\n",
    "X = \\left[ \\begin{array}{rrr} -5 \\\\ 9 \\\\ 3 \\end{array}\\right]\n",
    "\\end{equation}\n",
    "$$\n"
   ]
  },
  {
   "cell_type": "code",
   "execution_count": 8,
   "id": "5fce7cad",
   "metadata": {},
   "outputs": [
    {
     "name": "stdout",
     "output_type": "stream",
     "text": [
      "AX: \n",
      " [[1]\n",
      " [2]] \n",
      "\n",
      "AX_2: \n",
      " [[1]\n",
      " [2]] \n",
      "\n"
     ]
    }
   ],
   "source": [
    "## verifying that T(X) = AX:\n",
    "\n",
    "A = np.array([[1,0,2],[2,1,1]])\n",
    "X = np.array([[-5],[9],[3]])\n",
    "\n",
    "print(\"AX: \\n\", A@X, '\\n')\n",
    "\n",
    "# Verifying that X is not unique:\n",
    "# When x_3 = 0, x_2 = 0, x_1 = 1\n",
    "\n",
    "X_2 = np.array([[1],[0],[0]])\n",
    "print(\"AX_2: \\n\", A@X_2, '\\n')"
   ]
  },
  {
   "cell_type": "markdown",
   "id": "2f3eb276",
   "metadata": {},
   "source": [
    "The computation demonstrates that $T(X)$ is same for two different vectors $X$. Therefore, $X$ is not unique."
   ]
  },
  {
   "cell_type": "markdown",
   "id": "35d64dc7",
   "metadata": {},
   "source": [
    "**Exercise 8:** Let $M:\\mathbb{P}_1 \\to \\mathbb{P}_3$ be a transformation defined by $M(p(x)) = x^3 + p(x)$. Determine whether $M$ is linear or not. "
   ]
  },
  {
   "cell_type": "markdown",
   "id": "00922b72",
   "metadata": {},
   "source": [
    "#### Solution:\n",
    "\n",
    "In order to determine whether $M$ is linear or not, let us consider two polynomials $p(x)$ and $q(x)$ in $\\mathbb{P}_1$. \n",
    "\n",
    "$M((p + q)(x)) = x^3 + p(x) + q(x)$ by the general properties of polynomials.\n",
    "\n",
    "$M(p(x)) + M(q(x)) = (x^3 + p(x)) + (x^3 + q(x)) = 2x^3 + p(x) + q(x)$.\n",
    "\n",
    "We can see that $M((p + q)(x))$ is not the same as $M(p(x)) + M(q(x))$. Therefore, $M$ is not linear.\n",
    "\n",
    "We can also see what $M(kp(x))$ and $k(M(p(x)))$ look like.\n",
    "\n",
    "$M(kp(x)) = x^3 + kp(x)$\n",
    "\n",
    "$k(M(p(x))) = kx^3 + kp(x)$\n",
    "\n",
    "It is clear that $M(kp(x))$ and $k(M(p(x)))$ are also different."
   ]
  },
  {
   "cell_type": "markdown",
   "id": "6358d078",
   "metadata": {},
   "source": [
    "**Exercise 9:** Let $S:\\mathbb{P}_2 \\to \\mathbb{P}_3$ and $T:\\mathbb{P}_3 \\to \\mathbb{P}_5$ be two **linear transformations** defined by the rules given below. Define the composition $T\\circ S$ and determine whether it is linear or not. Explain why $S\\circ T$ is not defined.\n",
    "\n",
    "$S(p(x)) = x(p(x))$ \n",
    "\n",
    "$T(q(x)) = x^2(q(x))$ \n",
    "\n",
    "where $p(x)$ is a polynomial in $\\mathbb{P}_2$ and $q(x)$ is a polynomial in $\\mathbb{P}_3$. "
   ]
  },
  {
   "cell_type": "markdown",
   "id": "cc07d1ba",
   "metadata": {},
   "source": [
    "#### Solution:\n",
    "\n",
    "Since $S:\\mathbb{P}_2 \\to \\mathbb{P}_3$ and $T:\\mathbb{P}_3 \\to \\mathbb{P}_5$ are two **linear transformations**, $T\\circ S:\\mathbb{P}_2 \\to \\mathbb{P}_5$ and it is defined by the following rule:\n",
    "\n",
    "$T\\circ S = T(S(p(x))) = x^2(S(p(x)))$ \n",
    "\n",
    "$S(p(x)) = x(p(x))$. Therefore, $T\\circ S = T(S(p(x))) = x^2(xp(x))$ \n",
    "\n",
    "$T\\circ S = T(S(p(x))) = x^3(p(x))$\n",
    "\n",
    "So, $T\\circ S:\\mathbb{P}_2 \\to \\mathbb{P}_5$ is a transformation defined by the following rule:\n",
    "\n",
    "$T\\circ S = T(S(p(x))) = x^3(p(x))$\n",
    "\n",
    "Let us see if  $T\\circ S:\\mathbb{P}_2 \\to \\mathbb{P}_5$ is a linear transformation.\n",
    "Consider two polynomials $p(x)$ and $q(x)$ in $\\mathbb{P}_2$.\n",
    "\n",
    "$T(S(p(x) + q(x))) = x^3(p(x) + q(x)) = x^3(p(x)) + x^3(q(x)) $ by the properties of polynomials.\n",
    "\n",
    "$T(S(p(x))) + T(S(q(x))) = x^3(p(x)) + x^3(q(x)) $.\n",
    "\n",
    "$T(S(kp(x))) = x^3(kp(x)) = kx^3(p(x)))$ by the properties of polynomials.\n",
    "\n",
    "$kT(S(p(x))) = x^3(kp(x)) = kx^3(p(x)))$\n",
    "\n",
    "$T\\circ S $ is a linear transformation since $T(S(p(x) + q(x))) =T(S(p(x))) + T(S(q(x)))$ and $T(S(kp(x))) = kT(S(p(x)))$.\n",
    "\n",
    "\n",
    "\n",
    "$S\\circ T$ is not defined because the output space of $T$ is not the input space of $S$. The output space of $T$ is $\\mathbb{P}_5$ but the input space of $S$ is $\\mathbb{P}_2$."
   ]
  },
  {
   "cell_type": "markdown",
   "id": "c94ddd64",
   "metadata": {},
   "source": [
    "### Matrix Representations"
   ]
  },
  {
   "cell_type": "markdown",
   "id": "ec1de755",
   "metadata": {},
   "source": [
    "**Exercise 1:** For each of the following linear transformations, find the standard matrix representation, and then determine if the transformation is onto, one-to-one, or invertible.\n",
    "\n",
    "$(a)$\n",
    "\n",
    "$$\n",
    "\\begin{equation}\n",
    "B \\left(\\left[\\begin{array}{r} x_1 \\\\ x_2 \\\\ x_3 \\\\ x_4 \\end{array} \\right]\\right) = \n",
    "\\left[\\begin{array}{c} x_1 + 2x_2 - x_3 -x_4 \\\\ x_2 -3x_3 +2x_4 \\end{array} \\right]\n",
    "\\end{equation}\n",
    "$$"
   ]
  },
  {
   "cell_type": "markdown",
   "id": "1d97ab92",
   "metadata": {},
   "source": [
    "$B$ maps $\\mathbb{R}^4$ to $\\mathbb{R}^2$ so to find the standard matrix representation of $B$, we have to first apply the formula to each of the four standard basis vectors of $\\mathbb{R}^4$.\n",
    "\n",
    "$$\n",
    "\\begin{equation}\n",
    "B\\left(\\left[\\begin{array}{r} 1\\\\0\\\\0\\\\0 \\end{array}\\right]\\right)= \\left[\\begin{array}{r} 1\\\\0 \\end{array}\\right] \\hspace{1cm} \n",
    "B\\left(\\left[\\begin{array}{r} 0\\\\1\\\\0\\\\0 \\end{array}\\right]\\right)= \\left[\\begin{array}{r} 2\\\\1 \\end{array}\\right] \\hspace{1cm} \n",
    "B\\left(\\left[\\begin{array}{r} 0\\\\0\\\\1\\\\0 \\end{array}\\right]\\right)= \\left[\\begin{array}{r} -1\\\\-3 \\end{array}\\right] \\hspace{1cm}\n",
    "B\\left(\\left[\\begin{array}{r} 0\\\\0\\\\0\\\\1 \\end{array}\\right]\\right)= \\left[\\begin{array}{r} -1\\\\2 \\end{array}\\right] \n",
    "\\end{equation}\n",
    "$$\n",
    "\n",
    "We build $[B]$ by using these images as the columns and then find the RREF using $\\texttt{FullRowReduction}$.\n",
    "\n",
    "$$\n",
    "\\begin{equation}\n",
    "[B] = \\left[\\begin{array}{rr} 1 & 2 & -1 & -1 \\\\ 0 & 1 & -3 & 2 \\end{array}\\right]\n",
    "\\end{equation}\n",
    "$$"
   ]
  },
  {
   "cell_type": "code",
   "execution_count": 9,
   "id": "4cdbb169",
   "metadata": {},
   "outputs": [
    {
     "name": "stdout",
     "output_type": "stream",
     "text": [
      "[[ 1.  0.  5. -5.]\n",
      " [ 0.  1. -3.  2.]]\n"
     ]
    }
   ],
   "source": [
    "B = np.array([[1,2,-1,-1],[0,1,-3,2]])\n",
    "print(lag.FullRowReduction(B))"
   ]
  },
  {
   "cell_type": "markdown",
   "id": "6d528771",
   "metadata": {},
   "source": [
    "The RREF of $[B]$ has a pivot in every row, but not in the third and fourth columns. Therefore $B$ is onto but not one-to-one."
   ]
  },
  {
   "cell_type": "markdown",
   "id": "412c00c5",
   "metadata": {},
   "source": [
    "$(b)$\n",
    "\n",
    "$$\n",
    "\\begin{equation}\n",
    "C \\left(\\left[\\begin{array}{r} x_1 \\\\ x_2 \\\\ x_3 \\end{array} \\right]\\right) = \n",
    "\\left[\\begin{array}{c} x_1 -x_2 + 8x_3 \\\\ 4x_1 + 5x_2 - x_3 \\\\ -x_1 -x_2 + 3x_3 \\end{array} \\right]\n",
    "\\end{equation}\n",
    "$$"
   ]
  },
  {
   "cell_type": "markdown",
   "id": "2b95824b",
   "metadata": {},
   "source": [
    "$C$ maps $\\mathbb{R}^3$ to $\\mathbb{R}^3$ so to find the standard matrix representation of $C$, we have to first apply the formula to each of the three standard basis vectors of $\\mathbb{R}^3$.\n",
    "\n",
    "$$\n",
    "\\begin{equation}\n",
    "C\\left(\\left[\\begin{array}{r} 1\\\\0\\\\0 \\end{array}\\right]\\right)= \\left[\\begin{array}{r} 1\\\\4\\\\-1 \\end{array}\\right]\\hspace{1cm} \n",
    "C\\left(\\left[\\begin{array}{r} 0\\\\1\\\\0 \\end{array}\\right]\\right)= \\left[\\begin{array}{r} -1\\\\5\\\\-1 \\end{array}\\right]\\hspace{1cm} \n",
    "C\\left(\\left[\\begin{array}{r} 0\\\\0\\\\1 \\end{array}\\right]\\right)= \\left[\\begin{array}{r} 8\\\\-1\\\\3 \\end{array}\\right]\n",
    "\\end{equation}\n",
    "$$\n",
    "\n",
    "We build $[C]$ by using these images as the columns and then find the RREF using $\\texttt{FullRowReduction}$.\n",
    "\n",
    "$$\n",
    "\\begin{equation}\n",
    "[C] = \\left[\\begin{array}{rr} 1 & -1 & 8 \\\\ 4 & 5 & -1 \\\\ -1 & -1 & 3\\end{array}\\right]\n",
    "\\end{equation}\n",
    "$$"
   ]
  },
  {
   "cell_type": "code",
   "execution_count": 10,
   "id": "f6327520",
   "metadata": {},
   "outputs": [
    {
     "name": "stdout",
     "output_type": "stream",
     "text": [
      "[[1. 0. 0.]\n",
      " [0. 1. 0.]\n",
      " [0. 0. 1.]]\n"
     ]
    }
   ],
   "source": [
    "C = np.array([[1,-1,8],[4,5,-1],[-1,-1,3]])\n",
    "print(lag.FullRowReduction(C))"
   ]
  },
  {
   "cell_type": "markdown",
   "id": "a283e671",
   "metadata": {},
   "source": [
    "The RREF of $[C]$ has a pivot in every row and column. Therefore $C$ is onto and one-to-one, which means it is invertible."
   ]
  },
  {
   "cell_type": "markdown",
   "id": "9e307622",
   "metadata": {},
   "source": [
    "**Exercise 2:** Let $L:\\mathbb{R}^3 \\to \\mathbb{R}^2$ be the **linear transformation** defined by $L(X)= AX$. \n",
    "\n",
    "$$\n",
    "\\begin{equation}\n",
    "A = \\left[\\begin{array}{rrr} 1 & 1 & 1\\\\ 2 & 3 & 4  \\end{array}\\right]\\\n",
    "\\end{equation}\n",
    "$$\n",
    "\n",
    "Determine whether $L:\\mathbb{R}^3 \\to \\mathbb{R}^2$ is an invertible transformation or not.\n",
    "\n"
   ]
  },
  {
   "cell_type": "markdown",
   "id": "d87aefc5",
   "metadata": {},
   "source": [
    "#### Solution:\n",
    "\n",
    "The **linear transformation** $L:\\mathbb{R}^3 \\to \\mathbb{R}^2$ will be invertible if the matrix $A$ is invertible as $L(X)= AX$. Since $A$ is a $ 2 \\times 3 $ matrix, it cannot be invertible. Therefore, $L:\\mathbb{R}^3 \\to \\mathbb{R}^2$ is not an invertible transformation."
   ]
  },
  {
   "cell_type": "markdown",
   "id": "9686f607",
   "metadata": {},
   "source": [
    "**Exercise 3:** $L:\\mathbb{R}^3\\to\\mathbb{R}^2$ is a **Linear Transformation**. Find $L(X)$ given the following vectors.\n",
    "\n",
    "\n",
    "$$\n",
    "\\begin{equation}\n",
    "L\\left(\\left[\\begin{array}{r} 1\\\\0\\\\0 \\end{array}\\right]\\right)= \\left[\\begin{array}{r} 2\\\\0 \\end{array}\\right] \\hspace{1cm}  \n",
    "L\\left(\\left[\\begin{array}{r} 0\\\\1\\\\0 \\end{array}\\right]\\right)= \\left[\\begin{array}{r} 1\\\\3 \\end{array}\\right] \\hspace{1cm}  \n",
    "L\\left(\\left[\\begin{array}{r} 0\\\\0\\\\1 \\end{array}\\right]\\right)= \\left[\\begin{array}{r} 1\\\\2 \\end{array}\\right] \\hspace{1cm}\n",
    "X = \\left[\\begin{array}{r} 4\\\\5\\\\3 \\end{array}\\right]\n",
    "\\end{equation}\n",
    "$$\n",
    "\n"
   ]
  },
  {
   "cell_type": "markdown",
   "id": "b5796206",
   "metadata": {},
   "source": [
    "#### Solution:\n",
    "\n",
    "The standard matrix representation of $L$ is built using the images of bases vectors as columns.\n",
    "\n",
    "\n",
    "$$\n",
    "\\begin{equation}\n",
    "\\left[L\\right] =\\left[\\begin{array}{rr} 2 & 1 & 1 \\\\ 0 & 3 & 2 \\end{array}\\right]  \n",
    "\\end{equation}\n",
    "$$\n",
    "\n",
    "Now $L(X) = [L]X$.\n",
    "\n",
    "\n",
    "$$\n",
    "\\begin{equation}\n",
    "L(X) = \\left[L\\right]X =\\left[\\begin{array}{rr} 2 & 1 & 1 \\\\ 0 & 3 & 2 \\end{array}\\right] \\left[\\begin{array}{r} 4 \\\\ 5 \\\\3 \\end{array}\\right] = \n",
    "\\left[\\begin{array}{r} 16\\\\ 21\\end{array}\\right]\n",
    "\\end{equation}\n",
    "$$\n"
   ]
  },
  {
   "cell_type": "markdown",
   "id": "abf756b3",
   "metadata": {},
   "source": [
    "**Exercise 4:** The standard matrix representation of a **linear transformation** $S$ is given below. Determine the input and output space of $S$ by looking at the dimensions of $\\left[S\\right]$. Determine whether $S$ is an invertible transformation.\n",
    "\n",
    "\n",
    "$$\n",
    "\\begin{equation}\n",
    "\\left[S\\right] =\\left[\\begin{array}{rr} 2 & 0 & 3 & 8\\\\ 0 & 1 & 9 & 4 \\end{array}\\right]  \n",
    "\\end{equation}\n",
    "$$"
   ]
  },
  {
   "cell_type": "markdown",
   "id": "3577b71a",
   "metadata": {},
   "source": [
    "#### Solution:\n",
    "\n",
    "The linear transformation is defined by $S(X)=[S]X$.  Since $[S]$ is a $2 \\times 4 $ matrix, the matrix-vector product $S(X)=[S]X$ is defined only if $X$ is in $\\mathbb{R}^4$.  The input space is thus $\\mathbb{R}^4$.  Since the product $[S]X$ is in $\\mathbb{R}^2$, the output space is $\\mathbb{R}^2$.\n",
    "\n",
    "The transformation $S:\\mathbb{R}^4\\to\\mathbb{R}^2$ will be invertible only if $[S]$ is an invertible matrix. Since $[S]$ is a $ 2 \\times 4$ matrix it cannot be invertible, which means that $S$ is not an invertible linear transformation."
   ]
  },
  {
   "cell_type": "markdown",
   "id": "277eaca7",
   "metadata": {},
   "source": [
    "**Exercise 5:** The **linear transformation** $W:\\mathbb{R}^3\\to\\mathbb{R}^3$ is an invertible transformation. Find $X$.\n",
    "\n",
    "\n",
    "$$\n",
    "\\begin{equation}\n",
    "\\left[W\\right] =\\left[\\begin{array}{rr} 1 & 1 & 0\\\\ 1 & 2 & 2 \\\\ 2 & 1 & 3 \\end{array}\\right] \\hspace{1cm}\n",
    "W(X) = \\left[\\begin{array}{r} 3 \\\\ 11 \\\\ 13 \\end{array}\\right]\n",
    "\\end{equation}\n",
    "$$"
   ]
  },
  {
   "cell_type": "markdown",
   "id": "373c59ec",
   "metadata": {},
   "source": [
    "#### Solution:\n",
    "\n",
    "We know that $W(X) = [W]X$, so we must solve a linear system to determin $X$."
   ]
  },
  {
   "cell_type": "code",
   "execution_count": 11,
   "id": "d742f96e",
   "metadata": {},
   "outputs": [
    {
     "name": "stdout",
     "output_type": "stream",
     "text": [
      "X: \n",
      " [[1.]\n",
      " [2.]\n",
      " [3.]]\n"
     ]
    }
   ],
   "source": [
    "## builiding the matrix [W] and W(X):\n",
    "W = np.array([[1,1,0],[1,2,2],[2,1,3]])\n",
    "W_X = np.array([[3],[11],[13]])\n",
    "\n",
    "X = lag.SolveSystem(W,W_X)\n",
    "\n",
    "print(\"X: \\n\", X)"
   ]
  },
  {
   "cell_type": "markdown",
   "id": "8c3f1cb4",
   "metadata": {},
   "source": [
    "**Exercise 6:** Let $T:\\mathbb{R}^3\\to\\mathbb{R}^3$ be a **linear transformation**. Given that there are two vectors in $\\mathbb{R}^3$ which get mapped to the same vector in $\\mathbb{R}^3$, what can you say about the number of solutions for  $[T]X=B$ ?  Explain why $T$ is not an invertible transformation."
   ]
  },
  {
   "cell_type": "markdown",
   "id": "788786f5",
   "metadata": {},
   "source": [
    "#### Solution:\n",
    "\n",
    "If there are two vectors which get mapped by $T$ to the same vector in $\\mathbb{R}^3$, it means that $T$ is not not one-to-one. This implies that the standard matrix representation $[T]$ contains at least one column which does not have a pivot.  This implies that there is a free variable in the system $[T]X = B$, which implies that the system has infinitely many solutions.\n",
    "\n",
    "Since $T$ is not one-to-one, it cannot be invertible.  If $T(U) = B$ and $T(W)=B$, then $T^{-1}(B)$ is not well-defined.  In other words, there is not a unique solution to the system $[T]X=B$."
   ]
  },
  {
   "cell_type": "markdown",
   "id": "173ec002",
   "metadata": {},
   "source": [
    "### Transformations in a Plane"
   ]
  },
  {
   "cell_type": "markdown",
   "id": "62aee880",
   "metadata": {},
   "source": [
    "**Exercise 1:** \n",
    "\n",
    "($a$) Find a matrix that represents the reflection about the $x_1$-axis. "
   ]
  },
  {
   "cell_type": "code",
   "execution_count": 12,
   "id": "78651a33",
   "metadata": {},
   "outputs": [],
   "source": [
    "## Code solution here."
   ]
  },
  {
   "cell_type": "markdown",
   "id": "06d562bd",
   "metadata": {},
   "source": [
    "($b$) Multiply the matrix by $\\texttt{coords}$ and plot the results."
   ]
  },
  {
   "cell_type": "code",
   "execution_count": 13,
   "id": "b247b340",
   "metadata": {},
   "outputs": [],
   "source": [
    "## Code solution here."
   ]
  },
  {
   "cell_type": "markdown",
   "id": "070a66f3",
   "metadata": {},
   "source": [
    "**Exercise 2:** \n",
    "\n",
    "($a$) Find a matrix that represents the reflection about the line $x_1=x_2$. "
   ]
  },
  {
   "cell_type": "code",
   "execution_count": 14,
   "id": "daabb7a4",
   "metadata": {},
   "outputs": [],
   "source": [
    "## Code solution here."
   ]
  },
  {
   "cell_type": "markdown",
   "id": "19951e66",
   "metadata": {},
   "source": [
    "($b$) Multiply the matrix by $\\texttt{coords}$ and plot the results."
   ]
  },
  {
   "cell_type": "code",
   "execution_count": 15,
   "id": "172d37ad",
   "metadata": {},
   "outputs": [],
   "source": [
    "## Code solution here."
   ]
  },
  {
   "cell_type": "markdown",
   "id": "50c673a0",
   "metadata": {},
   "source": [
    "**Exercise 3:** \n",
    "\n",
    "($a$) Find a matrix that represents the rotation clockwise by an angle $\\theta$. "
   ]
  },
  {
   "cell_type": "code",
   "execution_count": 16,
   "id": "8ba3c450",
   "metadata": {},
   "outputs": [],
   "source": [
    "## Code solution here."
   ]
  },
  {
   "cell_type": "markdown",
   "id": "5ed5fb51",
   "metadata": {},
   "source": [
    "($b$) Let $\\theta = 90^{\\circ}$.  Multiply the matrix by $\\texttt{coords}$ and plot the results."
   ]
  },
  {
   "cell_type": "code",
   "execution_count": 17,
   "id": "67c3e025",
   "metadata": {},
   "outputs": [],
   "source": [
    "## Code solution here."
   ]
  },
  {
   "cell_type": "markdown",
   "id": "015b5f1e",
   "metadata": {},
   "source": [
    "**Exercise 4:** \n",
    "\n",
    "$(a)$ Find a matrix that represents a vertical shear followed by the rotation in Example 3. "
   ]
  },
  {
   "cell_type": "markdown",
   "id": "8708ce09",
   "metadata": {},
   "source": [
    "If we take $k = 3$ as our vertical shearing factor then the matrix that represents this vertical shear followed by the rotation in Example 3 is the following\n",
    "\n",
    "$$\n",
    "\\begin{equation}\n",
    "\\left[\\begin{array}{rr} \\cos(\\frac{\\pi}{6}) & -\\sin(\\frac{\\pi}{6}) \\\\ \\sin(\\frac{\\pi}{6}) & \\cos(\\frac{\\pi}{6}) \\end{array}\\right] \\left[\\begin{array}{rr} 1 & 0 \\\\ 3 & 1\\end{array}\\right]\n",
    "= \\left[\\begin{array}{rr} \\cos(\\frac{\\pi}{6}) - 3\\sin(\\frac{\\pi}{6}) & -\\sin(\\frac{\\pi}{6}) \\\\ \\sin(\\frac{\\pi}{6}) + 3\\cos(\\frac{\\pi}{6}) & \\cos(\\frac{\\pi}{6}) \\end{array}\\right]\n",
    "= \\left[\\begin{array}{rr} \\frac{-3 + \\sqrt{3}}{2} & -\\frac{1}{2} \\\\ \\frac{1 + 3\\sqrt{3}}{2} & \\frac{\\sqrt{3}}{2}\\end{array}\\right]\n",
    "\\end{equation}\n",
    "$$"
   ]
  },
  {
   "cell_type": "code",
   "execution_count": 18,
   "id": "0fc4dd9c",
   "metadata": {},
   "outputs": [
    {
     "name": "stdout",
     "output_type": "stream",
     "text": [
      "[[-0.6339746  -0.5       ]\n",
      " [ 3.09807621  0.8660254 ]]\n"
     ]
    }
   ],
   "source": [
    "R = np.array([[cos(pi/6),-sin(pi/6)],[sin(pi/6),cos(pi/6)]])\n",
    "S = np.array([[1,0],[3,1]])\n",
    "RS = R@S\n",
    "print(RS)"
   ]
  },
  {
   "cell_type": "markdown",
   "id": "a304f9cf",
   "metadata": {},
   "source": [
    "$(b)$ Multiply the matrix by $\\texttt{coords}$ and plot the results."
   ]
  },
  {
   "cell_type": "code",
   "execution_count": 19,
   "id": "31e66b6c",
   "metadata": {},
   "outputs": [
    {
     "data": {
      "image/png": "[encoded data removed]",
      "text/plain": [
       "<Figure size 432x288 with 1 Axes>"
      ]
     },
     "metadata": {
      "needs_background": "light"
     },
     "output_type": "display_data"
    }
   ],
   "source": [
    "coords = np.array([[0,0],[0.5,0.5],[0.5,1.5],[0,1],[0,0]])\n",
    "coords = coords.transpose()\n",
    "x = coords[0,:]\n",
    "y = coords[1,:]\n",
    "RS_coords = RS@coords\n",
    "\n",
    "x_LT1 = RS_coords[0,:]\n",
    "y_LT1 = RS_coords[1,:]\n",
    "\n",
    "# Create the figure and axes objects\n",
    "fig, ax = plt.subplots()\n",
    "\n",
    "# Plot the points.  x and y are original vectors, x_LT1 and y_LT1 are images\n",
    "ax.plot(x,y,'ro')\n",
    "ax.plot(x_LT1,y_LT1,'bo')\n",
    "\n",
    "# Connect the points by lines\n",
    "ax.plot(x,y,'r',ls=\"--\")\n",
    "ax.plot(x_LT1,y_LT1,'b')\n",
    "\n",
    "# Edit some settings \n",
    "ax.axvline(x=0,color=\"k\",ls=\":\")\n",
    "ax.axhline(y=0,color=\"k\",ls=\":\")\n",
    "ax.grid(True)\n",
    "ax.axis([-2,2,-1,3])\n",
    "ax.set_aspect('equal')"
   ]
  },
  {
   "cell_type": "markdown",
   "id": "2de820c9",
   "metadata": {},
   "source": [
    "**Exercise 5:** Create a new matrix of coordinates and apply one of the transformations in the Examples.  Plot the results."
   ]
  },
  {
   "cell_type": "markdown",
   "id": "3e420881",
   "metadata": {},
   "source": [
    "As an example, we use the following matrix of coordinates and the matrix $A$ that causes a horizontal stretch."
   ]
  },
  {
   "cell_type": "code",
   "execution_count": 20,
   "id": "46ecc8de",
   "metadata": {},
   "outputs": [
    {
     "data": {
      "image/png": "[encoded data removed]",
      "text/plain": [
       "<Figure size 432x288 with 1 Axes>"
      ]
     },
     "metadata": {
      "needs_background": "light"
     },
     "output_type": "display_data"
    }
   ],
   "source": [
    "coords = np.array([[-1,0],[0,1],[1,0],[1,-1],[-2,-2],[-1,0]])\n",
    "coords = coords.transpose()\n",
    "x = coords[0,:]\n",
    "y = coords[1,:]\n",
    "A = np.array([[2,0],[0,1]])\n",
    "A_coords = A@coords\n",
    "\n",
    "x_LT1 = A_coords[0,:]\n",
    "y_LT1 = A_coords[1,:]\n",
    "\n",
    "# Create the figure and axes objects\n",
    "fig, ax = plt.subplots()\n",
    "\n",
    "# Plot the points.  x and y are original vectors, x_LT1 and y_LT1 are images\n",
    "ax.plot(x,y,'ro')\n",
    "ax.plot(x_LT1,y_LT1,'bo')\n",
    "\n",
    "# Connect the points by lines\n",
    "ax.plot(x,y,'r',ls=\"--\")\n",
    "ax.plot(x_LT1,y_LT1,'b')\n",
    "\n",
    "# Edit some settings \n",
    "ax.axvline(x=0,color=\"k\",ls=\":\")\n",
    "ax.axhline(y=0,color=\"k\",ls=\":\")\n",
    "ax.grid(True)\n",
    "ax.axis([-5,3,-3,3])\n",
    "ax.set_aspect('equal')"
   ]
  },
  {
   "cell_type": "markdown",
   "id": "81b72e12",
   "metadata": {},
   "source": [
    "**Exercise 6:** \n",
    "\n",
    "($a$) Construct a matrix that represents a horizontal and a vertical stretch by a factor of 2 . "
   ]
  },
  {
   "cell_type": "code",
   "execution_count": 21,
   "id": "41c66dad",
   "metadata": {},
   "outputs": [],
   "source": [
    "## Code solution here"
   ]
  },
  {
   "cell_type": "markdown",
   "id": "f9d40e46",
   "metadata": {},
   "source": [
    "($b$) Create a new matrix of coordinates.  Apply this transformation and plot the results."
   ]
  },
  {
   "cell_type": "code",
   "execution_count": 22,
   "id": "2f048b8d",
   "metadata": {},
   "outputs": [],
   "source": [
    "## Code solution here"
   ]
  },
  {
   "cell_type": "markdown",
   "id": "374361cf",
   "metadata": {},
   "source": [
    "### Applications\n",
    "\n",
    "#### Computer Graphics"
   ]
  },
  {
   "cell_type": "markdown",
   "id": "702a51fb",
   "metadata": {},
   "source": [
    "**Exercise 1:** \n",
    "\n",
    "$(a)$ Find a single matrix that represents a transformation that has the effect of a reflection about the line $x_1=x_2$ followed by a shift four units to the left. "
   ]
  },
  {
   "cell_type": "markdown",
   "id": "e7bb5716",
   "metadata": {},
   "source": [
    "We will find matrices that do each part seperately then compose them to get a single matrix that does everything. Since a translation four units to the left cannot be expressed using a $2 \\times 2$ matrix, we will need to use the same trick as before and view $\\mathbb{R}^2$ as a plane embedded in $\\mathbb{R}^3$. If we associate the coordinates $(x_1,x_2)$ of a point in $\\mathbb{R}^2$ with the coordinates $(x_1,x_2,1)$ of a point in $\\mathbb{R}^3$ and define the matrix $L$ below, then multiplying any vector in the plane $x_3 = 1$ with $L$ shears the vector parallel to the $x_1x_2$-plane, in the direction of the desired translation.\n",
    "\n",
    "$$\n",
    "\\begin{equation}\n",
    "L = \\left[\\begin{array}{rr} 1 & 0 & -4 \\\\ 0 & 1 & 0 \\\\ 0 & 0 & 1  \\end{array}\\right]\n",
    "\\end{equation}\n",
    "$$\n",
    "\n",
    "Reflecting about the line $x_1 = x_2$ is equivalent to first rotating by $\\frac{\\pi}{4}$ (since the line $x_1 = x_2$ is $\\frac{\\pi}{4}$ off from the vertical axis), reflecting over the vertical axis, then rotating back by $-\\frac{\\pi}{4}$. This can be represented by the following composition.\n",
    "\n",
    "$$\n",
    "\\begin{equation}\n",
    "\\left[\\begin{array}{rr} \\cos(\\frac{\\pi}{4}) & -\\sin(\\frac{\\pi}{4}) \\\\ \\sin(\\frac{\\pi}{4}) & \\cos(\\frac{\\pi}{4}) \\end{array}\\right] \n",
    "\\left[\\begin{array}{rr} 1 & 0 \\\\ 0 & -1\\end{array}\\right]\n",
    "\\left[\\begin{array}{rr} \\cos(-\\frac{\\pi}{4}) & -\\sin(-\\frac{\\pi}{4}) \\\\ \\sin(-\\frac{\\pi}{4}) & \\cos(-\\frac{\\pi}{4}) \\end{array}\\right]\n",
    "= \\left[\\begin{array}{rr} 0 & 1 \\\\ 1 & 0\\end{array}\\right]\n",
    "\\end{equation}\n",
    "$$\n",
    "\n",
    "Since we want to compose these transformations, we need to find a way of interpreting the reflection as acting on vectors in the plane $\\mathbb{R}^2$ embedded in $\\mathbb{R}^3$. We can do this in exactly the same way as above and we get that the appropriate matrix that represents a reflextion about the line $x_1 = x_2$ in the plane $x_3 = 1$ is the following matrix $R$.\n",
    "\n",
    "$$\n",
    "\\begin{equation}\n",
    "R = \\left[\\begin{array}{rr} 0 & 1 & 0 \\\\ 1 & 0 & 0 \\\\ 0 & 0 & 1 \\end{array}\\right]\n",
    "\\end{equation}\n",
    "$$\n",
    "\n",
    "Composing these two to get our final matrix gives us the following matrix.\n",
    "\n",
    "$$\n",
    "\\begin{equation}\n",
    "LR = \\left[\\begin{array}{rr} 1 & 0 & -4 \\\\ 0 & 1 & 0 \\\\ 0 & 0 & 1  \\end{array}\\right]\n",
    "\\left[\\begin{array}{rr} 0 & 1 & 0 \\\\ 1 & 0 & 0 \\\\ 0 & 0 & 1 \\end{array}\\right]\n",
    "= \\left[\\begin{array}{rr} 0 & 1 & -4 \\\\ 1 & 0 & 0 \\\\ 0 & 0 & 1 \\end{array}\\right]\n",
    "\\end{equation}\n",
    "$$"
   ]
  },
  {
   "cell_type": "markdown",
   "id": "05b6bf43",
   "metadata": {},
   "source": [
    "$(b)$ Apply the transformation to the shape defined by $\\texttt{coords}$ and plot the results."
   ]
  },
  {
   "cell_type": "code",
   "execution_count": 23,
   "id": "57a51ddb",
   "metadata": {},
   "outputs": [
    {
     "data": {
      "image/png": "[encoded data removed]",
      "text/plain": [
       "<Figure size 432x288 with 1 Axes>"
      ]
     },
     "metadata": {
      "needs_background": "light"
     },
     "output_type": "display_data"
    }
   ],
   "source": [
    "coords = np.array([[0,0],[0.5,0.5],[0.5,1.5],[0,1],[0,0]])\n",
    "coords = coords.transpose()\n",
    "x = coords[0,:]\n",
    "y = coords[1,:]\n",
    "\n",
    "# Form a matrix of coordinates with rows x, y, 1\n",
    "Ones = np.ones((1,5))\n",
    "coords = np.vstack((x,y,Ones))\n",
    "\n",
    "# Define the matrix for the transfomation LR\n",
    "LR = np.array([[0,1,-4],[1,0,0],[0,0,1]])\n",
    "\n",
    "## Compute the transformation by matrix multiplication\n",
    "coords_transformed = LR@coords\n",
    "\n",
    "## Slice off the first and second rows.  These are the coords of the transformed points\n",
    "x_transformed = coords_transformed[0,:]\n",
    "y_transformed = coords_transformed[1,:]\n",
    "\n",
    "# Create the figure and axes objects\n",
    "fig, ax = plt.subplots()\n",
    "\n",
    "# Plot the points.\n",
    "ax.plot(x,y,'ro')\n",
    "ax.plot(x_transformed,y_transformed,'bo')\n",
    "\n",
    "# Connect the points by lines\n",
    "ax.plot(x,y,'r',ls=\"--\")\n",
    "ax.plot(x_transformed,y_transformed,'b')\n",
    "\n",
    "# Edit some settings \n",
    "ax.axvline(x=0,color=\"k\",ls=\":\")\n",
    "ax.axhline(y=0,color=\"k\",ls=\":\")\n",
    "ax.grid(True)\n",
    "ax.axis([-5,2,-1,2])\n",
    "ax.set_aspect('equal')\n",
    "ax.set_title(\"Reflection then Translation\");"
   ]
  },
  {
   "cell_type": "markdown",
   "id": "bc66e5de",
   "metadata": {},
   "source": [
    "**Exercise 2:**  \n",
    "\n",
    "$(a)$ Find a single matrix that represents a rotation about the point $(1,2)$.  (*Hint:  Make use of a translation to bring the center of rotation to $(0,0)$*.)"
   ]
  },
  {
   "cell_type": "markdown",
   "id": "6951d77a",
   "metadata": {},
   "source": [
    "Rotating about the point $(1,2)$ is equivalent to translating one unit to the left and two units down, performing the desired rotation, and then translating back one unit to the right and two units up. Since a translation cannot be expressed using a $2 \\times 2$ matrix, we will need to use the same trick as before and view $\\mathbb{R}^2$ as a plane embedded in $\\mathbb{R}^3$. If we associate the coordinates $(x_1,x_2)$ of a point in $\\mathbb{R}^2$ with the coordinates $(x_1,x_2,1)$ of a point in $\\mathbb{R}^3$ and define the matrices $L$ and $R$ below, then multiplying any vector in the plane $x_3 = 1$ with $L$ translates it one unit left and two units down, while multiplying by $R$ translates it back.\n",
    "\n",
    "$$\n",
    "\\begin{equation}\n",
    "L = \\left[\\begin{array}{rr} 1 & 0 & -1 \\\\ 0 & 1 & -2 \\\\ 0 & 0 & 1  \\end{array}\\right] \\hspace{1cm}\n",
    "R = \\left[\\begin{array}{rr} 1 & 0 & 1 \\\\ 0 & 1 & 2 \\\\ 0 & 0 & 1  \\end{array}\\right]\n",
    "\\end{equation}\n",
    "$$\n",
    "\n",
    "We know that to rotate a vector by an angle $\\theta$ we must multiply by the matrix below.\n",
    "\n",
    "$$\n",
    "\\begin{equation}\n",
    "\\left[ \\begin{array}{cc} \\cos\\theta & -\\sin\\theta \\\\ \\sin\\theta & \\cos\\theta \\end{array}\\right]\n",
    "\\end{equation}\n",
    "$$\n",
    "\n",
    "Since we want to compose these transformations, we need to find a way of interpreting the rotation as acting on vectors in the plane $\\mathbb{R}^2$ embedded in $\\mathbb{R}^3$. We can do this in exactly the same way as above and we get that the appropriate matrix that represents a rotation in the plane $x_3 = 1$ is the following matrix $S$.\n",
    "\n",
    "$$\n",
    "\\begin{equation}\n",
    "S = \\left[ \\begin{array}{cc} \\cos\\theta & -\\sin\\theta & 0 \\\\ \\sin\\theta & \\cos\\theta & 0 \\\\ 0 & 0 & 1 \\end{array}\\right]\n",
    "\\end{equation}\n",
    "$$\n",
    "\n",
    "Composing these three to get our final matrix gives us the following matrix.\n",
    "\n",
    "$$\n",
    "\\begin{equation}\n",
    "RSL = \\left[\\begin{array}{rr} 1 & 0 & 1 \\\\ 0 & 1 & 2 \\\\ 0 & 0 & 1  \\end{array}\\right]\n",
    "\\left[ \\begin{array}{cc} \\cos\\theta & -\\sin\\theta & 0 \\\\ \\sin\\theta & \\cos\\theta & 0 \\\\ 0 & 0 & 1 \\end{array}\\right]\n",
    "\\left[\\begin{array}{rr} 1 & 0 & -1 \\\\ 0 & 1 & -2 \\\\ 0 & 0 & 1  \\end{array}\\right]\n",
    "= \\left[ \\begin{array}{cc} \\cos\\theta & -\\sin\\theta & -\\cos\\theta + 2\\sin\\theta + 1 \\\\ \\sin\\theta & \\cos\\theta & -2\\cos\\theta - \\sin\\theta + 2 \\\\ 0 & 0 & 1 \\end{array}\\right]\n",
    "\\end{equation}\n",
    "$$"
   ]
  },
  {
   "cell_type": "markdown",
   "id": "fd691615",
   "metadata": {},
   "source": [
    "$(b)$ Apply the transformation to the shape defined by $\\texttt{coords}$ and plot the results.\n",
    "\n",
    "If we take $\\theta = \\frac{\\pi}{2}$ then our rotation matrix becomes\n",
    "\n",
    "$$\n",
    "\\begin{equation}\n",
    "RSL = \\left[\\begin{array}{rr} 0 & -1 & 3 \\\\ 1 & 0 & 1 \\\\ 0 & 0 & 1  \\end{array}\\right]\n",
    "\\end{equation}\n",
    "$$\n",
    "\n",
    "To make it more obvious that this matrix transforms our vectors in the way that we want, we will apply it several times and plot each iteration."
   ]
  },
  {
   "cell_type": "code",
   "execution_count": 24,
   "id": "d9ae725f",
   "metadata": {},
   "outputs": [
    {
     "data": {
      "image/png": "[encoded data removed]",
      "text/plain": [
       "<Figure size 432x288 with 1 Axes>"
      ]
     },
     "metadata": {
      "needs_background": "light"
     },
     "output_type": "display_data"
    }
   ],
   "source": [
    "coords = np.array([[0,0],[0.5,0.5],[0.5,1.5],[0,1],[0,0]])\n",
    "coords = coords.transpose()\n",
    "x = coords[0,:]\n",
    "y = coords[1,:]\n",
    "\n",
    "# Form a matrix of coordinates with rows x, y, 1\n",
    "Ones = np.ones((1,5))\n",
    "coords = np.vstack((x,y,Ones))\n",
    "\n",
    "# Define the matrix for the transfomation RSL\n",
    "RSL = np.array([[0,-1,3],[1,0,1],[0,0,1]])\n",
    "\n",
    "## Compute the transformation by matrix multiplication\n",
    "coords_transformed_1 = RSL@coords\n",
    "coords_transformed_2 = RSL@RSL@coords\n",
    "coords_transformed_3 = RSL@RSL@RSL@coords\n",
    "\n",
    "## Slice off the first and second rows.  These are the coords of the transformed points\n",
    "x_transformed_1 = coords_transformed_1[0,:]\n",
    "y_transformed_1 = coords_transformed_1[1,:]\n",
    "x_transformed_2 = coords_transformed_2[0,:]\n",
    "y_transformed_2 = coords_transformed_2[1,:]\n",
    "x_transformed_3 = coords_transformed_3[0,:]\n",
    "y_transformed_3 = coords_transformed_3[1,:]\n",
    "\n",
    "# Create the figure and axes objects\n",
    "fig, ax = plt.subplots()\n",
    "\n",
    "# Plot the points.\n",
    "ax.plot(x,y,'ro')\n",
    "ax.plot(x_transformed_1,y_transformed_1,'bo')\n",
    "ax.plot(x_transformed_2,y_transformed_2,'go')\n",
    "ax.plot(x_transformed_3,y_transformed_3,'yo')\n",
    "\n",
    "# Connect the points by lines\n",
    "ax.plot(x,y,'r',ls=\"--\")\n",
    "ax.plot(x_transformed_1,y_transformed_1,'b')\n",
    "ax.plot(x_transformed_2,y_transformed_2,'g')\n",
    "ax.plot(x_transformed_3,y_transformed_3,'y')\n",
    "\n",
    "# Edit some settings \n",
    "ax.axvline(x=0,color=\"k\",ls=\":\")\n",
    "ax.axhline(y=0,color=\"k\",ls=\":\")\n",
    "ax.grid(True)\n",
    "ax.axis([-2,4,-1,5])\n",
    "ax.set_aspect('equal')\n",
    "ax.set_title(\"Rotation about (1,2)\");"
   ]
  },
  {
   "cell_type": "markdown",
   "id": "bb27f524",
   "metadata": {},
   "source": [
    "#### Discrete Dynamical Systems"
   ]
  },
  {
   "cell_type": "markdown",
   "id": "9f481dad",
   "metadata": {},
   "source": [
    "**Exercise 1:** The webpages and their links are an example of a [directed graph](Applications.ipynb) as discussed in an earlier chapter.  An adjacency matrix therefore could be used to conveniently describe the link structure among the pages.  The matrix used in the web navigation model could then be constructed from the adjacency matrix.  Write a Python function that accepts an adjacency matrix for a direct graph, and returns the matrix required for the corresponding web navigation model.  Test your function on the following adjacency matrix defined in the cell below."
   ]
  },
  {
   "cell_type": "code",
   "execution_count": 25,
   "id": "6218be91",
   "metadata": {},
   "outputs": [],
   "source": [
    "A = np.array([[0,0,0,1,0,1,1,0,0,1],\n",
    "              [0,0,1,0,0,0,1,1,0,0],\n",
    "              [1,1,0,1,0,1,1,0,0,1],\n",
    "              [0,1,0,0,0,0,1,0,0,1],\n",
    "              [0,0,0,1,0,0,1,0,0,0],\n",
    "              [1,1,0,1,0,0,1,0,0,1],\n",
    "              [0,0,0,1,0,1,0,0,0,0],\n",
    "              [0,1,0,1,0,1,1,0,0,1],\n",
    "              [0,1,1,1,0,1,0,1,0,0],\n",
    "              [1,0,1,1,0,0,1,1,0,0],\n",
    "             ])"
   ]
  },
  {
   "cell_type": "markdown",
   "id": "6bd8eefc",
   "metadata": {},
   "source": [
    "The desired matrix in our web navigation model has probability $a_{ij}$ that the browser navigates from page $j$ to page $i$ but an adjacency matrix has $a_{ij} = 1$ if page $i$ has a link to page $j$, so for simplicity's sake we first take the transpose of $A$. We then loop over each column, counting how many pages site $j$ links to (call it $k$) then changing every 1 in the $j^{\\text{th}}$ column to $\\frac{0.8}{k} + \\frac{0.2}{n-1}$ and every 0 in the $j^{\\text{th}}$ column to $\\frac{0.2}{n-1}$ (where $n \\times n$ is the size of our adjacency matrix)."
   ]
  },
  {
   "cell_type": "code",
   "execution_count": 26,
   "id": "6fb2834e",
   "metadata": {},
   "outputs": [],
   "source": [
    "def ConvertAdjacencyMatrix(A):\n",
    "    '''\n",
    "    ConvertAdjacencyMatrix(A)\n",
    "    \n",
    "    ConvertAdjacencyMatrix converts an adjacency matrix into the matrix\n",
    "    required for the corresponding web navigation model. There is no error\n",
    "    checking to make sure that A is a proper adjacency matrix.\n",
    "\n",
    "    Parameters\n",
    "    ----------\n",
    "    A : NumPy array object of dimension nxn\n",
    "\n",
    "    Returns\n",
    "    -------\n",
    "    A_transpose : NumPy array object of dimension nxn\n",
    "    '''\n",
    "    \n",
    "    A_transpose = np.transpose(A)\n",
    "    n = A.shape[0]  # n is the number of rows and columns in A\n",
    "\n",
    "    for j in range(0,n):                             \n",
    "        k = 0                           # k counts the number of 1's in column j\n",
    "        for i in range(0,n):\n",
    "            if (A_transpose[i][j] == 1):\n",
    "                k = k + 1\n",
    "        for i in range(0,n):\n",
    "            if (A_transpose[i][j] == 1):\n",
    "                A_transpose[i][j] = 0.8/k + 0.2/(n-1)\n",
    "            elif (i != j):\n",
    "                A_transpose[i][j] = 0.2/(n-1)\n",
    "            \n",
    "    return(A_transpose)"
   ]
  },
  {
   "cell_type": "markdown",
   "id": "a9f8e451",
   "metadata": {},
   "source": [
    "We will now test our function on $A$, being careful not to round the changes to $\\texttt{A_transpose}$."
   ]
  },
  {
   "cell_type": "code",
   "execution_count": 27,
   "id": "676d24d1",
   "metadata": {},
   "outputs": [
    {
     "name": "stdout",
     "output_type": "stream",
     "text": [
      "[[0.    0.022 0.156 0.022 0.022 0.182 0.022 0.022 0.022 0.182]\n",
      " [0.022 0.    0.156 0.289 0.022 0.182 0.022 0.182 0.182 0.022]\n",
      " [0.022 0.289 0.    0.022 0.022 0.022 0.022 0.022 0.182 0.182]\n",
      " [0.222 0.022 0.156 0.    0.422 0.182 0.422 0.182 0.182 0.182]\n",
      " [0.022 0.022 0.022 0.022 0.    0.022 0.022 0.022 0.022 0.022]\n",
      " [0.222 0.022 0.156 0.022 0.022 0.    0.422 0.182 0.182 0.022]\n",
      " [0.222 0.289 0.156 0.289 0.422 0.182 0.    0.182 0.022 0.182]\n",
      " [0.022 0.289 0.022 0.022 0.022 0.022 0.022 0.    0.182 0.182]\n",
      " [0.022 0.022 0.022 0.022 0.022 0.022 0.022 0.022 0.    0.022]\n",
      " [0.222 0.022 0.156 0.289 0.022 0.182 0.022 0.182 0.022 0.   ]]\n"
     ]
    }
   ],
   "source": [
    "A = np.array([[0,0,0,1,0,1,1,0,0,1],\n",
    "              [0,0,1,0,0,0,1,1,0,0],\n",
    "              [1,1,0,1,0,1,1,0,0,1],\n",
    "              [0,1,0,0,0,0,1,0,0,1],\n",
    "              [0,0,0,1,0,0,1,0,0,0],\n",
    "              [1,1,0,1,0,0,1,0,0,1],\n",
    "              [0,0,0,1,0,1,0,0,0,0],\n",
    "              [0,1,0,1,0,1,1,0,0,1],\n",
    "              [0,1,1,1,0,1,0,1,0,0],\n",
    "              [1,0,1,1,0,0,1,1,0,0],\n",
    "             ], dtype = float)\n",
    "\n",
    "print(np.round(ConvertAdjacencyMatrix(A),3))"
   ]
  }
 ],
 "metadata": {
  "kernelspec": {
   "display_name": "Python 3",
   "language": "python",
   "name": "python3"
  },
  "language_info": {
   "codemirror_mode": {
    "name": "ipython",
    "version": 3
   },
   "file_extension": ".py",
   "mimetype": "text/x-python",
   "name": "python",
   "nbconvert_exporter": "python",
   "pygments_lexer": "ipython3",
   "version": "3.7.3"
  }
 },
 "nbformat": 4,
 "nbformat_minor": 5
}
