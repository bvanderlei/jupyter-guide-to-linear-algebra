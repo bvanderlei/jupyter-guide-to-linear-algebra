{
 "cells": [
  {
   "cell_type": "markdown",
   "id": "259ae74d",
   "metadata": {},
   "source": [
    "## Inner Products"
   ]
  },
  {
   "cell_type": "code",
   "execution_count": 7,
   "id": "d30603f0",
   "metadata": {},
   "outputs": [],
   "source": [
    "import laguide as lag\n",
    "import numpy as np\n",
    "import scipy.linalg as sla\n",
    "%matplotlib inline\n",
    "import matplotlib.pyplot as plt\n",
    "import math"
   ]
  },
  {
   "cell_type": "markdown",
   "id": "e3a6e1d9",
   "metadata": {},
   "source": [
    "**Exercise 1:** Create a Python function named $\\texttt{Magnitude}$ that accepts as an argument vector in the form of a NumPy array object with shape $n\\times 1$, and returns the magnitude of that vector.\n"
   ]
  },
  {
   "cell_type": "code",
   "execution_count": 2,
   "id": "a8efd745",
   "metadata": {},
   "outputs": [],
   "source": [
    "def Magnitude(U):\n",
    "    ''' \n",
    "    Magnitude(U)\n",
    "    \n",
    "    Magnitude computes the magnitude of U based on the Euclidean inner product\n",
    "    \n",
    "    Parameters\n",
    "    ----------\n",
    "    U : NumPy array object of dimension nx1\n",
    "    \n",
    "    Returns\n",
    "    -------\n",
    "    product: float\n",
    "    '''\n",
    "    # Check shape of U\n",
    "    if (U.shape[1] != 1):\n",
    "        print(\"Magnitude only accepts column vectors.\")\n",
    "        return\n",
    "    \n",
    "    magnitude = math.sqrt(DotProduct(U,U))\n",
    "    return magnitude"
   ]
  },
  {
   "cell_type": "markdown",
   "id": "c48ce8f0",
   "metadata": {},
   "source": [
    "**Exercise 2:** Use the $\\texttt{random}$ module of NumPy to generate random $4\\times 1$ vectors $U$, $V$, and $W$, and a random scalar $k$.  Verify the algebraic properties of the dot product listed above.  Try to make use of a conditional statement to check each statement."
   ]
  },
  {
   "cell_type": "markdown",
   "id": "1dd78294",
   "metadata": {},
   "source": [
    "We want to verify that the following equations hold for random $4 \\times 1$ vectors $U, V,$ and $W$ and scalar $k$.\n",
    "1. $U\\cdot V = V\\cdot U$\n",
    "2. $U\\cdot(V + W) = U\\cdot V + U\\cdot W$\n",
    "3. $(kU)\\cdot V = k(U\\cdot V)$\n",
    "4. $U\\cdot U \\ge 0$"
   ]
  },
  {
   "cell_type": "code",
   "execution_count": 6,
   "id": "6e5ba92e",
   "metadata": {},
   "outputs": [
    {
     "name": "stdout",
     "output_type": "stream",
     "text": [
      "[[ 7]\n",
      " [19]\n",
      " [11]\n",
      " [11]] \n",
      "\n",
      "[[8]\n",
      " [0]\n",
      " [6]\n",
      " [1]] \n",
      "\n",
      "[[12]\n",
      " [14]\n",
      " [12]\n",
      " [18]] \n",
      "\n",
      "9 \n",
      "\n",
      "The dot product is commutative. \n",
      "\n",
      "The dot product distributes over vector addition. \n",
      "\n",
      "The dot product is associative with respect to scalar multiplication. \n",
      "\n",
      "The dot product of a vector with itself is greater than or equal to 0 \n",
      "\n"
     ]
    }
   ],
   "source": [
    "U = np.random.randint(20,size=(4,1))\n",
    "V = np.random.randint(20,size=(4,1))\n",
    "W = np.random.randint(20,size=(4,1))\n",
    "k = np.random.randint(20)\n",
    "\n",
    "print(U,'\\n')\n",
    "print(V,'\\n')\n",
    "print(W,'\\n')\n",
    "print(k,'\\n')\n",
    "\n",
    "if (lag.DotProduct(U,V) == lag.DotProduct(V,U)):\n",
    "    print(\"The dot product is commutative. \\n\")\n",
    "if (lag.DotProduct(U,V+W) == lag.DotProduct(U,V) + lag.DotProduct(U,W)):\n",
    "    print(\"The dot product distributes over vector addition. \\n\")\n",
    "if (lag.DotProduct(k*U,V) == k*lag.DotProduct(U,V)):\n",
    "    print(\"The dot product is associative with respect to scalar multiplication. \\n\")\n",
    "if (lag.DotProduct(U,U) >= 0):\n",
    "    print(\"The dot product of a vector with itself is greater than or equal to 0 \\n\")"
   ]
  },
  {
   "cell_type": "markdown",
   "id": "00e420d5",
   "metadata": {},
   "source": [
    "**Exercise 3:** Let $X$ and $Y$ be the following vectors.\n",
    "\n",
    "$$\n",
    "\\begin{equation}\n",
    "X = \\left[ \\begin{array}{r} 3 \\\\ -1 \\\\ 2  \\end{array}\\right] \\hspace{1cm} \n",
    "Y = \\left[ \\begin{array}{r} 4 \\\\ 2 \\\\ 0  \\end{array}\\right] \n",
    "\\end{equation}\n",
    "$$\n",
    "\n",
    "$(a)$ Determine the angle between $X$ and $Y$.  (*You will need the $\\texttt{acos}$ function in Python's $\\texttt{math}$ module.*)"
   ]
  },
  {
   "cell_type": "markdown",
   "id": "7a00fb83",
   "metadata": {},
   "source": [
    "We will use the following equation to determine the angle $\\theta$ between $X$ and $Y$, as well as the $\\texttt{DotProduct}$ and $\\texttt{Magnitude}$ functions.\n",
    "\n",
    "$$\n",
    "\\begin{equation}\n",
    "\\cos{\\theta} = \\frac{X\\cdot Y}{||X||||Y||}\n",
    "\\end{equation}\n",
    "$$"
   ]
  },
  {
   "cell_type": "code",
   "execution_count": 8,
   "id": "df21142e",
   "metadata": {},
   "outputs": [
    {
     "name": "stdout",
     "output_type": "stream",
     "text": [
      "0.9302740141154721\n"
     ]
    }
   ],
   "source": [
    "X = np.array([[3],[-1],[2]])\n",
    "Y = np.array([[4],[2],[0]])\n",
    "print(math.acos((lag.DotProduct(X,Y))/((lag.Magnitude(X))*(lag.Magnitude(Y)))))"
   ]
  },
  {
   "cell_type": "markdown",
   "id": "98d294fb",
   "metadata": {},
   "source": [
    "$(b)$ Find a vector in $\\mathbb{R}^3$ that is orthogonal to the vector $X$.  Verify your answer with a computation."
   ]
  },
  {
   "cell_type": "markdown",
   "id": "a49511fb",
   "metadata": {},
   "source": [
    "Two vectors are **orthogonal** if their dot product is zero. The vector $W$ defined below is an example of a vector that is orthogonal to $X$.\n",
    "\n",
    "$$\n",
    "\\begin{equation}\n",
    "W = \\left[ \\begin{array}{r} 1 \\\\ 3 \\\\ 0  \\end{array}\\right] \n",
    "\\end{equation}\n",
    "$$"
   ]
  },
  {
   "cell_type": "code",
   "execution_count": 38,
   "id": "e18b64bd",
   "metadata": {},
   "outputs": [
    {
     "name": "stdout",
     "output_type": "stream",
     "text": [
      "0.0\n"
     ]
    }
   ],
   "source": [
    "X = np.array([[3],[-1],[2]])\n",
    "W = np.array([[1],[3],[0]])\n",
    "print(lag.DotProduct(X,W))"
   ]
  },
  {
   "cell_type": "markdown",
   "id": "518695fd",
   "metadata": {},
   "source": [
    "$(c)$ Construct a unit vector $Z$ such that $Z\\cdot Y = -||Y||$.  Verify your answer with a computation."
   ]
  },
  {
   "cell_type": "markdown",
   "id": "ddd076c2",
   "metadata": {},
   "source": [
    "First we calculate $-||Y|| = -\\sqrt{4^2 + 2^2 + 0^2} = -2\\sqrt{5}$. If we define the arbitrary vector $Z$ as below, then we see that we need to find values for $z_1, z_2$, and $z_3$ such that $||Z|| = \\sqrt{(z_1)^2 + (z_2)^2 + (z_3)^2} = 1$ and $Z \\cdot Y = 4z_1 + 2z_2 + 0z_3 = -2\\sqrt{5}$.\n",
    "\n",
    "$$\n",
    "\\begin{equation}\n",
    "Z = \\left[ \\begin{array}{r} z_1 \\\\ z_2 \\\\ z_3  \\end{array}\\right] \n",
    "\\end{equation}\n",
    "$$\n",
    "\n",
    "Since $z_3$ contributes nothing to the second sum above, lets set $z_3 = 0$ for simplicities sake. This gives a system of two equations in two unknowns, namely\n",
    "\n",
    "$$\n",
    "\\begin{eqnarray*}\n",
    "4z_1 + 2z_2 & = & -2\\sqrt{5} \\\\\n",
    "z_1^2 + z_2^2 & = & 1 \\\\\n",
    "\\end{eqnarray*}\n",
    "$$\n",
    "\n",
    "Note that we can't solve this system using elimination because the second equation is not linear.  Instead, if we solve for one of the variables in the first equation and substitute into the second, we will be able to use the quadratic formula to find a solution. Solving for $z_2$ in the first equation, we get\n",
    "\n",
    "$$\n",
    "\\begin{eqnarray*}\n",
    "z_2 & = & -\\sqrt{5} - 2z_1 \\\\\n",
    "\\end{eqnarray*}\n",
    "$$\n",
    "\n",
    "Next we substitute this equality in for $z_2$ in our second equation, multiply out and move everything to the left.\n",
    "\n",
    "$$\n",
    "\\begin{eqnarray*}\n",
    "5z_1^2 + 4\\sqrt{5}z_1 + 4 = 0 \\\\\n",
    "\\end{eqnarray*}\n",
    "$$\n",
    "\n",
    "Using the quadratic formula reveals that the two roots of this equation are equal, namely $z_1 = -\\frac{2}{5}\\sqrt{5}$. If we substitute this into the equation above where we had solved for $z_2$, we see that $z_2 = -\\frac{1}{5}\\sqrt{5}$ and thus the vector $Z$ below is a solution to our problem.\n",
    "\n",
    "$$\n",
    "\\begin{equation}\n",
    "Z = \\left[ \\begin{array}{r} -\\frac{2\\sqrt{5}}{5} \\\\ -\\frac{\\sqrt{5}}{5} \\\\ 0  \\end{array}\\right] \n",
    "\\end{equation}\n",
    "$$"
   ]
  },
  {
   "cell_type": "code",
   "execution_count": 47,
   "id": "a06b25e6",
   "metadata": {},
   "outputs": [
    {
     "name": "stdout",
     "output_type": "stream",
     "text": [
      "-4.47213595499958 \n",
      "\n",
      "-4.47213595499958 \n",
      "\n",
      "1.0\n"
     ]
    }
   ],
   "source": [
    "Y = np.array([[4],[2],[0]])\n",
    "Z = np.array([[-2*np.sqrt(5)/5],[-np.sqrt(5)/5],[0]])\n",
    "print(lag.DotProduct(Z,Y),'\\n')\n",
    "print(-lag.Magnitude(Y),'\\n')\n",
    "print(lag.Magnitude(Z))"
   ]
  },
  {
   "cell_type": "code",
   "execution_count": null,
   "id": "fbd73bba",
   "metadata": {},
   "outputs": [],
   "source": []
  }
 ],
 "metadata": {
  "kernelspec": {
   "display_name": "Python 3",
   "language": "python",
   "name": "python3"
  },
  "language_info": {
   "codemirror_mode": {
    "name": "ipython",
    "version": 3
   },
   "file_extension": ".py",
   "mimetype": "text/x-python",
   "name": "python",
   "nbconvert_exporter": "python",
   "pygments_lexer": "ipython3",
   "version": "3.7.3"
  }
 },
 "nbformat": 4,
 "nbformat_minor": 5
}
