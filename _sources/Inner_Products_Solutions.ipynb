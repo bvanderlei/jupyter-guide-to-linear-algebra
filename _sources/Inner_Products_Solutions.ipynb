{
 "cells": [
  {
   "cell_type": "markdown",
   "id": "259ae74d",
   "metadata": {},
   "source": [
    "## Inner Products"
   ]
  },
  {
   "cell_type": "code",
   "execution_count": 7,
   "id": "d30603f0",
   "metadata": {},
   "outputs": [],
   "source": [
    "import laguide as lag\n",
    "import numpy as np\n",
    "import scipy.linalg as sla\n",
    "%matplotlib inline\n",
    "import matplotlib.pyplot as plt\n",
    "import math"
   ]
  },
  {
   "cell_type": "markdown",
   "id": "e3a6e1d9",
   "metadata": {},
   "source": [
    "**Exercise 1:** Create a Python function named $\\texttt{Magnitude}$ that accepts as an argument vector in the form of a NumPy array object with shape $n\\times 1$, and returns the magnitude of that vector.\n"
   ]
  },
  {
   "cell_type": "code",
   "execution_count": 2,
   "id": "a8efd745",
   "metadata": {},
   "outputs": [],
   "source": [
    "def Magnitude(U):\n",
    "    ''' \n",
    "    Magnitude(U)\n",
    "    \n",
    "    Magnitude computes the magnitude of U based on the Euclidean inner product\n",
    "    \n",
    "    Parameters\n",
    "    ----------\n",
    "    U : NumPy array object of dimension nx1\n",
    "    \n",
    "    Returns\n",
    "    -------\n",
    "    product: float\n",
    "    '''\n",
    "    # Check shape of U\n",
    "    if (U.shape[1] != 1):\n",
    "        print(\"Magnitude only accepts column vectors.\")\n",
    "        return\n",
    "    \n",
    "    magnitude = math.sqrt(DotProduct(U,U))\n",
    "    return magnitude"
   ]
  },
  {
   "cell_type": "markdown",
   "id": "c48ce8f0",
   "metadata": {},
   "source": [
    "**Exercise 2:** Use the $\\texttt{random}$ module of NumPy to generate random $4\\times 1$ vectors $U$, $V$, and $W$, and a random scalar $k$.  Verify the algebraic properties of the dot product listed above.  Try to make use of a conditional statement to check each statement."
   ]
  },
  {
   "cell_type": "markdown",
   "id": "1dd78294",
   "metadata": {},
   "source": [
    "We want to verify that the following equations hold for random $4 \\times 1$ vectors $U, V,$ and $W$ and scalar $k$.\n",
    "1. $U\\cdot V = V\\cdot U$\n",
    "2. $U\\cdot(V + W) = U\\cdot V + U\\cdot W$\n",
    "3. $(kU)\\cdot V = k(U\\cdot V)$\n",
    "4. $U\\cdot U \\ge 0$"
   ]
  },
  {
   "cell_type": "code",
   "execution_count": 6,
   "id": "6e5ba92e",
   "metadata": {},
   "outputs": [
    {
     "name": "stdout",
     "output_type": "stream",
     "text": [
      "[[ 7]\n",
      " [19]\n",
      " [11]\n",
      " [11]] \n",
      "\n",
      "[[8]\n",
      " [0]\n",
      " [6]\n",
      " [1]] \n",
      "\n",
      "[[12]\n",
      " [14]\n",
      " [12]\n",
      " [18]] \n",
      "\n",
      "9 \n",
      "\n",
      "The dot product is commutative. \n",
      "\n",
      "The dot product distributes over vector addition. \n",
      "\n",
      "The dot product is associative with respect to scalar multiplication. \n",
      "\n",
      "The dot product of a vector with itself is greater than or equal to 0 \n",
      "\n"
     ]
    }
   ],
   "source": [
    "U = np.random.randint(20,size=(4,1))\n",
    "V = np.random.randint(20,size=(4,1))\n",
    "W = np.random.randint(20,size=(4,1))\n",
    "k = np.random.randint(20)\n",
    "\n",
    "print(U,'\\n')\n",
    "print(V,'\\n')\n",
    "print(W,'\\n')\n",
    "print(k,'\\n')\n",
    "\n",
    "if (lag.DotProduct(U,V) == lag.DotProduct(V,U)):\n",
    "    print(\"The dot product is commutative. \\n\")\n",
    "if (lag.DotProduct(U,V+W) == lag.DotProduct(U,V) + lag.DotProduct(U,W)):\n",
    "    print(\"The dot product distributes over vector addition. \\n\")\n",
    "if (lag.DotProduct(k*U,V) == k*lag.DotProduct(U,V)):\n",
    "    print(\"The dot product is associative with respect to scalar multiplication. \\n\")\n",
    "if (lag.DotProduct(U,U) >= 0):\n",
    "    print(\"The dot product of a vector with itself is greater than or equal to 0 \\n\")"
   ]
  },
  {
   "cell_type": "markdown",
   "id": "00e420d5",
   "metadata": {},
   "source": [
    "**Exercise 3:** Let $X$ and $Y$ be the following vectors.\n",
    "\n",
    "$$\n",
    "\\begin{equation}\n",
    "X = \\left[ \\begin{array}{r} 3 \\\\ -1 \\\\ 2  \\end{array}\\right] \\hspace{1cm} \n",
    "Y = \\left[ \\begin{array}{r} 4 \\\\ 2 \\\\ 0  \\end{array}\\right] \n",
    "\\end{equation}\n",
    "$$\n",
    "\n",
    "$(a)$ Determine the angle between $X$ and $Y$.  (*You will need the $\\texttt{acos}$ function in Python's $\\texttt{math}$ module.*)"
   ]
  },
  {
   "cell_type": "markdown",
   "id": "7a00fb83",
   "metadata": {},
   "source": [
    "We will use the following equation to determine the angle $\\theta$ between $X$ and $Y$, as well as the $\\texttt{DotProduct}$ and $\\texttt{Magnitude}$ functions.\n",
    "\n",
    "$$\n",
    "\\begin{equation}\n",
    "\\cos{\\theta} = \\frac{X\\cdot Y}{||X||||Y||}\n",
    "\\end{equation}\n",
    "$$"
   ]
  },
  {
   "cell_type": "code",
   "execution_count": 8,
   "id": "df21142e",
   "metadata": {},
   "outputs": [
    {
     "name": "stdout",
     "output_type": "stream",
     "text": [
      "0.9302740141154721\n"
     ]
    }
   ],
   "source": [
    "X = np.array([[3],[-1],[2]])\n",
    "Y = np.array([[4],[2],[0]])\n",
    "print(math.acos((lag.DotProduct(X,Y))/((lag.Magnitude(X))*(lag.Magnitude(Y)))))"
   ]
  },
  {
   "cell_type": "markdown",
   "id": "98d294fb",
   "metadata": {},
   "source": [
    "$(b)$ Find a vector in $\\mathbb{R}^3$ that is orthogonal to the vector $X$.  Verify your answer with a computation."
   ]
  },
  {
   "cell_type": "markdown",
   "id": "a49511fb",
   "metadata": {},
   "source": [
    "Two vectors are **orthogonal** if their dot product is zero. The vector $W$ defined below is an example of a vector that is orthogonal to $X$.\n",
    "\n",
    "$$\n",
    "\\begin{equation}\n",
    "W = \\left[ \\begin{array}{r} 1 \\\\ 3 \\\\ 0  \\end{array}\\right] \n",
    "\\end{equation}\n",
    "$$"
   ]
  },
  {
   "cell_type": "code",
   "execution_count": 38,
   "id": "e18b64bd",
   "metadata": {},
   "outputs": [
    {
     "name": "stdout",
     "output_type": "stream",
     "text": [
      "0.0\n"
     ]
    }
   ],
   "source": [
    "X = np.array([[3],[-1],[2]])\n",
    "W = np.array([[1],[3],[0]])\n",
    "print(lag.DotProduct(X,W))"
   ]
  },
  {
   "cell_type": "markdown",
   "id": "518695fd",
   "metadata": {},
   "source": [
    "$(c)$ Construct a unit vector $Z$ such that $Z\\cdot Y = -||Y||$.  Verify your answer with a computation."
   ]
  },
  {
   "cell_type": "markdown",
   "id": "ddd076c2",
   "metadata": {},
   "source": [
    "First we calculate $-||Y|| = -\\sqrt{4^2 + 2^2 + 0^2} = -2\\sqrt{5}$. If we define the arbitrary vector $Z$ as below, then we see that we need to find values for $z_1, z_2$, and $z_3$ such that $||Z|| = \\sqrt{(z_1)^2 + (z_2)^2 + (z_3)^2} = 1$ and $Z \\cdot Y = 4z_1 + 2z_2 + 0z_3 = -2\\sqrt{5}$.\n",
    "\n",
    "$$\n",
    "\\begin{equation}\n",
    "Z = \\left[ \\begin{array}{r} z_1 \\\\ z_2 \\\\ z_3  \\end{array}\\right] \n",
    "\\end{equation}\n",
    "$$\n",
    "\n",
    "Since $z_3$ contributes nothing to the second sum above, lets set $z_3 = 0$ for simplicities sake. This gives a system of two equations in two unknowns, namely\n",
    "\n",
    "$$\n",
    "\\begin{eqnarray*}\n",
    "4z_1 + 2z_2 & = & -2\\sqrt{5} \\\\\n",
    "z_1^2 + z_2^2 & = & 1 \\\\\n",
    "\\end{eqnarray*}\n",
    "$$\n",
    "\n",
    "Note that we can't solve this system using elimination because the second equation is not linear.  Instead, if we solve for one of the variables in the first equation and substitute into the second, we will be able to use the quadratic formula to find a solution. Solving for $z_2$ in the first equation, we get\n",
    "\n",
    "$$\n",
    "\\begin{eqnarray*}\n",
    "z_2 & = & -\\sqrt{5} - 2z_1 \\\\\n",
    "\\end{eqnarray*}\n",
    "$$\n",
    "\n",
    "Next we substitute this equality in for $z_2$ in our second equation, multiply out and move everything to the left.\n",
    "\n",
    "$$\n",
    "\\begin{eqnarray*}\n",
    "5z_1^2 + 4\\sqrt{5}z_1 + 4 = 0 \\\\\n",
    "\\end{eqnarray*}\n",
    "$$\n",
    "\n",
    "Using the quadratic formula reveals that the two roots of this equation are equal, namely $z_1 = -\\frac{2}{5}\\sqrt{5}$. If we substitute this into the equation above where we had solved for $z_2$, we see that $z_2 = -\\frac{1}{5}\\sqrt{5}$ and thus the vector $Z$ below is a solution to our problem.\n",
    "\n",
    "$$\n",
    "\\begin{equation}\n",
    "Z = \\left[ \\begin{array}{r} -\\frac{2\\sqrt{5}}{5} \\\\ -\\frac{\\sqrt{5}}{5} \\\\ 0  \\end{array}\\right] \n",
    "\\end{equation}\n",
    "$$"
   ]
  },
  {
   "cell_type": "code",
   "execution_count": 47,
   "id": "a06b25e6",
   "metadata": {},
   "outputs": [
    {
     "name": "stdout",
     "output_type": "stream",
     "text": [
      "-4.47213595499958 \n",
      "\n",
      "-4.47213595499958 \n",
      "\n",
      "1.0\n"
     ]
    }
   ],
   "source": [
    "Y = np.array([[4],[2],[0]])\n",
    "Z = np.array([[-2*np.sqrt(5)/5],[-np.sqrt(5)/5],[0]])\n",
    "print(lag.DotProduct(Z,Y),'\\n')\n",
    "print(-lag.Magnitude(Y),'\\n')\n",
    "print(lag.Magnitude(Z))"
   ]
  },
  {
   "cell_type": "markdown",
   "id": "f259903d",
   "metadata": {},
   "source": [
    "**Exercise 4:** Create a Python function named $\\texttt{DifferenceMagnitude}$ which takes two $n \\times 1$ vectors as arguments and returns the magnitude of their difference. Use this function to determine $|| X - Y||$ where vectors $X$ and $Y$ are given below.\n",
    "\n",
    "$$\n",
    "\\begin{equation}\n",
    "X = \\left[ \\begin{array}{r} 3 \\\\ -1 \\\\ 2  \\end{array}\\right] \\hspace{1cm} \n",
    "Y = \\left[ \\begin{array}{r} 4 \\\\ 2 \\\\ 0  \\end{array}\\right] \n",
    "\\end{equation}\n",
    "$$"
   ]
  },
  {
   "cell_type": "code",
   "execution_count": 2,
   "id": "0bebf9ec",
   "metadata": {},
   "outputs": [
    {
     "name": "stdout",
     "output_type": "stream",
     "text": [
      "3.7416573867739413\n"
     ]
    }
   ],
   "source": [
    "# Building the function Difference Magnitude where X and y are two column vectors.\n",
    "\n",
    "def DifferenceMagnitude(X,Y):\n",
    "    Z = X - Y\n",
    "    diffMag = sqrt(lag.DotProduct(Z,Z))\n",
    "    return diffMag\n",
    "\n",
    "X = np.array([[3],[-1],[2]])\n",
    "Y = np.array([[4],[2],[0]])\n",
    "\n",
    "print(DifferenceMagnitude(X,Y))"
   ]
  },
  {
   "cell_type": "markdown",
   "id": "a3eb80d7",
   "metadata": {},
   "source": [
    "We can see from the computations that $||X - Y|| = 3.714$."
   ]
  },
  {
   "cell_type": "markdown",
   "id": "9f3b4318",
   "metadata": {},
   "source": [
    "**Exercise 5:** Create a Python function which takes an $n \\times 1$ vector as its argument and returns the unit vector of the argument vector. Use the NumPy $\\texttt{random}$ module to generate a random $3 \\times 1 $ vector, and test this function on that vector."
   ]
  },
  {
   "cell_type": "code",
   "execution_count": 14,
   "id": "eecb360a",
   "metadata": {},
   "outputs": [
    {
     "name": "stdout",
     "output_type": "stream",
     "text": [
      "X: \n",
      " [[9]\n",
      " [8]\n",
      " [8]] \n",
      "\n",
      "The unit vector of X: \n",
      " [[0.62254302]\n",
      " [0.55337157]\n",
      " [0.55337157]] \n",
      "\n"
     ]
    }
   ],
   "source": [
    "## Creating the UnitVector function\n",
    "\n",
    "def UnitVector(X):\n",
    "    mag = sqrt(lag.DotProduct(X,X))\n",
    "    unitVect = X/mag\n",
    "    \n",
    "    return unitVect\n",
    "\n",
    "## Building a random vector\n",
    "X = np.random.randint(10,size = (3,1))\n",
    "print(\"X: \\n\" , X, '\\n')\n",
    "print(\"The unit vector of X: \\n\", UnitVector(X), '\\n')"
   ]
  },
  {
   "cell_type": "markdown",
   "id": "770afd2a",
   "metadata": {},
   "source": [
    "**Exercise 6:** Find a vector $Y$ in $\\mathbb{R}^2$ such that $X\\cdot Y = ||Y - X||$ where the vector $X$ is given below. Is the vector $Y$ unique ? Verify your answer through a computation.\n",
    "\n",
    "$$\n",
    "\\begin{equation}\n",
    "X = \\left[ \\begin{array}{r} 1 \\\\ 1  \\end{array}\\right] \n",
    "\\end{equation}\n",
    "$$"
   ]
  },
  {
   "cell_type": "markdown",
   "id": "acfd891a",
   "metadata": {},
   "source": [
    "#### Solution:\n",
    "\n",
    "Let us assume that the vector $Y$ in $\\mathbb{R}^2$ is as follows:\n",
    "\n",
    "\n",
    "$$\n",
    "\\begin{equation}\n",
    "Y = \\left[ \\begin{array}{r} a \\\\ b  \\end{array}\\right] \n",
    "\\end{equation}\n",
    "$$\n",
    "\n",
    "\n",
    "where $a$, $b$ are some scalars.\n",
    "\n",
    "\n",
    "So, $$\n",
    "\\begin{equation}\n",
    "Y  - X= \\left[ \\begin{array}{r} a - 1 \\\\ b - 1  \\end{array}\\right] \n",
    "\\end{equation}\n",
    "$$\n",
    "\n",
    "\n",
    "$||Y - X||^2 = (a-1)^2 + (b-1)^2 $\n",
    "\n",
    "$X\\cdot Y = a + b$\n",
    "\n",
    "As $X\\cdot Y = ||Y - X||$ , $(X\\cdot Y)^2 = ||Y - X||^2 $.\n",
    "\n",
    "So, $ (a+b)^2 = (a - 1)^2 + (b-1)^2 $\n",
    "\n",
    "$ a^2 + b^2 + 2ab = a^2 + 1 - 2a + b^2 + 1 - 2b$\n",
    "\n",
    "$ 2ab = 2 - 2a - 2b$\n",
    "\n",
    " $2a + 2b + 2ab = 2$\n",
    "\n",
    "$ a + b + ab = 1$\n",
    "\n",
    "The above equation is true for two possible set of real values of $a$ and $b$. First case is when $a = 0$ and $b = 1$, and second case is when $a = 1$ and $b = 0$.\n",
    "\n",
    "Therefore, we get two possible vectors $Y$ which are as follows:\n",
    "\n",
    "So, $$\n",
    "\\begin{equation}\n",
    "Y = \\left[ \\begin{array}{r} 1 \\\\ 0  \\end{array}\\right] \\hspace{1cm} or \\hspace{1cm}\n",
    "Y = \\left[ \\begin{array}{r} 0 \\\\ 1  \\end{array}\\right]\n",
    "\\end{equation}\n",
    "$$\n",
    "\n",
    "\n",
    "This implies that the vector $Y$ is not unique. We can verify our results in the code cell below."
   ]
  },
  {
   "cell_type": "code",
   "execution_count": 17,
   "id": "b9a5ef45",
   "metadata": {},
   "outputs": [
    {
     "name": "stdout",
     "output_type": "stream",
     "text": [
      "Dot product of X and Y_1 is: \n",
      " 1.0 \n",
      "\n",
      "The magnitude of difference of Y_1 and X is: \n",
      " 1.0 \n",
      "\n",
      "Dot product of X and Y_2 is: \n",
      " 1.0 \n",
      "\n",
      "The magnitude of difference of Y_2 and X is: \n",
      " 1.0 \n",
      "\n"
     ]
    }
   ],
   "source": [
    "# Building vectors X and Y:\n",
    "\n",
    "X = np.array([[1],[1]])\n",
    "Y_1 = np.array([[1],[0]])\n",
    "Y_2 = np.array([[0],[1]])\n",
    "\n",
    "dotProd1 = lag.DotProduct(X, Y_1)\n",
    "dotProd2 = lag.DotProduct(X, Y_2)\n",
    "\n",
    "diffMag1 = DifferenceMagnitude(Y_1, X )\n",
    "diffMag2 = DifferenceMagnitude(Y_2, X)\n",
    "\n",
    "print(\"Dot product of X and Y_1 is: \\n\", dotProd1, '\\n')\n",
    "print(\"The magnitude of difference of Y_1 and X is: \\n\", diffMag1, '\\n')\n",
    "\n",
    "print(\"Dot product of X and Y_2 is: \\n\", dotProd2, '\\n')\n",
    "print(\"The magnitude of difference of Y_2 and X is: \\n\", diffMag2, '\\n')"
   ]
  },
  {
   "cell_type": "markdown",
   "id": "729f18fd",
   "metadata": {},
   "source": [
    "The computations done in the above code cell demonstrate that the vector $Y$ is not unique."
   ]
  },
  {
   "cell_type": "markdown",
   "id": "68972910",
   "metadata": {},
   "source": [
    "**Exercise 7:** Create a Python function named $\\texttt{Angle}$ which takes two vectors as arguments and returns $\\cos{\\theta}$ where ${\\theta}$ is the angle between the two vectors. Use this function to show that vectors $U$ and $W$ are orthogonal.\n",
    "\n",
    "$$\n",
    "\\begin{equation}\n",
    "U = \\left[ \\begin{array}{r} 1 \\\\ -1 \\\\ 2  \\end{array}\\right] \\hspace{1cm} \n",
    "W = \\left[ \\begin{array}{r} 2 \\\\ 0 \\\\ -1  \\end{array}\\right] \n",
    "\\end{equation}\n",
    "$$"
   ]
  },
  {
   "cell_type": "code",
   "execution_count": 18,
   "id": "799fdcc0",
   "metadata": {},
   "outputs": [
    {
     "name": "stdout",
     "output_type": "stream",
     "text": [
      "0.0\n"
     ]
    }
   ],
   "source": [
    "## Building the function Angle\n",
    "\n",
    "def Angle(X,Y):\n",
    "    dotProd = lag.DotProduct(X, Y)\n",
    "    magX = sqrt(lag.DotProduct(X, X))\n",
    "    magY = sqrt(lag.DotProduct(Y, Y))\n",
    "    cos_theta = dotProd/(magX*magY)\n",
    "    \n",
    "    return cos_theta\n",
    "\n",
    "U = np.array([[1],[-1],[2]])\n",
    "W = np.array([[2],[0],[-1]])\n",
    "\n",
    "print(Angle(U, W))"
   ]
  },
  {
   "cell_type": "markdown",
   "id": "072fffc9",
   "metadata": {},
   "source": [
    "We can see that $\\cos{\\theta} = 0$ for vectors $U$ and $W$ which means that $\\theta = 90^{\\circ}$. This implies that $U$ and $W$ are orthogonal vectors."
   ]
  },
  {
   "cell_type": "markdown",
   "id": "74dafd13",
   "metadata": {},
   "source": [
    "**Exercise 8:** Given that $||X+Y|| = 3$, $X\\cdot Y = 2$, find $||X-Y||$."
   ]
  },
  {
   "cell_type": "markdown",
   "id": "b6c8c290",
   "metadata": {},
   "source": [
    "#### Solution:\n",
    "\n",
    "We know that $||X + Y||^2 = (X+Y)\\cdot (X+Y)$\n",
    "\n",
    "$||X + Y||^2 = ||X||^2 + ||Y||^2 + 2X\\cdot Y$\n",
    "\n",
    "Given $||X + Y||$ and $X\\cdot Y$,we can find $||X||^2  + ||Y||^2$ as follows:\n",
    "\n",
    "$ (3)^2 = ||X||^2 + ||Y||^2 + 2(2)$\n",
    "\n",
    "$||X||^2 + ||Y||^2 = 5$\n",
    "\n",
    "Now, $||X - Y||^2 = (X-Y)\\cdot (X-Y)$\n",
    "\n",
    "$||X - Y||^2 = ||X||^2 + ||Y||^2 - 2X\\cdot Y$\n",
    "\n",
    "We can now substitute the values for $||X||^2 + ||Y||^2$ and $X\\cdot Y$ to get:\n",
    "\n",
    "$||X - Y||^2 = 5 - 2(2)$\n",
    "\n",
    "$||X - Y||^2 = 1$\n",
    "\n",
    "Therefore, $||X - Y|| = 1$"
   ]
  },
  {
   "cell_type": "markdown",
   "id": "443a7abb",
   "metadata": {},
   "source": [
    "### Orthogonalization"
   ]
  },
  {
   "cell_type": "markdown",
   "id": "831c5460",
   "metadata": {},
   "source": [
    "**Exercise 4:** Find a vector that is orthogonal to the column space of the matrix $A$.\n",
    "\n",
    "$$\n",
    "\\begin{equation}\n",
    "A = \\left[ \\begin{array}{rr} 1 & 2\\\\ 2 & 0 \\\\ 3 & 1\\end{array}\\right] \n",
    "\\end{equation}\n",
    "$$"
   ]
  },
  {
   "cell_type": "markdown",
   "id": "107b2c67",
   "metadata": {},
   "source": [
    "#### Solution:\n",
    "\n",
    "Since there is a pivot in each column of the matrix $A$, the basis for the column space of $A$ consists of the two column vectors. \n",
    "\n",
    "Let \n",
    "\n",
    "\n",
    "$$\n",
    "\\begin{equation}\n",
    "X_1 = \\left[ \\begin{array}{r} 1 \\\\ 2 \\\\ 3 \\end{array}\\right] \\hspace{1cm}\n",
    "X_2 = \\left[ \\begin{array}{r} 2 \\\\ 0 \\\\ 1 \\end{array}\\right] \n",
    "\\end{equation}\n",
    "$$\n",
    "\n",
    "Then the basis for the column space of $A$ is $\\{X_1,X_2\\}$. Let us consider a vector $Y$ which is orthogonal to vectors $X_1$, $X_2$. This means that $X_1\\cdot Y = 0$ and $X_2\\cdot Y=0$.\n",
    "\n",
    "Let\n",
    "\n",
    "$$\n",
    "\\begin{equation}\n",
    "Y = \\left[ \\begin{array}{r} a \\\\ b \\\\ c \\end{array}\\right] \\hspace{1cm} \n",
    "\\end{equation}\n",
    "$$\n",
    "\n",
    "where $a$, $b$, $c$ are some scalars.\n",
    "\n",
    "The conditions $X_1\\cdot Y = 0$ and $X_2\\cdot Y=0$ gives a system of equations to solve:\n",
    "\n",
    "\n",
    "$$\n",
    "\\begin{eqnarray*}\n",
    "a + 2b + 3c & = & 0\\\\\n",
    "2a\\,\\,\\,\\,\\,\\,\\,\\,\\,\\,\\,\\,\\, + c & = & 0\\\\ \n",
    "\\end{eqnarray*}\n",
    "$$\n",
    "\n",
    "Since $c$ is a free variable we let $c = t$, where $t$ is some real number.  From the above two equations, we can then find the values of $a$ and $b$ in terms of $t$.\n",
    "\n",
    "$a = -t/2$  and $b = -5t/4$.\n",
    "\n",
    "\n",
    "Therefore, the vector $Y$ is as follows:\n",
    "\n",
    "\n",
    "$$\n",
    "\\begin{equation}\n",
    "Y = t\\left[ \\begin{array}{r} -1/2 \\\\ -5/4 \\\\ 1 \\end{array}\\right] \\hspace{1cm} \n",
    "\\end{equation}\n",
    "$$\n",
    "\n",
    "\n",
    "\n",
    "So, one particular vector orthogonal to the column space of $A$ is:\n",
    "\n",
    "\n",
    "$$\n",
    "\\begin{equation}\n",
    "\\left[ \\begin{array}{r} -1/2 \\\\ -5/4 \\\\ 1 \\end{array}\\right] \\hspace{1cm} \n",
    "\\end{equation}\n",
    "$$"
   ]
  },
  {
   "cell_type": "markdown",
   "id": "7b960649",
   "metadata": {},
   "source": [
    "**Exercise 5:** Let $U = \\texttt{Span}\\{v_1,v_2\\}$ where $v_1$, $v_2$ are given below. Perform the Gram-Schimdt orthogonalization to produce an orthonormal basis $\\{u_1,u_2\\}$ for $U$ and verify your answer.\n",
    "\n",
    "\n",
    "$$\n",
    "\\begin{equation}\n",
    "v_1 = \\left[ \\begin{array}{r} 1 \\\\ 1 \\\\ 2 \\end{array}\\right] \\hspace{1cm}\n",
    "v_2 = \\left[ \\begin{array}{r} 2 \\\\ 1 \\\\ 3 \\end{array}\\right] \n",
    "\\end{equation}\n",
    "$$"
   ]
  },
  {
   "cell_type": "markdown",
   "id": "b5fc057d",
   "metadata": {},
   "source": [
    "#### Solution:\n",
    "\n",
    "\n",
    "Let $\\{w_1,w_2\\}$ be an orthogonal basis for $U$. We would first go about producing an orthogonal basis for $U$. We can then scale the orthogonal vectors to produce an orthonormal basis for $U$."
   ]
  },
  {
   "cell_type": "code",
   "execution_count": 16,
   "id": "716fed73",
   "metadata": {},
   "outputs": [
    {
     "name": "stdout",
     "output_type": "stream",
     "text": [
      "w_1: \n",
      " [[1]\n",
      " [1]\n",
      " [2]] \n",
      "\n",
      "w_2:  \n",
      " [[ 0.5]\n",
      " [-0.5]\n",
      " [ 0. ]] \n",
      "\n",
      "u_1: \n",
      " [[0.40824829]\n",
      " [0.40824829]\n",
      " [0.81649658]] \n",
      "\n",
      "u_2: \n",
      " [[ 0.70710678]\n",
      " [-0.70710678]\n",
      " [ 0.        ]] \n",
      "\n",
      "The dot product of u_1 and u_2 is: \n",
      " 0.0 \n",
      "\n",
      "The magnitude of u_1 is: \n",
      " 1.0 \n",
      "\n",
      "The magnitude of u_2 is: \n",
      " 1.0 \n",
      "\n"
     ]
    }
   ],
   "source": [
    "## Generating the orthogonal vectors w_1 and w_2:\n",
    "\n",
    "v_1 = np.array([[1],[1],[2]])\n",
    "v_2 = np.array([[2],[1],[3]])\n",
    "\n",
    "w_1 = v_1 \n",
    "w_2 = v_2 - (lag.DotProduct(w_1, v_2)/lag.DotProduct(w_1, w_1))*w_1\n",
    "\n",
    "print(\"w_1: \\n\", w_1, '\\n')\n",
    "print(\"w_2:  \\n\", w_2, '\\n')\n",
    "\n",
    "# Generating the orthonormal vectors by scaling the orthogonal vectors:\n",
    "\n",
    "u_1 = w_1/sqrt(lag.DotProduct(w_1,w_1))\n",
    "u_2 = w_2/sqrt(lag.DotProduct(w_2,w_2))\n",
    "\n",
    "print(\"u_1: \\n\", u_1, '\\n')\n",
    "print(\"u_2: \\n\", u_2, '\\n')\n",
    "\n",
    "# Verifying that u_1 and u_2 are orthonormal.\n",
    "\n",
    "print(\"The dot product of u_1 and u_2 is: \\n\", lag.DotProduct(u_1,u_2),'\\n')\n",
    "print(\"The magnitude of u_1 is: \\n\", sqrt(lag.DotProduct(u_1,u_1)), '\\n')\n",
    "print(\"The magnitude of u_2 is: \\n\", np.round(sqrt(lag.DotProduct(u_2,u_2)), 2), '\\n')"
   ]
  },
  {
   "cell_type": "markdown",
   "id": "c0ac0747",
   "metadata": {},
   "source": [
    "**Exercise 6:** Let $v$ be a vector in $\\mathbb{R}^4$. Explain why the set of vectors orthogonal to $v$ is a subspace of $\\mathbb{R}^4$."
   ]
  },
  {
   "cell_type": "markdown",
   "id": "1f05fdff",
   "metadata": {},
   "source": [
    "#### Solution:  \n",
    "\n",
    "Let $U$ be the set of all vectors which are orthogonal to the vector $v$. Let us consider two vectors $x$ and $y$ in $U$.\n",
    "\n",
    "The vectors $v$, $x$ and $y$ are as follows:\n",
    "\n",
    "\n",
    "$$\n",
    "\\begin{equation}\n",
    "v = \\left[ \\begin{array}{r} v_1 \\\\ v_2 \\\\ v_3 \\\\ v_4 \\end{array}\\right] \\hspace{1cm}\n",
    "x = \\left[ \\begin{array}{r}  x_1 \\\\ x_2 \\\\ x_3 \\\\ x_4 \\end{array}\\right] \\hspace{1cm}\n",
    "y = \\left[ \\begin{array}{r}  y_1 \\\\ y_2 \\\\ y_3 \\\\ y_4 \\end{array}\\right] \\hspace{1cm}\n",
    "\\end{equation}\n",
    "$$\n",
    "\n",
    "\n",
    "where all the enteries are some scalars.\n",
    "\n",
    "\n",
    "Since vectors $x$ and $y$ are in $U$, the vectors $x$ and $y$ need to be orthogonal to the vector $v$. This basically means that $x\\cdot v = 0$ and $y\\cdot v = 0$.\n",
    "\n",
    "\n",
    "So, $x_1v_1 + x_2v_2 +x_3v_3 + x_4v_4 = 0$ ,\n",
    "\n",
    "$y_1v_1 + y_2v_2 +y_3v_3 + y_4v_4 = 0$.\n",
    "\n",
    "On adding the two equations, we get\n",
    "\n",
    "$(x_1 + y_1)v_1 + (x_2 + y_2)v_2 + (x_3 + y_3)v_3 + (x_4 + y_4)v_4 = 0$\n",
    "\n",
    "The *LHS* is actually the dot product of vector $(x+y)$ with $v$ and since the dot product of vector $(x + y)$ with $v$ equals 0, $(x+y)$ is also in $U$.\n",
    "\n",
    "\n",
    "On multiplying the equation $x_1v_1 + x_2v_2 +x_3v_3 + x_4v_4 = 0$ by $k$ on both sides, we get:\n",
    "\n",
    "\n",
    "$kx_1v_1 + kx_2v_2 + kx_3v_3 + kx_4v_4 = k(0) = 0$\n",
    "\n",
    "The *LHS* of the above equation is basically the dot product of $kx$ and $v$ which also equals zero. Therefore, $kx$ is orthogonal to $v$ and hence, $kx$ is also present in $U$.\n",
    "\n",
    "\n",
    "This imples that for any two vectors $x$ and $y$ in $U$, vectors $(x+y)$ and $kx$ are also present in $U$. This satisfies the condition for a subspace and therefore, $U$ is a subspace of $\\mathbb{R}^4$."
   ]
  },
  {
   "cell_type": "markdown",
   "id": "10c848fc",
   "metadata": {},
   "source": [
    "**Exercise 7:** Given vectors $V$ and $W$, find vectors $X$ and $Y$ such that $X$ is the projection of $V$ in the direction of $W$ and $V = X + Y$. Verify your answer.\n",
    "\n",
    "\n",
    "$$\n",
    "\\begin{equation}\n",
    "V = \\left[ \\begin{array}{r} \n",
    "9\\\\ 5 \\\\ 0 \\end{array}\\right] \\hspace{1cm}\n",
    "W = \\left[ \\begin{array}{r} 3 \\\\ 0 \\\\ 3 \\end{array}\\right] \n",
    "\\end{equation}\n",
    "$$"
   ]
  },
  {
   "cell_type": "code",
   "execution_count": 24,
   "id": "9a5d3852",
   "metadata": {},
   "outputs": [
    {
     "name": "stdout",
     "output_type": "stream",
     "text": [
      "X: \n",
      " [[2.38235294]\n",
      " [0.        ]\n",
      " [3.97058824]] \n",
      "\n",
      "Y: \n",
      " [[ 6.61764706]\n",
      " [ 5.        ]\n",
      " [-3.97058824]] \n",
      "\n",
      "The dot product of X and Y is: \n",
      " 0.0 \n",
      "\n"
     ]
    }
   ],
   "source": [
    "## Building vectors V and W:\n",
    "\n",
    "V = np.array([[9],[5],[0]])\n",
    "W = np.array([[3],[0],[5]])\n",
    "\n",
    "X = (lag.DotProduct(V, W)/lag.DotProduct(W, W))*W\n",
    "Y = V - X\n",
    "\n",
    "print(\"X: \\n\", X, '\\n')\n",
    "print(\"Y: \\n\", Y, '\\n')\n",
    "\n",
    "# Verifying if X and Y are orthogonal to each other.\n",
    "\n",
    "print(\"The dot product of X and Y is: \\n\", np.round(lag.DotProduct(X, Y), 8), '\\n' )"
   ]
  },
  {
   "cell_type": "markdown",
   "id": "5a1fb84a",
   "metadata": {},
   "source": [
    "**Exercise 8:** Let $U$ be a vector space spanned by the columns of $A$. Find an orthonormal basis for $U$ to generate an orthogonal matrix $Q$. Verify that $Q^TQ = I$ where $I$ is the identity matrix.\n",
    "\n",
    "\n",
    "$$\n",
    "\\begin{equation}\n",
    "A = \\left[ \\begin{array}{r} 1 & 2 & -1\\\\ 0 & 2 & 1 \\\\  1 & 1 & 2 \\end{array}\\right]  \n",
    "\\end{equation}\n",
    "$$"
   ]
  },
  {
   "cell_type": "code",
   "execution_count": 18,
   "id": "9b4edcfa",
   "metadata": {},
   "outputs": [
    {
     "name": "stdout",
     "output_type": "stream",
     "text": [
      "A_reduced: \n",
      " [[1. 0. 0.]\n",
      " [0. 1. 0.]\n",
      " [0. 0. 1.]] \n",
      "\n"
     ]
    }
   ],
   "source": [
    "## Building the matrix A\n",
    "\n",
    "A = np.array([[1,2,-1],[0,2,1],[1,1,2]])\n",
    "A_red = lag.FullRowReduction(A)\n",
    "\n",
    "print(\"A_reduced: \\n\", A_red, '\\n')"
   ]
  },
  {
   "cell_type": "markdown",
   "id": "622116f8",
   "metadata": {},
   "source": [
    "We can see from the above code cell that there is a pivot in each column of $A$. Therefore, the column vectors of $A$ are linearly independent. As $U$ is spanned by the columns of $A$ and the columns of $A$ are linearly independent, we can say that the columns of $A$ are a basis for the vector space $U$.\n",
    "\n",
    "Let \n",
    "\n",
    "\n",
    "$$\n",
    "\\begin{equation}\n",
    "x_1 = \\left[ \\begin{array}{r} 1\\\\ 0 \\\\ 1 \\end{array}\\right] \\hspace{1cm}\n",
    "x_2 = \\left[ \\begin{array}{r} 2 \\\\ 2 \\\\ 1 \\end{array}\\right] \\hspace{1cm}\n",
    "x_3 = \\left[ \\begin{array}{r} -1 \\\\ 1 \\\\ 2 \\end{array}\\right] \\hspace{1cm}\n",
    "\\end{equation}\n",
    "$$\n",
    "\n",
    "\n",
    "Then, $U = \\texttt{Span}\\{x_1,x_2,x_3\\}$. Now, we can perform **Gram-Schimdt** orthogonalization on the bases vectors $x_1$, $x_2$, and $x_3$ to get the orthonormal vectors. "
   ]
  },
  {
   "cell_type": "code",
   "execution_count": 19,
   "id": "0ace1968",
   "metadata": {},
   "outputs": [
    {
     "name": "stdout",
     "output_type": "stream",
     "text": [
      "U_1: \n",
      " [[0.70710678]\n",
      " [0.        ]\n",
      " [0.70710678]] \n",
      "\n",
      "U_2: \n",
      " [[ 0.23570226]\n",
      " [ 0.94280904]\n",
      " [-0.23570226]] \n",
      "\n",
      "U_3: \n",
      " [[-0.66666667]\n",
      " [ 0.33333333]\n",
      " [ 0.66666667]] \n",
      "\n",
      "Q: \n",
      " [[ 0.70710678  0.23570226 -0.66666667]\n",
      " [ 0.          0.94280904  0.33333333]\n",
      " [ 0.70710678 -0.23570226  0.66666667]] \n",
      "\n",
      "Q_T@Q: \n",
      " [[ 1. -0. -0.]\n",
      " [-0.  1. -0.]\n",
      " [-0. -0.  1.]] \n",
      "\n",
      "I: \n",
      " [[1. 0. 0.]\n",
      " [0. 1. 0.]\n",
      " [0. 0. 1.]] \n",
      "\n"
     ]
    }
   ],
   "source": [
    "## building the vectors X_1, X_2, X_3:\n",
    "\n",
    "X_1 = np.array([[1],[0],[1]])\n",
    "X_2 = np.array([[2],[2],[1]])\n",
    "X_3 = np.array([[-1],[1],[2]])\n",
    "\n",
    "## Let the orthogonal vectors be W_1, W_2, W_3:\n",
    "\n",
    "W_1 = X_1\n",
    "W_2 = X_2 - (lag.DotProduct(X_2, W_1)/lag.DotProduct(W_1, W_1))*W_1\n",
    "W_3 = X_3 - (lag.DotProduct(X_3, W_1)/lag.DotProduct(W_1, W_1))*W_1 - (lag.DotProduct(X_3, W_2)/lag.DotProduct(W_2, W_2))*W_2\n",
    "\n",
    "## Let the orthonormal vectors be U_1, U_2, U_3\n",
    "\n",
    "U_1 = W_1/sqrt(lag.DotProduct(W_1, W_1))\n",
    "U_2 = W_2/sqrt(lag.DotProduct(W_2, W_2))\n",
    "U_3 = W_3/sqrt(lag.DotProduct(W_3, W_3))\n",
    "\n",
    "\n",
    "print(\"U_1: \\n\", U_1, '\\n')\n",
    "print(\"U_2: \\n\", U_2, '\\n')\n",
    "print(\"U_3: \\n\", U_3, '\\n')\n",
    "\n",
    "## Stacking the orthonormal vectors in a matrix to get the orthogonal matrix Q:\n",
    "\n",
    "Q = np.hstack([U_1,U_2, U_3])\n",
    "print(\"Q: \\n\", Q, '\\n')\n",
    "\n",
    "\n",
    "## Verification:\n",
    "Q_T = np.transpose(Q)\n",
    "I = np.eye(3)\n",
    "\n",
    "\n",
    "print(\"Q_T@Q: \\n\", np.round(Q_T@Q, 8), '\\n')\n",
    "print(\"I: \\n\", I, '\\n')"
   ]
  },
  {
   "cell_type": "markdown",
   "id": "5d3d0adf",
   "metadata": {},
   "source": [
    "In the above code cell, we used **Gram-Schimdt** Orthogonalization to generate a set of orthonormal bases i.e $\\{U_1,U_2,U_3\\}$. Then, we can generate a matrix $Q$ which contains the orthonormal vectors as its columns. We have also verified that $Q^TQ = I$."
   ]
  },
  {
   "cell_type": "markdown",
   "id": "924e7072",
   "metadata": {},
   "source": [
    "**Exercise 9:** Consider two vectors $X$ and $Y$. Given that $Z$ is the projection of $X$ in the direction of $Y$ and $X \\cdot Y = 6$, find $Y$.\n",
    "\n",
    "\n",
    "$$\n",
    "\\begin{equation}\n",
    "X = \\left[ \\begin{array}{r} 2\\\\ 1 \\\\ 1 \\end{array}\\right] \\hspace{1cm}\n",
    "Z = \\left[ \\begin{array}{r} 1 \\\\ 1 \\\\ 0 \\end{array}\\right] \n",
    "\\end{equation}\n",
    "$$"
   ]
  },
  {
   "cell_type": "markdown",
   "id": "4f8286d7",
   "metadata": {},
   "source": [
    "#### Solution:\n",
    "\n",
    "We have been given that the vector $Z$ is in the direction of vector $Y$. Therefore, the angle between the vector $X$ and the vector $Z$ is same as the angle between the vectors $X$ and $Y$. \n",
    "\n",
    "The angle between the vectors $X$ and $Z$ is as follows:\n",
    "\n",
    "$$\n",
    "\\begin{equation}\n",
    "\\cos{\\theta} = \\frac{X\\cdot Z}{||X||||Z||} = \\frac{3}{\\sqrt{2} \\sqrt{6}} = \\frac{\\sqrt{3}}{2}\n",
    "\\end{equation}\n",
    "$$\n",
    "\n",
    "Hence, $\\theta = 30^{\\circ}$ and this is also the angle between vectors $X$ and $Y$.\n",
    "\n",
    "\n",
    "$$\n",
    "\\begin{equation}\n",
    "\\cos{30^{\\circ}} = \\frac{X\\cdot Y}{||X||||Y||} = \\frac{6}{\\sqrt{6}||Y||} = \\frac{\\sqrt{3}}{2}\n",
    "\\end{equation}\n",
    "$$\n",
    "\n",
    "From here, we can get $||Y||$ as follows:\n",
    "\n",
    "\n",
    "$$\n",
    "\\begin{equation}\n",
    "||Y|| = \\frac{2\\sqrt{6}}{\\sqrt{3}} = 2\\sqrt{2}\n",
    "\\end{equation}\n",
    "$$\n",
    "\n",
    "\n",
    "Now, let us find  unit vector in the direction of $Y$. Unit vector in the direction of $Z$ is also the unit vector in the direction of $Y$.\n",
    "\n",
    "$\\hat{Y} =  \\frac{Z}{||Z||}$\n",
    "\n",
    "\n",
    "$$\n",
    "\\begin{equation}\n",
    "\\hat{Y} = \\left[ \\begin{array}{r} \\frac{1}{\\sqrt{2}}\\\\ \\frac{1}{\\sqrt{2}} \\\\ 0 \\end{array}\\right] \n",
    "\\end{equation}\n",
    "$$\n",
    "\n",
    "\n",
    "\n",
    "Therefore, the vector $Y$ is as follows:\n",
    "\n",
    "\n",
    "$$\n",
    "\\begin{equation}\n",
    "Y = \\hat{Y}||Y|| = 2\\sqrt{2}\\left[ \\begin{array}{r} \\frac{1}{\\sqrt{2}}\\\\ \\frac{1}{\\sqrt{2}} \\\\ 0 \\end{array}\\right] =  \n",
    "\\left[ \\begin{array}{r} 2 \\\\ 2 \\\\ 0 \\end{array}\\right] \n",
    "\\end{equation}\n",
    "$$\n"
   ]
  }
 ],
 "metadata": {
  "kernelspec": {
   "display_name": "Python 3",
   "language": "python",
   "name": "python3"
  },
  "language_info": {
   "codemirror_mode": {
    "name": "ipython",
    "version": 3
   },
   "file_extension": ".py",
   "mimetype": "text/x-python",
   "name": "python",
   "nbconvert_exporter": "python",
   "pygments_lexer": "ipython3",
   "version": "3.7.3"
  }
 },
 "nbformat": 4,
 "nbformat_minor": 5
}
