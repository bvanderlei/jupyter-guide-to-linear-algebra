{
 "cells": [
  {
   "cell_type": "markdown",
   "metadata": {},
   "source": [
    "## Applications of Linear Transformations"
   ]
  },
  {
   "cell_type": "markdown",
   "metadata": {},
   "source": [
    "### Computer Graphics\n",
    "\n",
    "Computer graphics essentially consist of a large number of basic geometric shapes such as triangles or quadrilaterals, defined by their vertices (corners).  The ability to manipulate these shapes efficiently is a fundamental necessity in the field of computer graphics.  Linear transformations can be used to generate a complex shapes from a basic shapes through effects such as shearing and reflection, and can also be used to rotatate and translate shapes in order to create a sequence of images needed for an animated scene.\n",
    "\n",
    "The software responsible for rendering three-dimensional scenes in modern video games must process the coordinates of millions of vertices in each frame of animation.  Typical hardware used for running the software will be able to generate around 60 frames per second.  In addition to the placement of vertices in a scene, there are other computations required, such as those to provide color and shading, and then to project the three-dimensional scene onto the two-dimensional screen.  In this context, the efficiency of the alogrithms, software, and hardware all play a major role in the quality of the end result.  \n",
    "\n",
    "The use of matrix multiplication to manipulate coordinates for computer graphics has two primary advantages.  Matrix representations can be used to merge multiple transformations together into a single transformation.  For example, instead of applying a rotation followed by a scaling transformation, the two operations can easily be merged into a single operation by multiplying the associated matrices as we did earlier.  The other advantage to organizing the calculations into matrix multiplications is that dedicated hardware (graphics processing units) is designed specifically to handle these calculations in large numbers.\n",
    "\n",
    "The construction of matrices to carry out rotations, reflections, and shears, has already been demonstrated in [Planar Transformations](Planar_Transformations.ipynb).  Here we show how to use matrix multiplication to carry out a translation, which is not a linear transformation.  "
   ]
  },
  {
   "cell_type": "markdown",
   "metadata": {},
   "source": [
    "#### Translation\n",
    "\n",
    "A **translation** is a transformation that moves all points an equal amount in the same direction.  Shown below is an example where all points are shifted (translated) three units to the right, and one unit up by a transformation $T:\\mathbb{R}^2 \\to \\mathbb{R}^2$.  In the plot, we show several points which define a shape, and their corresponding images under the translation.  "
   ]
  },
  {
   "cell_type": "code",
   "execution_count": 31,
   "metadata": {},
   "outputs": [],
   "source": [
    "%matplotlib inline  \n",
    "import matplotlib.pyplot as plt\n",
    "import numpy as np\n",
    "\n",
    "coords = np.array([[0,0],[0,3],[1,3],[1,1],[2,1],[2,0],[0,0]])\n",
    "coords = coords.transpose()\n",
    "\n",
    "x = coords[0,:]\n",
    "y = coords[1,:]\n",
    "\n",
    "## Compute translation by adding 3 to x coordinates and 1 to y coordinates\n",
    "x_translated =  np.copy(x)\n",
    "y_translated =  np.copy(y)\n",
    "\n",
    "for i in range(x.shape[0]):\n",
    "    x_translated[i] += 3\n",
    "    y_translated[i] += 1"
   ]
  },
  {
   "cell_type": "code",
   "execution_count": 32,
   "metadata": {
    "tags": [
     "hide-input"
    ]
   },
   "outputs": [
    {
     "data": {
      "image/png": "[encoded data removed]",
      "text/plain": [
       "<Figure size 432x288 with 1 Axes>"
      ]
     },
     "metadata": {
      "needs_background": "light"
     },
     "output_type": "display_data"
    }
   ],
   "source": [
    "# Create the figure and axes objects\n",
    "fig, ax = plt.subplots()\n",
    "\n",
    "# Plot the points.\n",
    "ax.plot(x,y,'ro')\n",
    "ax.plot(x_translated,y_translated,'bo')\n",
    "\n",
    "# Connect the points by lines\n",
    "ax.plot(x,y,'r',ls=\"--\")\n",
    "ax.plot(x_translated,y_translated,'b')\n",
    "\n",
    "# Edit some settings \n",
    "ax.axvline(x=0,color=\"k\",ls=\":\")\n",
    "ax.axhline(y=0,color=\"k\",ls=\":\")\n",
    "ax.grid(True)\n",
    "ax.axis([-1,6,-1,6])\n",
    "ax.set_aspect('equal')\n",
    "ax.set_title(\"Translation\");"
   ]
  },
  {
   "cell_type": "markdown",
   "metadata": {},
   "source": [
    "Translation of coordinates is useful in computer graphics, but it is not a linear transformation.  In order to see why, we write a formula for the image of a vector $X$, and then verify that $T(X+Y) \\neq T(X)+T(Y)$ for arbitrary vectors $X$ and $Y$.\n",
    "\n",
    "$$\n",
    "\\begin{equation}\n",
    "T(X) = X + \\left[ \\begin{array}{r} 3 \\\\ 1 \\end{array} \\right]\n",
    "\\end{equation}\n",
    "$$\n",
    "\n",
    "\n",
    "$$\n",
    "\\begin{equation}\n",
    "T(X+Y) = (X + Y) + \\left[ \\begin{array}{r} 3 \\\\ 1 \\end{array} \\right]\n",
    "\\end{equation}\n",
    "$$\n",
    "\n",
    "$$\n",
    "\\begin{equation}\n",
    "T(X) + T(Y) = X + \\left[ \\begin{array}{r} 3 \\\\ 1 \\end{array} \\right] + Y + \\left[ \\begin{array}{r} 3 \\\\ 1 \\end{array} \\right]\n",
    "= (X + Y) + \\left[ \\begin{array}{r} 6 \\\\ 2 \\end{array} \\right]\n",
    "\\end{equation}\n",
    "$$\n",
    "\n",
    "The fact that $T$ is not linear implies that this transformation cannot be represented as a matrix multiplication in its current state."
   ]
  },
  {
   "cell_type": "markdown",
   "metadata": {},
   "source": [
    "Since the use of translations are necessary, a standard method has been developed to incorporate matrix multiplication and the associated advantages.  The method requires that we view $\\mathbb{R}^2$ as a plane within $\\mathbb{R}^3$.  We can then construct a linear transformation $L:\\mathbb{R}^3\\to\\mathbb{R}^3$ which will have the *effect of the translation* within that plane.  We demonstrate the details for the transformation defined above.  \n",
    "\n",
    "First, we associate the coordinates $(x_1,x_2)$ of a point in $\\mathbb{R}^2$ with the coordinates $(x_1,x_2,1)$ of a point in $\\mathbb{R}^3$ in the plane $x_3=1$.  These new coordinates are known as *homogeneous coordinates*.  We can then create a linear transformation $L:\\mathbb{R}^3\\to\\mathbb{R}^3$ that represents a shear that is parallel to the $x_1x_2$-plane, and in the direction of the desired translation.  The effect of $L$ on points in the plane $x_3=1$ is a translation within the $x_3=1$ plane.  We define $L(X)=AX$, where $A$ is the following matrix.\n",
    "\n",
    "$$\n",
    "\\begin{equation}\n",
    "A = \\left[ \\begin{array}{rrr} 1 & 0 & 3 \\\\ 0 & 1 & 1 \\\\ 0 & 0 & 1 \\end{array} \\right]\n",
    "\\end{equation}\n",
    "$$\n",
    "\n",
    "Recall that the columns of $A$ are the images of the standard basis vectors $\\{E_1, E_2, E_3\\}$.  In this case $E_1$ and $E_2$ are unchanged, and $E_3$ is sheared in the desired direction.  We observe that $L$ has the intended effect.\n",
    "\n",
    "\n",
    "$$\n",
    "\\begin{equation}\n",
    "L(X) = AX = \\left[ \\begin{array}{rrr} 1 & 0 & 3 \\\\ 0 & 1 & 1 \\\\ 0 & 0 & 1 \\end{array} \\right]\n",
    "\\left[ \\begin{array}{r} x_1 \\\\ x_2 \\\\ 1 \\end{array} \\right] = \n",
    "\\left[ \\begin{array}{c} x_1+3 \\\\ x_2+1 \\\\ 1 \\end{array} \\right]\n",
    "\\end{equation}\n",
    "$$\n",
    "\n",
    "Finally, we associate with $L(X)$ the point in $\\mathbb{R}^2$ that has coordinates $(x_1+3, x_2+1)$.\n",
    "\n",
    "Let's have a look at the revised calculation with NumPy, that now makes use of the matrix multiplication."
   ]
  },
  {
   "cell_type": "code",
   "execution_count": 7,
   "metadata": {},
   "outputs": [
    {
     "name": "stdout",
     "output_type": "stream",
     "text": [
      "[[1. 1. 1. 1. 1. 1. 1.]]\n",
      "[0 0 1 1 2 2 0]\n",
      "[[0. 0. 1. 1. 2. 2. 0.]\n",
      " [0. 3. 3. 1. 1. 0. 0.]\n",
      " [1. 1. 1. 1. 1. 1. 1.]]\n"
     ]
    }
   ],
   "source": [
    "Ones = np.ones((1,7))\n",
    "print(Ones)\n",
    "print(x)\n",
    "\n",
    "print(coords)"
   ]
  },
  {
   "cell_type": "code",
   "execution_count": null,
   "metadata": {},
   "outputs": [],
   "source": [
    "# Form a matrix of coordinates with rows x, y, 1\n",
    "Ones = np.ones((1,7))\n",
    "coords = np.vstack((x,y,Ones))\n",
    "\n",
    "# Define the matrix for the transfomation L\n",
    "A = np.array([[1,0,3],[0,1,1],[0,0,1]])\n",
    "\n",
    "## Compute translation by matrix multiplication\n",
    "coords_translated = A@coords\n",
    "\n",
    "## Slice off the first and second rows.  These are the coords of the translated points\n",
    "x_translated = coords_translated[0,:]\n",
    "y_translated = coords_translated[1,:]"
   ]
  },
  {
   "cell_type": "code",
   "execution_count": 9,
   "metadata": {
    "tags": [
     "hide-input"
    ]
   },
   "outputs": [
    {
     "data": {
      "image/png": "[encoded data removed]",
      "text/plain": [
       "<Figure size 432x288 with 1 Axes>"
      ]
     },
     "metadata": {
      "needs_background": "light"
     },
     "output_type": "display_data"
    }
   ],
   "source": [
    "# Create the figure and axes objects\n",
    "fig, ax = plt.subplots()\n",
    "\n",
    "# Plot the points.\n",
    "ax.plot(x,y,'ro')\n",
    "ax.plot(x_translated,y_translated,'bo')\n",
    "\n",
    "# Connect the points by lines\n",
    "ax.plot(x,y,'r',ls=\"--\")\n",
    "ax.plot(x_translated,y_translated,'b')\n",
    "\n",
    "# Edit some settings \n",
    "ax.axvline(x=0,color=\"k\",ls=\":\")\n",
    "ax.axhline(y=0,color=\"k\",ls=\":\")\n",
    "ax.grid(True)\n",
    "ax.axis([-1,6,-1,6])\n",
    "ax.set_aspect('equal')\n",
    "ax.set_title(\"Translation\");"
   ]
  },
  {
   "cell_type": "markdown",
   "metadata": {},
   "source": [
    "If we look closely at the computation, we realize that this way of computing the coordinates of the translated shape actually requires *more operations* than the first attempt where we stepped through the array and manipulated the coordinates directly.  The important point to remember however is that the ability to represent the translation as a matrix multiplication means that we can merge it with another operation, such as rotation, in order to carry out both operations by multiplying by a single matrix.\n",
    "\n",
    "Translations of shapes in three dimensions can be done in a simlar way by associating each set of coordinate $(x_1, x_2, x_3)$ in $\\mathbb{R}^3$ with the point $(x_1, x_2, x_3, 1)$ in $\\mathbb{R}^4$."
   ]
  },
  {
   "cell_type": "markdown",
   "metadata": {},
   "source": [
    "### Exercises\n",
    "\n",
    "1. Find a single matrix that represents a transformation that has the effect of a reflection about the line $x_1=x_2$ followed by a shift four units to the left. \n",
    "2. Apply the transformation to the shape defined by $\\texttt{coords}$ and plot the results.\n",
    "3. Find a single matrix that represents a rotation about the point $(1,2)$.  (*Hint:  Make use of a translation to bring the center of rotation to $(0,0)$*.)"
   ]
  },
  {
   "cell_type": "markdown",
   "metadata": {},
   "source": [
    "### References\n",
    "\n",
    "- Kwak, Jin Ho and Sungpyo Hong.  *Linear Algebra*. 2nd ed., Birkhauser., 2004.\n",
    "\n",
    "- Lay, David, et al. *Linear Algebra and its Applications*. 5th ed., Pearson., 2016\n",
    "\n",
    "- John Vince. *Mathematics for Computer Graphics*. 3rd ed., Springer., 2010 "
   ]
  },
  {
   "cell_type": "code",
   "execution_count": null,
   "metadata": {},
   "outputs": [],
   "source": []
  }
 ],
 "metadata": {
  "kernelspec": {
   "display_name": "Python 3",
   "language": "python",
   "name": "python3"
  },
  "language_info": {
   "codemirror_mode": {
    "name": "ipython",
    "version": 3
   },
   "file_extension": ".py",
   "mimetype": "text/x-python",
   "name": "python",
   "nbconvert_exporter": "python",
   "pygments_lexer": "ipython3",
   "version": "3.7.3"
  }
 },
 "nbformat": 4,
 "nbformat_minor": 4
}
