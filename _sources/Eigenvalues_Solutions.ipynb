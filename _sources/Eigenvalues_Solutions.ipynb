{
 "cells": [
  {
   "cell_type": "markdown",
   "id": "40096028",
   "metadata": {},
   "source": [
    "## Eigenvalues"
   ]
  },
  {
   "cell_type": "code",
   "execution_count": 1,
   "id": "207ddd81",
   "metadata": {},
   "outputs": [],
   "source": [
    "import laguide as lag\n",
    "import numpy as np\n",
    "import scipy.linalg as sla\n",
    "%matplotlib inline\n",
    "import matplotlib.pyplot as plt\n",
    "import math"
   ]
  },
  {
   "cell_type": "markdown",
   "id": "9c0b10fd",
   "metadata": {},
   "source": [
    "**Exercise 1:** Determine the eigenvalues and corresponding eigenvectors of the following matrices by considering the transformations that they represent. Check your answers with a few computations.\n",
    "\n",
    "$(a)$\n",
    "\n",
    "$$\n",
    "\\begin{equation}\n",
    "A = \\left[ \\begin{array}{cc} 1 & 0 \\\\ 0 & -3 \\end{array}\\right]\n",
    "\\end{equation}\n",
    "$$\n",
    "\n",
    "**Solution:**\n",
    "\n",
    "Recall from [Chapter 4](Planar_Transformations.ipynb) that applying the transformation represented by $A$ is equivalent to stretching in the direction of the $y$-axis by a factor of 3 and then reflecting over the $y$-axis. If we imagine what this does to vectors in the plane then we might see that any vector that lies on the $x$-axis will be left unaffected. Therefore our first eigenvalue is $\\lambda_1 = 1$ which corresponds to any scalar multiple of our first eigenvector $V_1 = \\begin{equation} \\left[ \\begin{array}{cc} 1 \\\\ 0 \\end{array}\\right] \\end{equation}$. Additionally, any vector that lies on the $y$-axis will simply be scaled by a factor of $-3$. Therefore our second eigenvalue is $\\lambda_2 = -3$ which corresponds to any scalar multiple of our second eigenvector $V_2 = \\begin{equation} \\left[ \\begin{array}{cc} 0 \\\\ 1 \\end{array}\\right] \\end{equation}$."
   ]
  },
  {
   "cell_type": "code",
   "execution_count": 5,
   "id": "998fed9b",
   "metadata": {},
   "outputs": [
    {
     "name": "stdout",
     "output_type": "stream",
     "text": [
      "[[1]\n",
      " [0]] \n",
      "\n",
      "[[ 0]\n",
      " [-3]] \n",
      "\n",
      "[[5]\n",
      " [0]] \n",
      "\n",
      "[[ 1]\n",
      " [-3]] \n",
      "\n",
      "[[0]\n",
      " [0]]\n"
     ]
    }
   ],
   "source": [
    "A = np.array([[1,0],[0,-3]])\n",
    "V1 = np.array([[1],[0]])\n",
    "V2 = np.array([[0],[1]])\n",
    "R = np.array([[5],[0]])\n",
    "S = np.array([[1],[1]])\n",
    "T = np.array([[0],[0]])\n",
    "\n",
    "print(A@V1,'\\n')\n",
    "print(A@V2,'\\n')\n",
    "print(A@R,'\\n')\n",
    "print(A@S,'\\n')\n",
    "print(A@T)"
   ]
  },
  {
   "cell_type": "markdown",
   "id": "49afdb15",
   "metadata": {},
   "source": [
    "$(b)$\n",
    "\n",
    "$$\n",
    "\\begin{equation}\n",
    "B = \\left[ \\begin{array}{cc} 1 & 1 \\\\ 0 & 1 \\end{array}\\right]\n",
    "\\end{equation}\n",
    "$$"
   ]
  },
  {
   "cell_type": "markdown",
   "id": "3ff762a1",
   "metadata": {},
   "source": [
    "**Solutions:**\n",
    "\n",
    "Recall from [Chapter 4](Planar_Transformations.ipynb) that applying the transformation represented by $B$ is equivalent to shearing along the $x$-axis with a shearing factor of 1. Any vector that lies along the $x$-axis will be left unchanged because its $y$-coordinate is 0 and thus adds nothing to $x$-coordinate. Therefore our first eigenvalue is $\\lambda_1 = 1$ which corresponds to any scalar multiple of our first eigenvector $V_1 = \\begin{equation} \\left[ \\begin{array}{cc} 1 \\\\ 0 \\end{array}\\right] \\end{equation}$. Any other vector with a nonzero $y$-coordinate will shear off of its original span, and thus cannot be a scalar multiple of itself. Therefore $V_1$ is the only eigenvalue of $B$."
   ]
  },
  {
   "cell_type": "code",
   "execution_count": 6,
   "id": "373ed00d",
   "metadata": {},
   "outputs": [
    {
     "name": "stdout",
     "output_type": "stream",
     "text": [
      "[[1]\n",
      " [0]] \n",
      "\n",
      "[[1]\n",
      " [1]] \n",
      "\n",
      "[[5]\n",
      " [0]] \n",
      "\n",
      "[[2]\n",
      " [1]] \n",
      "\n",
      "[[0]\n",
      " [0]]\n"
     ]
    }
   ],
   "source": [
    "B = np.array([[1,1],[0,1]])\n",
    "V1 = np.array([[1],[0]])\n",
    "V2 = np.array([[0],[1]])\n",
    "R = np.array([[5],[0]])\n",
    "S = np.array([[1],[1]])\n",
    "T = np.array([[0],[0]])\n",
    "\n",
    "print(B@V1,'\\n')\n",
    "print(B@V2,'\\n')\n",
    "print(B@R,'\\n')\n",
    "print(B@S,'\\n')\n",
    "print(B@T)"
   ]
  },
  {
   "cell_type": "markdown",
   "id": "1f01b50f",
   "metadata": {},
   "source": [
    "$(c)$\n",
    "\n",
    "$$\n",
    "\\begin{equation}\n",
    "C = \\left[ \\begin{array}{cc} cos(\\frac{\\pi}{2}) & -sin(\\frac{\\pi}{2}) \\\\ sin(\\frac{\\pi}{2}) & cos(\\frac{\\pi}{2}) \\end{array}\\right]\n",
    "\\end{equation}\n",
    "$$"
   ]
  },
  {
   "cell_type": "markdown",
   "id": "2c4751f6",
   "metadata": {},
   "source": [
    "**Solution:**\n",
    "\n",
    "Recall from [Chapter 4](Planar_Transformations.ipynb) that applying the transformation represented by $C$ is equivalent to a rotation about the origin by the angle $\\frac{\\pi}{2}$. Any nonzero vector that is transformed by this matrix will be pointing directly perpendicular to its original direction, so cannot lie on its original span. Therefore $C$ has no eigenvalues nor any eigenvectors."
   ]
  },
  {
   "cell_type": "code",
   "execution_count": 15,
   "id": "732123da",
   "metadata": {},
   "outputs": [
    {
     "name": "stdout",
     "output_type": "stream",
     "text": [
      "[[0.]\n",
      " [1.]] \n",
      "\n",
      "[[-1.]\n",
      " [ 0.]] \n",
      "\n",
      "[[0.]\n",
      " [5.]] \n",
      "\n",
      "[[-1.]\n",
      " [ 1.]] \n",
      "\n",
      "[[0.]\n",
      " [0.]]\n"
     ]
    }
   ],
   "source": [
    "C = np.array([[math.cos(math.pi/2),-math.sin(math.pi/2)],[math.sin(math.pi/2),math.cos(math.pi/2)]])\n",
    "V1 = np.array([[1],[0]])\n",
    "V2 = np.array([[0],[1]])\n",
    "R = np.array([[5],[0]])\n",
    "S = np.array([[1],[1]])\n",
    "T = np.array([[0],[0]])\n",
    "\n",
    "print(np.round(C@V1),'\\n')\n",
    "print(np.round(C@V2),'\\n')\n",
    "print(np.round(C@R),'\\n')\n",
    "print(np.round(C@S),'\\n')\n",
    "print(np.round(C@T))"
   ]
  },
  {
   "cell_type": "markdown",
   "id": "b9faa15a",
   "metadata": {},
   "source": [
    "$(d)$\n",
    "\n",
    "$$\n",
    "\\begin{equation}\n",
    "D = \\left[ \\begin{array}{cc} -0.6 & -0.8 \\\\ -0.8 & 0.6 \\end{array}\\right]\n",
    "\\end{equation}\n",
    "$$"
   ]
  },
  {
   "cell_type": "code",
   "execution_count": null,
   "id": "6ca4efac",
   "metadata": {},
   "outputs": [],
   "source": []
  }
 ],
 "metadata": {
  "kernelspec": {
   "display_name": "Python 3",
   "language": "python",
   "name": "python3"
  },
  "language_info": {
   "codemirror_mode": {
    "name": "ipython",
    "version": 3
   },
   "file_extension": ".py",
   "mimetype": "text/x-python",
   "name": "python",
   "nbconvert_exporter": "python",
   "pygments_lexer": "ipython3",
   "version": "3.7.3"
  }
 },
 "nbformat": 4,
 "nbformat_minor": 5
}
