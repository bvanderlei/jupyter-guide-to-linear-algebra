{
 "cells": [
  {
   "cell_type": "markdown",
   "id": "40096028",
   "metadata": {},
   "source": [
    "## Eigenvalues"
   ]
  },
  {
   "cell_type": "code",
   "execution_count": 1,
   "id": "207ddd81",
   "metadata": {},
   "outputs": [],
   "source": [
    "import laguide as lag\n",
    "import numpy as np\n",
    "import scipy.linalg as sla\n",
    "%matplotlib inline\n",
    "import matplotlib.pyplot as plt\n",
    "import math"
   ]
  },
  {
   "cell_type": "markdown",
   "id": "9c0b10fd",
   "metadata": {},
   "source": [
    "**Exercise 1:** Determine the eigenvalues and corresponding eigenvectors of the following matrices by considering the transformations that they represent. Check your answers with a few computations.\n",
    "\n",
    "$(a)$\n",
    "\n",
    "$$\n",
    "\\begin{equation}\n",
    "A = \\left[ \\begin{array}{cc} 1 & 0 \\\\ 0 & -3 \\end{array}\\right]\n",
    "\\end{equation}\n",
    "$$\n",
    "\n",
    "**Solution:**\n",
    "\n",
    "Recall from [Chapter 4](Planar_Transformations.ipynb) that applying the transformation represented by $A$ is equivalent to stretching in the direction of the $y$-axis by a factor of 3 and then reflecting over the $y$-axis. If we imagine what this does to vectors in the plane then we might see that any vector that lies on the $x$-axis will be left unaffected. Therefore our first eigenvalue is $\\lambda_1 = 1$ which corresponds to any scalar multiple of our first eigenvector $V_1 = \\begin{equation} \\left[ \\begin{array}{cc} 1 \\\\ 0 \\end{array}\\right] \\end{equation}$. Additionally, any vector that lies on the $y$-axis will simply be scaled by a factor of $-3$. Therefore our second eigenvalue is $\\lambda_2 = -3$ which corresponds to any scalar multiple of our second eigenvector $V_2 = \\begin{equation} \\left[ \\begin{array}{cc} 0 \\\\ 1 \\end{array}\\right] \\end{equation}$."
   ]
  },
  {
   "cell_type": "code",
   "execution_count": 5,
   "id": "998fed9b",
   "metadata": {},
   "outputs": [
    {
     "name": "stdout",
     "output_type": "stream",
     "text": [
      "[[1]\n",
      " [0]] \n",
      "\n",
      "[[ 0]\n",
      " [-3]] \n",
      "\n",
      "[[5]\n",
      " [0]] \n",
      "\n",
      "[[ 1]\n",
      " [-3]] \n",
      "\n",
      "[[0]\n",
      " [0]]\n"
     ]
    }
   ],
   "source": [
    "A = np.array([[1,0],[0,-3]])\n",
    "V1 = np.array([[1],[0]])\n",
    "V2 = np.array([[0],[1]])\n",
    "R = np.array([[5],[0]])\n",
    "S = np.array([[1],[1]])\n",
    "T = np.array([[0],[0]])\n",
    "\n",
    "print(A@V1,'\\n')\n",
    "print(A@V2,'\\n')\n",
    "print(A@R,'\\n')\n",
    "print(A@S,'\\n')\n",
    "print(A@T)"
   ]
  },
  {
   "cell_type": "markdown",
   "id": "49afdb15",
   "metadata": {},
   "source": [
    "$(b)$\n",
    "\n",
    "$$\n",
    "\\begin{equation}\n",
    "B = \\left[ \\begin{array}{cc} 1 & 1 \\\\ 0 & 1 \\end{array}\\right]\n",
    "\\end{equation}\n",
    "$$"
   ]
  },
  {
   "cell_type": "markdown",
   "id": "3ff762a1",
   "metadata": {},
   "source": [
    "**Solutions:**\n",
    "\n",
    "Recall from [Chapter 4](Planar_Transformations.ipynb) that applying the transformation represented by $B$ is equivalent to shearing along the $x$-axis with a shearing factor of 1. Any vector that lies along the $x$-axis will be left unchanged because its $y$-coordinate is 0 and thus adds nothing to $x$-coordinate. Therefore our first eigenvalue is $\\lambda_1 = 1$ which corresponds to any scalar multiple of our first eigenvector $V_1 = \\begin{equation} \\left[ \\begin{array}{cc} 1 \\\\ 0 \\end{array}\\right] \\end{equation}$. Any other vector with a nonzero $y$-coordinate will shear off of its original span, and thus cannot be a scalar multiple of itself. Therefore $V_1$ is the only eigenvalue of $B$."
   ]
  },
  {
   "cell_type": "code",
   "execution_count": 6,
   "id": "373ed00d",
   "metadata": {},
   "outputs": [
    {
     "name": "stdout",
     "output_type": "stream",
     "text": [
      "[[1]\n",
      " [0]] \n",
      "\n",
      "[[1]\n",
      " [1]] \n",
      "\n",
      "[[5]\n",
      " [0]] \n",
      "\n",
      "[[2]\n",
      " [1]] \n",
      "\n",
      "[[0]\n",
      " [0]]\n"
     ]
    }
   ],
   "source": [
    "B = np.array([[1,1],[0,1]])\n",
    "V1 = np.array([[1],[0]])\n",
    "V2 = np.array([[0],[1]])\n",
    "R = np.array([[5],[0]])\n",
    "S = np.array([[1],[1]])\n",
    "T = np.array([[0],[0]])\n",
    "\n",
    "print(B@V1,'\\n')\n",
    "print(B@V2,'\\n')\n",
    "print(B@R,'\\n')\n",
    "print(B@S,'\\n')\n",
    "print(B@T)"
   ]
  },
  {
   "cell_type": "markdown",
   "id": "1f01b50f",
   "metadata": {},
   "source": [
    "$(c)$\n",
    "\n",
    "$$\n",
    "\\begin{equation}\n",
    "C = \\left[ \\begin{array}{cc} cos(\\frac{\\pi}{2}) & -sin(\\frac{\\pi}{2}) \\\\ sin(\\frac{\\pi}{2}) & cos(\\frac{\\pi}{2}) \\end{array}\\right]\n",
    "\\end{equation}\n",
    "$$"
   ]
  },
  {
   "cell_type": "markdown",
   "id": "2c4751f6",
   "metadata": {},
   "source": [
    "**Solution:**\n",
    "\n",
    "Recall from [Chapter 4](Planar_Transformations.ipynb) that applying the transformation represented by $C$ is equivalent to a rotation about the origin by the angle $\\frac{\\pi}{2}$. Any nonzero vector that is transformed by this matrix will be pointing directly perpendicular to its original direction, so cannot lie on its original span. Therefore $C$ has no eigenvalues nor any eigenvectors."
   ]
  },
  {
   "cell_type": "code",
   "execution_count": 15,
   "id": "732123da",
   "metadata": {},
   "outputs": [
    {
     "name": "stdout",
     "output_type": "stream",
     "text": [
      "[[0.]\n",
      " [1.]] \n",
      "\n",
      "[[-1.]\n",
      " [ 0.]] \n",
      "\n",
      "[[0.]\n",
      " [5.]] \n",
      "\n",
      "[[-1.]\n",
      " [ 1.]] \n",
      "\n",
      "[[0.]\n",
      " [0.]]\n"
     ]
    }
   ],
   "source": [
    "C = np.array([[math.cos(math.pi/2),-math.sin(math.pi/2)],[math.sin(math.pi/2),math.cos(math.pi/2)]])\n",
    "V1 = np.array([[1],[0]])\n",
    "V2 = np.array([[0],[1]])\n",
    "R = np.array([[5],[0]])\n",
    "S = np.array([[1],[1]])\n",
    "T = np.array([[0],[0]])\n",
    "\n",
    "print(np.round(C@V1),'\\n')\n",
    "print(np.round(C@V2),'\\n')\n",
    "print(np.round(C@R),'\\n')\n",
    "print(np.round(C@S),'\\n')\n",
    "print(np.round(C@T))"
   ]
  },
  {
   "cell_type": "markdown",
   "id": "b9faa15a",
   "metadata": {},
   "source": [
    "$(d)$\n",
    "\n",
    "$$\n",
    "\\begin{equation}\n",
    "D = \\left[ \\begin{array}{cc} -0.6 & -0.8 \\\\ -0.8 & 0.6 \\end{array}\\right]\n",
    "\\end{equation}\n",
    "$$"
   ]
  },
  {
   "cell_type": "markdown",
   "id": "af58efa6",
   "metadata": {},
   "source": [
    "### Diagonalization\n",
    "\n",
    "**Exercise 1:** Find the diagonalization of the matrix from **Example 1**.\n",
    "\n",
    "$$\n",
    "\\begin{equation}\n",
    "A = \\left[ \\begin{array}{rr} 2 & -1  \\\\ -1 & 2 \\end{array}\\right]\n",
    "\\end{equation}\n",
    "$$"
   ]
  },
  {
   "cell_type": "markdown",
   "id": "4bbe284c",
   "metadata": {},
   "source": [
    "**Solution:** Recall that $A$ has eigenvalues $\\lambda_1 = 3$ and $\\lambda_2 = 1$, and corresponding eigenvectors $V_1$ and $V_2$ defined below.\n",
    "\n",
    "$$\n",
    "\\begin{equation}\n",
    "V_1 = \\left[ \\begin{array}{r} 1 \\\\ -1 \\end{array}\\right] \\hspace{2cm} V_2 = \\left[ \\begin{array}{r} 1 \\\\ 1 \\end{array}\\right]\n",
    "\\end{equation}\n",
    "$$\n",
    "\n",
    "To find the diagonalization of $A$, we need to find the diagonal matrix $D$ with the eigenvalues of $A$ along its diagonal, and the matrix $S$ which has columns equal to the eigenvectors of $A$. We write them out below, and then verify that $A = SDS^{-1}$.\n",
    "\n",
    "$$\n",
    "\\begin{equation}\n",
    "D = \\left[ \\begin{array}{r} 3 & 0 \\\\ 0 & 1 \\end{array}\\right] \\hspace{2cm} S = \\left[ \\begin{array}{r} 1 & 1 \\\\ -1 & 1 \\end{array}\\right]\n",
    "\\end{equation}\n",
    "$$"
   ]
  },
  {
   "cell_type": "code",
   "execution_count": 3,
   "id": "9fa90402",
   "metadata": {},
   "outputs": [
    {
     "name": "stdout",
     "output_type": "stream",
     "text": [
      "[[0. 0.]\n",
      " [0. 0.]]\n"
     ]
    }
   ],
   "source": [
    "A = np.array([[2,-1],[-1,2]])\n",
    "D = np.array([[3,0],[0,1]])\n",
    "S = np.array([[1,1],[-1,1]])\n",
    "print(A - S@D@lag.Inverse(S))"
   ]
  },
  {
   "cell_type": "markdown",
   "id": "e29df3d0",
   "metadata": {},
   "source": [
    "**Exercise 2:** Find the diagonalization of the following matrix.\n",
    "\n",
    "$$\n",
    "\\begin{equation}\n",
    "B = \\left[ \\begin{array}{rrr} 2 & 0 & 0  \\\\ 3 & -2 & 1 \\\\  1 & 0 & 1\\end{array}\\right]\n",
    "\\end{equation}\n",
    "$$"
   ]
  },
  {
   "cell_type": "markdown",
   "id": "a5bb379a",
   "metadata": {},
   "source": [
    "**Solution:** First we must find the eigenvectors of $B$ and their corresponding eigenvalues. We make use of the $\\texttt{eig}$ function to do this."
   ]
  },
  {
   "cell_type": "code",
   "execution_count": 6,
   "id": "463b3646",
   "metadata": {},
   "outputs": [
    {
     "name": "stdout",
     "output_type": "stream",
     "text": [
      "[-2.+0.j  1.+0.j  2.+0.j] \n",
      "\n",
      "[[0.         0.         0.57735027]\n",
      " [1.         0.31622777 0.57735027]\n",
      " [0.         0.9486833  0.57735027]]\n"
     ]
    }
   ],
   "source": [
    "B = np.array([[2,0,0],[3,-2,1],[1,0,1]])\n",
    "evalues,evectors = sla.eig(B)\n",
    "print(evalues,'\\n')\n",
    "print(evectors)"
   ]
  },
  {
   "cell_type": "markdown",
   "id": "9f732ec7",
   "metadata": {},
   "source": [
    "$S$ is equivalent to the matrix of eigenvectors above, so all we have to do is write out $D$ and then verify that $B = SDS^{-1}$."
   ]
  },
  {
   "cell_type": "code",
   "execution_count": 7,
   "id": "ea0432a9",
   "metadata": {},
   "outputs": [
    {
     "name": "stdout",
     "output_type": "stream",
     "text": [
      "[[0. 0. 0.]\n",
      " [0. 0. 0.]\n",
      " [0. 0. 0.]]\n"
     ]
    }
   ],
   "source": [
    "D = np.array([[-2,0,0],[0,1,0],[0,0,2]])\n",
    "S = evectors\n",
    "print(B - S@D@lag.Inverse(S))"
   ]
  },
  {
   "cell_type": "markdown",
   "id": "966b3e7a",
   "metadata": {},
   "source": [
    "**Exercise 3:** Write a function that accepts an $n\\times n$ matrix $A$ as an argument, and returns the three matrices $S$, $D$, and $S^{-1}$ such that $A=SDS^{-1}$.  Make use of the $\\texttt{eig}$ function in SciPy."
   ]
  },
  {
   "cell_type": "markdown",
   "id": "2def5327",
   "metadata": {},
   "source": [
    "**Solution:** We write a function that finds the diagonalization of an $n \\times n$ matrix $A$ and then test it on the matrix $B$ defined in exercise 2 to check that it works."
   ]
  },
  {
   "cell_type": "code",
   "execution_count": 20,
   "id": "8bac7468",
   "metadata": {},
   "outputs": [
    {
     "name": "stdout",
     "output_type": "stream",
     "text": [
      "[[0.         0.         0.57735027]\n",
      " [1.         0.31622777 0.57735027]\n",
      " [0.         0.9486833  0.57735027]] \n",
      "\n",
      "[[-2.+0.j  0.+0.j  0.+0.j]\n",
      " [ 0.+0.j  1.+0.j  0.+0.j]\n",
      " [ 0.+0.j  0.+0.j  2.+0.j]] \n",
      "\n",
      "[[-0.66666667  1.         -0.33333333]\n",
      " [-1.05409255  0.          1.05409255]\n",
      " [ 1.73205081  0.          0.        ]]\n"
     ]
    }
   ],
   "source": [
    "def Diagonalization(A):\n",
    "    '''\n",
    "    Diagonalization(A)\n",
    "    \n",
    "    Diagonalization takes an nxn matrix A and computes the diagonalization\n",
    "    of A. There is no error checking to ensure that the eigenvectors of A \n",
    "    form a linearly independent set.\n",
    "\n",
    "    Parameters\n",
    "    ----------\n",
    "    A : NumPy array object of dimension nxn\n",
    "\n",
    "    Returns\n",
    "    -------\n",
    "    S :        NumPy array object of dimension nxn\n",
    "    D :        NumPy array object of dimension nxn\n",
    "    S_inverse: Numpy array object of dimension nxn\n",
    "    '''\n",
    "\n",
    "    n = A.shape[0]  # n is number of rows and columns in A\n",
    "    D = np.zeros((3,3),dtype='complex128')\n",
    "    evalues,evectors = sla.eig(A)\n",
    "    \n",
    "    S = evectors\n",
    "    S_inverse = lag.Inverse(S)\n",
    "    \n",
    "    for i in range(0,n,1):\n",
    "        D[i][i] = evalues[i]\n",
    "        \n",
    "    return S,D,S_inverse\n",
    "\n",
    "B = np.array([[2,0,0],[3,-2,1],[1,0,1]])\n",
    "S, D, S_inverse = Diagonalization(B)\n",
    "print(S,'\\n')\n",
    "print(D,'\\n')\n",
    "print(S_inverse)"
   ]
  },
  {
   "cell_type": "markdown",
   "id": "705d9307",
   "metadata": {},
   "source": [
    "**Exercise 4:** Construct a $3\\times 3$ matrix that is not diagonal and has eigenvalues 2, 4, and 10. "
   ]
  },
  {
   "cell_type": "markdown",
   "id": "12daaf45",
   "metadata": {},
   "source": [
    "**Solution:** If we want to construct a matrix $C$ with eigenvalues 2, 4, and 10, then $D$ must be a diagonal matrix with those eigenvalues as its diagonal entries. If we let $S$ be any $3 \\times 3$ non diagonal matrix with linearly independent columns, then $C = SDS^{-1}$ will give us our desired matrix. We define $D$ and $S$ below, calculate $C$, and then check our answer using the $\\texttt{eig}$ function.\n",
    "\n",
    "$$\n",
    "\\begin{equation}\n",
    "D = \\left[ \\begin{array}{rrr} 2 & 0 & 0  \\\\ 0 & 4 & 0 \\\\  0 & 0 & 10\\end{array}\\right] \\hspace{2cm} S = \\left[ \\begin{array}{rrr} 1 & 1 & 0  \\\\ 0 & 1 & 1 \\\\  1 & 0 & 1\\end{array}\\right]\n",
    "\\end{equation}\n",
    "$$"
   ]
  },
  {
   "cell_type": "code",
   "execution_count": 26,
   "id": "a528ab1c",
   "metadata": {},
   "outputs": [
    {
     "name": "stdout",
     "output_type": "stream",
     "text": [
      "[[ 3.  1. -1.]\n",
      " [-3.  7.  3.]\n",
      " [-4.  4.  6.]] \n",
      "\n",
      "[10.+0.j  2.+0.j  4.+0.j]\n"
     ]
    }
   ],
   "source": [
    "D = np.array([[2,0,0],[0,4,0],[0,0,10]])\n",
    "S = np.array([[1,1,0],[0,1,1],[1,0,1]])\n",
    "C = S@D@lag.Inverse(S)\n",
    "\n",
    "print(C,'\\n')\n",
    "\n",
    "evalues,evectors = sla.eig(C)\n",
    "print(evalues)"
   ]
  },
  {
   "cell_type": "markdown",
   "id": "4ec59855",
   "metadata": {},
   "source": [
    "The eigenvalues determined by $\\texttt{eig}$ appear in a different order than we had originally, but are correct."
   ]
  },
  {
   "cell_type": "markdown",
   "id": "b47bc44f",
   "metadata": {},
   "source": [
    "**Exercise 5:** Suppose that $C = QDQ^{-1}$ where\n",
    "\n",
    "$$\n",
    "\\begin{equation}\n",
    "Q = \\left[ \\begin{array}{c|c|c} & & \\\\ U & V & W \\\\ & & \\end{array} \\right] \\hspace{2cm} D = \\left[ \\begin{array}{rrr} 0 & 0 & 0  \\\\ 0 & 3 & 0 \\\\  0 & 0 & 5 \\end{array}\\right]\n",
    "\\end{equation}\n",
    "$$\n",
    "\n",
    "$(a)$ Give a basis for $\\mathcal{N}(C)$\n",
    "\n",
    "$(b)$ Find all the solutions to $CX = V + W$"
   ]
  },
  {
   "cell_type": "code",
   "execution_count": 1,
   "id": "6ca4efac",
   "metadata": {},
   "outputs": [],
   "source": [
    "## Code solution here."
   ]
  }
 ],
 "metadata": {
  "kernelspec": {
   "display_name": "Python 3",
   "language": "python",
   "name": "python3"
  },
  "language_info": {
   "codemirror_mode": {
    "name": "ipython",
    "version": 3
   },
   "file_extension": ".py",
   "mimetype": "text/x-python",
   "name": "python",
   "nbconvert_exporter": "python",
   "pygments_lexer": "ipython3",
   "version": "3.7.3"
  }
 },
 "nbformat": 4,
 "nbformat_minor": 5
}
