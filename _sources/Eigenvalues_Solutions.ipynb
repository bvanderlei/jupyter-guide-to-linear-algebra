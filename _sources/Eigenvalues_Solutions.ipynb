{
 "cells": [
  {
   "cell_type": "markdown",
   "id": "40096028",
   "metadata": {},
   "source": [
    "## Eigenvalues"
   ]
  },
  {
   "cell_type": "code",
   "execution_count": 1,
   "id": "207ddd81",
   "metadata": {},
   "outputs": [],
   "source": [
    "import laguide as lag\n",
    "import numpy as np\n",
    "import scipy.linalg as sla\n",
    "%matplotlib inline\n",
    "import matplotlib.pyplot as plt\n",
    "import math"
   ]
  },
  {
   "cell_type": "markdown",
   "id": "9c0b10fd",
   "metadata": {},
   "source": [
    "**Exercise 1:** Determine the eigenvalues and corresponding eigenvectors of the following matrices by considering the transformations that they represent. Check your answers with a few computations.\n",
    "\n",
    "$(a)$\n",
    "\n",
    "$$\n",
    "\\begin{equation}\n",
    "A = \\left[ \\begin{array}{cc} 1 & 0 \\\\ 0 & -3 \\end{array}\\right]\n",
    "\\end{equation}\n",
    "$$\n",
    "\n",
    "**Solution:**\n",
    "\n",
    "Recall from [Chapter 4](Planar_Transformations.ipynb) that applying the transformation represented by $A$ is equivalent to stretching in the direction of the $y$-axis by a factor of 3 and then reflecting over the $y$-axis. If we imagine what this does to vectors in the plane then we might see that any vector that lies on the $x$-axis will be left unaffected. Therefore our first eigenvalue is $\\lambda_1 = 1$ which corresponds to any scalar multiple of our first eigenvector $V_1 = \\begin{equation} \\left[ \\begin{array}{cc} 1 \\\\ 0 \\end{array}\\right] \\end{equation}$. Additionally, any vector that lies on the $y$-axis will simply be scaled by a factor of $-3$. Therefore our second eigenvalue is $\\lambda_2 = -3$ which corresponds to any scalar multiple of our second eigenvector $V_2 = \\begin{equation} \\left[ \\begin{array}{cc} 0 \\\\ 1 \\end{array}\\right] \\end{equation}$."
   ]
  },
  {
   "cell_type": "code",
   "execution_count": 5,
   "id": "998fed9b",
   "metadata": {},
   "outputs": [
    {
     "name": "stdout",
     "output_type": "stream",
     "text": [
      "[[1]\n",
      " [0]] \n",
      "\n",
      "[[ 0]\n",
      " [-3]] \n",
      "\n",
      "[[5]\n",
      " [0]] \n",
      "\n",
      "[[ 1]\n",
      " [-3]] \n",
      "\n",
      "[[0]\n",
      " [0]]\n"
     ]
    }
   ],
   "source": [
    "A = np.array([[1,0],[0,-3]])\n",
    "V1 = np.array([[1],[0]])\n",
    "V2 = np.array([[0],[1]])\n",
    "R = np.array([[5],[0]])\n",
    "S = np.array([[1],[1]])\n",
    "T = np.array([[0],[0]])\n",
    "\n",
    "print(A@V1,'\\n')\n",
    "print(A@V2,'\\n')\n",
    "print(A@R,'\\n')\n",
    "print(A@S,'\\n')\n",
    "print(A@T)"
   ]
  },
  {
   "cell_type": "markdown",
   "id": "49afdb15",
   "metadata": {},
   "source": [
    "$(b)$\n",
    "\n",
    "$$\n",
    "\\begin{equation}\n",
    "B = \\left[ \\begin{array}{cc} 1 & 1 \\\\ 0 & 1 \\end{array}\\right]\n",
    "\\end{equation}\n",
    "$$"
   ]
  },
  {
   "cell_type": "markdown",
   "id": "3ff762a1",
   "metadata": {},
   "source": [
    "**Solutions:**\n",
    "\n",
    "Recall from [Chapter 4](Planar_Transformations.ipynb) that applying the transformation represented by $B$ is equivalent to shearing along the $x$-axis with a shearing factor of 1. Any vector that lies along the $x$-axis will be left unchanged because its $y$-coordinate is 0 and thus adds nothing to $x$-coordinate. Therefore our first eigenvalue is $\\lambda_1 = 1$ which corresponds to any scalar multiple of our first eigenvector $V_1 = \\begin{equation} \\left[ \\begin{array}{cc} 1 \\\\ 0 \\end{array}\\right] \\end{equation}$. Any other vector with a nonzero $y$-coordinate will shear off of its original span, and thus cannot be a scalar multiple of itself. Therefore $V_1$ is the only eigenvalue of $B$."
   ]
  },
  {
   "cell_type": "code",
   "execution_count": 6,
   "id": "373ed00d",
   "metadata": {},
   "outputs": [
    {
     "name": "stdout",
     "output_type": "stream",
     "text": [
      "[[1]\n",
      " [0]] \n",
      "\n",
      "[[1]\n",
      " [1]] \n",
      "\n",
      "[[5]\n",
      " [0]] \n",
      "\n",
      "[[2]\n",
      " [1]] \n",
      "\n",
      "[[0]\n",
      " [0]]\n"
     ]
    }
   ],
   "source": [
    "B = np.array([[1,1],[0,1]])\n",
    "V1 = np.array([[1],[0]])\n",
    "V2 = np.array([[0],[1]])\n",
    "R = np.array([[5],[0]])\n",
    "S = np.array([[1],[1]])\n",
    "T = np.array([[0],[0]])\n",
    "\n",
    "print(B@V1,'\\n')\n",
    "print(B@V2,'\\n')\n",
    "print(B@R,'\\n')\n",
    "print(B@S,'\\n')\n",
    "print(B@T)"
   ]
  },
  {
   "cell_type": "markdown",
   "id": "1f01b50f",
   "metadata": {},
   "source": [
    "$(c)$\n",
    "\n",
    "$$\n",
    "\\begin{equation}\n",
    "C = \\left[ \\begin{array}{cc} cos(\\frac{\\pi}{2}) & -sin(\\frac{\\pi}{2}) \\\\ sin(\\frac{\\pi}{2}) & cos(\\frac{\\pi}{2}) \\end{array}\\right]\n",
    "\\end{equation}\n",
    "$$"
   ]
  },
  {
   "cell_type": "markdown",
   "id": "2c4751f6",
   "metadata": {},
   "source": [
    "**Solution:**\n",
    "\n",
    "Recall from [Chapter 4](Planar_Transformations.ipynb) that applying the transformation represented by $C$ is equivalent to a rotation about the origin by the angle $\\frac{\\pi}{2}$. Any nonzero vector that is transformed by this matrix will be pointing directly perpendicular to its original direction, so cannot lie on its original span. Therefore $C$ has no eigenvalues nor any eigenvectors."
   ]
  },
  {
   "cell_type": "code",
   "execution_count": 15,
   "id": "732123da",
   "metadata": {},
   "outputs": [
    {
     "name": "stdout",
     "output_type": "stream",
     "text": [
      "[[0.]\n",
      " [1.]] \n",
      "\n",
      "[[-1.]\n",
      " [ 0.]] \n",
      "\n",
      "[[0.]\n",
      " [5.]] \n",
      "\n",
      "[[-1.]\n",
      " [ 1.]] \n",
      "\n",
      "[[0.]\n",
      " [0.]]\n"
     ]
    }
   ],
   "source": [
    "C = np.array([[math.cos(math.pi/2),-math.sin(math.pi/2)],[math.sin(math.pi/2),math.cos(math.pi/2)]])\n",
    "V1 = np.array([[1],[0]])\n",
    "V2 = np.array([[0],[1]])\n",
    "R = np.array([[5],[0]])\n",
    "S = np.array([[1],[1]])\n",
    "T = np.array([[0],[0]])\n",
    "\n",
    "print(np.round(C@V1),'\\n')\n",
    "print(np.round(C@V2),'\\n')\n",
    "print(np.round(C@R),'\\n')\n",
    "print(np.round(C@S),'\\n')\n",
    "print(np.round(C@T))"
   ]
  },
  {
   "cell_type": "markdown",
   "id": "b9faa15a",
   "metadata": {},
   "source": [
    "$(d)$\n",
    "\n",
    "$$\n",
    "\\begin{equation}\n",
    "D = \\left[ \\begin{array}{cc} -0.6 & -0.8 \\\\ -0.8 & 0.6 \\end{array}\\right]\n",
    "\\end{equation}\n",
    "$$\n",
    "\n",
    "**Solution:** If we plot a shape before and after applying this transformation, it appears that this matrix reflects over the line $y=-2x$."
   ]
  },
  {
   "cell_type": "code",
   "execution_count": 12,
   "id": "397e3ec5",
   "metadata": {},
   "outputs": [
    {
     "data": {
      "image/png": "[encoded data removed]",
      "text/plain": [
       "<Figure size 432x288 with 1 Axes>"
      ]
     },
     "metadata": {
      "needs_background": "light"
     },
     "output_type": "display_data"
    }
   ],
   "source": [
    "coords = np.array([[0,0],[1,0],[1,1],[0,1],[0,0]])\n",
    "coords = coords.transpose()\n",
    "D = np.array([[-0.6,-0.8],[-0.8,0.6]])\n",
    "D_coords = D@coords\n",
    "\n",
    "x = coords[0,:]\n",
    "y = coords[1,:]\n",
    "x_LT = D_coords[0,:]\n",
    "y_LT = D_coords[1,:]\n",
    "\n",
    "# Create the figure and axes objects\n",
    "fig, ax = plt.subplots()\n",
    "\n",
    "# Plot the points and the line y = -2x. x and y are original vectors, x_LT and y_LT are images\n",
    "ax.plot(x,y,'ro')\n",
    "ax.plot(x_LT,y_LT,'bo')\n",
    "a=np.linspace(-2,2,100)\n",
    "ax.plot(a,-2*a,ls=':')\n",
    "\n",
    "# Connect the points by lines\n",
    "ax.plot(x,y,'r',ls=\"--\")\n",
    "ax.plot(x_LT,y_LT,'b')\n",
    "\n",
    "# Edit some settings \n",
    "ax.axvline(x=0,color=\"k\",ls=\":\")\n",
    "ax.axhline(y=0,color=\"k\",ls=\":\")\n",
    "ax.grid(True)\n",
    "ax.axis([-2,2,-1,2])\n",
    "ax.set_aspect('equal')"
   ]
  },
  {
   "cell_type": "markdown",
   "id": "280f3515",
   "metadata": {},
   "source": [
    "Any vector that lies on the line $y = -2x$ will be left unchanged, so our first eigenvalue is $\\lambda_1 = 1$ which corresponds to any scalar multiple of our first eigenvector $V_1 = \\begin{equation} \\left[ \\begin{array}{cc} 1 \\\\ -2 \\end{array}\\right] \\end{equation}$. Any vector that lies on the line orthogonal to the first, namely $y = \\frac{1}{2}x$ will be simply flipped in direction, or in other words scaled by a factor of $-1$. Thus our second eigenvalue is $\\lambda_2 = -1$ which corresponds to any scalar multiple of our second eigenvector $V_2 = \\begin{equation} \\left[ \\begin{array}{cc} 2 \\\\ 1 \\end{array}\\right] \\end{equation}$."
   ]
  },
  {
   "cell_type": "code",
   "execution_count": 14,
   "id": "686c6cda",
   "metadata": {},
   "outputs": [
    {
     "name": "stdout",
     "output_type": "stream",
     "text": [
      "[[ 1.]\n",
      " [-2.]] \n",
      "\n",
      "[[-2.]\n",
      " [-1.]] \n",
      "\n",
      "[[-3.]\n",
      " [-4.]] \n",
      "\n",
      "[[-1.4]\n",
      " [-0.2]] \n",
      "\n",
      "[[0.]\n",
      " [0.]]\n"
     ]
    }
   ],
   "source": [
    "D = np.array([[-0.6,-0.8],[-0.8,0.6]])\n",
    "V1 = np.array([[1],[-2]])\n",
    "V2 = np.array([[2],[1]])\n",
    "R = np.array([[5],[0]])\n",
    "S = np.array([[1],[1]])\n",
    "T = np.array([[0],[0]])\n",
    "\n",
    "print(D@V1,'\\n')\n",
    "print(D@V2,'\\n')\n",
    "print(D@R,'\\n')\n",
    "print(D@S,'\\n')\n",
    "print(D@T)"
   ]
  },
  {
   "cell_type": "markdown",
   "id": "d579e515",
   "metadata": {},
   "source": [
    "**Exercise 2:** Find the eigenvalues and the corresponding eigenvectors of the following matrix $R$ that represents the reflection transformation about the line $ x_1 = x_2 $.\n",
    "\n",
    "\n",
    "$$\n",
    "\\begin{equation}\n",
    "R = \\left[ \\begin{array}{cc} 0 & 1 \\\\ 1 & 0 \\end{array}\\right]\n",
    "\\end{equation}\n",
    "$$"
   ]
  },
  {
   "cell_type": "markdown",
   "id": "4add84d3",
   "metadata": {},
   "source": [
    "**Solution:**  \n",
    "\n",
    "Let us consider the vector $ V_1$ as follows:\n",
    "\n",
    "\n",
    "$$\n",
    "\\begin{equation}\n",
    "V_1 = \\left[ \\begin{array}{r} 1  \\\\ 1 \\end{array}\\right] \\hspace{1cm}\n",
    "\\end{equation}\n",
    "$$\n",
    "\n",
    "We can see that $ RV_1 = V_1$. So, $\\lambda_1 = 1$ is one of the eigenvalues of $R$. \n",
    "\n",
    "Similarly, let us consider the vector $V_2$ as follows:\n",
    "\n",
    "$$\n",
    "\\begin{equation}\n",
    "V_2 = \\left[ \\begin{array}{r} -1 \\\\ 1 \\end{array}\\right] \\hspace{1cm}\n",
    "\\end{equation}\n",
    "$$\n",
    "\n",
    "We observe that $RV_2 = -V_2$. \n",
    "\n",
    "So, $\\lambda_2 = -1$ is another eigenvalue of $R$.\n",
    "\n",
    "Therefore, we can say that there are two eigenvalues of the matrix $R$ i.e $\\lambda_1 = 1$, $\\lambda_2 = -1$. The vector $V_1$ and all its scalar multiples are eigenvectors associated with $\\lambda_1$, $V_2$ and all its scalar multiples are eigenvectors associated with $\\lambda_2$."
   ]
  },
  {
   "cell_type": "code",
   "execution_count": 3,
   "id": "34d4dbc8",
   "metadata": {},
   "outputs": [
    {
     "name": "stdout",
     "output_type": "stream",
     "text": [
      "RV_1: \n",
      " [[1]\n",
      " [1]] \n",
      "\n",
      "RV_2: \n",
      " [[-1]\n",
      " [ 1]] \n",
      "\n"
     ]
    }
   ],
   "source": [
    "## Building matrix R and vectors V_1,V_2:\n",
    "\n",
    "V_1 = np.array([[1],[1]])\n",
    "V_2 = np.array([[1],[-1]])\n",
    "R = np.array([[0,1],[1,0]])\n",
    "\n",
    "print(\"RV_1: \\n\", R@V_1, '\\n')\n",
    "print(\"RV_2: \\n\", R@V_2, '\\n')"
   ]
  },
  {
   "cell_type": "markdown",
   "id": "9578b888",
   "metadata": {},
   "source": [
    "**Exercise 3:** Find a matrix that represents a vertical and horizontal stretch by a factor of $2$. Then, find the eigenvalues and the eigenvectors associated with those eigenvalues. (You may have to take a look at the Planar Transformations section  [Planar Transformations](Planar_Transformations.ipynb))."
   ]
  },
  {
   "cell_type": "markdown",
   "id": "164b68f7",
   "metadata": {},
   "source": [
    "**Solution:**\n",
    "\n",
    "Based on our discussion on Planar Transformations, the matrix that represents a vertical stretch and horizontal stretch is as follows:\n",
    "\n",
    "\n",
    "$$\n",
    "\\begin{equation}\n",
    "A = \\left[ \\begin{array}{cc} 2 & 0 \\\\ 0 & 2 \\end{array}\\right]\n",
    "\\end{equation}\n",
    "$$\n",
    "\n",
    "Since the effect of the transformation is to scale all vectors by a factor of $2$, *all vectors* are eigenvectors of the matrix $A$.  \n",
    "\n",
    "Let us consider the vector $V_1$ as an example.\n",
    "\n",
    "\n",
    "$$\n",
    "\\begin{equation}\n",
    "V_1 = \\left[ \\begin{array}{r} 1  \\\\ 1 \\end{array}\\right] \\hspace{1cm}\n",
    "\\end{equation}\n",
    "$$\n",
    "\n",
    "We can see that $AV_1 = 2V_1$.  The only eigenvalue of $A$ is $2$.\n"
   ]
  },
  {
   "cell_type": "code",
   "execution_count": 4,
   "id": "7959e367",
   "metadata": {},
   "outputs": [
    {
     "name": "stdout",
     "output_type": "stream",
     "text": [
      "AV_1: \n",
      " [[2]\n",
      " [2]] \n",
      "\n",
      "AV_2: \n",
      " [[2]\n",
      " [0]] \n",
      "\n"
     ]
    }
   ],
   "source": [
    "## building matrix A and vectors V_1, V_2:\n",
    "\n",
    "A = np.array([[2,0],[0,2]])\n",
    "V_1 = np.array([[1],[1]])\n",
    "V_2 = np.array([[1],[0]])\n",
    "\n",
    "print(\"AV_1: \\n\", A@V_1, '\\n')\n",
    "print(\"AV_2: \\n\", A@V_2, '\\n')"
   ]
  },
  {
   "cell_type": "markdown",
   "id": "18732f50",
   "metadata": {},
   "source": [
    "**Exercise 4:** Find a matrix that represents reflection about the $x_1-$axis and find its eigenvalues and eigenvectors."
   ]
  },
  {
   "cell_type": "markdown",
   "id": "5126dc78",
   "metadata": {},
   "source": [
    "**Solution:**\n",
    "\n",
    "Based on our discussion on Planar Transformations, the matrix that represents reflection about the $x_1$ -axis is as follows:\n",
    "\n",
    "\n",
    "$$\n",
    "\\begin{equation}\n",
    "B = \\left[ \\begin{array}{cc} 1 & 0 \\\\ 0 & -1 \\end{array}\\right]\n",
    "\\end{equation}\n",
    "$$\n",
    "\n",
    "\n",
    "Let us consider the vector $V_1$ as follows:\n",
    "\n",
    "\n",
    "$$\n",
    "\\begin{equation}\n",
    "V_1 = \\left[ \\begin{array}{r} 1  \\\\ 0 \\end{array}\\right] \\hspace{1cm}\n",
    "\\end{equation}\n",
    "$$\n",
    "\n",
    "\n",
    "Since $BV_1 = V_1$, one of the eigenvalues of the matrix $B$ is $\\lambda_1  = 1$ and $V_1$ is the eigenvector associated with $\\lambda_1$. Infact, all the scalar multiples of $V_1$ are also eigenvectors associated with $\\lambda_1$.\n",
    "\n",
    "\n",
    "Now, let us consider another vector $V_2$ as follows:\n",
    "\n",
    "\n",
    "$$\n",
    "\\begin{equation}\n",
    "V_2 = \\left[ \\begin{array}{r} 0  \\\\ 1 \\end{array}\\right] \\hspace{1cm}\n",
    "\\end{equation}\n",
    "$$\n",
    "\n",
    "Since $BV_2 = -V_2$, other eigenvalue for the matrix $B$ will be $\\lambda_2 =-1$ and $V_2$ is the eigenvector associated with $\\lambda_2$. All the scalar multiples of $V_2$ are also eigenvectors associated with $\\lambda_2$.                                      "
   ]
  },
  {
   "cell_type": "code",
   "execution_count": 6,
   "id": "55dd8bb5",
   "metadata": {},
   "outputs": [
    {
     "name": "stdout",
     "output_type": "stream",
     "text": [
      "BV_1: \n",
      " [[1]\n",
      " [0]] \n",
      "\n",
      "BV_2: \n",
      " [[ 0]\n",
      " [-1]] \n",
      "\n"
     ]
    }
   ],
   "source": [
    "## Building the matrix B and the vectors V_1, V_2:\n",
    "\n",
    "B = np.array([[1,0],[0,-1]])\n",
    "V_1 = np.array([[1],[0]])\n",
    "V_2 = np.array([[0],[1]])\n",
    "\n",
    "print(\"BV_1: \\n\", B@V_1, '\\n')\n",
    "print(\"BV_2: \\n\", B@V_2, '\\n')"
   ]
  },
  {
   "cell_type": "markdown",
   "id": "af58efa6",
   "metadata": {},
   "source": [
    "### Diagonalization\n",
    "\n",
    "**Exercise 1:** Find the diagonalization of the matrix from **Example 1**.\n",
    "\n",
    "$$\n",
    "\\begin{equation}\n",
    "A = \\left[ \\begin{array}{rr} 2 & -1  \\\\ -1 & 2 \\end{array}\\right]\n",
    "\\end{equation}\n",
    "$$"
   ]
  },
  {
   "cell_type": "markdown",
   "id": "4bbe284c",
   "metadata": {},
   "source": [
    "**Solution:** Recall that $A$ has eigenvalues $\\lambda_1 = 3$ and $\\lambda_2 = 1$, and corresponding eigenvectors $V_1$ and $V_2$ defined below.\n",
    "\n",
    "$$\n",
    "\\begin{equation}\n",
    "V_1 = \\left[ \\begin{array}{r} 1 \\\\ -1 \\end{array}\\right] \\hspace{2cm} V_2 = \\left[ \\begin{array}{r} 1 \\\\ 1 \\end{array}\\right]\n",
    "\\end{equation}\n",
    "$$\n",
    "\n",
    "To find the diagonalization of $A$, we need to find the diagonal matrix $D$ with the eigenvalues of $A$ along its diagonal, and the matrix $S$ which has columns equal to the eigenvectors of $A$. We write them out below, and then verify that $A = SDS^{-1}$.\n",
    "\n",
    "$$\n",
    "\\begin{equation}\n",
    "D = \\left[ \\begin{array}{r} 3 & 0 \\\\ 0 & 1 \\end{array}\\right] \\hspace{2cm} S = \\left[ \\begin{array}{r} 1 & 1 \\\\ -1 & 1 \\end{array}\\right]\n",
    "\\end{equation}\n",
    "$$"
   ]
  },
  {
   "cell_type": "code",
   "execution_count": 3,
   "id": "9fa90402",
   "metadata": {},
   "outputs": [
    {
     "name": "stdout",
     "output_type": "stream",
     "text": [
      "[[0. 0.]\n",
      " [0. 0.]]\n"
     ]
    }
   ],
   "source": [
    "A = np.array([[2,-1],[-1,2]])\n",
    "D = np.array([[3,0],[0,1]])\n",
    "S = np.array([[1,1],[-1,1]])\n",
    "print(A - S@D@lag.Inverse(S))"
   ]
  },
  {
   "cell_type": "markdown",
   "id": "e29df3d0",
   "metadata": {},
   "source": [
    "**Exercise 2:** Find the diagonalization of the following matrix.\n",
    "\n",
    "$$\n",
    "\\begin{equation}\n",
    "B = \\left[ \\begin{array}{rrr} 2 & 0 & 0  \\\\ 3 & -2 & 1 \\\\  1 & 0 & 1\\end{array}\\right]\n",
    "\\end{equation}\n",
    "$$"
   ]
  },
  {
   "cell_type": "markdown",
   "id": "a5bb379a",
   "metadata": {},
   "source": [
    "**Solution:** First we must find the eigenvectors of $B$ and their corresponding eigenvalues. We make use of the $\\texttt{eig}$ function to do this."
   ]
  },
  {
   "cell_type": "code",
   "execution_count": 6,
   "id": "463b3646",
   "metadata": {},
   "outputs": [
    {
     "name": "stdout",
     "output_type": "stream",
     "text": [
      "[-2.+0.j  1.+0.j  2.+0.j] \n",
      "\n",
      "[[0.         0.         0.57735027]\n",
      " [1.         0.31622777 0.57735027]\n",
      " [0.         0.9486833  0.57735027]]\n"
     ]
    }
   ],
   "source": [
    "B = np.array([[2,0,0],[3,-2,1],[1,0,1]])\n",
    "evalues,evectors = sla.eig(B)\n",
    "print(evalues,'\\n')\n",
    "print(evectors)"
   ]
  },
  {
   "cell_type": "markdown",
   "id": "9f732ec7",
   "metadata": {},
   "source": [
    "$S$ is equivalent to the matrix of eigenvectors above, so all we have to do is write out $D$ and then verify that $B = SDS^{-1}$."
   ]
  },
  {
   "cell_type": "code",
   "execution_count": 7,
   "id": "ea0432a9",
   "metadata": {},
   "outputs": [
    {
     "name": "stdout",
     "output_type": "stream",
     "text": [
      "[[0. 0. 0.]\n",
      " [0. 0. 0.]\n",
      " [0. 0. 0.]]\n"
     ]
    }
   ],
   "source": [
    "D = np.array([[-2,0,0],[0,1,0],[0,0,2]])\n",
    "S = evectors\n",
    "print(B - S@D@lag.Inverse(S))"
   ]
  },
  {
   "cell_type": "markdown",
   "id": "966b3e7a",
   "metadata": {},
   "source": [
    "**Exercise 3:** Write a function that accepts an $n\\times n$ matrix $A$ as an argument, and returns the three matrices $S$, $D$, and $S^{-1}$ such that $A=SDS^{-1}$.  Make use of the $\\texttt{eig}$ function in SciPy."
   ]
  },
  {
   "cell_type": "markdown",
   "id": "2def5327",
   "metadata": {},
   "source": [
    "**Solution:** We write a function that finds the diagonalization of an $n \\times n$ matrix $A$ and then test it on the matrix $B$ defined in exercise 2 to check that it works."
   ]
  },
  {
   "cell_type": "code",
   "execution_count": 20,
   "id": "8bac7468",
   "metadata": {},
   "outputs": [
    {
     "name": "stdout",
     "output_type": "stream",
     "text": [
      "[[0.         0.         0.57735027]\n",
      " [1.         0.31622777 0.57735027]\n",
      " [0.         0.9486833  0.57735027]] \n",
      "\n",
      "[[-2.+0.j  0.+0.j  0.+0.j]\n",
      " [ 0.+0.j  1.+0.j  0.+0.j]\n",
      " [ 0.+0.j  0.+0.j  2.+0.j]] \n",
      "\n",
      "[[-0.66666667  1.         -0.33333333]\n",
      " [-1.05409255  0.          1.05409255]\n",
      " [ 1.73205081  0.          0.        ]]\n"
     ]
    }
   ],
   "source": [
    "def Diagonalization(A):\n",
    "    '''\n",
    "    Diagonalization(A)\n",
    "    \n",
    "    Diagonalization takes an nxn matrix A and computes the diagonalization\n",
    "    of A. There is no error checking to ensure that the eigenvectors of A \n",
    "    form a linearly independent set.\n",
    "\n",
    "    Parameters\n",
    "    ----------\n",
    "    A : NumPy array object of dimension nxn\n",
    "\n",
    "    Returns\n",
    "    -------\n",
    "    S :        NumPy array object of dimension nxn\n",
    "    D :        NumPy array object of dimension nxn\n",
    "    S_inverse: Numpy array object of dimension nxn\n",
    "    '''\n",
    "\n",
    "    n = A.shape[0]  # n is number of rows and columns in A\n",
    "    D = np.zeros((3,3),dtype='complex128')\n",
    "    evalues,evectors = sla.eig(A)\n",
    "    \n",
    "    S = evectors\n",
    "    S_inverse = lag.Inverse(S)\n",
    "    \n",
    "    for i in range(0,n,1):\n",
    "        D[i][i] = evalues[i]\n",
    "        \n",
    "    return S,D,S_inverse\n",
    "\n",
    "B = np.array([[2,0,0],[3,-2,1],[1,0,1]])\n",
    "S, D, S_inverse = Diagonalization(B)\n",
    "print(S,'\\n')\n",
    "print(D,'\\n')\n",
    "print(S_inverse)"
   ]
  },
  {
   "cell_type": "markdown",
   "id": "705d9307",
   "metadata": {},
   "source": [
    "**Exercise 4:** Construct a $3\\times 3$ matrix that is not diagonal and has eigenvalues 2, 4, and 10. "
   ]
  },
  {
   "cell_type": "markdown",
   "id": "12daaf45",
   "metadata": {},
   "source": [
    "**Solution:** If we want to construct a matrix $C$ with eigenvalues 2, 4, and 10, then $D$ must be a diagonal matrix with those eigenvalues as its diagonal entries. If we let $S$ be any $3 \\times 3$ non diagonal matrix with linearly independent columns, then $C = SDS^{-1}$ will give us our desired matrix. We define $D$ and $S$ below, calculate $C$, and then check our answer using the $\\texttt{eig}$ function.\n",
    "\n",
    "$$\n",
    "\\begin{equation}\n",
    "D = \\left[ \\begin{array}{rrr} 2 & 0 & 0  \\\\ 0 & 4 & 0 \\\\  0 & 0 & 10\\end{array}\\right] \\hspace{2cm} S = \\left[ \\begin{array}{rrr} 1 & 1 & 0  \\\\ 0 & 1 & 1 \\\\  1 & 0 & 1\\end{array}\\right]\n",
    "\\end{equation}\n",
    "$$"
   ]
  },
  {
   "cell_type": "code",
   "execution_count": 26,
   "id": "a528ab1c",
   "metadata": {},
   "outputs": [
    {
     "name": "stdout",
     "output_type": "stream",
     "text": [
      "[[ 3.  1. -1.]\n",
      " [-3.  7.  3.]\n",
      " [-4.  4.  6.]] \n",
      "\n",
      "[10.+0.j  2.+0.j  4.+0.j]\n"
     ]
    }
   ],
   "source": [
    "D = np.array([[2,0,0],[0,4,0],[0,0,10]])\n",
    "S = np.array([[1,1,0],[0,1,1],[1,0,1]])\n",
    "C = S@D@lag.Inverse(S)\n",
    "\n",
    "print(C,'\\n')\n",
    "\n",
    "evalues,evectors = sla.eig(C)\n",
    "print(evalues)"
   ]
  },
  {
   "cell_type": "markdown",
   "id": "4ec59855",
   "metadata": {},
   "source": [
    "The eigenvalues determined by $\\texttt{eig}$ appear in a different order than we had originally, but are correct."
   ]
  },
  {
   "cell_type": "markdown",
   "id": "b47bc44f",
   "metadata": {},
   "source": [
    "**Exercise 5:** Suppose that $C = QDQ^{-1}$ where\n",
    "\n",
    "$$\n",
    "\\begin{equation}\n",
    "Q = \\left[ \\begin{array}{c|c|c} & & \\\\ U & V & W \\\\ & & \\end{array} \\right] \\hspace{2cm} D = \\left[ \\begin{array}{rrr} 0 & 0 & 0  \\\\ 0 & 3 & 0 \\\\  0 & 0 & 5 \\end{array}\\right]\n",
    "\\end{equation}\n",
    "$$\n",
    "\n",
    "$(a)$ Give a basis for $\\mathcal{N}(C)$\n",
    "\n",
    "**Solution:** Consider the set $\\{U,V,W\\}$. This set of three vectors is linearly independent, so it forms a basis for $\\mathbb{R}^3$ and thus any vector $X \\in \\mathbb{R}^3$ can be expressed as a linear combination $X = aU + bV +cW$ for some scalars $a,b,$ and $c$. Then we have\n",
    "\n",
    "$$\n",
    "\\begin{equation}\n",
    "CX \\hspace{0.2cm} = \\hspace{0.2cm} C(aU + bV + cW) \\hspace{0.2cm} = \\hspace{0.2cm} aCU + bCV + cCW \\hspace{0.2cm} = \\hspace{0.2cm} b3V + c5W\n",
    "\\end{equation}\n",
    "$$\n",
    "\n",
    "Since $V$ and $W$ are linearly independent, so are $3V$ and $5W$, and therefore the only way that $b3V + c5W = 0$ is if $b = c = 0$. This means that $CX = 0$ when $b = c = 0$ and there is no restriction on $a$. But then any element in the null space of $C$ can be expressed as a scalar multiple of $U$ and thus $\\{U\\}$ is a basis for $\\mathcal{N}(C)$.\n",
    "\n",
    "$(b)$ Find all the solutions to $CX = V + W$\n",
    "\n",
    "**Solution:** Let $X$ be an arbitrary vector in $\\mathbb{R}^3$. Since the set of three vectors $\\{U,V,W\\}$ are linearly independent, they form a basis for $\\mathbb{R}^3$, and thus we can write $X = aU + bV + cW$ for some scalars $a,b,$ and $c$. Then we have\n",
    "\n",
    "$$\n",
    "\\begin{equation}\n",
    "CX \\hspace{0.2cm} = \\hspace{0.2cm} C(aU + bV + cW) \\hspace{0.2cm} = \\hspace{0.2cm} aCU + bCV + cCW \\hspace{0.2cm} = \\hspace{0.2cm} b3V + c5W\n",
    "\\end{equation}\n",
    "$$\n",
    "\n",
    "This whole thing is equal to $V+W$ when $b = \\frac{1}{3}$, $c = \\frac{1}{5}$, and is independent of $a$. Therefore the solutions to $CX = V + W$ are the vectors of the form $X = aU + \\frac{1}{3}V + \\frac{1}{5}W$ where $a$ is any real number."
   ]
  },
  {
   "cell_type": "markdown",
   "id": "0b53781c",
   "metadata": {},
   "source": [
    "### Approximating Eigenvalues\n",
    "\n",
    "**Exercise 1:** Let $A$ be the matrix from the Inverse Power Method example.\n",
    "\n",
    "$$\n",
    "\\begin{equation}\n",
    "A = \\left[ \\begin{array}{rrr} 9 & -1 & -3 \\\\ 0 & 6 & 0 \\\\ -6 & 3 & 6 \\end{array}\\right]\n",
    "\\end{equation}\n",
    "$$\n",
    "\n",
    "$(a)$ Use the Power Method to approximate the largest eigenvalue $\\lambda_1$.  Verify that the exact value of $\\lambda_1$ is 12.\n",
    "\n",
    "**Solution:**"
   ]
  },
  {
   "cell_type": "code",
   "execution_count": 62,
   "id": "8dc4fb8f",
   "metadata": {},
   "outputs": [
    {
     "name": "stdout",
     "output_type": "stream",
     "text": [
      "Eigenvector is approximately:\n",
      "[[-7.07103544e-01]\n",
      " [ 9.71065612e-06]\n",
      " [ 7.07110018e-01]] \n",
      "\n",
      "Magnitude of the eigenvalue is approximately:\n",
      "12.000013732475342 \n",
      "\n"
     ]
    }
   ],
   "source": [
    "A = np.array([[9,-1,-3],[0,6,0],[-6,3,6]])\n",
    "X = np.array([[0],[1],[0]])\n",
    "\n",
    "m = 0\n",
    "tolerance = 0.0001\n",
    "MAX_ITERATIONS = 100\n",
    "\n",
    "## Compute difference in stopping condition\n",
    "## Assign Y = AX to avoid computing AX multiple times\n",
    "Y = A@X\n",
    "difference = Y - lag.Magnitude(Y)*X\n",
    "\n",
    "while (m < MAX_ITERATIONS and lag.Magnitude(difference) > tolerance):\n",
    "    X = Y\n",
    "    X = X/lag.Magnitude(X)\n",
    "\n",
    "    ## Compute difference in stopping condition\n",
    "    Y = A@X\n",
    "    difference = Y - lag.Magnitude(Y)*X\n",
    "    \n",
    "    m = m + 1\n",
    "    \n",
    "print(\"Eigenvector is approximately:\")\n",
    "print(X,'\\n')\n",
    "print(\"Magnitude of the eigenvalue is approximately:\")\n",
    "print(lag.Magnitude(Y),'\\n')"
   ]
  },
  {
   "cell_type": "markdown",
   "id": "19527b6f",
   "metadata": {},
   "source": [
    "It appears that the first entry of $X$ is equal to the third multiplied by $-1$. If we set the first entry to be 1 and the third entry to be -1, we can calculate the following product and see that $\\lambda_1$ is indeed 12.\n",
    "\n",
    "$$\n",
    "\\begin{equation}\n",
    "AX = \\left[ \\begin{array}{rrr} 9 & -1 & -3 \\\\ 0 & 6 & 0 \\\\ -6 & 3 & 6 \\end{array}\\right]\n",
    "\\left[ \\begin{array}{r} 1\\\\ 0 \\\\ -1 \\end{array}\\right] =\n",
    "\\left[ \\begin{array}{r} 12\\\\ 0 \\\\ -12 \\end{array}\\right] = 12X\n",
    "\\end{equation}\n",
    "$$"
   ]
  },
  {
   "cell_type": "markdown",
   "id": "fcb725a1",
   "metadata": {},
   "source": [
    "$(b)$ Apply the Inverse Power Method with a shift of $\\mu = 10$.  Explain why the results differ from those in the example.\n",
    "\n",
    "**Solution:**"
   ]
  },
  {
   "cell_type": "code",
   "execution_count": 17,
   "id": "43542df3",
   "metadata": {},
   "outputs": [
    {
     "name": "stdout",
     "output_type": "stream",
     "text": [
      "Eigenvector is approximately:\n",
      "[[-7.07113254e-01]\n",
      " [-1.94211789e-05]\n",
      " [ 7.07100308e-01]] \n",
      "\n",
      "Eigenvalue is A is approximately:\n",
      "11.99997253020264\n"
     ]
    }
   ],
   "source": [
    "A = np.array([[9,-1,-3],[0,6,0],[-6,3,6]])\n",
    "X = np.array([[0],[1],[0]])\n",
    "\n",
    "m = 0\n",
    "tolerance = 0.0001\n",
    "MAX_ITERATIONS = 100\n",
    "difference = X\n",
    "\n",
    "A = np.array([[9,-1,-3],[0,6,0],[-6,3,6]])\n",
    "I = np.eye(3)\n",
    "mu = 10\n",
    "Shifted_A = A-mu*I\n",
    "LU_factorization = sla.lu_factor(Shifted_A)\n",
    "\n",
    "while (m < MAX_ITERATIONS and lag.Magnitude(difference) > tolerance):\n",
    "    X_previous = X\n",
    "    X = sla.lu_solve(LU_factorization,X)\n",
    "    X = X/lag.Magnitude(X)\n",
    "\n",
    "    ## Compute difference in stopping condition\n",
    "    difference = X - X_previous\n",
    "    \n",
    "    m = m + 1\n",
    "\n",
    "print(\"Eigenvector is approximately:\")\n",
    "print(X,'\\n')\n",
    "print(\"Eigenvalue of A is approximately:\")\n",
    "print(lag.Magnitude(A@X))"
   ]
  },
  {
   "cell_type": "markdown",
   "id": "f4eebf42",
   "metadata": {},
   "source": [
    "The Inverse Power Method with a shift of $\\mu$ finds the eigenvalue closest to $\\mu$. $A$ has three eigenvalues, namely 3, 6, and 12, of which 10 is closest to 12 and 7.5 is closest to 6. This is why when we used $\\lambda = 7.5$ in the example we got the eigenvalue 6, but when we used $\\lambda = 10$ we got the eigenvalue 12. "
   ]
  },
  {
   "cell_type": "markdown",
   "id": "3fd1b918",
   "metadata": {},
   "source": [
    "$(c)$ Apply the Inverse Power Method with a shift of $\\mu = 7.5$ and the initial vector given below.  Explain why the sequence of vectors approach the eigenvector corresponding to $\\lambda_1$\n",
    "\n",
    "$$\n",
    "\\begin{equation}\n",
    "X^{(0)} = \\left[ \\begin{array}{r} 1 \\\\ 0  \\\\ 0 \\end{array}\\right]\n",
    "\\end{equation}\n",
    "$$\n",
    "\n",
    "**Solution:**"
   ]
  },
  {
   "cell_type": "code",
   "execution_count": 1,
   "id": "d2771326",
   "metadata": {},
   "outputs": [],
   "source": [
    "## Code solution here."
   ]
  },
  {
   "cell_type": "markdown",
   "id": "3239b949",
   "metadata": {},
   "source": [
    "### Applications\n",
    "\n",
    "**Exercise 1:** Experiment with a range of initial conditions in the infectious disease model to provide evidence that an equilibrium state is reached for all meaningful initial states. "
   ]
  },
  {
   "cell_type": "markdown",
   "id": "9b1787dd",
   "metadata": {},
   "source": [
    "We will create a method that uses the model given in the example but takes in a vector representing the initial conditions, then outputs the graphs of the values over time. We will input several different sets of intial conditions and graph them, verifying that they all seem to converge upon the same equilibrium state."
   ]
  },
  {
   "cell_type": "code",
   "execution_count": 89,
   "id": "5e971cb8",
   "metadata": {},
   "outputs": [
    {
     "data": {
      "image/png": "[encoded data removed]",
      "text/plain": [
       "<Figure size 432x288 with 1 Axes>"
      ]
     },
     "metadata": {
      "needs_background": "light"
     },
     "output_type": "display_data"
    },
    {
     "data": {
      "image/png": "[encoded data removed]",
      "text/plain": [
       "<Figure size 432x288 with 1 Axes>"
      ]
     },
     "metadata": {
      "needs_background": "light"
     },
     "output_type": "display_data"
    },
    {
     "data": {
      "image/png": "[encoded data removed]",
      "text/plain": [
       "<Figure size 432x288 with 1 Axes>"
      ]
     },
     "metadata": {
      "needs_background": "light"
     },
     "output_type": "display_data"
    },
    {
     "data": {
      "image/png": "[encoded data removed]",
      "text/plain": [
       "<Figure size 432x288 with 1 Axes>"
      ]
     },
     "metadata": {
      "needs_background": "light"
     },
     "output_type": "display_data"
    }
   ],
   "source": [
    "def Iterate_SIRS(X):\n",
    "\n",
    "    A = np.array([[0.95, 0, 0.15],[0.05,0.8,0],[0,0.2,0.85]])\n",
    "\n",
    "    ## T is final time\n",
    "    T = 20\n",
    "\n",
    "    ## The first column of results contains the initial values \n",
    "    results = np.copy(X)\n",
    "\n",
    "    for i in range(T):\n",
    "        X = A@X\n",
    "        results = np.hstack((results,X))\n",
    "\n",
    "    ## t contains the time indices 0, 1, 2, ..., T\n",
    "    t = np.linspace(0,T,T+1)\n",
    "    ## s, i, r values are the rows of the results array\n",
    "    s = results[0,:]\n",
    "    i = results[1,:]\n",
    "    r = results[2,:]\n",
    "\n",
    "    fig,ax = plt.subplots()\n",
    "\n",
    "    ## The optional label keyword argument provides text that is used to create a legend\n",
    "    ax.plot(t,s,'b+',label=\"Susceptible\");\n",
    "    ax.plot(t,i,'rx',label=\"Infectious\");\n",
    "    ax.plot(t,r,'g+',label=\"Recovered\");\n",
    "\n",
    "    ax.set_ylim(0,1.1)\n",
    "    ax.grid(True)\n",
    "    ax.legend();\n",
    "    \n",
    "Iterate_SIRS(np.array([[0.95],[0.05],[0]]))\n",
    "Iterate_SIRS(np.array([[0.7],[0.05],[0.25]]))\n",
    "Iterate_SIRS(np.array([[0.3],[0.4],[0.3]]))\n",
    "Iterate_SIRS(np.array([[0.1],[0.8],[0.1]]))"
   ]
  },
  {
   "cell_type": "markdown",
   "id": "9c98f330",
   "metadata": {},
   "source": [
    "The values of $s_{20}, i_{20},$ and $r_{20}$ see to be nearly equal, so it appears that regardless of the initial conditions, the SIRS model always converges to the same equilibrium state."
   ]
  },
  {
   "cell_type": "markdown",
   "id": "laden-theory",
   "metadata": {},
   "source": [
    "**Exercise 2:** Perform an analysis similar to that in the example for the following infectious disease model.  In this model the rate at which individuals move from the Recovered category to the Susceptible category is less than that in the example.  Make a plot similar to that in the example and also calculate the theoretical equilibrium values for $s$, $i$, and $r$.\n",
    "\n",
    "$$\n",
    "\\begin{equation}\n",
    "X_t = \\left[ \\begin{array}{r} s_t \\\\ i_t \\\\ r_t  \\end{array}\\right] =\n",
    "\\left[ \\begin{array}{rrr} 0.95 & 0 & 0.05 \\\\ 0.05 & 0.80 & 0 \\\\ 0 & 0.20 & 0.95 \\end{array}\\right]\n",
    "\\left[ \\begin{array}{r} s_{t-1} \\\\ i_{t-1} \\\\ r_{t-1}  \\end{array}\\right]=\n",
    "AX_{t-1}\n",
    "\\end{equation}\n",
    "$$"
   ]
  },
  {
   "cell_type": "markdown",
   "id": "d4695eca",
   "metadata": {},
   "source": [
    "We will plot the first 50 iterations of $s_t,i_t,$ and $r_t$ using the same initial conditions as the example."
   ]
  },
  {
   "cell_type": "code",
   "execution_count": 90,
   "id": "030c6a10",
   "metadata": {},
   "outputs": [
    {
     "data": {
      "image/png": "[encoded data removed]",
      "text/plain": [
       "<Figure size 432x288 with 1 Axes>"
      ]
     },
     "metadata": {
      "needs_background": "light"
     },
     "output_type": "display_data"
    }
   ],
   "source": [
    "A = np.array([[0.95, 0, 0.05],[0.05,0.8,0],[0,0.2,0.95]])\n",
    "\n",
    "## T is final time\n",
    "T = 50\n",
    "## X at time 0\n",
    "X = np.array([[0.95],[0.05],[0]])\n",
    "\n",
    "## The first column of results contains the initial values \n",
    "results = np.copy(X)\n",
    "\n",
    "for i in range(T):\n",
    "    X = A@X\n",
    "    results = np.hstack((results,X))\n",
    "\n",
    "## t contains the time indices 0, 1, 2, ..., T\n",
    "t = np.linspace(0,T,T+1)\n",
    "## s, i, r values are the rows of the results array\n",
    "s = results[0,:]\n",
    "i = results[1,:]\n",
    "r = results[2,:]\n",
    "\n",
    "fig,ax = plt.subplots()\n",
    "\n",
    "## The optional label keyword argument provides text that is used to create a legend\n",
    "ax.plot(t,s,'b+',label=\"Susceptible\");\n",
    "ax.plot(t,i,'rx',label=\"Infectious\");\n",
    "ax.plot(t,r,'g+',label=\"Recovered\");\n",
    "\n",
    "ax.set_ylim(0,1.1)\n",
    "ax.grid(True)\n",
    "ax.legend();"
   ]
  },
  {
   "cell_type": "markdown",
   "id": "55a6c87d",
   "metadata": {},
   "source": [
    "It  appears that the population has reached an equilibrium after about 45 weeks, but one that was different than in the example. The proportion of the population that is susceptible seems to be equal to the porportion of the population that is recovered at roughly 45%, and the proportion that is infectious seems to be about 10%. To find the true equilibrium values, we calculate the $\\texttt{RREF}$ of the augmented matrix $[(A-I)|0]$."
   ]
  },
  {
   "cell_type": "code",
   "execution_count": 91,
   "id": "ba647d1c",
   "metadata": {},
   "outputs": [
    {
     "name": "stdout",
     "output_type": "stream",
     "text": [
      "[[ 1.    0.   -1.    0.  ]\n",
      " [ 0.    1.   -0.25  0.  ]\n",
      " [ 0.    0.    0.    0.  ]]\n"
     ]
    }
   ],
   "source": [
    "I = np.eye(3)\n",
    "ZERO = np.zeros((3,1))\n",
    "augmented_matrix = np.hstack((A-I,ZERO))\n",
    "reduced_matrix = lag.FullRowReduction(augmented_matrix)\n",
    "print(reduced_matrix)"
   ]
  },
  {
   "cell_type": "markdown",
   "id": "6bdd6005",
   "metadata": {},
   "source": [
    "In the reduced system for the equilibrium values $s$, $i$, and $r$, we can take $r$ as the free variable and write $s=r$ and $i=0.25r$.  For any value of $r$, a vector of the following form is an eigenvector for $A-I$, corresponding to the eigenvalue one.\n",
    "\n",
    "$$\n",
    "\\begin{equation}\n",
    "r\\left[ \\begin{array}{r} 1 \\\\ 0.25 \\\\ 1  \\end{array}\\right]\n",
    "\\end{equation}\n",
    "$$\n",
    "\n",
    "If we add the constraint that $s + i + r = 1$, then we get the equation $r + 0.25r + r = 1$ which gives the unique equilibrium values of $r = 4/9$, $s=4/9$, and $i=1/9$.  If we carry out a large number of iterations, we see that the computed values are very close to the theoretical equilibrium values. "
   ]
  },
  {
   "cell_type": "code",
   "execution_count": 92,
   "id": "d366bceb",
   "metadata": {},
   "outputs": [
    {
     "name": "stdout",
     "output_type": "stream",
     "text": [
      "Computed values of s, i, r at time  100 :\n",
      "[[0.44444478]\n",
      " [0.1111114 ]\n",
      " [0.44444382]]\n"
     ]
    }
   ],
   "source": [
    "## T is final time\n",
    "T = 100\n",
    "## X at time 0\n",
    "X = np.array([[0.95],[0.05],[0]])\n",
    "\n",
    "for i in range(T):\n",
    "    X = A@X\n",
    "\n",
    "print(\"Computed values of s, i, r at time \",T,\":\")\n",
    "print(X)"
   ]
  },
  {
   "cell_type": "code",
   "execution_count": null,
   "id": "5b8ee1ee",
   "metadata": {},
   "outputs": [],
   "source": []
  }
 ],
 "metadata": {
  "kernelspec": {
   "display_name": "Python 3",
   "language": "python",
   "name": "python3"
  },
  "language_info": {
   "codemirror_mode": {
    "name": "ipython",
    "version": 3
   },
   "file_extension": ".py",
   "mimetype": "text/x-python",
   "name": "python",
   "nbconvert_exporter": "python",
   "pygments_lexer": "ipython3",
   "version": "3.7.3"
  }
 },
 "nbformat": 4,
 "nbformat_minor": 5
}
