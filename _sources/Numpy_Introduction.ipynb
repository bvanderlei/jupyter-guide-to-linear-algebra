{
 "cells": [
  {
   "cell_type": "markdown",
   "metadata": {},
   "source": [
    "## Introduction to NumPy and Matplotlib"
   ]
  },
  {
   "cell_type": "markdown",
   "metadata": {},
   "source": [
    "[Numpy](https://numpy.org/) is an essential Python package for carrying out the calculations needed for linear algebra as well as other areas of scientific computing.  [Matplotlib](https://matplotlib.org/) is a extensive Python package for producing a wide variety of plots.  In this section we will demonstrate a few of the basic elements of these packages that will be used repeatedly throughout the Jupyter Guide to Linear Algebra.  \n",
    "\n",
    "It should be noted that NumPy is used for many of the actual calculations encounted in linear algebra, while we use Matplotlib only to make useful visual representations of the concepts.  The ability to use of NumPy therefore will be crucial, while the understanding of Matplotlib is not explicitly required to engage with the content of the guide.  The Matplotlib demonstration below also contains more complex details that might be difficult to digest until the reader gains some experience with Python.  For these reasons, The reader may choose to skip the introduction to Matplotlib and return at a later point if interest arises. \n",
    "\n"
   ]
  },
  {
   "cell_type": "markdown",
   "metadata": {},
   "source": [
    "### NumPy\n",
    "\n",
    "Almost every calculation that we do in linear algebra will involve working with arrays of numbers.  An array can be thought of as a collection of numbers arranged into rows and columns to form a rectangle, such as the example below, which has 2 rows and 4 columns.\n",
    "\n",
    "\n",
    "$$\n",
    "\\begin{equation}\n",
    "\\left[ \\begin{array}{rrrr} 5 & -1 & 1 & 0 \\\\ 4 & 3 & 12 & -6 \\end{array}\\right]\n",
    "\\end{equation}\n",
    "$$\n",
    "\n",
    "Although it is possible to represent an arrays using a basic Python objects called a list, we will make use of a NumPy for our work.  NumPy has a powerful way to represent arrays, and has many built-in tools for processing them efficiently.  Just as with the math module, we have to first import NumPy before we can use it.  This time we will use the code $\\texttt{import numpy as np}$, which imports the module but gives it a different name, called an alias, that is more convenient to type. \n",
    "\n",
    "The easiest way to create the array above is to use the $\\texttt{array}$ function, and provide it a list of all the array entries specific format.  The row entries are separated by commas and enclosed in square brackets \\[\\], then all the rows listed together, separated by commas, and enclosed in another set of square brackets.   "
   ]
  },
  {
   "cell_type": "code",
   "execution_count": 1,
   "metadata": {},
   "outputs": [
    {
     "name": "stdout",
     "output_type": "stream",
     "text": [
      "[[ 5 -1  1  0]\n",
      " [ 4  3 12 -6]]\n"
     ]
    }
   ],
   "source": [
    "import numpy as np\n",
    "\n",
    "## The object [[5, -1, 1, 0],[4, 3, 12, -6]], which gets passed into the array function is a Python list.\n",
    "## The object returned by the array function is a NumPy array object.\n",
    "\n",
    "A = np.array([[5, -1, 1, 0],[4, 3, 12, -6]])\n",
    "\n",
    "print(A)"
   ]
  },
  {
   "cell_type": "markdown",
   "metadata": {},
   "source": [
    "Another way to create the array we want is to first make an array that is one long row, and then use the $\\texttt{reshape}$ function.  This can be more convenient than typing the extra square brackets. "
   ]
  },
  {
   "cell_type": "code",
   "execution_count": 3,
   "metadata": {},
   "outputs": [
    {
     "name": "stdout",
     "output_type": "stream",
     "text": [
      "This is B before reshaping.\n",
      "[ 5 -1  1  0  4  3 12 -6]\n",
      "This is C, which is the entries of B formed into a new shape.\n",
      "[[ 5 -1  1  0]\n",
      " [ 4  3 12 -6]]\n"
     ]
    }
   ],
   "source": [
    "B = np.array([5, -1, 1, 0, 4, 3, 12, -6])\n",
    "print(\"This is B before reshaping.\")\n",
    "print(B)\n",
    "\n",
    "C = B.reshape((2,4))\n",
    "print(\"This is C, which is the entries of B formed into a new shape.\")\n",
    "print(C)"
   ]
  },
  {
   "cell_type": "markdown",
   "metadata": {},
   "source": [
    "We will often wish to make modifications to an array while keeping a copy of the original.  In this situation we can duplicate an existing array with the $\\texttt{copy}$ function."
   ]
  },
  {
   "cell_type": "code",
   "execution_count": 3,
   "metadata": {},
   "outputs": [
    {
     "name": "stdout",
     "output_type": "stream",
     "text": [
      "[[ 5 -1  1  0]\n",
      " [ 4  3 12 -6]]\n"
     ]
    }
   ],
   "source": [
    "D = np.copy(A)\n",
    "print(D)"
   ]
  },
  {
   "cell_type": "markdown",
   "metadata": {},
   "source": [
    "In order to access individual entries in an array, we need to use a pair of indices to refer to the row and column of the entry we are accessing.  As with almost every other computing language, the count begins at zero in Python!  This means that the first row has index 0, the second has index 1 and so forth.  The same is true for the columns.  Beginning the count at zero is not difficult, but it does require an adjustment in thinking if one is new to programming.  "
   ]
  },
  {
   "cell_type": "code",
   "execution_count": 4,
   "metadata": {},
   "outputs": [
    {
     "name": "stdout",
     "output_type": "stream",
     "text": [
      "1\n"
     ]
    }
   ],
   "source": [
    "print(A[0,2])"
   ]
  },
  {
   "cell_type": "markdown",
   "metadata": {},
   "source": [
    "We can modify individual array values by assigning them new numbers."
   ]
  },
  {
   "cell_type": "code",
   "execution_count": 5,
   "metadata": {},
   "outputs": [
    {
     "name": "stdout",
     "output_type": "stream",
     "text": [
      "[[ 5 -1  8  0]\n",
      " [ 4  3 12 -6]]\n"
     ]
    }
   ],
   "source": [
    "A[0,2] = 8\n",
    "print(A)"
   ]
  },
  {
   "cell_type": "markdown",
   "metadata": {},
   "source": [
    "Many of the functions included in NumPy relate to linear algebra in some way.  We will demonstrate more of these functions as we make our way through the corresponding linear algebra topics.\n",
    "\n",
    "#### Random module\n",
    "\n",
    "One way of testing code is to supply a lot of random input, and then check to see if the correct results are produced in each instance.  To produce the random inputs, we will make use of functions in the $\\texttt{random}$ module, which is contained within NumPy.  For example, we might use the $\\texttt{rand}$ function with no arguments to produce a random number between zero and one.     "
   ]
  },
  {
   "cell_type": "code",
   "execution_count": 8,
   "metadata": {},
   "outputs": [
    {
     "name": "stdout",
     "output_type": "stream",
     "text": [
      "0.9291257533679466\n"
     ]
    }
   ],
   "source": [
    "r = np.random.rand()\n",
    "print(r)"
   ]
  },
  {
   "cell_type": "markdown",
   "metadata": {},
   "source": [
    "Each execution of the $\\texttt{rand}$ function yields a new random number.  Note that $\\texttt{rand}$ is a function contained in the $\\texttt{random}$ module, which is in turn contained in NumPy.  We therefore need do use the dot notation twice to access it.\n",
    "\n",
    "We can also generate a random array of numbers by supplying $\\texttt{rand}$ two arguments to specify the number of rows and columns in the array.\n",
    "  "
   ]
  },
  {
   "cell_type": "code",
   "execution_count": 9,
   "metadata": {},
   "outputs": [
    {
     "name": "stdout",
     "output_type": "stream",
     "text": [
      "[[0.25033249 0.92647527]\n",
      " [0.93932189 0.64657589]\n",
      " [0.95385446 0.74406013]]\n"
     ]
    }
   ],
   "source": [
    "X = np.random.rand(3,2)\n",
    "print(X)"
   ]
  },
  {
   "cell_type": "markdown",
   "metadata": {},
   "source": [
    "If we want to generate random integers, we can use the $\\texttt{randint}$ function.  This function requires at least one argument to specify an upper bound on the numbers produced.  The code below produces a random number from among the integers 0 to 19.  "
   ]
  },
  {
   "cell_type": "code",
   "execution_count": 46,
   "metadata": {},
   "outputs": [
    {
     "name": "stdout",
     "output_type": "stream",
     "text": [
      "0\n"
     ]
    }
   ],
   "source": [
    "print(np.random.randint(20))"
   ]
  },
  {
   "cell_type": "markdown",
   "metadata": {},
   "source": [
    "To generate a random array we have to specify the number of rows and columns using a *keyword argument* called $\\texttt{size}$.  The use of a *keyword argument* requires slightly different syntax as shown in the following example."
   ]
  },
  {
   "cell_type": "code",
   "execution_count": 50,
   "metadata": {},
   "outputs": [
    {
     "name": "stdout",
     "output_type": "stream",
     "text": [
      "[[6 4 3 2 3 3]\n",
      " [6 6 6 9 8 5]\n",
      " [2 9 7 9 4 4]]\n"
     ]
    }
   ],
   "source": [
    "Y = np.random.randint(10,size=(3,6))\n",
    "print(Y)"
   ]
  },
  {
   "cell_type": "markdown",
   "metadata": {},
   "source": [
    "The use of *keyword arguments* is quite common in Python functions.  The advantage of this feature is that the arguments do not need to be provided in a prespecified order."
   ]
  },
  {
   "cell_type": "code",
   "execution_count": 54,
   "metadata": {},
   "outputs": [
    {
     "name": "stdout",
     "output_type": "stream",
     "text": [
      "[[1 8 8]\n",
      " [1 3 1]]\n"
     ]
    }
   ],
   "source": [
    "print(np.random.randint(size=(2,3),high=10,low=1))"
   ]
  },
  {
   "cell_type": "markdown",
   "metadata": {},
   "source": [
    "### Matplotlib\n",
    "\n",
    "Matplotlib provides a wide range of plotting functionality, and many options to make precise customizations to the figures produced. We only provide explanations for how to create the specific type of figures that appear in the Jupyter Guide to Linear Algebra, most of which follow the same essential pattern.  We will provide a few details of the necessary code, but will not attempt to describe the data structures in a rigorous way, or discuss the multitude of options that are available within the library.    \n",
    "\n",
    "#### Example 1\n",
    "\n",
    "In the first figure, we will make a simple plot of five points with $(x,y)$ coordinates.  The list of coordinates will be stored in a NumPy array."
   ]
  },
  {
   "cell_type": "code",
   "execution_count": 61,
   "metadata": {},
   "outputs": [],
   "source": [
    "x = np.array([1, 2.5, 3, 5.8])\n",
    "y = np.array([2, 1.2, 1.1, 0.8])"
   ]
  },
  {
   "cell_type": "markdown",
   "metadata": {},
   "source": [
    "The next code cell contains a minimal set of instructions needed to produce a plot.  The comments in the cell indicate the purpose of each line."
   ]
  },
  {
   "cell_type": "code",
   "execution_count": 62,
   "metadata": {},
   "outputs": [
    {
     "data": {
      "image/png": "[encoded data removed]",
      "text/plain": [
       "<Figure size 432x288 with 1 Axes>"
      ]
     },
     "metadata": {
      "needs_background": "light"
     },
     "output_type": "display_data"
    }
   ],
   "source": [
    "## Directs the graphical output to this notebook\n",
    "% matplotlib inline\n",
    "\n",
    "## Imports the module and assigns a short alias for convenience\n",
    "import matplotlib.pyplot as plt\n",
    "\n",
    "## The subplots method returns a Figure object and an Axes object\n",
    "fig, ax = plt.subplots()\n",
    "\n",
    "## Plots the data on the Axes object\n",
    "ax.plot(x,y);"
   ]
  },
  {
   "cell_type": "markdown",
   "metadata": {},
   "source": [
    "The $\\texttt{subplots}$ method creates two Matplotlib objects, the *Figure*, and the *Axes*.  The *Figure* is the fundamental object in Matplotlib.  The *Axes* object is contained within the *Figure*, and is the object we will interact with the most.  The $\\texttt{plot}$ method of the *Axes* object is the function that actually plots our set of coordinates on the *Axes*.  Note that we do not need a $\\texttt{print}$ command to view the results.  Instead, the first line of code, $\\texttt{% matplotlib inline}$, directs all graphical output to this notebook.\n",
    "\n",
    "The plot produced by this basic use of the $\\texttt{plot}$ method has connected the data point coordinates with lines.  This is the *default* functionality of this method.  It is common for Matplotlib methods (and indeed methods in many other Python libraries) to have a default functionality which is produced by supplying the minimum number of arguments, but also allow for additional arguments to be supplied which alter this default functionality.  In our example, we can supply the optional argument $\\texttt{'b+'}$ to the $\\texttt{plot}$ method to produce a plot with blue + symbols at the data coordinates instead of lines connecting them.   "
   ]
  },
  {
   "cell_type": "code",
   "execution_count": 63,
   "metadata": {},
   "outputs": [
    {
     "data": {
      "image/png": "[encoded data removed]",
      "text/plain": [
       "<Figure size 432x288 with 1 Axes>"
      ]
     },
     "metadata": {
      "needs_background": "light"
     },
     "output_type": "display_data"
    }
   ],
   "source": [
    "fig, ax = plt.subplots()\n",
    "ax.plot(x,y,'b+');"
   ]
  },
  {
   "cell_type": "markdown",
   "metadata": {},
   "source": [
    "Next, we show how to configure some of the many options available in such a plot.  Remember that the plot is actually being constructed in an *Axes* object, so all the options that affect elements of the plot are methods of that object."
   ]
  },
  {
   "cell_type": "code",
   "execution_count": 64,
   "metadata": {},
   "outputs": [
    {
     "data": {
      "image/png": "[encoded data removed]",
      "text/plain": [
       "<Figure size 432x288 with 1 Axes>"
      ]
     },
     "metadata": {
      "needs_background": "light"
     },
     "output_type": "display_data"
    }
   ],
   "source": [
    "fig, ax = plt.subplots()\n",
    "ax.plot(x,y,'rx');\n",
    "\n",
    "## These options set the upper and lower boundaries for x and y.\n",
    "ax.set_xlim(0,8);\n",
    "ax.set_ylim(0,4);\n",
    "\n",
    "## This option displays a grid to help visualize the coordinates\n",
    "ax.grid(True);\n",
    "\n",
    "## These options are used to set labels for the axes\n",
    "ax.set_xlabel('Time');\n",
    "ax.set_ylabel('Concentration');"
   ]
  },
  {
   "cell_type": "markdown",
   "metadata": {},
   "source": [
    "#### Example 2\n",
    "\n",
    "In the next example, the aim will be to plot the curve $y=0.5x^2$, for $x$ in the interval $[-2,4]$.  In order to make use of the same method, we will need to generate a set of points that lie on the curve for $x$ in the given interval.  The points that we specify will be connected straight lines, so we will want want to generate enough points to avoid the curve having a jagged appearance.  The NumPy method $\\texttt{linspace}$ provides an easy way to produce our points.  This method creates a NumPy array object with numbers spaced evenly over a specified interval. "
   ]
  },
  {
   "cell_type": "code",
   "execution_count": 65,
   "metadata": {},
   "outputs": [
    {
     "name": "stdout",
     "output_type": "stream",
     "text": [
      "[-2.   -1.25 -0.5   0.25  1.    1.75  2.5   3.25  4.  ]\n",
      "[2.      0.78125 0.125   0.03125 0.5     1.53125 3.125   5.28125 8.     ]\n"
     ]
    }
   ],
   "source": [
    "## This call to linspace produces an array of 9 numbers evenly spaced on the interval [-2,4]\n",
    "x = np.linspace(-2,4,9)\n",
    "print(x)\n",
    "\n",
    "## We can an array of the corresponding y values by using x in the algebraic expression\n",
    "y = 0.5*x**2\n",
    "print(y)"
   ]
  },
  {
   "cell_type": "markdown",
   "metadata": {},
   "source": [
    "For the plot, we will use a larger number of points in order to generate a curve that looks smooth.  We also use some other options to adjust the appearance of this plot, including configuration of the *ticks* along the $x$ and $y$ axes.  The *ticks* is a list of numbers that define the gridlines and numerical labels along the axes.  The $\\texttt{plot}$ method will provide default values of *ticks*, which can be changed by providing an array of new values.    "
   ]
  },
  {
   "cell_type": "code",
   "execution_count": 66,
   "metadata": {},
   "outputs": [
    {
     "data": {
      "image/png": "[encoded data removed]",
      "text/plain": [
       "<Figure size 432x288 with 1 Axes>"
      ]
     },
     "metadata": {
      "needs_background": "light"
     },
     "output_type": "display_data"
    }
   ],
   "source": [
    "x = np.linspace(-2,4,100)\n",
    "y = 0.5*x**2\n",
    "\n",
    "fig, ax = plt.subplots()\n",
    "ax.plot(x,y);\n",
    "\n",
    "ax.set_xlim(-2,4);\n",
    "ax.set_ylim(0,8);\n",
    "\n",
    "## The grid option will accept the keyword argument ls, which specifies the linestyle\n",
    "ax.grid(True,ls='dotted');\n",
    "\n",
    "## This option adjusts the aspect ratio so that the x and y axes have the same length scale\n",
    "ax.set_aspect('equal');\n",
    "\n",
    "## The numbers and gridlines along the x and y axes appear at \n",
    "ax.set_xticks(np.linspace(-2,4,4));\n",
    "ax.set_yticks(np.linspace(0,8,5));\n"
   ]
  },
  {
   "cell_type": "code",
   "execution_count": 67,
   "metadata": {},
   "outputs": [
    {
     "data": {
      "image/png": "[encoded data removed]",
      "text/plain": [
       "<Figure size 432x288 with 1 Axes>"
      ]
     },
     "metadata": {
      "needs_background": "light"
     },
     "output_type": "display_data"
    }
   ],
   "source": [
    "fig, ax = plt.subplots()\n",
    "ax.plot(x,y,'g',ls='dashed');\n",
    "\n",
    "ax.set_xlim(-3,5);\n",
    "ax.set_ylim(-1,9);\n",
    "\n",
    "## The grid option can be passed optional arguments that specify the linestyle (ls) used\n",
    "ax.grid(True,ls='dotted');\n",
    "\n",
    "## This option adjusts the aspect ratio so that the x and y axes have the same length scale\n",
    "ax.set_aspect('equal');\n",
    "\n",
    "## This option specifies the ticks with an array produced by linspace \n",
    "ax.set_xticks(np.linspace(-3,5,9));\n",
    "ax.set_yticks(np.linspace(-1,9,11));\n",
    "\n",
    "## This option draws lines x=0 and y=0 using keyword arguments color and linewidth\n",
    "ax.axvline(color='k',linewidth = 1);\n",
    "ax.axhline(color='k',linewidth = 1);"
   ]
  },
  {
   "cell_type": "markdown",
   "metadata": {},
   "source": [
    "Throughout the Jupyter Guide to Linear Algebra, we will often hide the code used to produce the graphics in order to keep the pages tidy for reading."
   ]
  },
  {
   "cell_type": "code",
   "execution_count": null,
   "metadata": {},
   "outputs": [],
   "source": []
  }
 ],
 "metadata": {
  "kernelspec": {
   "display_name": "Python 3",
   "language": "python",
   "name": "python3"
  },
  "language_info": {
   "codemirror_mode": {
    "name": "ipython",
    "version": 3
   },
   "file_extension": ".py",
   "mimetype": "text/x-python",
   "name": "python",
   "nbconvert_exporter": "python",
   "pygments_lexer": "ipython3",
   "version": "3.7.3"
  }
 },
 "nbformat": 4,
 "nbformat_minor": 4
}
