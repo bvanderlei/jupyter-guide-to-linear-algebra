{
 "cells": [
  {
   "cell_type": "markdown",
   "metadata": {},
   "source": [
    "## Introduction to Jupyter"
   ]
  },
  {
   "cell_type": "markdown",
   "metadata": {},
   "source": [
    "[Jupyter](https://jupyter.org/) is a web application that allows users to create and share documents called notebooks.  Jupyter notebooks can contain text, equations, and graphics, as well as live Python code with which the user can interact.  [Python](https://www.python.org/) is a very popular computer language for a wide range of applications, including scientific computing, and is known for being a language that is easy to learn for novice programmers.    \n",
    "\n",
    "The purpose of this introduction is to provide enough instruction on the use of Jupyter and Python to for the reader to successfully navigate and engage with the Jupyter Guide to Linear Algebra.  There are a vast number of \n",
    "resources available online for those that wish to learn more about these topics.  Some references are supplied at the end of the section. "
   ]
  },
  {
   "cell_type": "markdown",
   "metadata": {},
   "source": [
    "### Cells \n",
    "\n",
    "The Jupyter Guide to Linear Algebra is made up of a number of Jupyter notebooks.  Each notebook consists of a number of cells.  Every cell is either a **markdown cell**, or a **code cell**.  The markdown cells mostly contain text and [LaTex] instructions.  When executed, these cells generate the all of the formatted text and formulas that you see as you read through the guide.  The code cells contain instructions, written in Python, to be executed by the notebook.  Code cells will not produce much visual output to the notebook unless they contain instructions to do so.    \n",
    "\n",
    "All cells in the notebooks, markdown and code, must be executed in order to produce output and results.  To execute a cell, select the cell and press 'Shift + Enter'.  You can select a cell by clicking it, or by moving up/down with the arrow keys.  In order to fully engage with the notebooks, you will also want to edit cells to change the outputs.  To change a cell you will have to enter **edit mode**.  When not in edit mode, the notebook is said to be in **command mode**.  \n",
    "\n",
    "**Important: Your keyboard will do different things depending on the mode.**  \n",
    "\n",
    "Let's see how to change modes right now, in this very cell.  When a cell is selected, there will be a colored bar on the left border of the cell.  The bar will be green in edit mode and blue in command mode.  To enter command mode we press 'Enter'.  To exit command mode without executing the cell we press 'Esc'.  To execute the cell press 'Shift + Enter'.  \n",
    "\n",
    "Try it!  Edit the line below to include your name.\n",
    "\n",
    "This copy of LA Guide belongs to ...\n",
    "\n",
    "\n",
    "\n",
    "Although all cells can be edited and executed, there are some distinctions in the two types of cells.\n",
    "\n",
    "- **All markdown cells are executed when you open the notebook, but code cells are not**.  This means that when you first open a notebook, the formatted text and formulas produced by the markdown cells will be displayed.  Clicking on the markdown cells will not do anything other than select the cell, and pressing 'Shift + Enter' will not display anything new since the output is already displayed.  By contrast, **any output from the code cells will not be displayed until you run the cells**.\n",
    "- If there is anything amiss in a markdown cell, the displayed text or formula may not look right.  If there is anything amiss in the code cell, an error will be displayed.  These errors might be difficult to decipher at first, but with a little practice you will soon be able to understand the common errors that arise.\n",
    "\n"
   ]
  },
  {
   "cell_type": "markdown",
   "metadata": {},
   "source": []
  }
 ],
 "metadata": {
  "kernelspec": {
   "display_name": "Python 3",
   "language": "python",
   "name": "python3"
  },
  "language_info": {
   "codemirror_mode": {
    "name": "ipython",
    "version": 3
   },
   "file_extension": ".py",
   "mimetype": "text/x-python",
   "name": "python",
   "nbconvert_exporter": "python",
   "pygments_lexer": "ipython3",
   "version": "3.7.3"
  }
 },
 "nbformat": 4,
 "nbformat_minor": 4
}
