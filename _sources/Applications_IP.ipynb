{
 "cells": [
  {
   "cell_type": "markdown",
   "metadata": {},
   "source": [
    "## Applications of Inner Products"
   ]
  },
  {
   "cell_type": "markdown",
   "metadata": {},
   "source": [
    "### Linear regression\n",
    "\n",
    "A common example of the use of least squares is Linear Regression.  In this scenario, we suppose that two variables are related through linear relationship, or we wish to approximate their relationship as linear.  Although data may show that the relationship is not exactly linear, or the data may be subject to experimental error, we might still hope to find the linear model that best fits the data.  This is commonly known as the \"line of best fit\", or the \"least squares line\".  \n",
    "\n",
    "For our example, suppose that we are studying the price of beer and nachos at various entertainment venues, and we collect data from a representative sample of venues.\n",
    "\n",
    "|Beer|Nachos|\n",
    "|----|------|\n",
    "|\\$4.5|\\$12 |\n",
    "|\\$4.75|\\$13|\n",
    "|\\$5.5|\\$14.8|\n",
    "|\\$5.9|\\$15.5|\n",
    "|\\$6.25|\\$15.9|\n",
    "|\\$7 |\\$17.25|\n",
    "\n",
    "We plot the data and notice that there is strong correlation between the two variables."
   ]
  },
  {
   "cell_type": "code",
   "execution_count": 2,
   "metadata": {
    "tags": [
     "hide-input"
    ]
   },
   "outputs": [
    {
     "data": {
      "image/png": "[encoded data removed]",
      "text/plain": [
       "<Figure size 432x288 with 1 Axes>"
      ]
     },
     "metadata": {
      "needs_background": "light"
     },
     "output_type": "display_data"
    }
   ],
   "source": [
    "%matplotlib inline\n",
    "import numpy as np\n",
    "import matplotlib.pyplot as plt\n",
    "\n",
    "x = np.array([4.5, 4.75, 5.5, 5.9, 6.25, 7])\n",
    "y = np.array([12, 13, 14.8, 15.5, 15.9, 17.25])\n",
    "\n",
    "fig,ax = plt.subplots()\n",
    "\n",
    "ax.plot(x,y,'ro');\n",
    "ax.set_xlim(0,10);\n",
    "ax.set_ylim(0,20);\n",
    "ax.set_xlabel('Beer (\\$)');\n",
    "ax.set_ylabel('Nachos (\\$)');\n",
    "\n",
    "ax.grid('True',ls=':')"
   ]
  },
  {
   "cell_type": "markdown",
   "metadata": {},
   "source": [
    "Next, we propose a linear equation $n  = x_1b + x_2$ that relates the nacho price, $n$, to the beer price, $b$.  If there were only two data points, we would solve a system of two equations to determine the parameters $x_1$ and $x_2$.  The larger number of data points leads to an inconsistent overdetermined system.\n",
    "\n",
    "$$\n",
    "\\begin{eqnarray*}\n",
    "4.5x_1 + x_2 & = & 12 \\\\\n",
    "4.75x_1 + x_2 & = & 13 \\\\\n",
    "5.5x_1 + x_2 & = & 14.8 \\\\\n",
    "5.9x_1 + x_2 & = & 15.5 \\\\\n",
    "6.25x_1 + x_2 & = & 15.9 \\\\\n",
    "7x_1 + x_2 & = & 17.25 \\\\\n",
    "\\end{eqnarray*}\n",
    "$$\n",
    "\n",
    "We find the least squares solution by solving the normal equations."
   ]
  },
  {
   "cell_type": "code",
   "execution_count": 3,
   "metadata": {},
   "outputs": [
    {
     "name": "stdout",
     "output_type": "stream",
     "text": [
      "[[2.04147727]\n",
      " [3.20732008]]\n"
     ]
    }
   ],
   "source": [
    "import laguide as lag\n",
    "\n",
    "A = np.array([[4.5, 1],[4.75, 1],[5.5, 1],[5.9, 1],[6.25, 1],[7, 1]])\n",
    "B = np.array([[12],[13],[14.8],[15.5],[15.9],[17.25]])\n",
    "\n",
    "A_LS = A.transpose()@A\n",
    "B_LS = A.transpose()@B\n",
    "X_hat = lag.SolveSystem(A_LS,B_LS)\n",
    "print(X_hat)"
   ]
  },
  {
   "cell_type": "markdown",
   "metadata": {},
   "source": [
    "We see that this least squares solution produces a line fits the data reasonably well.\n"
   ]
  },
  {
   "cell_type": "code",
   "execution_count": 4,
   "metadata": {
    "tags": [
     "hide-input"
    ]
   },
   "outputs": [
    {
     "data": {
      "image/png": "[encoded data removed]",
      "text/plain": [
       "<Figure size 432x288 with 1 Axes>"
      ]
     },
     "metadata": {
      "needs_background": "light"
     },
     "output_type": "display_data"
    }
   ],
   "source": [
    "x_model = np.linspace(2,10,40)\n",
    "y_model = x_model*X_hat[0,0] + X_hat[1,0]\n",
    "\n",
    "fig,ax = plt.subplots()\n",
    "\n",
    "ax.plot(x,y,'ro');\n",
    "ax.plot(x_model,y_model,'b',ls=':');\n",
    "\n",
    "ax.set_xlim(0,10);\n",
    "ax.set_ylim(0,20);\n",
    "ax.set_xlabel('Beer (\\$)');\n",
    "ax.set_ylabel('Nachos (\\$)');\n",
    "\n",
    "ax.grid('True',ls=':')"
   ]
  },
  {
   "cell_type": "markdown",
   "metadata": {},
   "source": [
    "### Information Retrieval\n",
    "\n",
    "In the earlier section on the applications of [vector spaces](Applications_VS.ipynb) we discussed how documents could be represented as vectors, and how matrix algebra might be used to identify which documents most closely match a set of keywords defined by a search.  Here we describe an alternative that makes use of fact that dot products can be used to compute the angles between vectors, which can be interpreted as a measure of how closely the vectors align.\n",
    "\n",
    "Let's again consider the specific example of a database which contains a list of webpages with content related to information retrieval, and that the set of searchable keywords is small.\n",
    "\n",
    "**\\{algorithm, engine, information, google, computations, matrix, optimization, retrieval, search, theory \\}**  \n",
    "\n",
    "Again, suppose we look at just a few titles in such a database.\n",
    "\n",
    "- Search Engine Algorithms\n",
    "- How Google Search Optimization Works\n",
    "- Information Retrieval Theory\n",
    "- Matrix Models of Information Retrieval\n",
    "- Theory Behind Search Engines\n",
    "- Computations in Information Retrieval\n",
    "\n",
    "Previously, each webpage title was represented by a $1\\times 10$ row vector that contained entries of ones for keywords that were included in the title, and zeros for those that were not.  (*For example,  was represented as $[1, 1, 0, 0, 0, 0, 0, 0, 1, 0]$.*)  We now make one minor adjustment to this representation.  Each of these row vectors will be scaled by its magnitude to make it a unit vector.  Thus *Search Engine Algorithms* will be represented by the following vector.\n"
   ]
  },
  {
   "cell_type": "code",
   "execution_count": 2,
   "metadata": {},
   "outputs": [
    {
     "name": "stdout",
     "output_type": "stream",
     "text": [
      "[[0.5774 0.5774 0.     0.     0.     0.     0.     0.     0.5774 0.    ]]\n"
     ]
    }
   ],
   "source": [
    "import numpy as np\n",
    "import laguide as lag\n",
    "\n",
    "def ScaleMatrixRows(A):\n",
    "    m = A.shape[0]\n",
    "    n = A.shape[1]\n",
    "    \n",
    "    B = np.copy(A).astype('float64')\n",
    "\n",
    "    for i in range(m):\n",
    "        row = A[i:i+1,:]\n",
    "        row_magnitude = lag.Magnitude(row.transpose())\n",
    "        if (row_magnitude != 0):\n",
    "            for j in range(n):\n",
    "                B[i,j] = B[i,j]/row_magnitude\n",
    "    \n",
    "    return B\n",
    "\n",
    "T1_raw = np.array([[1, 1, 0, 0, 0, 0, 0, 0, 1, 0]])\n",
    "T1_scaled = T1_raw/lag.Magnitude(T1_raw.transpose())\n",
    "print(np.round(T1_scaled,4))"
   ]
  },
  {
   "cell_type": "markdown",
   "metadata": {},
   "source": [
    "We will represent the database as a matrix with one such row for each webpage."
   ]
  },
  {
   "cell_type": "code",
   "execution_count": 3,
   "metadata": {},
   "outputs": [
    {
     "name": "stdout",
     "output_type": "stream",
     "text": [
      "[[0.5774 0.5774 0.     0.     0.     0.     0.     0.     0.5774 0.    ]\n",
      " [0.     0.     0.     0.5774 0.     0.     0.5774 0.     0.5774 0.    ]\n",
      " [0.     0.     0.5774 0.     0.     0.     0.     0.5774 0.     0.5774]\n",
      " [0.     0.     0.5774 0.     0.     0.5774 0.     0.5774 0.     0.    ]\n",
      " [0.     0.5774 0.     0.     0.     0.     0.     0.     0.5774 0.5774]\n",
      " [0.     0.     0.7071 0.     0.     0.     0.     0.7071 0.     0.    ]]\n"
     ]
    }
   ],
   "source": [
    "T1 = np.array([[1, 1, 0, 0, 0, 0, 0, 0, 1, 0]])\n",
    "T2 = np.array([[0, 0, 0, 1, 0, 0, 1, 0, 1, 0]])\n",
    "T3 = np.array([[0, 0, 1, 0, 0, 0, 0, 1, 0, 1]])\n",
    "T4 = np.array([[0, 0, 1, 0, 0, 1, 0, 1, 0, 0]])\n",
    "T5 = np.array([[0, 1, 0, 0, 0, 0, 0, 0, 1, 1]])\n",
    "T6 = np.array([[0, 0, 1, 0, 0, 0, 0, 1, 0, 0]])\n",
    "\n",
    "D = np.vstack((T1,T2,T3,T4,T5,T6))\n",
    "D_scaled = ScaleMatrixRows(D)\n",
    "print(np.round(D_scaled,4))"
   ]
  },
  {
   "cell_type": "markdown",
   "metadata": {},
   "source": [
    "To perform a search of the database, we construct a $10 \\times 1$ vector built in a similar way from the keywords in our search.  Suppose that we want to search for entries matching the words \"information\", \"retrieval\", and \"matrix\".  The unit vector representing our keywords is $[0, 0, 0.5774, 0, 0, 0.5774, 0, 0.5774, 0, 0]^T$.  \n",
    "\n",
    "At the [start of this chapter](Inner_Products.ipynb) we gave the following formula relating the dot product of two vectors with the cosine of the angle between them.\n",
    "\n",
    "$$\n",
    "\\begin{equation}\n",
    "\\cos{\\theta} = \\frac{U\\cdot V}{||U||||V||}\n",
    "\\end{equation}\n",
    "$$\n",
    "\n",
    "When $U$ and $V$ are unit vectors the formula simplifies to $\\cos{\\theta} = {U\\cdot V}$.  This is the scenario we have constructed by scaling the search vector and database matrix rows to have unit magnitude.  The dot product of our search vector with any row of the database matrix tells us directly the cosine of the angle between the vectors.  In this application, the value of the cosine will always be between zero and one since the entries are all positive values.  The closer the value is to one, the *smaller* the angle between the vectors and the better the directions of the two vectors agree.  \n",
    "\n",
    "The result of the multiplying the search vector by the database matrix is a vector that contains the dot products of the search vector with each of the rows.  The location of the largest entry corresponds to the row in the matrix that best agrees with the search vector."
   ]
  },
  {
   "cell_type": "code",
   "execution_count": 4,
   "metadata": {},
   "outputs": [
    {
     "name": "stdout",
     "output_type": "stream",
     "text": [
      "[[0.    ]\n",
      " [0.    ]\n",
      " [0.6667]\n",
      " [1.    ]\n",
      " [0.    ]\n",
      " [0.8165]]\n"
     ]
    }
   ],
   "source": [
    "S_raw = np.array([[0,0,1,0,0,1,0,1,0,0]])\n",
    "S_scaled = S_raw.reshape((10,1))/lag.Magnitude(S_raw.transpose())\n",
    "\n",
    "result = D_scaled@S_scaled\n",
    "print(np.round(result,4))"
   ]
  },
  {
   "cell_type": "markdown",
   "metadata": {},
   "source": [
    "The fourth entry in the vector is one, which means that the fourth webpage in the database contains all of the keywords in the search vector and contains none of the *searchable keywords* that are not in the search vector."
   ]
  },
  {
   "cell_type": "markdown",
   "metadata": {},
   "source": [
    "### Exercises\n",
    "\n",
    "- Write a function that performs the same task as the $\\texttt{laguide}$ function $\\texttt{ScaleMatrixRows}$.  That is, it should accept an $m \\times n$ matrix as an argument, and return a matrix where each entry has been divided by the magnitude of the row in which it is located.  Test your function by comparing results with $\\texttt{ScaleMatrixRows}$.  "
   ]
  },
  {
   "cell_type": "code",
   "execution_count": 5,
   "metadata": {},
   "outputs": [],
   "source": [
    "## Code solution here."
   ]
  },
  {
   "cell_type": "markdown",
   "metadata": {},
   "source": [
    "- The search method described in this section often yields the same results as the one described in [Chapter 3](Applications_VS.ipynb).  Construct an example where the two methods yield *different* results.  \n",
    "(*Hint: If we ignore the actual words involved, we see the question is one of matrix multiplication.  Let $A$ be a $4\\times 6$ database matrix consisting of ones and zeros and let $A_u$ be the matrix returned by $\\texttt{ScaleMatrixRows(A)}$.  Let $X$ be a $6\\times 1$ search vector consisting of ones and zeros and let $X_u = X/||X||$.  To build the required example, arrange the ones and zeros in $A$ and $X$ such that the largest entry in $AX$ appears in a different location than the largest entry in $A_uX_u$.*)"
   ]
  },
  {
   "cell_type": "code",
   "execution_count": 6,
   "metadata": {},
   "outputs": [],
   "source": [
    "## Code solution here."
   ]
  },
  {
   "cell_type": "markdown",
   "metadata": {},
   "source": [
    "### References\n",
    "\n",
    "- Berry, Michael W. and Murray Browne. *Understanding Serach Engines: Mathematical Modeling and Text Retrieval*. 2nd ed., SIAM, 2005 \n",
    "\n",
    "- Leon, Steven J. *Linear Algebra with Applications*. 9th ed., Pearson., 2015"
   ]
  }
 ],
 "metadata": {
  "celltoolbar": "Tags",
  "kernelspec": {
   "display_name": "Python 3",
   "language": "python",
   "name": "python3"
  },
  "language_info": {
   "codemirror_mode": {
    "name": "ipython",
    "version": 3
   },
   "file_extension": ".py",
   "mimetype": "text/x-python",
   "name": "python",
   "nbconvert_exporter": "python",
   "pygments_lexer": "ipython3",
   "version": "3.7.3"
  }
 },
 "nbformat": 4,
 "nbformat_minor": 4
}
