{
 "cells": [
  {
   "cell_type": "markdown",
   "metadata": {},
   "source": [
    "## Applications of Inner Products"
   ]
  },
  {
   "cell_type": "markdown",
   "metadata": {},
   "source": [
    "### Linear regression\n",
    "\n",
    "A common example of the use of least squares is Linear Regression.  In this scenario, we suppose that two variables are related through a linear relationship, or we wish to approximate their relationship as linear.  Although data may show that the relationship is not exactly linear, or the data may be subject to experimental error, we might still hope to find the linear model that best fits the data.  This is commonly known as the \"line of best fit\", or the \"least squares line\".  \n",
    "\n",
    "For our example, suppose that we are studying the price of beer and nachos at various entertainment venues, and we collect data from a representative sample of venues.\n",
    "\n",
    "|Beer|Nachos|\n",
    "|----|------|\n",
    "|\\$4.5|\\$12 |\n",
    "|\\$4.75|\\$13|\n",
    "|\\$5.5|\\$14.8|\n",
    "|\\$5.9|\\$15.5|\n",
    "|\\$6.25|\\$15.9|\n",
    "|\\$7 |\\$17.25|\n",
    "\n",
    "We plot the data and notice that there is strong correlation between the two variables."
   ]
  },
  {
   "cell_type": "code",
   "execution_count": 2,
   "metadata": {
    "tags": [
     "hide-input"
    ]
   },
   "outputs": [
    {
     "data": {
      "image/png": "[encoded data removed]",
      "text/plain": [
       "<Figure size 432x288 with 1 Axes>"
      ]
     },
     "metadata": {
      "needs_background": "light"
     },
     "output_type": "display_data"
    }
   ],
   "source": [
    "%matplotlib inline\n",
    "import numpy as np\n",
    "import matplotlib.pyplot as plt\n",
    "import laguide as lag\n",
    "\n",
    "x = np.array([4.5, 4.75, 5.5, 5.9, 6.25, 7])\n",
    "y = np.array([12, 13, 14.8, 15.5, 15.9, 17.25])\n",
    "\n",
    "fig,ax = plt.subplots()\n",
    "\n",
    "ax.plot(x,y,'ro');\n",
    "ax.set_xlim(0,10);\n",
    "ax.set_ylim(0,20);\n",
    "ax.set_xlabel('Beer (\\$)');\n",
    "ax.set_ylabel('Nachos (\\$)');\n",
    "\n",
    "ax.grid('True',ls=':')"
   ]
  },
  {
   "cell_type": "markdown",
   "metadata": {},
   "source": [
    "Next, we propose a linear equation $n  = x_1b + x_2$ that relates the nacho price, $n$, to the beer price, $b$.  If there were only two data points, we would solve a system of two equations to determine the parameters $x_1$ and $x_2$.  The larger number of data points leads to an inconsistent overdetermined system.\n",
    "\n",
    "$$\n",
    "\\begin{eqnarray*}\n",
    "4.5x_1 + x_2 & = & 12 \\\\\n",
    "4.75x_1 + x_2 & = & 13 \\\\\n",
    "5.5x_1 + x_2 & = & 14.8 \\\\\n",
    "5.9x_1 + x_2 & = & 15.5 \\\\\n",
    "6.25x_1 + x_2 & = & 15.9 \\\\\n",
    "7x_1 + x_2 & = & 17.25 \\\\\n",
    "\\end{eqnarray*}\n",
    "$$\n",
    "\n",
    "We find the least squares solution by solving the normal equations."
   ]
  },
  {
   "cell_type": "code",
   "execution_count": 2,
   "metadata": {},
   "outputs": [
    {
     "name": "stdout",
     "output_type": "stream",
     "text": [
      "[[2.04147727]\n",
      " [3.20732008]]\n"
     ]
    }
   ],
   "source": [
    "A = np.array([[4.5, 1],[4.75, 1],[5.5, 1],[5.9, 1],[6.25, 1],[7, 1]])\n",
    "B = np.array([[12],[13],[14.8],[15.5],[15.9],[17.25]])\n",
    "\n",
    "A_LS = A.transpose()@A\n",
    "B_LS = A.transpose()@B\n",
    "X_hat = lag.SolveSystem(A_LS,B_LS)\n",
    "print(X_hat)"
   ]
  },
  {
   "cell_type": "markdown",
   "metadata": {},
   "source": [
    "We see that this least squares solution produces a line that fits the data reasonably well.\n"
   ]
  },
  {
   "cell_type": "code",
   "execution_count": 3,
   "metadata": {
    "tags": [
     "hide-input"
    ]
   },
   "outputs": [
    {
     "data": {
      "image/png": "[encoded data removed]",
      "text/plain": [
       "<Figure size 432x288 with 1 Axes>"
      ]
     },
     "metadata": {
      "needs_background": "light"
     },
     "output_type": "display_data"
    }
   ],
   "source": [
    "x_model = np.linspace(2,10,40)\n",
    "y_model = x_model*X_hat[0,0] + X_hat[1,0]\n",
    "\n",
    "fig,ax = plt.subplots()\n",
    "\n",
    "ax.plot(x,y,'ro');\n",
    "ax.plot(x_model,y_model,'b',ls=':');\n",
    "\n",
    "ax.set_xlim(0,10);\n",
    "ax.set_ylim(0,20);\n",
    "ax.set_xlabel('Beer (\\$)');\n",
    "ax.set_ylabel('Nachos (\\$)');\n",
    "\n",
    "ax.grid('True',ls=':')"
   ]
  },
  {
   "cell_type": "markdown",
   "metadata": {},
   "source": [
    "### Exercises \n",
    "\n",
    "**Exercise 1:** The sales of a company (in million dollars) has been shown in the table below:\n",
    "\n",
    "\n",
    "|Year|Sales|\n",
    "|----|------|\n",
    "|2004|13 |\n",
    "|2006|29|\n",
    "|2008|35|\n",
    "|2010|45|\n",
    "|2012|48|\n",
    "\n",
    "\n",
    "$(a)$ Find the least squares regression line. Plot the regression line and the data points to show that the line fits the data reasonably well.\n",
    "\n",
    "$(b)$ Use the regression line model to estimate the sales of the company in 2020.\n",
    "\n"
   ]
  },
  {
   "cell_type": "markdown",
   "metadata": {},
   "source": [
    "**Exercise 2:** The concept of least squares can also be used to find polynomials of best fit that are of degree greater than one. Given the points $(-1,0),(0,1),(1,3),$ and $(2,9)$, find the parabola $y = ax^2 + bx + c$ that best fits through the points in the sense of least squares. Then plot the points on top of a graph of the parabola to observe the fit. "
   ]
  },
  {
   "cell_type": "code",
   "execution_count": null,
   "metadata": {},
   "outputs": [],
   "source": [
    "## Code solution here."
   ]
  },
  {
   "cell_type": "markdown",
   "metadata": {},
   "source": [
    "**Exercise 3:** Lets revisit a problem we saw earlier to see how the technique of least squares compares to our previous method of interpolation. Here are the average radii of the orbits of the planets in our solar system, and their average orbital velocity around the Sun.\n",
    "\n",
    "|Planet                           | Distance from Sun (million km)  | Orbital Velocity (km/s)         |\n",
    "| ------------------------------- | ------------------------------- | ------------------------------- |\n",
    "|Mercury                          | 57.9                            | 47.4                            |\n",
    "|Venus                            | 108.2                           | 35.0                            | \n",
    "|Earth                            | 149.6                           | 29.8                            |\n",
    "|Mars                             | 228.0                           | 24.1                            |\n",
    "|Jupiter                          | 778.5                           | 13.1                            |\n",
    "|Saturn                           | 1432.0                          | 9.7                             |\n",
    "|Uranus                           | 2867.0                          | 6.8                             |\n",
    "|Neptune                          | 4515.0                          | 5.4                             |\n",
    "\n",
    "$(a)$ Use the method of least squares to find the cubic polynomial of best fit for these points. Plot the data points together with the graph of the polynomial to observe the fit.\n",
    "\n",
    "$(b)$ The dwarf planet Ceres has an average distance from the sun of 413.5 million km. What does the polynomial suggest the value would be? How closely does this agree with what the points seem to suggest?"
   ]
  },
  {
   "cell_type": "code",
   "execution_count": null,
   "metadata": {},
   "outputs": [],
   "source": [
    "## Code solution here."
   ]
  },
  {
   "cell_type": "markdown",
   "metadata": {},
   "source": [
    "### Information Retrieval\n",
    "\n",
    "In the earlier section on the applications of [vector spaces](Applications_VS.ipynb) we discussed how documents could be represented as vectors, and how matrix algebra might be used to identify which documents most closely match a set of keywords defined by a search.  Here we describe an alternative that makes use of the fact that dot products can be used to compute the angles between vectors, which can be interpreted as a measure of how closely the vectors align.\n",
    "\n",
    "Let's again consider the specific example of a database which contains a list of webpages with content related to information retrieval, and that the set of searchable keywords is small.\n",
    "\n",
    "**\\{algorithm, engine, information, google, computations, matrix, optimization, retrieval, search, theory \\}**  \n",
    "\n",
    "Again, suppose we look at just a few titles in such a database.\n",
    "\n",
    "- Search Engine Algorithms\n",
    "- How Google Search Optimization Works\n",
    "- Information Retrieval Theory\n",
    "- Matrix Models of Information Retrieval\n",
    "- Theory Behind Search Engines\n",
    "- Computations in Information Retrieval\n",
    "\n",
    "Previously, each webpage title was represented by a $1\\times 10$ row vector that contained entries of ones for keywords that were included in the title, and zeros for those that were not.  (*For example, Search Engine Algorithms was represented as $[1, 1, 0, 0, 0, 0, 0, 0, 1, 0]$.*)  We now make one minor adjustment to this representation.  Each of these row vectors will be scaled by its magnitude to make it a unit vector.  Thus *Search Engine Algorithms* will be represented by the following vector.\n"
   ]
  },
  {
   "cell_type": "code",
   "execution_count": 4,
   "metadata": {},
   "outputs": [
    {
     "name": "stdout",
     "output_type": "stream",
     "text": [
      "[[0.5774 0.5774 0.     0.     0.     0.     0.     0.     0.5774 0.    ]]\n"
     ]
    }
   ],
   "source": [
    "T1_raw = np.array([[1, 1, 0, 0, 0, 0, 0, 0, 1, 0]])\n",
    "T1_scaled = T1_raw/lag.Magnitude(T1_raw.transpose())\n",
    "print(np.round(T1_scaled,4))"
   ]
  },
  {
   "cell_type": "markdown",
   "metadata": {},
   "source": [
    "We will represent the database as a matrix with one such row for each webpage."
   ]
  },
  {
   "cell_type": "code",
   "execution_count": 3,
   "metadata": {},
   "outputs": [
    {
     "name": "stdout",
     "output_type": "stream",
     "text": [
      "[[0.5774 0.5774 0.     0.     0.     0.     0.     0.     0.5774 0.    ]\n",
      " [0.     0.     0.     0.5774 0.     0.     0.5774 0.     0.5774 0.    ]\n",
      " [0.     0.     0.5774 0.     0.     0.     0.     0.5774 0.     0.5774]\n",
      " [0.     0.     0.5774 0.     0.     0.5774 0.     0.5774 0.     0.    ]\n",
      " [0.     0.5774 0.     0.     0.     0.     0.     0.     0.5774 0.5774]\n",
      " [0.     0.     0.5774 0.     0.5774 0.     0.     0.5774 0.     0.    ]]\n"
     ]
    }
   ],
   "source": [
    "T1 = np.array([[1, 1, 0, 0, 0, 0, 0, 0, 1, 0]])\n",
    "T2 = np.array([[0, 0, 0, 1, 0, 0, 1, 0, 1, 0]])\n",
    "T3 = np.array([[0, 0, 1, 0, 0, 0, 0, 1, 0, 1]])\n",
    "T4 = np.array([[0, 0, 1, 0, 0, 1, 0, 1, 0, 0]])\n",
    "T5 = np.array([[0, 1, 0, 0, 0, 0, 0, 0, 1, 1]])\n",
    "T6 = np.array([[0, 0, 1, 0, 1, 0, 0, 1, 0, 0]])\n",
    "\n",
    "D = np.vstack((T1,T2,T3,T4,T5,T6))\n",
    "D_scaled = lag.ScaleMatrixRows(D)\n",
    "print(np.round(D_scaled,4))"
   ]
  },
  {
   "cell_type": "markdown",
   "metadata": {},
   "source": [
    "To perform a search of the database, we construct a $10 \\times 1$ vector built in a similar way from the keywords in our search.  Suppose that we want to search for entries matching the words \"information\", \"retrieval\", and \"matrix\".  The unit vector representing our keywords is $[0, 0, 0.5774, 0, 0, 0.5774, 0, 0.5774, 0, 0]^T$.  \n",
    "\n",
    "At the [start of this chapter](Inner_Products.ipynb) we gave the following formula relating the dot product of two vectors with the cosine of the angle between them.\n",
    "\n",
    "$$\n",
    "\\begin{equation}\n",
    "\\cos{\\theta} = \\frac{U\\cdot V}{||U||||V||}\n",
    "\\end{equation}\n",
    "$$\n",
    "\n",
    "When $U$ and $V$ are unit vectors the formula simplifies to $\\cos{\\theta} = {U\\cdot V}$.  This is the scenario we have constructed by scaling the search vector and database matrix rows to have unit magnitude.  The dot product of our search vector with any row of the database matrix tells us directly the cosine of the angle between the vectors.  In this application, the value of the cosine will always be between zero and one since the entries are all positive values.  The closer the value is to one, the *smaller* the angle between the vectors and the better the directions of the two vectors agree.  \n",
    "\n",
    "The result of the multiplying the search vector by the database matrix is a vector that contains the dot products of the search vector with each of the rows.  The location of the largest entry corresponds to the row in the matrix that best agrees with the search vector."
   ]
  },
  {
   "cell_type": "code",
   "execution_count": 4,
   "metadata": {},
   "outputs": [
    {
     "name": "stdout",
     "output_type": "stream",
     "text": [
      "[[0.    ]\n",
      " [0.    ]\n",
      " [0.6667]\n",
      " [1.    ]\n",
      " [0.    ]\n",
      " [0.6667]]\n"
     ]
    }
   ],
   "source": [
    "S_raw = np.array([[0,0,1,0,0,1,0,1,0,0]])\n",
    "S_scaled = S_raw.reshape((10,1))/lag.Magnitude(S_raw.transpose())\n",
    "\n",
    "result = D_scaled@S_scaled\n",
    "print(np.round(result,4))"
   ]
  },
  {
   "cell_type": "markdown",
   "metadata": {},
   "source": [
    "The fourth entry in the vector is one, which means that the fourth webpage in the database contains all of the keywords in the search vector and contains none of the *searchable keywords* that are not in the search vector."
   ]
  },
  {
   "cell_type": "markdown",
   "metadata": {},
   "source": [
    "### Exercises\n",
    "\n",
    "**Exercise 1:** Write a function that performs the same task as the $\\texttt{laguide}$ function $\\texttt{ScaleMatrixRows}$.  That is, it should accept an $m \\times n$ matrix as an argument, and return a matrix where each entry has been divided by the magnitude of the row in which it is located.  Test your function by comparing results with $\\texttt{ScaleMatrixRows}$.  "
   ]
  },
  {
   "cell_type": "code",
   "execution_count": 7,
   "metadata": {},
   "outputs": [],
   "source": [
    "## Code solution here."
   ]
  },
  {
   "cell_type": "markdown",
   "metadata": {},
   "source": [
    "**Exercise 2:** The search method described in this section often yields the same results as the one described in [Chapter 3](Applications_VS.ipynb).  Construct an example where the two methods yield *different* results.  \n",
    "(*Hint: If we ignore the actual words involved, we see the question is one of matrix multiplication.  Let $A$ be a $4\\times 6$ database matrix consisting of ones and zeros and let $A_u$ be the matrix returned by $\\texttt{ScaleMatrixRows(A)}$.  Let $X$ be a $6\\times 1$ search vector consisting of ones and zeros and let $X_u = X/||X||$.  To build the required example, arrange the ones and zeros in $A$ and $X$ such that the largest entry in $AX$ appears in a different location than the largest entry in $A_uX_u$.*)"
   ]
  },
  {
   "cell_type": "code",
   "execution_count": 8,
   "metadata": {},
   "outputs": [],
   "source": [
    "## Code solution here."
   ]
  },
  {
   "cell_type": "markdown",
   "metadata": {},
   "source": [
    "**Exercise 3:** Suppose that we want to search for entries matching the words \"information\", \"retrieval\", and \"computations\". Use the information discussed in this section to determine the webpage in the database which contains all or most of the keywords in the search vector."
   ]
  },
  {
   "cell_type": "code",
   "execution_count": 17,
   "metadata": {},
   "outputs": [],
   "source": [
    "## Code solution here"
   ]
  },
  {
   "cell_type": "markdown",
   "metadata": {},
   "source": [
    "**Exercise 4:** The following example of a database with webpages containing the content related to Global Warming. The set of searchable keywords is: **\\{causes, effects, global, warming, fossil-fuels, climate , potentials, change, actions, prevent \\}**\n",
    "\n",
    "Some titles in this database are as follows:\n",
    "\n",
    "- Causes of Global Warming\n",
    "- Global Warming vs Climate change\n",
    "- Fossil Fuels - A Major cause of Global Warming\n",
    "- Actions to prevent Global Warming\n",
    "- Potentials of Global Warming\n",
    "- Effects of Global Warming\n",
    "\n",
    "Suppose the keywords we want to search are \"potentials\", \"global\" and \"warming\". Create the search vector and database matrix. Analyse the resulting vector to find the webpage containing the most relevant information."
   ]
  },
  {
   "cell_type": "code",
   "execution_count": 18,
   "metadata": {},
   "outputs": [],
   "source": [
    "## Code solution here"
   ]
  },
  {
   "cell_type": "markdown",
   "metadata": {},
   "source": [
    "### References\n",
    "\n",
    "- Berry, Michael W. and Murray Browne. *Understanding Serach Engines: Mathematical Modeling and Text Retrieval*. 2nd ed., SIAM, 2005 \n",
    "\n",
    "- Leon, Steven J. *Linear Algebra with Applications*. 9th ed., Pearson., 2015"
   ]
  }
 ],
 "metadata": {
  "kernelspec": {
   "display_name": "Python 3",
   "language": "python",
   "name": "python3"
  },
  "language_info": {
   "codemirror_mode": {
    "name": "ipython",
    "version": 3
   },
   "file_extension": ".py",
   "mimetype": "text/x-python",
   "name": "python",
   "nbconvert_exporter": "python",
   "pygments_lexer": "ipython3",
   "version": "3.7.3"
  }
 },
 "nbformat": 4,
 "nbformat_minor": 4
}
